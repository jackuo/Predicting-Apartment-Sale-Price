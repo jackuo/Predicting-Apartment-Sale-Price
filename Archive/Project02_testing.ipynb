{
 "cells": [
  {
   "cell_type": "code",
   "execution_count": null,
   "metadata": {},
   "outputs": [],
   "source": [
    "# Websites Tried\n",
    "# Streeteasy, CityRealty, Zillow"
   ]
  },
  {
   "cell_type": "code",
   "execution_count": 6,
   "metadata": {},
   "outputs": [],
   "source": [
    "from bs4 import BeautifulSoup\n",
    "import requests\n",
    "import urllib.request"
   ]
  },
  {
   "cell_type": "code",
   "execution_count": 2,
   "metadata": {},
   "outputs": [
    {
     "ename": "FileNotFoundError",
     "evalue": "[Errno 2] No such file or directory: 'https://streeteasy.com/for-sale/manhattan/price:-1000000'",
     "output_type": "error",
     "traceback": [
      "\u001b[0;31m---------------------------------------------------------------------------\u001b[0m",
      "\u001b[0;31mFileNotFoundError\u001b[0m                         Traceback (most recent call last)",
      "\u001b[0;32m<ipython-input-2-e8bd97c3735a>\u001b[0m in \u001b[0;36m<module>\u001b[0;34m\u001b[0m\n\u001b[1;32m      1\u001b[0m \u001b[0;31m# Reading in one page on streeteasy\u001b[0m\u001b[0;34m\u001b[0m\u001b[0;34m\u001b[0m\u001b[0;34m\u001b[0m\u001b[0m\n\u001b[0;32m----> 2\u001b[0;31m \u001b[0;32mwith\u001b[0m \u001b[0mopen\u001b[0m\u001b[0;34m(\u001b[0m\u001b[0;34m'https://streeteasy.com/for-sale/manhattan/price:-1000000'\u001b[0m\u001b[0;34m)\u001b[0m \u001b[0;32mas\u001b[0m \u001b[0mpage\u001b[0m\u001b[0;34m:\u001b[0m\u001b[0;34m\u001b[0m\u001b[0;34m\u001b[0m\u001b[0m\n\u001b[0m\u001b[1;32m      3\u001b[0m     \u001b[0mtest_html\u001b[0m \u001b[0;34m=\u001b[0m \u001b[0mpage\u001b[0m\u001b[0;34m.\u001b[0m\u001b[0mread\u001b[0m\u001b[0;34m(\u001b[0m\u001b[0;34m)\u001b[0m\u001b[0;34m\u001b[0m\u001b[0;34m\u001b[0m\u001b[0m\n\u001b[1;32m      4\u001b[0m \u001b[0msoup\u001b[0m \u001b[0;34m=\u001b[0m \u001b[0mBeautifulSoup\u001b[0m\u001b[0;34m(\u001b[0m\u001b[0mtest_html\u001b[0m\u001b[0;34m,\u001b[0m \u001b[0;34m'html5lib'\u001b[0m\u001b[0;34m)\u001b[0m\u001b[0;34m\u001b[0m\u001b[0;34m\u001b[0m\u001b[0m\n",
      "\u001b[0;31mFileNotFoundError\u001b[0m: [Errno 2] No such file or directory: 'https://streeteasy.com/for-sale/manhattan/price:-1000000'"
     ]
    }
   ],
   "source": [
    "# Reading in one page on streeteasy\n",
    "#with open('https://streeteasy.com/for-sale/manhattan/price:-1000000') as page:\n",
    "#    test_html = page.read()\n",
    "#soup = BeautifulSoup(test_html, 'html5lib')"
   ]
  },
  {
   "cell_type": "code",
   "execution_count": 61,
   "metadata": {},
   "outputs": [],
   "source": [
    "url = 'https://streeteasy.com/for-sale/manhattan/price:-1000000'\n",
    "url2 = 'https://streeteasy.com/building/44-gramercy-park-north-new_york/1c?featured=1'\n",
    "\n",
    "\n",
    "url5 = 'https://www.zillow.com/homes/for_sale/1-_beds/?searchQueryState={\"pagination\":{},\"mapBounds\":{\"west\":-76.15059980468749,\"east\":-71.81100019531249,\"south\":39.626053320462866,\"north\":41.86061268611475},\"filterState\":{\"isForRent\":{\"value\":true},\"beds\":{\"min\":1},\"sortSelection\":{\"value\":\"days\"}},\"isListVisible\":true,\"isMapVisible\":true,\"mapZoom\":8}'\n",
    "\n",
    "url6 = 'https://camelcamelcamel.com/popular'"
   ]
  },
  {
   "cell_type": "code",
   "execution_count": 62,
   "metadata": {},
   "outputs": [
    {
     "data": {
      "text/plain": [
       "403"
      ]
     },
     "execution_count": 62,
     "metadata": {},
     "output_type": "execute_result"
    }
   ],
   "source": [
    "response = requests.get(url6)\n",
    "response.status_code"
   ]
  },
  {
   "cell_type": "code",
   "execution_count": 11,
   "metadata": {},
   "outputs": [],
   "source": [
    "import requests\n",
    "response = requests.get(url, headers={'User-Agent': 'Mozilla/5.0 (Macintosh; Intel Mac OS X 10_9_3) AppleWebKit/537.36 (KHTML, like Gecko) Chrome/35.0.1916.47 Safari/537.36'})"
   ]
  },
  {
   "cell_type": "code",
   "execution_count": 12,
   "metadata": {},
   "outputs": [
    {
     "data": {
      "text/plain": [
       "200"
      ]
     },
     "execution_count": 12,
     "metadata": {},
     "output_type": "execute_result"
    }
   ],
   "source": [
    "response.status_code"
   ]
  },
  {
   "cell_type": "code",
   "execution_count": 56,
   "metadata": {},
   "outputs": [
    {
     "data": {
      "text/plain": [
       "'<html><head><meta name=\"robots\" content=\"noindex, nofollow\"/><script src=\"https://www.google.com/recaptcha/api.js\"></script><link href=\"https://www.zillowstatic.com/vstatic/80d5e73/static/css/z-pages/captcha.css\" type=\"text/css\" rel=\"stylesheet\" media=\"screen\"/><script>\\n            function handleCaptcha(response) {\\n                var vid = getQueryString(\"vid\"); // getQueryString is implemented below\\n                var uuid = getQueryString(\"uuid\");\\n                var name = \\'_pxCaptcha\\';\\n                var cookieValue =  btoa(JSON.stringify({r:response,v:vid,u:uuid}));\\n                var cookieParts = [name, \\'=\\', cookieValue, \\'; path=/\\'];\\n                cookieParts.push(\\'; domain=\\' + window.location.hostname);\\n                cookieParts.push(\\'; max-age=10\\');//expire after 10 seconds\\n                document.cookie = cookieParts.join(\\'\\');\\n                var originalURL = getOriginalUrl(\"url\");\\n                var originalHost = window.location.host;\\n                var newHref'"
      ]
     },
     "execution_count": 56,
     "metadata": {},
     "output_type": "execute_result"
    }
   ],
   "source": [
    "response.text[:1000]"
   ]
  },
  {
   "cell_type": "code",
   "execution_count": 57,
   "metadata": {},
   "outputs": [],
   "source": [
    "page = response.text"
   ]
  },
  {
   "cell_type": "code",
   "execution_count": 59,
   "metadata": {},
   "outputs": [
    {
     "name": "stdout",
     "output_type": "stream",
     "text": [
      "<html>\n",
      " <head>\n",
      "  <meta content=\"noindex, nofollow\" name=\"robots\"/>\n",
      "  <script src=\"https://www.google.com/recaptcha/api.js\">\n",
      "  </script>\n",
      "  <link href=\"https://www.zillowstatic.com/vstatic/80d5e73/static/css/z-pages/captcha.css\" media=\"screen\" rel=\"stylesheet\" type=\"text/css\"/>\n",
      "  <script>\n",
      "   function handleCaptcha(response) {\n",
      "                var vid = getQueryString(\"vid\"); // getQueryString is implemented below\n",
      "                var uuid = getQueryString(\"uuid\");\n",
      "                var name = '_pxCaptcha';\n",
      "                var cookieValue =  btoa(JSON.stringify({r:response,v:vid,u:uuid}));\n",
      "                var cookieParts = [name, '=', cookieValue, '; path=/'];\n",
      "                cookieParts.push('; domain=' + window.location.hostname);\n",
      "                cookieParts.push('; max-age=10');//expire after 10 seconds\n",
      "                document.cookie = cookieParts.join('');\n",
      "                var originalURL = getOriginalUrl(\"url\");\n",
      "                var originalHost = window.location.host;\n",
      "                var newHref = window.location.protocol + \"//\" + originalHost;\n",
      "                originalURL = originalURL || '/';\n",
      "                newHref = newHref + originalURL;\n",
      "                window.location.href = newHref;\n",
      "            }\n",
      "\n",
      "            function getQueryString(name, url) {\n",
      "                if (!url) url = window.location.href;\n",
      "                name = name.replace(/[\\[\\]]/g, \"\\\\$&\");\n",
      "                var regex = new RegExp(\"[?&]\" + name + \"(=([^&#]*)|&|#|$)\"),\n",
      "                results = regex.exec(url);\n",
      "                if (!results) return null;\n",
      "                if (!results[2]) return '';\n",
      "                return decodeURIComponent(results[2].replace(/\\+/g, \" \"));\n",
      "            }\n",
      "\n",
      "            function getOriginalUrl(name) {\n",
      "                var url = getQueryString(name);\n",
      "                if (!url) return null;\n",
      "                var regExMatcher = new RegExp(\"(([^&#@]*)|&|#|$)\");\n",
      "                var matches = regExMatcher.exec(url);\n",
      "                if (!matches) return null;\n",
      "                return matches[0];\n",
      "            }\n",
      "\n",
      "            document.addEventListener(\"DOMContentLoaded\", function (e) {\n",
      "                var uuidVerifyRegExp = /^\\{?[0-9a-fA-F]{8}-[0-9a-fA-F]{4}-[0-9a-fA-F]{4}-[0-9a-fA-F]{4}-[0-9a-fA-F]{12}\\}?$/i;\n",
      "                document.getElementById(\"uuid\").innerText = \"UUID: \" + uuidVerifyRegExp.exec(getQueryString(\"uuid\"));\n",
      "            });\n",
      "  </script>\n",
      " </head>\n",
      " <body>\n",
      "  <main class=\"zsg-layout-content\">\n",
      "   <div class=\"error-content-block\">\n",
      "    <div class=\"error-text-content\">\n",
      "     <!-- <h1>Captcha</h1> -->\n",
      "     <h5>\n",
      "      Please verify you're a human to continue.\n",
      "     </h5>\n",
      "     <div class=\"captcha-container\" id=\"content\">\n",
      "      <div class=\"g-recaptcha\" data-callback=\"handleCaptcha\" data-sitekey=\"6Lcj-R8TAAAAABs3FrRPuQhLMbp5QrHsHufzLf7b\" data-theme=\"white\">\n",
      "      </div>\n",
      "     </div>\n",
      "     <img alt=\"Zillow\" height=\"14\" src=\"https://www.zillowstatic.com/static/logos/logo-65x14.png\" width=\"65\"/>\n",
      "    </div>\n",
      "   </div>\n",
      "  </main>\n",
      "  <h4 class=\"uuid-string zsg-fineprint\" id=\"uuid\">\n",
      "  </h4>\n",
      " </body>\n",
      "</html>\n",
      "<!-- H:044  T:3ms  S:2686  R:Wed Oct 02 08:29:53 PDT 2019  B:5.0.62420.3-hotfix_2019-09-25.0c64c05~hotfix-platform-for-2019-09-25.f7d2116 -->\n",
      "\n"
     ]
    }
   ],
   "source": [
    "soup = BeautifulSoup(page, \"lxml\")\n",
    "soup2 = BeautifulSoup(page, \"html.parser\")\n",
    "\n",
    "print(soup.prettify())"
   ]
  },
  {
   "cell_type": "code",
   "execution_count": 32,
   "metadata": {},
   "outputs": [
    {
     "data": {
      "text/plain": [
       "'https://streeteasy.com/for-sale/manhattan/price:-1000000'"
      ]
     },
     "execution_count": 32,
     "metadata": {},
     "output_type": "execute_result"
    }
   ],
   "source": [
    "url"
   ]
  },
  {
   "cell_type": "code",
   "execution_count": 33,
   "metadata": {},
   "outputs": [
    {
     "name": "stdout",
     "output_type": "stream",
     "text": [
      "{'User-agent': 'Mozilla/5.0 (Windows NT 6.1; WOW64) AppleWebKit/537.36 (KHTML, like Gecko) Chrome/31.0.1623.0 Safari/537.36'}\n",
      "<!DOCTYPE html>\n",
      "<html>\n",
      "\n",
      "<head>\n",
      "<META NAME=\"ROBOTS\" CONTENT=\"NOINDEX, NOFOLLOW\">\n",
      "<meta http-equiv=\"cache-control\" content=\"max-age=0\" />\n",
      "<meta http-equiv=\"cache-control\" content=\"no-cache\" />\n",
      "<meta http-equiv=\"expires\" content=\"0\" />\n",
      "<meta http-equiv=\"expires\" content=\"Tue, 01 Jan 1980 1:00:00 GMT\" />\n",
      "<meta http-equiv=\"pragma\" content=\"no-cache\" />\n",
      "<meta http-equiv=\"refresh\" content=\"10; url=/for-sale/manhattan/price:-1000000\" />\n",
      "<script type=\"text/javascript\">\n",
      "\t(function(window){\n",
      "\t\ttry {\n",
      "\t\t\tif (typeof sessionStorage !== 'undefined'){\n",
      "\t\t\t\tsessionStorage.setItem('distil_referrer', document.referrer);\n",
      "\t\t\t}\n",
      "\t\t} catch (e){}\n",
      "\t})(window);\n",
      "</script>\n",
      "<script type=\"text/javascript\" src=\"/dstlstrt.js\" defer></script><style type=\"text/css\">#d__fFH{position:absolute;top:-5000px;left:-5000px}#d__fF{font-family:serif;font-size:200px;visibility:hidden}#ubbfccwz{display:none!important}</style></head>\n",
      "<body>\n",
      "<div id=\"distilIdentificationBlock\">&nbsp;</div>\n",
      "</body>\n",
      "</html>\n",
      "\n"
     ]
    }
   ],
   "source": [
    "from fake_useragent import UserAgent\n",
    "\n",
    "ua = UserAgent()\n",
    "user_agent = {'User-agent': ua.random}\n",
    "print(user_agent)\n",
    "\n",
    "response4  = requests.get(url, headers = user_agent)\n",
    "print(response4.text)"
   ]
  },
  {
   "cell_type": "code",
   "execution_count": null,
   "metadata": {},
   "outputs": [],
   "source": [
    "headers={'User-Agent': 'Mozilla/5.0 (Macintosh; Intel Mac OS X 10_9_3) AppleWebKit/537.36 (KHTML, like Gecko) Chrome/35.0.1916.47 Safari/537.36'}"
   ]
  },
  {
   "cell_type": "code",
   "execution_count": 19,
   "metadata": {},
   "outputs": [
    {
     "name": "stdout",
     "output_type": "stream",
     "text": [
      "200\n"
     ]
    }
   ],
   "source": [
    "req = urllib.request.Request(url, data = None, headers={'User-Agent': 'Mozilla/5.0 (Macintosh; Intel Mac OS X 10_9_3) AppleWebKit/537.36 (KHTML, like Gecko) Chrome/35.0.1916.47 Safari/537.36'})\n",
    "data = urllib.request.urlopen(req)\n",
    "#mybytes = data.read()\n",
    "\n",
    "#mydata = mybytes.decode(\"utf8\")\n",
    "#fp.close()\n",
    "\n",
    "print(data.status)\n",
    "#print(.msg)\n"
   ]
  },
  {
   "cell_type": "code",
   "execution_count": 26,
   "metadata": {},
   "outputs": [],
   "source": [
    "data_read = data.read()\n",
    "mydata = data_read.decode('ascii')"
   ]
  },
  {
   "cell_type": "code",
   "execution_count": 27,
   "metadata": {},
   "outputs": [
    {
     "data": {
      "text/plain": [
       "''"
      ]
     },
     "execution_count": 27,
     "metadata": {},
     "output_type": "execute_result"
    }
   ],
   "source": [
    "mydata"
   ]
  },
  {
   "cell_type": "code",
   "execution_count": 29,
   "metadata": {},
   "outputs": [
    {
     "data": {
      "text/plain": [
       "200"
      ]
     },
     "execution_count": 29,
     "metadata": {},
     "output_type": "execute_result"
    }
   ],
   "source": [
    "# An alternative to StreetEasy is CityRealty\n",
    "url3 = 'https://www.cityrealty.com/nyc/greenwich-village/49-west-12th-street/apartment-8C/JMwLnXgNVTUE'\n",
    "response3 = requests.get(url3)\n",
    "response3.status_code"
   ]
  },
  {
   "cell_type": "code",
   "execution_count": 31,
   "metadata": {},
   "outputs": [
    {
     "ename": "AttributeError",
     "evalue": "'Response' object has no attribute 'prettify'",
     "output_type": "error",
     "traceback": [
      "\u001b[0;31m---------------------------------------------------------------------------\u001b[0m",
      "\u001b[0;31mAttributeError\u001b[0m                            Traceback (most recent call last)",
      "\u001b[0;32m<ipython-input-31-bdfad79c90db>\u001b[0m in \u001b[0;36m<module>\u001b[0;34m\u001b[0m\n\u001b[0;32m----> 1\u001b[0;31m \u001b[0mresponse3\u001b[0m\u001b[0;34m.\u001b[0m\u001b[0mprettify\u001b[0m\u001b[0;34m(\u001b[0m\u001b[0;34m)\u001b[0m\u001b[0;34m\u001b[0m\u001b[0;34m\u001b[0m\u001b[0m\n\u001b[0m",
      "\u001b[0;31mAttributeError\u001b[0m: 'Response' object has no attribute 'prettify'"
     ]
    }
   ],
   "source": [
    "response3.prettify()"
   ]
  },
  {
   "cell_type": "code",
   "execution_count": 72,
   "metadata": {},
   "outputs": [],
   "source": [
    "url4 = 'https://www.cityrealty.com/nyc/closed-sales/search-results#?page=1'"
   ]
  },
  {
   "cell_type": "code",
   "execution_count": 66,
   "metadata": {},
   "outputs": [],
   "source": [
    "from selenium import webdriver\n",
    "from selenium.webdriver.common.keys import Keys\n",
    "import time\n",
    "\n",
    "import os\n",
    "chromedriver = \"/Applications/chromedriver\" # path to the chromedriver executable\n",
    "os.environ[\"webdriver.chrome.driver\"] = chromedriver"
   ]
  },
  {
   "cell_type": "code",
   "execution_count": 74,
   "metadata": {},
   "outputs": [],
   "source": [
    "### Try with Selenium\n",
    "driver = webdriver.Chrome(chromedriver)\n",
    "\n",
    "driver.get(url4)\n"
   ]
  },
  {
   "cell_type": "code",
   "execution_count": null,
   "metadata": {},
   "outputs": [],
   "source": [
    "#driver.find_element_by_css_selector('button.toggle.no-style ng-binding')\n",
    "driver.find_element_by_xpath\n"
   ]
  },
  {
   "cell_type": "code",
   "execution_count": 75,
   "metadata": {},
   "outputs": [],
   "source": [
    "#go_button = driver.find_element_by_name(\"Midtown\")\n",
    "#midtown_button = driver.find_element(By.XPATH, '//button[aria-controls()=\"Midtown-dropdown\"]')\n",
    "midtown_button = driver.find_element_by_xpath('//button[@aria-controls=\"Midtown-dropdown\"]')\n",
    "midtown_button.click()"
   ]
  },
  {
   "cell_type": "code",
   "execution_count": 76,
   "metadata": {},
   "outputs": [],
   "source": [
    "# pick midtown\n",
    "midtown_east_button = driver.find_element_by_xpath('//button[@title=\"Midtown East\"]')\n",
    "midtown_east_button.click()"
   ]
  },
  {
   "cell_type": "code",
   "execution_count": 80,
   "metadata": {},
   "outputs": [],
   "source": [
    "# select bedrooms\n",
    "bedroom_button = driver.find_element_by_xpath('//button[@aria-controls=\"bedroomsdropdown\"]')\n",
    "bedroom_button.click()\n"
   ]
  },
  {
   "cell_type": "code",
   "execution_count": 84,
   "metadata": {},
   "outputs": [],
   "source": [
    "# select studio\n",
    "studio_button = driver.find_element_by_xpath('//span[@ng-bind-html=\"option.label || option.name\" and @class=\"ng-binding\"]')\n",
    "studio_button.click()\n",
    "\n",
    "#print(studio_button.text)"
   ]
  },
  {
   "cell_type": "code",
   "execution_count": 99,
   "metadata": {},
   "outputs": [],
   "source": [
    "# select 1 bedroom\n",
    "one_bed = driver.find_element_by_xpath('//span[text()=\"1 Bedroom\"]')\n",
    "one_bed.click()\n",
    "#print(one_bed.text)"
   ]
  },
  {
   "cell_type": "code",
   "execution_count": 100,
   "metadata": {},
   "outputs": [],
   "source": [
    "# select 2 bedrooms\n",
    "two_bed = driver.find_element_by_xpath('//span[text()=\"2 Bedrooms\"]')\n",
    "two_bed.click()"
   ]
  },
  {
   "cell_type": "code",
   "execution_count": 101,
   "metadata": {},
   "outputs": [],
   "source": [
    "bldg_type = driver.find_element_by_xpath('//span[text()=\"Type\"]')\n",
    "bldg_type.click()"
   ]
  },
  {
   "cell_type": "code",
   "execution_count": 102,
   "metadata": {},
   "outputs": [],
   "source": [
    "condo_button = driver.find_element_by_xpath('//span[text()=\"Condo\"]')\n",
    "condo_button.click()"
   ]
  },
  {
   "cell_type": "code",
   "execution_count": 104,
   "metadata": {},
   "outputs": [],
   "source": [
    "add_filters = driver.find_element_by_xpath('//button[text()=\"Update Results\"]')\n",
    "add_filters.click()"
   ]
  },
  {
   "cell_type": "code",
   "execution_count": 105,
   "metadata": {},
   "outputs": [],
   "source": [
    "soup = BeautifulSoup(driver.page_source, 'html.parser')"
   ]
  },
  {
   "cell_type": "code",
   "execution_count": 226,
   "metadata": {},
   "outputs": [
    {
     "ename": "NoSuchElementException",
     "evalue": "Message: no such element: Unable to locate element: {\"method\":\"xpath\",\"selector\":\"//a[@ng_click = \"jumpToPage(next, $event); backToTop()\"]\"}\n  (Session info: chrome=77.0.3865.90)\n  (Driver info: chromedriver=2.35.528157 (4429ca2590d6988c0745c24c8858745aaaec01ef),platform=Mac OS X 10.12.6 x86_64)\n",
     "output_type": "error",
     "traceback": [
      "\u001b[0;31m---------------------------------------------------------------------------\u001b[0m",
      "\u001b[0;31mNoSuchElementException\u001b[0m                    Traceback (most recent call last)",
      "\u001b[0;32m<ipython-input-226-a3a4303df03d>\u001b[0m in \u001b[0;36m<module>\u001b[0;34m\u001b[0m\n\u001b[1;32m      1\u001b[0m \u001b[0;31m### Clicking the next button\u001b[0m\u001b[0;34m\u001b[0m\u001b[0;34m\u001b[0m\u001b[0;34m\u001b[0m\u001b[0m\n\u001b[0;32m----> 2\u001b[0;31m \u001b[0mnext_page_button\u001b[0m \u001b[0;34m=\u001b[0m \u001b[0mdriver\u001b[0m\u001b[0;34m.\u001b[0m\u001b[0mfind_element_by_xpath\u001b[0m\u001b[0;34m(\u001b[0m\u001b[0;34m'//a[@ng_click = \"jumpToPage(next, $event); backToTop()\"]'\u001b[0m\u001b[0;34m)\u001b[0m\u001b[0;34m\u001b[0m\u001b[0;34m\u001b[0m\u001b[0m\n\u001b[0m\u001b[1;32m      3\u001b[0m \u001b[0mnext_page_button\u001b[0m\u001b[0;34m.\u001b[0m\u001b[0mclick\u001b[0m\u001b[0;34m(\u001b[0m\u001b[0;34m)\u001b[0m\u001b[0;34m\u001b[0m\u001b[0;34m\u001b[0m\u001b[0m\n",
      "\u001b[0;32m/anaconda3/lib/python3.6/site-packages/selenium/webdriver/remote/webdriver.py\u001b[0m in \u001b[0;36mfind_element_by_xpath\u001b[0;34m(self, xpath)\u001b[0m\n\u001b[1;32m    392\u001b[0m             \u001b[0melement\u001b[0m \u001b[0;34m=\u001b[0m \u001b[0mdriver\u001b[0m\u001b[0;34m.\u001b[0m\u001b[0mfind_element_by_xpath\u001b[0m\u001b[0;34m(\u001b[0m\u001b[0;34m'//div/td[1]'\u001b[0m\u001b[0;34m)\u001b[0m\u001b[0;34m\u001b[0m\u001b[0;34m\u001b[0m\u001b[0m\n\u001b[1;32m    393\u001b[0m         \"\"\"\n\u001b[0;32m--> 394\u001b[0;31m         \u001b[0;32mreturn\u001b[0m \u001b[0mself\u001b[0m\u001b[0;34m.\u001b[0m\u001b[0mfind_element\u001b[0m\u001b[0;34m(\u001b[0m\u001b[0mby\u001b[0m\u001b[0;34m=\u001b[0m\u001b[0mBy\u001b[0m\u001b[0;34m.\u001b[0m\u001b[0mXPATH\u001b[0m\u001b[0;34m,\u001b[0m \u001b[0mvalue\u001b[0m\u001b[0;34m=\u001b[0m\u001b[0mxpath\u001b[0m\u001b[0;34m)\u001b[0m\u001b[0;34m\u001b[0m\u001b[0;34m\u001b[0m\u001b[0m\n\u001b[0m\u001b[1;32m    395\u001b[0m \u001b[0;34m\u001b[0m\u001b[0m\n\u001b[1;32m    396\u001b[0m     \u001b[0;32mdef\u001b[0m \u001b[0mfind_elements_by_xpath\u001b[0m\u001b[0;34m(\u001b[0m\u001b[0mself\u001b[0m\u001b[0;34m,\u001b[0m \u001b[0mxpath\u001b[0m\u001b[0;34m)\u001b[0m\u001b[0;34m:\u001b[0m\u001b[0;34m\u001b[0m\u001b[0;34m\u001b[0m\u001b[0m\n",
      "\u001b[0;32m/anaconda3/lib/python3.6/site-packages/selenium/webdriver/remote/webdriver.py\u001b[0m in \u001b[0;36mfind_element\u001b[0;34m(self, by, value)\u001b[0m\n\u001b[1;32m    976\u001b[0m         return self.execute(Command.FIND_ELEMENT, {\n\u001b[1;32m    977\u001b[0m             \u001b[0;34m'using'\u001b[0m\u001b[0;34m:\u001b[0m \u001b[0mby\u001b[0m\u001b[0;34m,\u001b[0m\u001b[0;34m\u001b[0m\u001b[0;34m\u001b[0m\u001b[0m\n\u001b[0;32m--> 978\u001b[0;31m             'value': value})['value']\n\u001b[0m\u001b[1;32m    979\u001b[0m \u001b[0;34m\u001b[0m\u001b[0m\n\u001b[1;32m    980\u001b[0m     \u001b[0;32mdef\u001b[0m \u001b[0mfind_elements\u001b[0m\u001b[0;34m(\u001b[0m\u001b[0mself\u001b[0m\u001b[0;34m,\u001b[0m \u001b[0mby\u001b[0m\u001b[0;34m=\u001b[0m\u001b[0mBy\u001b[0m\u001b[0;34m.\u001b[0m\u001b[0mID\u001b[0m\u001b[0;34m,\u001b[0m \u001b[0mvalue\u001b[0m\u001b[0;34m=\u001b[0m\u001b[0;32mNone\u001b[0m\u001b[0;34m)\u001b[0m\u001b[0;34m:\u001b[0m\u001b[0;34m\u001b[0m\u001b[0;34m\u001b[0m\u001b[0m\n",
      "\u001b[0;32m/anaconda3/lib/python3.6/site-packages/selenium/webdriver/remote/webdriver.py\u001b[0m in \u001b[0;36mexecute\u001b[0;34m(self, driver_command, params)\u001b[0m\n\u001b[1;32m    319\u001b[0m         \u001b[0mresponse\u001b[0m \u001b[0;34m=\u001b[0m \u001b[0mself\u001b[0m\u001b[0;34m.\u001b[0m\u001b[0mcommand_executor\u001b[0m\u001b[0;34m.\u001b[0m\u001b[0mexecute\u001b[0m\u001b[0;34m(\u001b[0m\u001b[0mdriver_command\u001b[0m\u001b[0;34m,\u001b[0m \u001b[0mparams\u001b[0m\u001b[0;34m)\u001b[0m\u001b[0;34m\u001b[0m\u001b[0;34m\u001b[0m\u001b[0m\n\u001b[1;32m    320\u001b[0m         \u001b[0;32mif\u001b[0m \u001b[0mresponse\u001b[0m\u001b[0;34m:\u001b[0m\u001b[0;34m\u001b[0m\u001b[0;34m\u001b[0m\u001b[0m\n\u001b[0;32m--> 321\u001b[0;31m             \u001b[0mself\u001b[0m\u001b[0;34m.\u001b[0m\u001b[0merror_handler\u001b[0m\u001b[0;34m.\u001b[0m\u001b[0mcheck_response\u001b[0m\u001b[0;34m(\u001b[0m\u001b[0mresponse\u001b[0m\u001b[0;34m)\u001b[0m\u001b[0;34m\u001b[0m\u001b[0;34m\u001b[0m\u001b[0m\n\u001b[0m\u001b[1;32m    322\u001b[0m             response['value'] = self._unwrap_value(\n\u001b[1;32m    323\u001b[0m                 response.get('value', None))\n",
      "\u001b[0;32m/anaconda3/lib/python3.6/site-packages/selenium/webdriver/remote/errorhandler.py\u001b[0m in \u001b[0;36mcheck_response\u001b[0;34m(self, response)\u001b[0m\n\u001b[1;32m    240\u001b[0m                 \u001b[0malert_text\u001b[0m \u001b[0;34m=\u001b[0m \u001b[0mvalue\u001b[0m\u001b[0;34m[\u001b[0m\u001b[0;34m'alert'\u001b[0m\u001b[0;34m]\u001b[0m\u001b[0;34m.\u001b[0m\u001b[0mget\u001b[0m\u001b[0;34m(\u001b[0m\u001b[0;34m'text'\u001b[0m\u001b[0;34m)\u001b[0m\u001b[0;34m\u001b[0m\u001b[0;34m\u001b[0m\u001b[0m\n\u001b[1;32m    241\u001b[0m             \u001b[0;32mraise\u001b[0m \u001b[0mexception_class\u001b[0m\u001b[0;34m(\u001b[0m\u001b[0mmessage\u001b[0m\u001b[0;34m,\u001b[0m \u001b[0mscreen\u001b[0m\u001b[0;34m,\u001b[0m \u001b[0mstacktrace\u001b[0m\u001b[0;34m,\u001b[0m \u001b[0malert_text\u001b[0m\u001b[0;34m)\u001b[0m\u001b[0;34m\u001b[0m\u001b[0;34m\u001b[0m\u001b[0m\n\u001b[0;32m--> 242\u001b[0;31m         \u001b[0;32mraise\u001b[0m \u001b[0mexception_class\u001b[0m\u001b[0;34m(\u001b[0m\u001b[0mmessage\u001b[0m\u001b[0;34m,\u001b[0m \u001b[0mscreen\u001b[0m\u001b[0;34m,\u001b[0m \u001b[0mstacktrace\u001b[0m\u001b[0;34m)\u001b[0m\u001b[0;34m\u001b[0m\u001b[0;34m\u001b[0m\u001b[0m\n\u001b[0m\u001b[1;32m    243\u001b[0m \u001b[0;34m\u001b[0m\u001b[0m\n\u001b[1;32m    244\u001b[0m     \u001b[0;32mdef\u001b[0m \u001b[0m_value_or_default\u001b[0m\u001b[0;34m(\u001b[0m\u001b[0mself\u001b[0m\u001b[0;34m,\u001b[0m \u001b[0mobj\u001b[0m\u001b[0;34m,\u001b[0m \u001b[0mkey\u001b[0m\u001b[0;34m,\u001b[0m \u001b[0mdefault\u001b[0m\u001b[0;34m)\u001b[0m\u001b[0;34m:\u001b[0m\u001b[0;34m\u001b[0m\u001b[0;34m\u001b[0m\u001b[0m\n",
      "\u001b[0;31mNoSuchElementException\u001b[0m: Message: no such element: Unable to locate element: {\"method\":\"xpath\",\"selector\":\"//a[@ng_click = \"jumpToPage(next, $event); backToTop()\"]\"}\n  (Session info: chrome=77.0.3865.90)\n  (Driver info: chromedriver=2.35.528157 (4429ca2590d6988c0745c24c8858745aaaec01ef),platform=Mac OS X 10.12.6 x86_64)\n"
     ]
    }
   ],
   "source": [
    "### Clicking the next button\n",
    "next_page_button = driver.find_element_by_xpath('//a[@ng_click = \"jumpToPage(next, $event); backToTop()\"]')\n",
    "next_page_button.click()\n"
   ]
  },
  {
   "cell_type": "code",
   "execution_count": 120,
   "metadata": {},
   "outputs": [],
   "source": [
    "#print(soup.prettify())"
   ]
  },
  {
   "cell_type": "code",
   "execution_count": 116,
   "metadata": {},
   "outputs": [
    {
     "data": {
      "text/plain": [
       "[]"
      ]
     },
     "execution_count": 116,
     "metadata": {},
     "output_type": "execute_result"
    }
   ],
   "source": [
    "#soup.find_all('li cr-results-table-row ng-repeat=\"listing in rows.slice(0, displayLimit)\"')\n",
    "\n",
    "soup.find_all('span class = \"name ng-binfing ng-scope\" ng-if=\"!unitOnly\"')"
   ]
  },
  {
   "cell_type": "code",
   "execution_count": 118,
   "metadata": {},
   "outputs": [
    {
     "data": {
      "text/plain": [
       "bs4.BeautifulSoup"
      ]
     },
     "execution_count": 118,
     "metadata": {},
     "output_type": "execute_result"
    }
   ],
   "source": [
    "type(soup)"
   ]
  },
  {
   "cell_type": "code",
   "execution_count": 234,
   "metadata": {},
   "outputs": [
    {
     "data": {
      "text/plain": [
       "'/nyc/midtown-east/the-galleria-117-east-57th-street/apartment-35H/sold/A269521'"
      ]
     },
     "execution_count": 234,
     "metadata": {},
     "output_type": "execute_result"
    }
   ],
   "source": [
    "#soup.find_all('a').find('!!listing.url_listing')\n",
    "#soup.find_all('href')\n",
    "#.find('ng-href')\n",
    "\n",
    "soup.find_all('a', {\"ng-if\" : \"!!listing.url_listing\"})[1].get('href')"
   ]
  },
  {
   "cell_type": "code",
   "execution_count": 235,
   "metadata": {},
   "outputs": [],
   "source": [
    "string = 'https://www.cityrealty.com' + soup.find_all('a', {\"ng-if\" : \"!!listing.url_listing\"})[1].get('href')"
   ]
  },
  {
   "cell_type": "code",
   "execution_count": 236,
   "metadata": {},
   "outputs": [
    {
     "data": {
      "text/plain": [
       "'https://www.cityrealty.com/nyc/midtown-east/the-galleria-117-east-57th-street/apartment-35H/sold/A269521'"
      ]
     },
     "execution_count": 236,
     "metadata": {},
     "output_type": "execute_result"
    }
   ],
   "source": [
    "string"
   ]
  },
  {
   "cell_type": "code",
   "execution_count": 237,
   "metadata": {},
   "outputs": [
    {
     "data": {
      "text/plain": [
       "200"
      ]
     },
     "execution_count": 237,
     "metadata": {},
     "output_type": "execute_result"
    }
   ],
   "source": [
    "response = requests.get(string, headers={'User-Agent': 'Mozilla/5.0 (Macintosh; Intel Mac OS X 10_9_3) AppleWebKit/537.36 (KHTML, like Gecko) Chrome/35.0.1916.47 Safari/537.36'})\n",
    "response.status_code"
   ]
  },
  {
   "cell_type": "code",
   "execution_count": 123,
   "metadata": {},
   "outputs": [],
   "source": [
    "import pickle\n",
    "import sys\n",
    "\n",
    "#sys.setrecursionlimit(8000)\n",
    "\n",
    "html = driver.page_source\n",
    "\n",
    "with open('html_pg1_cityrealty.pkl', 'wb') as picklefile:\n",
    "    pickle.dump(html, picklefile)\n",
    "\n",
    "#with open(\"html_pg1_cityrealty.pkl\", 'rb') as picklefile: \n",
    "#    my_old_data = pickle.load(picklefile)"
   ]
  },
  {
   "cell_type": "code",
   "execution_count": 124,
   "metadata": {},
   "outputs": [],
   "source": [
    "with open(\"html_pg1_cityrealty.pkl\", 'rb') as picklefile: \n",
    "    my_old_data = pickle.load(picklefile)"
   ]
  },
  {
   "cell_type": "code",
   "execution_count": 132,
   "metadata": {},
   "outputs": [],
   "source": [
    "#soup.find_all('div')[:5]"
   ]
  },
  {
   "cell_type": "code",
   "execution_count": null,
   "metadata": {},
   "outputs": [],
   "source": [
    "find_all"
   ]
  },
  {
   "cell_type": "code",
   "execution_count": 181,
   "metadata": {},
   "outputs": [],
   "source": [
    "# Find\n",
    "\n",
    "soup_list = soup.find_all(class_='name ng-binding ng-scope')\n",
    "\n",
    "new_list = []\n",
    "\n",
    "for val in soup_list:\n",
    "    #new_val = val.text[12:][:-7]\n",
    "    new_val = val.text.strip()\n",
    "    new_list.append(new_val)\n",
    "#soup.find_all('span')\n",
    "#.find(class_ = 'ng-binding ng-scope')"
   ]
  },
  {
   "cell_type": "code",
   "execution_count": 183,
   "metadata": {},
   "outputs": [
    {
     "data": {
      "text/plain": [
       "['The Lex 54 Condominium, 135 East 54th Street, Apt. 15B',\n",
       " 'The Galleria, 117 East 57th Street, Apt. 35H',\n",
       " 'The Galleria, 117 East 57th Street, Apt. 24H',\n",
       " 'Veneto, 250 East 53rd Street, Apt. 2901',\n",
       " 'Sterling Plaza, 255 East 49th Street, Apt. 26E',\n",
       " 'The Mondrian, 250 East 54th Street, Apt. 16B',\n",
       " 'The Sutton, 959 First Avenue, Apt. 18D',\n",
       " 'Trump Tower, 721 Fifth Avenue, Apt. 37D',\n",
       " '309 East 49th Street, Apt. 2E',\n",
       " 'The Sutton, 959 First Avenue, Apt. 9P',\n",
       " 'The Cosmopolitan, 145 East 48th Street, Apt. 9A',\n",
       " 'Three Ten, 310 East 53rd Street, Apt. 4/5G',\n",
       " 'The Mondrian, 250 East 54th Street, Apt. 18E',\n",
       " 'Sterling Plaza, 255 East 49th Street, Apt. 16F',\n",
       " 'Trump Tower, 721 Fifth Avenue, Apt. 54H',\n",
       " 'M at Beekman, 345 East 50th Street, Apt. 5A',\n",
       " 'The Sutton, 959 First Avenue, Apt. 26L',\n",
       " 'Park Avenue Place, 60 East 55th Street, Apt. 19B',\n",
       " 'Trump Tower, 721 Fifth Avenue, Apt. 44G',\n",
       " 'Trump Tower, 721 Fifth Avenue, Apt. 56B',\n",
       " 'Trump Tower, 721 Fifth Avenue, Apt. 44H',\n",
       " 'The Galleria, 117 East 57th Street, Apt. 35A',\n",
       " 'The Mondrian, 250 East 54th Street, Apt. 5D',\n",
       " 'The Cosmopolitan, 145 East 48th Street, Apt. 21B',\n",
       " '309 East 49th Street, Apt. 14 D',\n",
       " 'Olympic Tower, 641 Fifth Avenue, Apt. 44C',\n",
       " 'The Galleria, 117 East 57th Street, Apt. 25G',\n",
       " 'The Cosmopolitan, 145 East 48th Street, Apt. 32C',\n",
       " 'The Blair House, 200 East 58th Street, Apt. 6A',\n",
       " 'The St. Regis, 2 East 55th Street, Apt. 1109',\n",
       " 'The St. Regis, 2 East 55th Street, Apt. 1111',\n",
       " 'Trump Tower, 721 Fifth Avenue, Apt. 30G',\n",
       " 'Olympic Tower, 641 Fifth Avenue, Apt. 29E',\n",
       " 'Park Avenue Place, 60 East 55th Street, Apt. 17A',\n",
       " '432 Park Avenue, Apt. 53A',\n",
       " 'The Cosmopolitan, 145 East 48th Street, Apt. 18A',\n",
       " '320 East 54th Street, Apt. 5A',\n",
       " 'Olympic Tower, 641 Fifth Avenue, Apt. 23B',\n",
       " 'The Lex 54 Condominium, 135 East 54th Street, Apt. 7B',\n",
       " 'Olympic Tower, 641 Fifth Avenue, Apt. 29F',\n",
       " 'Olympic Tower, 641 Fifth Avenue, Apt. 32C',\n",
       " '309 East 49th Street, Apt. 12F',\n",
       " 'The Cosmopolitan, 145 East 48th Street, Apt. 6G',\n",
       " 'The Mondrian, 250 East 54th Street, Apt. 33C',\n",
       " 'The Mondrian, 250 East 54th Street, Apt. 9A',\n",
       " '150 East 56th Street, Apt. 2G',\n",
       " 'The Galleria, 117 East 57th Street, Apt. 22H',\n",
       " 'Sterling Plaza, 255 East 49th Street, Apt. 26A',\n",
       " 'Milan, 300 East 55th Street, Apt. 14C',\n",
       " 'One Hundred East Fifty Third Street, 100 East 53rd Street, Apt. 25B']"
      ]
     },
     "execution_count": 183,
     "metadata": {},
     "output_type": "execute_result"
    }
   ],
   "source": [
    "new_list"
   ]
  },
  {
   "cell_type": "code",
   "execution_count": 149,
   "metadata": {},
   "outputs": [
    {
     "data": {
      "text/plain": [
       "'\\n\\t\\t\\t\\t\\t\\t\\tSterling Plaza, 255 East 49th Street, Apt. 26E\\n\\t\\t\\t\\t\\t\\t'"
      ]
     },
     "execution_count": 149,
     "metadata": {},
     "output_type": "execute_result"
    }
   ],
   "source": [
    "soup.find_all(class_='name ng-binding ng-scope')[4].text"
   ]
  },
  {
   "cell_type": "code",
   "execution_count": 156,
   "metadata": {},
   "outputs": [
    {
     "data": {
      "text/plain": [
       "'\\n\\t\\t\\t\\t\\t\\t\\tOne Hundred East Fifty Third Street, 100 East 53rd Street, Apt. 25B\\n\\t\\t\\t\\t\\t\\t'"
      ]
     },
     "execution_count": 156,
     "metadata": {},
     "output_type": "execute_result"
    }
   ],
   "source": [
    "soup.find_all(class_='name ng-binding ng-scope')[49].text"
   ]
  },
  {
   "cell_type": "code",
   "execution_count": 174,
   "metadata": {},
   "outputs": [
    {
     "data": {
      "text/plain": [
       "'\\n\\t\\t\\t\\t\\tCondo in Midtown East\\n\\t\\t\\t\\t'"
      ]
     },
     "execution_count": 174,
     "metadata": {},
     "output_type": "execute_result"
    }
   ],
   "source": [
    "soup.find_all(class_ = 'infos ng-binding ng-scope')[2].text"
   ]
  },
  {
   "cell_type": "code",
   "execution_count": 73,
   "metadata": {},
   "outputs": [],
   "source": [
    "driver.close()"
   ]
  },
  {
   "cell_type": "code",
   "execution_count": null,
   "metadata": {},
   "outputs": [],
   "source": []
  }
 ],
 "metadata": {
  "kernelspec": {
   "display_name": "Python 3",
   "language": "python",
   "name": "python3"
  },
  "language_info": {
   "codemirror_mode": {
    "name": "ipython",
    "version": 3
   },
   "file_extension": ".py",
   "mimetype": "text/x-python",
   "name": "python",
   "nbconvert_exporter": "python",
   "pygments_lexer": "ipython3",
   "version": "3.6.8"
  }
 },
 "nbformat": 4,
 "nbformat_minor": 2
}
