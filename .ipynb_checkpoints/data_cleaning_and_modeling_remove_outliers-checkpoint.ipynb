{
 "cells": [
  {
   "cell_type": "markdown",
   "metadata": {
    "heading_collapsed": true
   },
   "source": [
    "# Import Statements"
   ]
  },
  {
   "cell_type": "code",
   "execution_count": 1,
   "metadata": {
    "hidden": true
   },
   "outputs": [],
   "source": [
    "import pickle\n",
    "import pandas as pd\n",
    "import numpy as np\n",
    "\n",
    "from bs4 import BeautifulSoup\n",
    "import requests\n",
    "from collections import defaultdict\n",
    "\n",
    "import re\n",
    "from datetime import datetime\n",
    "import glob\n",
    "\n",
    "import matplotlib.pyplot as plt\n",
    "import seaborn as sns\n",
    "%matplotlib inline\n",
    "sns.set()\n",
    "\n",
    "# Necessary imports\n",
    "from sklearn.linear_model import LinearRegression\n",
    "from sklearn.linear_model import RidgeCV\n",
    "\n",
    "from sklearn.model_selection import train_test_split\n",
    "from sklearn.linear_model import LinearRegression, Ridge #ordinary linear regression + w/ ridge regularization\n",
    "from sklearn.preprocessing import StandardScaler, PolynomialFeatures\n",
    "\n",
    "pd.set_option('display.max_columns', 500)"
   ]
  },
  {
   "cell_type": "markdown",
   "metadata": {
    "heading_collapsed": true
   },
   "source": [
    "# Functions"
   ]
  },
  {
   "cell_type": "code",
   "execution_count": 2,
   "metadata": {
    "hidden": true
   },
   "outputs": [],
   "source": [
    "def load_pickle(file_location):\n",
    "    with open(file_location, \"rb\") as picklefile:\n",
    "        df = pickle.load(picklefile)\n",
    "    return(df)"
   ]
  },
  {
   "cell_type": "markdown",
   "metadata": {
    "heading_collapsed": true
   },
   "source": [
    "# Clean Data"
   ]
  },
  {
   "cell_type": "code",
   "execution_count": 70,
   "metadata": {
    "hidden": true
   },
   "outputs": [],
   "source": [
    "df = load_pickle(\"all_midtown_data.pkl\")"
   ]
  },
  {
   "cell_type": "code",
   "execution_count": 71,
   "metadata": {
    "hidden": true
   },
   "outputs": [
    {
     "name": "stdout",
     "output_type": "stream",
     "text": [
      "2. Season Added\n",
      "3. Days on Market Added\n",
      "4. Filled Beds to indicate Studio\n",
      "5. Apt Nulls Filled\n",
      "6. Renamed Columns\n"
     ]
    }
   ],
   "source": [
    "# Remove Building Type column. They are all Condos\n",
    "df = df.drop(\"Building Type\", axis=1)\n",
    "\n",
    "# Sort values by date sold\n",
    "df = df.sort_values(by = 'sold_date_dt', ascending = False)\n",
    "\n",
    "# Drop duplicate rows\n",
    "#df_no_dup = df.drop_duplicates(subset = 'full_name', keep = 'first').reset_index(drop = True)\n",
    "#print(\"1. Duplicates Removed\")\n",
    "\n",
    "# Add season\n",
    "df['sold_season'] = (df['sold_date_dt']\n",
    "                     .dt\n",
    "                     .month\n",
    "                     .map({1 : 'Winter', \n",
    "                           2 : 'Winter',\n",
    "                           3 : 'Spring',\n",
    "                           4 : 'Spring',\n",
    "                           5 : 'Spring',\n",
    "                           6 : 'Summer',\n",
    "                           7 : 'Summer',\n",
    "                           8 : 'Summer',\n",
    "                           9 : 'Fall',\n",
    "                           10 : 'Fall',\n",
    "                           11 : 'Fall',\n",
    "                           12 : 'Winter'}))\n",
    "print(\"2. Season Added\")\n",
    "\n",
    "# Add days on market column, and convert datetime timedelta to float\n",
    "df['days_on_market_1'] = df['sold_date_dt'] - df['Listed']\n",
    "df['days_on_market_1'] = (df['days_on_market_1']/np.timedelta64(1, 'D'))\n",
    "print(\"3. Days on Market Added\")\n",
    "\n",
    "# Fill to indicate Studio\n",
    "df['beds'] = df['beds'].fillna(0)\n",
    "print(\"4. Filled Beds to indicate Studio\")\n",
    "\n",
    "### Fixing rows where there is no condo ###\n",
    "# Find where apt = NaN\n",
    "df_apt_na = df[df['apt_floor'].isna()]\n",
    "\n",
    "# Fill Apt nulls, move bldg address to correct place, and delete bldg name\n",
    "for index, row in df_apt_na.iterrows():\n",
    "    #print(row['apt_floor'])\n",
    "    #print(np.isnan(row['apt_floor']))\n",
    "    try:\n",
    "        if np.isnan(row['apt_floor']):\n",
    "            df.loc[index, 'apt_floor'] = int(re.findall('\\d+', row['bldg_addr'])[0]) # assign value in full dataframe\n",
    "            df.loc[index, 'bldg_addr'] = df.loc[index]['bldg_name'] # move building address over to correct column\n",
    "            df.loc[index, 'bldg_name'] = np.nan # clears building name\n",
    "            #print(index)\n",
    "        else:\n",
    "            continue\n",
    "    except:\n",
    "        continue\n",
    "print(\"5. Apt Nulls Filled\")\n",
    "\n",
    "# Rename Columns\n",
    "df = df.rename(columns = {\"Listed\": \"listed\", \n",
    "                 \"Days on Market\": \"days_on_market\", \n",
    "                 \"Neighborhood\": \"neighborhood\", \n",
    "                 \"Monthly Common Charges\": \"monthly_common_charges\", \n",
    "                 \"Monthly Real Estate Taxes\": \"monthly_real_estate_taxes\", \n",
    "                 \"Minimum Down Payment\": \"minimum_down_payment\", \n",
    "                 \"Doorman\": \"doorman\", \n",
    "                 \"Last Price Change\": \"last_price_change\"})\n",
    "print(\"6. Renamed Columns\")"
   ]
  },
  {
   "cell_type": "code",
   "execution_count": 88,
   "metadata": {
    "hidden": true
   },
   "outputs": [],
   "source": [
    "#df_clean['year'] = df_clean['sold_date_dt'].apply(lambda x: x.strftime('%Y'))\n",
    "df['year'] = df['sold_date_dt'].apply(lambda x: x.strftime('%Y'))\n",
    "\n",
    "# Want only 2 bedrooms or less\n",
    "df = df[df['beds'] < 2.5]\n",
    "\n",
    "# Convert days on market to int\n",
    "df['days_on_market'] = pd.to_numeric(df['days_on_market'])"
   ]
  },
  {
   "cell_type": "code",
   "execution_count": 89,
   "metadata": {
    "hidden": true
   },
   "outputs": [
    {
     "data": {
      "text/plain": [
       "(22937, 25)"
      ]
     },
     "execution_count": 89,
     "metadata": {},
     "output_type": "execute_result"
    }
   ],
   "source": [
    "df.shape"
   ]
  },
  {
   "cell_type": "code",
   "execution_count": 90,
   "metadata": {
    "hidden": true
   },
   "outputs": [],
   "source": [
    "# 22945 values initially\n",
    "# 15008 values once duplicates are dropped\n",
    "df_drop = df.drop_duplicates(subset=['full_name', 'sold_date']).reset_index(drop = True)"
   ]
  },
  {
   "cell_type": "code",
   "execution_count": 91,
   "metadata": {
    "hidden": true
   },
   "outputs": [
    {
     "data": {
      "text/html": [
       "<div>\n",
       "<style scoped>\n",
       "    .dataframe tbody tr th:only-of-type {\n",
       "        vertical-align: middle;\n",
       "    }\n",
       "\n",
       "    .dataframe tbody tr th {\n",
       "        vertical-align: top;\n",
       "    }\n",
       "\n",
       "    .dataframe thead th {\n",
       "        text-align: right;\n",
       "    }\n",
       "</style>\n",
       "<table border=\"1\" class=\"dataframe\">\n",
       "  <thead>\n",
       "    <tr style=\"text-align: right;\">\n",
       "      <th></th>\n",
       "      <th>apt_floor</th>\n",
       "      <th>bldg_rating</th>\n",
       "      <th>sold_price</th>\n",
       "      <th>price_per_sqft</th>\n",
       "      <th>square_feet</th>\n",
       "      <th>beds</th>\n",
       "      <th>baths</th>\n",
       "      <th>days_on_market</th>\n",
       "      <th>monthly_common_charges</th>\n",
       "      <th>monthly_real_estate_taxes</th>\n",
       "      <th>minimum_down_payment</th>\n",
       "      <th>days_on_market_1</th>\n",
       "    </tr>\n",
       "  </thead>\n",
       "  <tbody>\n",
       "    <tr>\n",
       "      <td>count</td>\n",
       "      <td>14978.000000</td>\n",
       "      <td>14392.000000</td>\n",
       "      <td>1.500300e+04</td>\n",
       "      <td>6445.000000</td>\n",
       "      <td>6445.000000</td>\n",
       "      <td>15003.000000</td>\n",
       "      <td>14975.000000</td>\n",
       "      <td>7083.000000</td>\n",
       "      <td>7.006000e+03</td>\n",
       "      <td>6707.000000</td>\n",
       "      <td>2856.000000</td>\n",
       "      <td>7083.000000</td>\n",
       "    </tr>\n",
       "    <tr>\n",
       "      <td>mean</td>\n",
       "      <td>159.778408</td>\n",
       "      <td>75.730753</td>\n",
       "      <td>1.315659e+06</td>\n",
       "      <td>1447.735764</td>\n",
       "      <td>951.232894</td>\n",
       "      <td>1.174498</td>\n",
       "      <td>1.459065</td>\n",
       "      <td>1789.009600</td>\n",
       "      <td>1.306234e+03</td>\n",
       "      <td>937.680781</td>\n",
       "      <td>0.109436</td>\n",
       "      <td>47.166173</td>\n",
       "    </tr>\n",
       "    <tr>\n",
       "      <td>std</td>\n",
       "      <td>630.924406</td>\n",
       "      <td>11.085550</td>\n",
       "      <td>1.224740e+06</td>\n",
       "      <td>550.755976</td>\n",
       "      <td>384.575335</td>\n",
       "      <td>0.688777</td>\n",
       "      <td>0.565285</td>\n",
       "      <td>1052.018098</td>\n",
       "      <td>1.707124e+04</td>\n",
       "      <td>1114.621562</td>\n",
       "      <td>0.055149</td>\n",
       "      <td>835.310532</td>\n",
       "    </tr>\n",
       "    <tr>\n",
       "      <td>min</td>\n",
       "      <td>1.000000</td>\n",
       "      <td>44.000000</td>\n",
       "      <td>1.000000e+05</td>\n",
       "      <td>190.000000</td>\n",
       "      <td>285.000000</td>\n",
       "      <td>0.000000</td>\n",
       "      <td>1.000000</td>\n",
       "      <td>2.000000</td>\n",
       "      <td>2.060000e+02</td>\n",
       "      <td>101.000000</td>\n",
       "      <td>0.100000</td>\n",
       "      <td>-6004.000000</td>\n",
       "    </tr>\n",
       "    <tr>\n",
       "      <td>25%</td>\n",
       "      <td>7.000000</td>\n",
       "      <td>68.000000</td>\n",
       "      <td>6.890000e+05</td>\n",
       "      <td>1099.000000</td>\n",
       "      <td>668.000000</td>\n",
       "      <td>1.000000</td>\n",
       "      <td>1.000000</td>\n",
       "      <td>895.500000</td>\n",
       "      <td>6.490000e+02</td>\n",
       "      <td>523.000000</td>\n",
       "      <td>0.100000</td>\n",
       "      <td>48.000000</td>\n",
       "    </tr>\n",
       "    <tr>\n",
       "      <td>50%</td>\n",
       "      <td>16.000000</td>\n",
       "      <td>78.000000</td>\n",
       "      <td>9.850000e+05</td>\n",
       "      <td>1338.000000</td>\n",
       "      <td>878.000000</td>\n",
       "      <td>1.000000</td>\n",
       "      <td>1.000000</td>\n",
       "      <td>1689.000000</td>\n",
       "      <td>8.850000e+02</td>\n",
       "      <td>773.000000</td>\n",
       "      <td>0.100000</td>\n",
       "      <td>126.000000</td>\n",
       "    </tr>\n",
       "    <tr>\n",
       "      <td>75%</td>\n",
       "      <td>32.000000</td>\n",
       "      <td>84.000000</td>\n",
       "      <td>1.540000e+06</td>\n",
       "      <td>1650.000000</td>\n",
       "      <td>1176.000000</td>\n",
       "      <td>2.000000</td>\n",
       "      <td>2.000000</td>\n",
       "      <td>2562.000000</td>\n",
       "      <td>1.301750e+03</td>\n",
       "      <td>1152.000000</td>\n",
       "      <td>0.100000</td>\n",
       "      <td>237.000000</td>\n",
       "    </tr>\n",
       "    <tr>\n",
       "      <td>max</td>\n",
       "      <td>6504.000000</td>\n",
       "      <td>99.000000</td>\n",
       "      <td>2.200000e+07</td>\n",
       "      <td>6705.000000</td>\n",
       "      <td>3895.000000</td>\n",
       "      <td>2.000000</td>\n",
       "      <td>5.000000</td>\n",
       "      <td>4517.000000</td>\n",
       "      <td>1.426830e+06</td>\n",
       "      <td>75980.000000</td>\n",
       "      <td>0.900000</td>\n",
       "      <td>3706.000000</td>\n",
       "    </tr>\n",
       "  </tbody>\n",
       "</table>\n",
       "</div>"
      ],
      "text/plain": [
       "          apt_floor   bldg_rating    sold_price  price_per_sqft  square_feet  \\\n",
       "count  14978.000000  14392.000000  1.500300e+04     6445.000000  6445.000000   \n",
       "mean     159.778408     75.730753  1.315659e+06     1447.735764   951.232894   \n",
       "std      630.924406     11.085550  1.224740e+06      550.755976   384.575335   \n",
       "min        1.000000     44.000000  1.000000e+05      190.000000   285.000000   \n",
       "25%        7.000000     68.000000  6.890000e+05     1099.000000   668.000000   \n",
       "50%       16.000000     78.000000  9.850000e+05     1338.000000   878.000000   \n",
       "75%       32.000000     84.000000  1.540000e+06     1650.000000  1176.000000   \n",
       "max     6504.000000     99.000000  2.200000e+07     6705.000000  3895.000000   \n",
       "\n",
       "               beds         baths  days_on_market  monthly_common_charges  \\\n",
       "count  15003.000000  14975.000000     7083.000000            7.006000e+03   \n",
       "mean       1.174498      1.459065     1789.009600            1.306234e+03   \n",
       "std        0.688777      0.565285     1052.018098            1.707124e+04   \n",
       "min        0.000000      1.000000        2.000000            2.060000e+02   \n",
       "25%        1.000000      1.000000      895.500000            6.490000e+02   \n",
       "50%        1.000000      1.000000     1689.000000            8.850000e+02   \n",
       "75%        2.000000      2.000000     2562.000000            1.301750e+03   \n",
       "max        2.000000      5.000000     4517.000000            1.426830e+06   \n",
       "\n",
       "       monthly_real_estate_taxes  minimum_down_payment  days_on_market_1  \n",
       "count                6707.000000           2856.000000       7083.000000  \n",
       "mean                  937.680781              0.109436         47.166173  \n",
       "std                  1114.621562              0.055149        835.310532  \n",
       "min                   101.000000              0.100000      -6004.000000  \n",
       "25%                   523.000000              0.100000         48.000000  \n",
       "50%                   773.000000              0.100000        126.000000  \n",
       "75%                  1152.000000              0.100000        237.000000  \n",
       "max                 75980.000000              0.900000       3706.000000  "
      ]
     },
     "execution_count": 91,
     "metadata": {},
     "output_type": "execute_result"
    }
   ],
   "source": [
    "df_drop.describe()\n",
    "# Want apartments with only 0, 1, 2 bedrooms"
   ]
  },
  {
   "cell_type": "code",
   "execution_count": 77,
   "metadata": {
    "hidden": true
   },
   "outputs": [
    {
     "data": {
      "text/html": [
       "<div>\n",
       "<style scoped>\n",
       "    .dataframe tbody tr th:only-of-type {\n",
       "        vertical-align: middle;\n",
       "    }\n",
       "\n",
       "    .dataframe tbody tr th {\n",
       "        vertical-align: top;\n",
       "    }\n",
       "\n",
       "    .dataframe thead th {\n",
       "        text-align: right;\n",
       "    }\n",
       "</style>\n",
       "<table border=\"1\" class=\"dataframe\">\n",
       "  <thead>\n",
       "    <tr style=\"text-align: right;\">\n",
       "      <th></th>\n",
       "      <th>full_name</th>\n",
       "      <th>bldg_name</th>\n",
       "      <th>bldg_addr</th>\n",
       "      <th>apt_floor</th>\n",
       "      <th>bldg_rating</th>\n",
       "      <th>sold_date</th>\n",
       "      <th>sold_date_dt</th>\n",
       "      <th>sold_price</th>\n",
       "      <th>price_per_sqft</th>\n",
       "      <th>square_feet</th>\n",
       "      <th>bed_and_bath</th>\n",
       "      <th>beds</th>\n",
       "      <th>baths</th>\n",
       "      <th>url</th>\n",
       "      <th>listed</th>\n",
       "      <th>days_on_market</th>\n",
       "      <th>neighborhood</th>\n",
       "      <th>monthly_common_charges</th>\n",
       "      <th>monthly_real_estate_taxes</th>\n",
       "      <th>minimum_down_payment</th>\n",
       "      <th>doorman</th>\n",
       "      <th>last_price_change</th>\n",
       "      <th>sold_season</th>\n",
       "      <th>days_on_market_1</th>\n",
       "      <th>year</th>\n",
       "    </tr>\n",
       "  </thead>\n",
       "  <tbody>\n",
       "    <tr>\n",
       "      <td>0</td>\n",
       "      <td>Worldwide Plaza, 393 West 49th Street, #3P</td>\n",
       "      <td>Worldwide Plaza</td>\n",
       "      <td>393 West 49th Street</td>\n",
       "      <td>3.0</td>\n",
       "      <td>73.0</td>\n",
       "      <td>Last Sold on Sep 27, 2019</td>\n",
       "      <td>2019-09-27</td>\n",
       "      <td>545000.0</td>\n",
       "      <td>NaN</td>\n",
       "      <td>NaN</td>\n",
       "      <td>Studio, 1 bath</td>\n",
       "      <td>0.0</td>\n",
       "      <td>1.0</td>\n",
       "      <td>https://www.cityrealty.com/nyc/midtown-west/worldwide-plaza-393-west-49th-street/apartment-3P/sold/A6336</td>\n",
       "      <td>NaT</td>\n",
       "      <td>NaN</td>\n",
       "      <td>NaN</td>\n",
       "      <td>NaN</td>\n",
       "      <td>NaN</td>\n",
       "      <td>NaN</td>\n",
       "      <td>NaN</td>\n",
       "      <td>NaN</td>\n",
       "      <td>Fall</td>\n",
       "      <td>NaN</td>\n",
       "      <td>2019</td>\n",
       "    </tr>\n",
       "    <tr>\n",
       "      <td>1</td>\n",
       "      <td>The Cosmopolitan, 145 East 48th Street, #25G</td>\n",
       "      <td>The Cosmopolitan</td>\n",
       "      <td>145 East 48th Street</td>\n",
       "      <td>25.0</td>\n",
       "      <td>78.0</td>\n",
       "      <td>Last Sold on Sep 25, 2019</td>\n",
       "      <td>2019-09-25</td>\n",
       "      <td>799000.0</td>\n",
       "      <td>1229.0</td>\n",
       "      <td>650.0</td>\n",
       "      <td>1 bed, 1 bath</td>\n",
       "      <td>1.0</td>\n",
       "      <td>1.0</td>\n",
       "      <td>https://www.cityrealty.com/nyc/midtown-east/the-cosmopolitan-145-east-48th-street/apartment-25G/sold/A4324</td>\n",
       "      <td>2019-04-12</td>\n",
       "      <td>177</td>\n",
       "      <td>Midtown East</td>\n",
       "      <td>814.0</td>\n",
       "      <td>948.0</td>\n",
       "      <td>0.1</td>\n",
       "      <td>FT Doorman</td>\n",
       "      <td>NaN</td>\n",
       "      <td>Fall</td>\n",
       "      <td>166.0</td>\n",
       "      <td>2019</td>\n",
       "    </tr>\n",
       "    <tr>\n",
       "      <td>2</td>\n",
       "      <td>The Orion, 350 West 42nd Street, #21F</td>\n",
       "      <td>The Orion</td>\n",
       "      <td>350 West 42nd Street</td>\n",
       "      <td>21.0</td>\n",
       "      <td>79.0</td>\n",
       "      <td>Last Sold on Sep 24, 2019</td>\n",
       "      <td>2019-09-24</td>\n",
       "      <td>1085000.0</td>\n",
       "      <td>1572.0</td>\n",
       "      <td>690.0</td>\n",
       "      <td>1 bed, 1 bath</td>\n",
       "      <td>1.0</td>\n",
       "      <td>1.0</td>\n",
       "      <td>https://www.cityrealty.com/nyc/midtown-west/the-orion-350-west-42nd-street/apartment-21F/sold/A27644</td>\n",
       "      <td>2019-04-12</td>\n",
       "      <td>176</td>\n",
       "      <td>Midtown West</td>\n",
       "      <td>689.0</td>\n",
       "      <td>1315.0</td>\n",
       "      <td>NaN</td>\n",
       "      <td>FT Doorman</td>\n",
       "      <td>NaN</td>\n",
       "      <td>Fall</td>\n",
       "      <td>165.0</td>\n",
       "      <td>2019</td>\n",
       "    </tr>\n",
       "    <tr>\n",
       "      <td>3</td>\n",
       "      <td>Morgan Court, 211 Madison Avenue, #6A</td>\n",
       "      <td>Morgan Court</td>\n",
       "      <td>211 Madison Avenue</td>\n",
       "      <td>6.0</td>\n",
       "      <td>73.0</td>\n",
       "      <td>Last Sold on Sep 23, 2019</td>\n",
       "      <td>2019-09-23</td>\n",
       "      <td>1039000.0</td>\n",
       "      <td>910.0</td>\n",
       "      <td>1142.0</td>\n",
       "      <td>1 bed, 1.5 baths</td>\n",
       "      <td>1.0</td>\n",
       "      <td>1.5</td>\n",
       "      <td>https://www.cityrealty.com/nyc/murray-hill/morgan-court-211-madison-avenue/apartment-6A/sold/A164244</td>\n",
       "      <td>2019-03-06</td>\n",
       "      <td>214</td>\n",
       "      <td>Murray Hill</td>\n",
       "      <td>1683.0</td>\n",
       "      <td>1148.0</td>\n",
       "      <td>NaN</td>\n",
       "      <td>FT Doorman</td>\n",
       "      <td>NaN</td>\n",
       "      <td>Fall</td>\n",
       "      <td>201.0</td>\n",
       "      <td>2019</td>\n",
       "    </tr>\n",
       "    <tr>\n",
       "      <td>4</td>\n",
       "      <td>325 Fifth Avenue, #23F</td>\n",
       "      <td>NaN</td>\n",
       "      <td>325 Fifth Avenue</td>\n",
       "      <td>23.0</td>\n",
       "      <td>70.0</td>\n",
       "      <td>Last Sold on Sep 23, 2019</td>\n",
       "      <td>2019-09-23</td>\n",
       "      <td>1080000.0</td>\n",
       "      <td>1570.0</td>\n",
       "      <td>688.0</td>\n",
       "      <td>1 bed, 1 bath</td>\n",
       "      <td>1.0</td>\n",
       "      <td>1.0</td>\n",
       "      <td>https://www.cityrealty.com/nyc/murray-hill/325-fifth-avenue/apartment-23F/sold/A122716</td>\n",
       "      <td>2019-05-28</td>\n",
       "      <td>132</td>\n",
       "      <td>Murray Hill</td>\n",
       "      <td>810.0</td>\n",
       "      <td>1511.0</td>\n",
       "      <td>NaN</td>\n",
       "      <td>FT Doorman</td>\n",
       "      <td>NaN</td>\n",
       "      <td>Fall</td>\n",
       "      <td>118.0</td>\n",
       "      <td>2019</td>\n",
       "    </tr>\n",
       "  </tbody>\n",
       "</table>\n",
       "</div>"
      ],
      "text/plain": [
       "                                      full_name         bldg_name  \\\n",
       "0    Worldwide Plaza, 393 West 49th Street, #3P   Worldwide Plaza   \n",
       "1  The Cosmopolitan, 145 East 48th Street, #25G  The Cosmopolitan   \n",
       "2         The Orion, 350 West 42nd Street, #21F         The Orion   \n",
       "3         Morgan Court, 211 Madison Avenue, #6A      Morgan Court   \n",
       "4                        325 Fifth Avenue, #23F               NaN   \n",
       "\n",
       "              bldg_addr  apt_floor  bldg_rating                  sold_date  \\\n",
       "0  393 West 49th Street        3.0         73.0  Last Sold on Sep 27, 2019   \n",
       "1  145 East 48th Street       25.0         78.0  Last Sold on Sep 25, 2019   \n",
       "2  350 West 42nd Street       21.0         79.0  Last Sold on Sep 24, 2019   \n",
       "3    211 Madison Avenue        6.0         73.0  Last Sold on Sep 23, 2019   \n",
       "4      325 Fifth Avenue       23.0         70.0  Last Sold on Sep 23, 2019   \n",
       "\n",
       "  sold_date_dt  sold_price  price_per_sqft  square_feet      bed_and_bath  \\\n",
       "0   2019-09-27    545000.0             NaN          NaN    Studio, 1 bath   \n",
       "1   2019-09-25    799000.0          1229.0        650.0     1 bed, 1 bath   \n",
       "2   2019-09-24   1085000.0          1572.0        690.0     1 bed, 1 bath   \n",
       "3   2019-09-23   1039000.0           910.0       1142.0  1 bed, 1.5 baths   \n",
       "4   2019-09-23   1080000.0          1570.0        688.0     1 bed, 1 bath   \n",
       "\n",
       "   beds  baths  \\\n",
       "0   0.0    1.0   \n",
       "1   1.0    1.0   \n",
       "2   1.0    1.0   \n",
       "3   1.0    1.5   \n",
       "4   1.0    1.0   \n",
       "\n",
       "                                                                                                          url  \\\n",
       "0    https://www.cityrealty.com/nyc/midtown-west/worldwide-plaza-393-west-49th-street/apartment-3P/sold/A6336   \n",
       "1  https://www.cityrealty.com/nyc/midtown-east/the-cosmopolitan-145-east-48th-street/apartment-25G/sold/A4324   \n",
       "2        https://www.cityrealty.com/nyc/midtown-west/the-orion-350-west-42nd-street/apartment-21F/sold/A27644   \n",
       "3        https://www.cityrealty.com/nyc/murray-hill/morgan-court-211-madison-avenue/apartment-6A/sold/A164244   \n",
       "4                      https://www.cityrealty.com/nyc/murray-hill/325-fifth-avenue/apartment-23F/sold/A122716   \n",
       "\n",
       "      listed days_on_market  neighborhood  monthly_common_charges  \\\n",
       "0        NaT            NaN           NaN                     NaN   \n",
       "1 2019-04-12            177  Midtown East                   814.0   \n",
       "2 2019-04-12            176  Midtown West                   689.0   \n",
       "3 2019-03-06            214   Murray Hill                  1683.0   \n",
       "4 2019-05-28            132   Murray Hill                   810.0   \n",
       "\n",
       "   monthly_real_estate_taxes  minimum_down_payment     doorman  \\\n",
       "0                        NaN                   NaN         NaN   \n",
       "1                      948.0                   0.1  FT Doorman   \n",
       "2                     1315.0                   NaN  FT Doorman   \n",
       "3                     1148.0                   NaN  FT Doorman   \n",
       "4                     1511.0                   NaN  FT Doorman   \n",
       "\n",
       "  last_price_change sold_season  days_on_market_1  year  \n",
       "0               NaN        Fall               NaN  2019  \n",
       "1               NaN        Fall             166.0  2019  \n",
       "2               NaN        Fall             165.0  2019  \n",
       "3               NaN        Fall             201.0  2019  \n",
       "4               NaN        Fall             118.0  2019  "
      ]
     },
     "execution_count": 77,
     "metadata": {},
     "output_type": "execute_result"
    }
   ],
   "source": [
    "## Trying something. Seeing how many duplicates I have\n",
    "df_drop.head()"
   ]
  },
  {
   "cell_type": "markdown",
   "metadata": {
    "heading_collapsed": true
   },
   "source": [
    "# Investigating Days on Market -- won't include"
   ]
  },
  {
   "cell_type": "code",
   "execution_count": 65,
   "metadata": {
    "hidden": true
   },
   "outputs": [],
   "source": [
    "pd.options.display.max_colwidth = 200"
   ]
  },
  {
   "cell_type": "code",
   "execution_count": 94,
   "metadata": {
    "hidden": true
   },
   "outputs": [
    {
     "data": {
      "text/html": [
       "<div>\n",
       "<style scoped>\n",
       "    .dataframe tbody tr th:only-of-type {\n",
       "        vertical-align: middle;\n",
       "    }\n",
       "\n",
       "    .dataframe tbody tr th {\n",
       "        vertical-align: top;\n",
       "    }\n",
       "\n",
       "    .dataframe thead th {\n",
       "        text-align: right;\n",
       "    }\n",
       "</style>\n",
       "<table border=\"1\" class=\"dataframe\">\n",
       "  <thead>\n",
       "    <tr style=\"text-align: right;\">\n",
       "      <th></th>\n",
       "      <th>days_on_market</th>\n",
       "      <th>days_on_market_1</th>\n",
       "    </tr>\n",
       "  </thead>\n",
       "  <tbody>\n",
       "    <tr>\n",
       "      <td>count</td>\n",
       "      <td>7083.000000</td>\n",
       "      <td>7083.000000</td>\n",
       "    </tr>\n",
       "    <tr>\n",
       "      <td>mean</td>\n",
       "      <td>1789.009600</td>\n",
       "      <td>47.166173</td>\n",
       "    </tr>\n",
       "    <tr>\n",
       "      <td>std</td>\n",
       "      <td>1052.018098</td>\n",
       "      <td>835.310532</td>\n",
       "    </tr>\n",
       "    <tr>\n",
       "      <td>min</td>\n",
       "      <td>2.000000</td>\n",
       "      <td>-6004.000000</td>\n",
       "    </tr>\n",
       "    <tr>\n",
       "      <td>25%</td>\n",
       "      <td>895.500000</td>\n",
       "      <td>48.000000</td>\n",
       "    </tr>\n",
       "    <tr>\n",
       "      <td>50%</td>\n",
       "      <td>1689.000000</td>\n",
       "      <td>126.000000</td>\n",
       "    </tr>\n",
       "    <tr>\n",
       "      <td>75%</td>\n",
       "      <td>2562.000000</td>\n",
       "      <td>237.000000</td>\n",
       "    </tr>\n",
       "    <tr>\n",
       "      <td>max</td>\n",
       "      <td>4517.000000</td>\n",
       "      <td>3706.000000</td>\n",
       "    </tr>\n",
       "  </tbody>\n",
       "</table>\n",
       "</div>"
      ],
      "text/plain": [
       "       days_on_market  days_on_market_1\n",
       "count     7083.000000       7083.000000\n",
       "mean      1789.009600         47.166173\n",
       "std       1052.018098        835.310532\n",
       "min          2.000000      -6004.000000\n",
       "25%        895.500000         48.000000\n",
       "50%       1689.000000        126.000000\n",
       "75%       2562.000000        237.000000\n",
       "max       4517.000000       3706.000000"
      ]
     },
     "execution_count": 94,
     "metadata": {},
     "output_type": "execute_result"
    }
   ],
   "source": [
    "df_drop[['full_name', 'sold_date_dt', 'listed', 'days_on_market', 'days_on_market_1', 'url']].describe()"
   ]
  },
  {
   "cell_type": "code",
   "execution_count": 93,
   "metadata": {
    "hidden": true
   },
   "outputs": [
    {
     "data": {
      "text/html": [
       "<div>\n",
       "<style scoped>\n",
       "    .dataframe tbody tr th:only-of-type {\n",
       "        vertical-align: middle;\n",
       "    }\n",
       "\n",
       "    .dataframe tbody tr th {\n",
       "        vertical-align: top;\n",
       "    }\n",
       "\n",
       "    .dataframe thead th {\n",
       "        text-align: right;\n",
       "    }\n",
       "</style>\n",
       "<table border=\"1\" class=\"dataframe\">\n",
       "  <thead>\n",
       "    <tr style=\"text-align: right;\">\n",
       "      <th></th>\n",
       "      <th>full_name</th>\n",
       "      <th>bldg_name</th>\n",
       "      <th>bldg_addr</th>\n",
       "      <th>apt_floor</th>\n",
       "      <th>bldg_rating</th>\n",
       "      <th>sold_date</th>\n",
       "      <th>sold_date_dt</th>\n",
       "      <th>sold_price</th>\n",
       "      <th>price_per_sqft</th>\n",
       "      <th>square_feet</th>\n",
       "      <th>bed_and_bath</th>\n",
       "      <th>beds</th>\n",
       "      <th>baths</th>\n",
       "      <th>url</th>\n",
       "      <th>listed</th>\n",
       "      <th>days_on_market</th>\n",
       "      <th>neighborhood</th>\n",
       "      <th>monthly_common_charges</th>\n",
       "      <th>monthly_real_estate_taxes</th>\n",
       "      <th>minimum_down_payment</th>\n",
       "      <th>doorman</th>\n",
       "      <th>last_price_change</th>\n",
       "      <th>sold_season</th>\n",
       "      <th>days_on_market_1</th>\n",
       "      <th>year</th>\n",
       "    </tr>\n",
       "  </thead>\n",
       "  <tbody>\n",
       "    <tr>\n",
       "      <td>1</td>\n",
       "      <td>The Cosmopolitan, 145 East 48th Street, #25G</td>\n",
       "      <td>The Cosmopolitan</td>\n",
       "      <td>145 East 48th Street</td>\n",
       "      <td>25.0</td>\n",
       "      <td>78.0</td>\n",
       "      <td>Last Sold on Sep 25, 2019</td>\n",
       "      <td>2019-09-25</td>\n",
       "      <td>799000.0</td>\n",
       "      <td>1229.0</td>\n",
       "      <td>650.0</td>\n",
       "      <td>1 bed, 1 bath</td>\n",
       "      <td>1.0</td>\n",
       "      <td>1.0</td>\n",
       "      <td>https://www.cityrealty.com/nyc/midtown-east/the-cosmopolitan-145-east-48th-street/apartment-25G/sold/A4324</td>\n",
       "      <td>2019-04-12</td>\n",
       "      <td>177.0</td>\n",
       "      <td>Midtown East</td>\n",
       "      <td>814.0</td>\n",
       "      <td>948.0</td>\n",
       "      <td>0.1</td>\n",
       "      <td>FT Doorman</td>\n",
       "      <td>NaN</td>\n",
       "      <td>Fall</td>\n",
       "      <td>166.0</td>\n",
       "      <td>2019</td>\n",
       "    </tr>\n",
       "    <tr>\n",
       "      <td>2</td>\n",
       "      <td>The Orion, 350 West 42nd Street, #21F</td>\n",
       "      <td>The Orion</td>\n",
       "      <td>350 West 42nd Street</td>\n",
       "      <td>21.0</td>\n",
       "      <td>79.0</td>\n",
       "      <td>Last Sold on Sep 24, 2019</td>\n",
       "      <td>2019-09-24</td>\n",
       "      <td>1085000.0</td>\n",
       "      <td>1572.0</td>\n",
       "      <td>690.0</td>\n",
       "      <td>1 bed, 1 bath</td>\n",
       "      <td>1.0</td>\n",
       "      <td>1.0</td>\n",
       "      <td>https://www.cityrealty.com/nyc/midtown-west/the-orion-350-west-42nd-street/apartment-21F/sold/A27644</td>\n",
       "      <td>2019-04-12</td>\n",
       "      <td>176.0</td>\n",
       "      <td>Midtown West</td>\n",
       "      <td>689.0</td>\n",
       "      <td>1315.0</td>\n",
       "      <td>NaN</td>\n",
       "      <td>FT Doorman</td>\n",
       "      <td>NaN</td>\n",
       "      <td>Fall</td>\n",
       "      <td>165.0</td>\n",
       "      <td>2019</td>\n",
       "    </tr>\n",
       "    <tr>\n",
       "      <td>3</td>\n",
       "      <td>Morgan Court, 211 Madison Avenue, #6A</td>\n",
       "      <td>Morgan Court</td>\n",
       "      <td>211 Madison Avenue</td>\n",
       "      <td>6.0</td>\n",
       "      <td>73.0</td>\n",
       "      <td>Last Sold on Sep 23, 2019</td>\n",
       "      <td>2019-09-23</td>\n",
       "      <td>1039000.0</td>\n",
       "      <td>910.0</td>\n",
       "      <td>1142.0</td>\n",
       "      <td>1 bed, 1.5 baths</td>\n",
       "      <td>1.0</td>\n",
       "      <td>1.5</td>\n",
       "      <td>https://www.cityrealty.com/nyc/murray-hill/morgan-court-211-madison-avenue/apartment-6A/sold/A164244</td>\n",
       "      <td>2019-03-06</td>\n",
       "      <td>214.0</td>\n",
       "      <td>Murray Hill</td>\n",
       "      <td>1683.0</td>\n",
       "      <td>1148.0</td>\n",
       "      <td>NaN</td>\n",
       "      <td>FT Doorman</td>\n",
       "      <td>NaN</td>\n",
       "      <td>Fall</td>\n",
       "      <td>201.0</td>\n",
       "      <td>2019</td>\n",
       "    </tr>\n",
       "    <tr>\n",
       "      <td>4</td>\n",
       "      <td>325 Fifth Avenue, #23F</td>\n",
       "      <td>NaN</td>\n",
       "      <td>325 Fifth Avenue</td>\n",
       "      <td>23.0</td>\n",
       "      <td>70.0</td>\n",
       "      <td>Last Sold on Sep 23, 2019</td>\n",
       "      <td>2019-09-23</td>\n",
       "      <td>1080000.0</td>\n",
       "      <td>1570.0</td>\n",
       "      <td>688.0</td>\n",
       "      <td>1 bed, 1 bath</td>\n",
       "      <td>1.0</td>\n",
       "      <td>1.0</td>\n",
       "      <td>https://www.cityrealty.com/nyc/murray-hill/325-fifth-avenue/apartment-23F/sold/A122716</td>\n",
       "      <td>2019-05-28</td>\n",
       "      <td>132.0</td>\n",
       "      <td>Murray Hill</td>\n",
       "      <td>810.0</td>\n",
       "      <td>1511.0</td>\n",
       "      <td>NaN</td>\n",
       "      <td>FT Doorman</td>\n",
       "      <td>NaN</td>\n",
       "      <td>Fall</td>\n",
       "      <td>118.0</td>\n",
       "      <td>2019</td>\n",
       "    </tr>\n",
       "    <tr>\n",
       "      <td>5</td>\n",
       "      <td>The Parc Vendome, 350 West 57th Street, #10I</td>\n",
       "      <td>The Parc Vendome</td>\n",
       "      <td>350 West 57th Street</td>\n",
       "      <td>10.0</td>\n",
       "      <td>82.0</td>\n",
       "      <td>Last Sold on Sep 23, 2019</td>\n",
       "      <td>2019-09-23</td>\n",
       "      <td>1400000.0</td>\n",
       "      <td>1167.0</td>\n",
       "      <td>1200.0</td>\n",
       "      <td>1 bed, 1 bath</td>\n",
       "      <td>1.0</td>\n",
       "      <td>1.0</td>\n",
       "      <td>https://www.cityrealty.com/nyc/midtown-west/the-parc-vendome-350-west-57th-street/apartment-10I/sold/A239210</td>\n",
       "      <td>2019-06-06</td>\n",
       "      <td>121.0</td>\n",
       "      <td>Midtown West</td>\n",
       "      <td>1676.0</td>\n",
       "      <td>1211.0</td>\n",
       "      <td>NaN</td>\n",
       "      <td>FT Doorman</td>\n",
       "      <td>NaN</td>\n",
       "      <td>Fall</td>\n",
       "      <td>109.0</td>\n",
       "      <td>2019</td>\n",
       "    </tr>\n",
       "    <tr>\n",
       "      <td>...</td>\n",
       "      <td>...</td>\n",
       "      <td>...</td>\n",
       "      <td>...</td>\n",
       "      <td>...</td>\n",
       "      <td>...</td>\n",
       "      <td>...</td>\n",
       "      <td>...</td>\n",
       "      <td>...</td>\n",
       "      <td>...</td>\n",
       "      <td>...</td>\n",
       "      <td>...</td>\n",
       "      <td>...</td>\n",
       "      <td>...</td>\n",
       "      <td>...</td>\n",
       "      <td>...</td>\n",
       "      <td>...</td>\n",
       "      <td>...</td>\n",
       "      <td>...</td>\n",
       "      <td>...</td>\n",
       "      <td>...</td>\n",
       "      <td>...</td>\n",
       "      <td>...</td>\n",
       "      <td>...</td>\n",
       "      <td>...</td>\n",
       "      <td>...</td>\n",
       "    </tr>\n",
       "    <tr>\n",
       "      <td>14766</td>\n",
       "      <td>The Park Imperial, 230 West 56th Street, #56C</td>\n",
       "      <td>The Park Imperial</td>\n",
       "      <td>230 West 56th Street</td>\n",
       "      <td>56.0</td>\n",
       "      <td>82.0</td>\n",
       "      <td>Last Sold on Jun 13, 2003</td>\n",
       "      <td>2003-06-13</td>\n",
       "      <td>1435733.0</td>\n",
       "      <td>NaN</td>\n",
       "      <td>NaN</td>\n",
       "      <td>2 beds, 2 baths</td>\n",
       "      <td>2.0</td>\n",
       "      <td>2.0</td>\n",
       "      <td>https://www.cityrealty.com/nyc/midtown-west/the-park-imperial-230-west-56th-street/apartment-56C/sold/A6069</td>\n",
       "      <td>2019-07-24</td>\n",
       "      <td>75.0</td>\n",
       "      <td>Midtown West</td>\n",
       "      <td>2081.0</td>\n",
       "      <td>1994.0</td>\n",
       "      <td>NaN</td>\n",
       "      <td>FT Doorman</td>\n",
       "      <td>-0.8%\\n\\n($25,000)\\non\\nSep 3</td>\n",
       "      <td>Summer</td>\n",
       "      <td>-5885.0</td>\n",
       "      <td>2003</td>\n",
       "    </tr>\n",
       "    <tr>\n",
       "      <td>14849</td>\n",
       "      <td>The Park Imperial, 230 West 56th Street, #54E</td>\n",
       "      <td>The Park Imperial</td>\n",
       "      <td>230 West 56th Street</td>\n",
       "      <td>54.0</td>\n",
       "      <td>82.0</td>\n",
       "      <td>Last Sold on May 2, 2003</td>\n",
       "      <td>2003-05-02</td>\n",
       "      <td>1338999.0</td>\n",
       "      <td>NaN</td>\n",
       "      <td>NaN</td>\n",
       "      <td>2 beds, 2 baths</td>\n",
       "      <td>2.0</td>\n",
       "      <td>2.0</td>\n",
       "      <td>https://www.cityrealty.com/nyc/midtown-west/the-park-imperial-230-west-56th-street/apartment-54E/sold/A6059</td>\n",
       "      <td>2019-09-10</td>\n",
       "      <td>27.0</td>\n",
       "      <td>Midtown West</td>\n",
       "      <td>1775.0</td>\n",
       "      <td>1623.0</td>\n",
       "      <td>NaN</td>\n",
       "      <td>FT Doorman</td>\n",
       "      <td>NaN</td>\n",
       "      <td>Spring</td>\n",
       "      <td>-5975.0</td>\n",
       "      <td>2003</td>\n",
       "    </tr>\n",
       "    <tr>\n",
       "      <td>14910</td>\n",
       "      <td>The Lausanne, 333 East 45th Street, #22C</td>\n",
       "      <td>The Lausanne</td>\n",
       "      <td>333 East 45th Street</td>\n",
       "      <td>22.0</td>\n",
       "      <td>62.0</td>\n",
       "      <td>Last Sold on Mar 24, 2003</td>\n",
       "      <td>2003-03-24</td>\n",
       "      <td>355000.0</td>\n",
       "      <td>NaN</td>\n",
       "      <td>NaN</td>\n",
       "      <td>1 bed, 1 bath</td>\n",
       "      <td>1.0</td>\n",
       "      <td>1.0</td>\n",
       "      <td>https://www.cityrealty.com/nyc/turtle-bay-united-nations/the-lausanne-333-east-45th-street/apartment-22C/sold/A5398</td>\n",
       "      <td>2019-07-11</td>\n",
       "      <td>88.0</td>\n",
       "      <td>Turtle Bay/United Nations</td>\n",
       "      <td>555.0</td>\n",
       "      <td>785.0</td>\n",
       "      <td>0.1</td>\n",
       "      <td>FT Doorman</td>\n",
       "      <td>NaN</td>\n",
       "      <td>Spring</td>\n",
       "      <td>-5953.0</td>\n",
       "      <td>2003</td>\n",
       "    </tr>\n",
       "    <tr>\n",
       "      <td>14917</td>\n",
       "      <td>Trump Parc, 106 Central Park South, #21J</td>\n",
       "      <td>Trump Parc</td>\n",
       "      <td>106 Central Park South</td>\n",
       "      <td>21.0</td>\n",
       "      <td>83.0</td>\n",
       "      <td>Last Sold on Mar 19, 2003</td>\n",
       "      <td>2003-03-19</td>\n",
       "      <td>315000.0</td>\n",
       "      <td>NaN</td>\n",
       "      <td>NaN</td>\n",
       "      <td>Studio, 1 bath</td>\n",
       "      <td>0.0</td>\n",
       "      <td>1.0</td>\n",
       "      <td>https://www.cityrealty.com/nyc/midtown-west/trump-parc-106-central-park-south/apartment-21J/sold/A5999</td>\n",
       "      <td>2019-08-26</td>\n",
       "      <td>42.0</td>\n",
       "      <td>Midtown West</td>\n",
       "      <td>725.0</td>\n",
       "      <td>NaN</td>\n",
       "      <td>0.1</td>\n",
       "      <td>FT Doorman</td>\n",
       "      <td>NaN</td>\n",
       "      <td>Spring</td>\n",
       "      <td>-6004.0</td>\n",
       "      <td>2003</td>\n",
       "    </tr>\n",
       "    <tr>\n",
       "      <td>14984</td>\n",
       "      <td>Executive House, 225 East 46th Street, #8J</td>\n",
       "      <td>Executive House</td>\n",
       "      <td>225 East 46th Street</td>\n",
       "      <td>8.0</td>\n",
       "      <td>48.0</td>\n",
       "      <td>Last Sold on Jan 23, 2003</td>\n",
       "      <td>2003-01-23</td>\n",
       "      <td>232000.0</td>\n",
       "      <td>NaN</td>\n",
       "      <td>NaN</td>\n",
       "      <td>Studio, 1 bath</td>\n",
       "      <td>0.0</td>\n",
       "      <td>1.0</td>\n",
       "      <td>https://www.cityrealty.com/nyc/turtle-bay-united-nations/executive-house-225-east-46th-street/apartment-8J/sold/A5283</td>\n",
       "      <td>2019-02-21</td>\n",
       "      <td>228.0</td>\n",
       "      <td>Turtle Bay/United Nations</td>\n",
       "      <td>492.0</td>\n",
       "      <td>622.0</td>\n",
       "      <td>0.1</td>\n",
       "      <td>FT Doorman</td>\n",
       "      <td>-2.5%\\n\\n($14,000)\\non\\nJun 26</td>\n",
       "      <td>Winter</td>\n",
       "      <td>-5873.0</td>\n",
       "      <td>2003</td>\n",
       "    </tr>\n",
       "  </tbody>\n",
       "</table>\n",
       "<p>7083 rows × 25 columns</p>\n",
       "</div>"
      ],
      "text/plain": [
       "                                           full_name          bldg_name  \\\n",
       "1       The Cosmopolitan, 145 East 48th Street, #25G   The Cosmopolitan   \n",
       "2              The Orion, 350 West 42nd Street, #21F          The Orion   \n",
       "3              Morgan Court, 211 Madison Avenue, #6A       Morgan Court   \n",
       "4                             325 Fifth Avenue, #23F                NaN   \n",
       "5       The Parc Vendome, 350 West 57th Street, #10I   The Parc Vendome   \n",
       "...                                              ...                ...   \n",
       "14766  The Park Imperial, 230 West 56th Street, #56C  The Park Imperial   \n",
       "14849  The Park Imperial, 230 West 56th Street, #54E  The Park Imperial   \n",
       "14910       The Lausanne, 333 East 45th Street, #22C       The Lausanne   \n",
       "14917       Trump Parc, 106 Central Park South, #21J         Trump Parc   \n",
       "14984     Executive House, 225 East 46th Street, #8J    Executive House   \n",
       "\n",
       "                    bldg_addr  apt_floor  bldg_rating  \\\n",
       "1        145 East 48th Street       25.0         78.0   \n",
       "2        350 West 42nd Street       21.0         79.0   \n",
       "3          211 Madison Avenue        6.0         73.0   \n",
       "4            325 Fifth Avenue       23.0         70.0   \n",
       "5        350 West 57th Street       10.0         82.0   \n",
       "...                       ...        ...          ...   \n",
       "14766    230 West 56th Street       56.0         82.0   \n",
       "14849    230 West 56th Street       54.0         82.0   \n",
       "14910    333 East 45th Street       22.0         62.0   \n",
       "14917  106 Central Park South       21.0         83.0   \n",
       "14984    225 East 46th Street        8.0         48.0   \n",
       "\n",
       "                       sold_date sold_date_dt  sold_price  price_per_sqft  \\\n",
       "1      Last Sold on Sep 25, 2019   2019-09-25    799000.0          1229.0   \n",
       "2      Last Sold on Sep 24, 2019   2019-09-24   1085000.0          1572.0   \n",
       "3      Last Sold on Sep 23, 2019   2019-09-23   1039000.0           910.0   \n",
       "4      Last Sold on Sep 23, 2019   2019-09-23   1080000.0          1570.0   \n",
       "5      Last Sold on Sep 23, 2019   2019-09-23   1400000.0          1167.0   \n",
       "...                          ...          ...         ...             ...   \n",
       "14766  Last Sold on Jun 13, 2003   2003-06-13   1435733.0             NaN   \n",
       "14849   Last Sold on May 2, 2003   2003-05-02   1338999.0             NaN   \n",
       "14910  Last Sold on Mar 24, 2003   2003-03-24    355000.0             NaN   \n",
       "14917  Last Sold on Mar 19, 2003   2003-03-19    315000.0             NaN   \n",
       "14984  Last Sold on Jan 23, 2003   2003-01-23    232000.0             NaN   \n",
       "\n",
       "       square_feet      bed_and_bath  beds  baths  \\\n",
       "1            650.0     1 bed, 1 bath   1.0    1.0   \n",
       "2            690.0     1 bed, 1 bath   1.0    1.0   \n",
       "3           1142.0  1 bed, 1.5 baths   1.0    1.5   \n",
       "4            688.0     1 bed, 1 bath   1.0    1.0   \n",
       "5           1200.0     1 bed, 1 bath   1.0    1.0   \n",
       "...            ...               ...   ...    ...   \n",
       "14766          NaN   2 beds, 2 baths   2.0    2.0   \n",
       "14849          NaN   2 beds, 2 baths   2.0    2.0   \n",
       "14910          NaN     1 bed, 1 bath   1.0    1.0   \n",
       "14917          NaN    Studio, 1 bath   0.0    1.0   \n",
       "14984          NaN    Studio, 1 bath   0.0    1.0   \n",
       "\n",
       "                                                                                                                         url  \\\n",
       "1                 https://www.cityrealty.com/nyc/midtown-east/the-cosmopolitan-145-east-48th-street/apartment-25G/sold/A4324   \n",
       "2                       https://www.cityrealty.com/nyc/midtown-west/the-orion-350-west-42nd-street/apartment-21F/sold/A27644   \n",
       "3                       https://www.cityrealty.com/nyc/murray-hill/morgan-court-211-madison-avenue/apartment-6A/sold/A164244   \n",
       "4                                     https://www.cityrealty.com/nyc/murray-hill/325-fifth-avenue/apartment-23F/sold/A122716   \n",
       "5               https://www.cityrealty.com/nyc/midtown-west/the-parc-vendome-350-west-57th-street/apartment-10I/sold/A239210   \n",
       "...                                                                                                                      ...   \n",
       "14766            https://www.cityrealty.com/nyc/midtown-west/the-park-imperial-230-west-56th-street/apartment-56C/sold/A6069   \n",
       "14849            https://www.cityrealty.com/nyc/midtown-west/the-park-imperial-230-west-56th-street/apartment-54E/sold/A6059   \n",
       "14910    https://www.cityrealty.com/nyc/turtle-bay-united-nations/the-lausanne-333-east-45th-street/apartment-22C/sold/A5398   \n",
       "14917                 https://www.cityrealty.com/nyc/midtown-west/trump-parc-106-central-park-south/apartment-21J/sold/A5999   \n",
       "14984  https://www.cityrealty.com/nyc/turtle-bay-united-nations/executive-house-225-east-46th-street/apartment-8J/sold/A5283   \n",
       "\n",
       "          listed  days_on_market               neighborhood  \\\n",
       "1     2019-04-12           177.0               Midtown East   \n",
       "2     2019-04-12           176.0               Midtown West   \n",
       "3     2019-03-06           214.0                Murray Hill   \n",
       "4     2019-05-28           132.0                Murray Hill   \n",
       "5     2019-06-06           121.0               Midtown West   \n",
       "...          ...             ...                        ...   \n",
       "14766 2019-07-24            75.0               Midtown West   \n",
       "14849 2019-09-10            27.0               Midtown West   \n",
       "14910 2019-07-11            88.0  Turtle Bay/United Nations   \n",
       "14917 2019-08-26            42.0               Midtown West   \n",
       "14984 2019-02-21           228.0  Turtle Bay/United Nations   \n",
       "\n",
       "       monthly_common_charges  monthly_real_estate_taxes  \\\n",
       "1                       814.0                      948.0   \n",
       "2                       689.0                     1315.0   \n",
       "3                      1683.0                     1148.0   \n",
       "4                       810.0                     1511.0   \n",
       "5                      1676.0                     1211.0   \n",
       "...                       ...                        ...   \n",
       "14766                  2081.0                     1994.0   \n",
       "14849                  1775.0                     1623.0   \n",
       "14910                   555.0                      785.0   \n",
       "14917                   725.0                        NaN   \n",
       "14984                   492.0                      622.0   \n",
       "\n",
       "       minimum_down_payment     doorman               last_price_change  \\\n",
       "1                       0.1  FT Doorman                             NaN   \n",
       "2                       NaN  FT Doorman                             NaN   \n",
       "3                       NaN  FT Doorman                             NaN   \n",
       "4                       NaN  FT Doorman                             NaN   \n",
       "5                       NaN  FT Doorman                             NaN   \n",
       "...                     ...         ...                             ...   \n",
       "14766                   NaN  FT Doorman   -0.8%\\n\\n($25,000)\\non\\nSep 3   \n",
       "14849                   NaN  FT Doorman                             NaN   \n",
       "14910                   0.1  FT Doorman                             NaN   \n",
       "14917                   0.1  FT Doorman                             NaN   \n",
       "14984                   0.1  FT Doorman  -2.5%\\n\\n($14,000)\\non\\nJun 26   \n",
       "\n",
       "      sold_season  days_on_market_1  year  \n",
       "1            Fall             166.0  2019  \n",
       "2            Fall             165.0  2019  \n",
       "3            Fall             201.0  2019  \n",
       "4            Fall             118.0  2019  \n",
       "5            Fall             109.0  2019  \n",
       "...           ...               ...   ...  \n",
       "14766      Summer           -5885.0  2003  \n",
       "14849      Spring           -5975.0  2003  \n",
       "14910      Spring           -5953.0  2003  \n",
       "14917      Spring           -6004.0  2003  \n",
       "14984      Winter           -5873.0  2003  \n",
       "\n",
       "[7083 rows x 25 columns]"
      ]
     },
     "execution_count": 93,
     "metadata": {},
     "output_type": "execute_result"
    }
   ],
   "source": [
    "df_drop[df_drop['days_on_market_1'] < df_drop['days_on_market']]"
   ]
  },
  {
   "cell_type": "code",
   "execution_count": 85,
   "metadata": {
    "hidden": true
   },
   "outputs": [
    {
     "data": {
      "text/html": [
       "<div>\n",
       "<style scoped>\n",
       "    .dataframe tbody tr th:only-of-type {\n",
       "        vertical-align: middle;\n",
       "    }\n",
       "\n",
       "    .dataframe tbody tr th {\n",
       "        vertical-align: top;\n",
       "    }\n",
       "\n",
       "    .dataframe thead th {\n",
       "        text-align: right;\n",
       "    }\n",
       "</style>\n",
       "<table border=\"1\" class=\"dataframe\">\n",
       "  <thead>\n",
       "    <tr style=\"text-align: right;\">\n",
       "      <th></th>\n",
       "      <th>full_name</th>\n",
       "      <th>bldg_name</th>\n",
       "      <th>bldg_addr</th>\n",
       "      <th>apt_floor</th>\n",
       "      <th>bldg_rating</th>\n",
       "      <th>sold_date</th>\n",
       "      <th>sold_date_dt</th>\n",
       "      <th>sold_price</th>\n",
       "      <th>price_per_sqft</th>\n",
       "      <th>square_feet</th>\n",
       "      <th>bed_and_bath</th>\n",
       "      <th>beds</th>\n",
       "      <th>baths</th>\n",
       "      <th>url</th>\n",
       "      <th>listed</th>\n",
       "      <th>days_on_market</th>\n",
       "      <th>neighborhood</th>\n",
       "      <th>monthly_common_charges</th>\n",
       "      <th>monthly_real_estate_taxes</th>\n",
       "      <th>minimum_down_payment</th>\n",
       "      <th>doorman</th>\n",
       "      <th>last_price_change</th>\n",
       "      <th>sold_season</th>\n",
       "      <th>days_on_market_1</th>\n",
       "      <th>year</th>\n",
       "    </tr>\n",
       "  </thead>\n",
       "  <tbody>\n",
       "    <tr>\n",
       "      <td>13</td>\n",
       "      <td>1600 Broadway, #PH3B</td>\n",
       "      <td>NaN</td>\n",
       "      <td>1600 Broadway</td>\n",
       "      <td>3.0</td>\n",
       "      <td>73.0</td>\n",
       "      <td>Last Sold on Sep 18, 2019</td>\n",
       "      <td>2019-09-18</td>\n",
       "      <td>1295000.0</td>\n",
       "      <td>1439.0</td>\n",
       "      <td>900.0</td>\n",
       "      <td>2 beds, 1 bath</td>\n",
       "      <td>2.0</td>\n",
       "      <td>1.0</td>\n",
       "      <td>https://www.cityrealty.com/nyc/midtown-west/1600-broadway/apartment-PH3B/sold/A121793</td>\n",
       "      <td>2009-09-16</td>\n",
       "      <td>3673</td>\n",
       "      <td>Midtown West</td>\n",
       "      <td>1075.0</td>\n",
       "      <td>575.0</td>\n",
       "      <td>NaN</td>\n",
       "      <td>FT Doorman</td>\n",
       "      <td>NaN</td>\n",
       "      <td>Fall</td>\n",
       "      <td>3654.0</td>\n",
       "      <td>2019</td>\n",
       "    </tr>\n",
       "    <tr>\n",
       "      <td>31</td>\n",
       "      <td>The Parc Vendome, 353 West 56th Street, #4I</td>\n",
       "      <td>The Parc Vendome</td>\n",
       "      <td>353 West 56th Street</td>\n",
       "      <td>4.0</td>\n",
       "      <td>75.0</td>\n",
       "      <td>Last Sold on Sep 10, 2019</td>\n",
       "      <td>2019-09-10</td>\n",
       "      <td>1100000.0</td>\n",
       "      <td>1182.0</td>\n",
       "      <td>931.0</td>\n",
       "      <td>1 bed, 1 bath</td>\n",
       "      <td>1.0</td>\n",
       "      <td>1.0</td>\n",
       "      <td>https://www.cityrealty.com/nyc/midtown-west/the-parc-vendome-353-west-56th-street/apartment-4I/sold/A271844</td>\n",
       "      <td>2014-01-08</td>\n",
       "      <td>2096</td>\n",
       "      <td>Midtown West</td>\n",
       "      <td>1117.0</td>\n",
       "      <td>855.0</td>\n",
       "      <td>0.2</td>\n",
       "      <td>FT Doorman</td>\n",
       "      <td>NaN</td>\n",
       "      <td>Fall</td>\n",
       "      <td>2071.0</td>\n",
       "      <td>2019</td>\n",
       "    </tr>\n",
       "    <tr>\n",
       "      <td>43</td>\n",
       "      <td>Worldwide Plaza, 393 West 49th Street, #6II</td>\n",
       "      <td>Worldwide Plaza</td>\n",
       "      <td>393 West 49th Street</td>\n",
       "      <td>6.0</td>\n",
       "      <td>73.0</td>\n",
       "      <td>Last Sold on Sep 4, 2019</td>\n",
       "      <td>2019-09-04</td>\n",
       "      <td>575000.0</td>\n",
       "      <td>NaN</td>\n",
       "      <td>NaN</td>\n",
       "      <td>Studio, 1 bath</td>\n",
       "      <td>0.0</td>\n",
       "      <td>1.0</td>\n",
       "      <td>https://www.cityrealty.com/nyc/midtown-west/worldwide-plaza-393-west-49th-street/apartment-6II/sold/A12438</td>\n",
       "      <td>2009-07-12</td>\n",
       "      <td>3739</td>\n",
       "      <td>Midtown West</td>\n",
       "      <td>619.0</td>\n",
       "      <td>326.0</td>\n",
       "      <td>0.1</td>\n",
       "      <td>FT Doorman</td>\n",
       "      <td>NaN</td>\n",
       "      <td>Fall</td>\n",
       "      <td>3706.0</td>\n",
       "      <td>2019</td>\n",
       "    </tr>\n",
       "    <tr>\n",
       "      <td>55</td>\n",
       "      <td>Atelier, 635 West 42nd Street, #32D</td>\n",
       "      <td>Atelier</td>\n",
       "      <td>635 West 42nd Street</td>\n",
       "      <td>32.0</td>\n",
       "      <td>81.0</td>\n",
       "      <td>Last Sold on Aug 28, 2019</td>\n",
       "      <td>2019-08-28</td>\n",
       "      <td>1590000.0</td>\n",
       "      <td>1563.0</td>\n",
       "      <td>1017.0</td>\n",
       "      <td>2 beds, 2 baths</td>\n",
       "      <td>2.0</td>\n",
       "      <td>2.0</td>\n",
       "      <td>https://www.cityrealty.com/nyc/midtown-west/atelier-635-west-42nd-street/apartment-32D/sold/A146379</td>\n",
       "      <td>2015-03-18</td>\n",
       "      <td>1662</td>\n",
       "      <td>Midtown West</td>\n",
       "      <td>816.0</td>\n",
       "      <td>799.0</td>\n",
       "      <td>NaN</td>\n",
       "      <td>FT Doorman</td>\n",
       "      <td>NaN</td>\n",
       "      <td>Summer</td>\n",
       "      <td>1624.0</td>\n",
       "      <td>2019</td>\n",
       "    </tr>\n",
       "    <tr>\n",
       "      <td>56</td>\n",
       "      <td>Manhattan View at MiMa, 460 West 42nd Street, #54D</td>\n",
       "      <td>Manhattan View at MiMa</td>\n",
       "      <td>460 West 42nd Street</td>\n",
       "      <td>54.0</td>\n",
       "      <td>86.0</td>\n",
       "      <td>Last Sold on Aug 27, 2019</td>\n",
       "      <td>2019-08-27</td>\n",
       "      <td>2900000.0</td>\n",
       "      <td>2551.0</td>\n",
       "      <td>1137.0</td>\n",
       "      <td>2 beds, 2 baths</td>\n",
       "      <td>2.0</td>\n",
       "      <td>2.0</td>\n",
       "      <td>https://www.cityrealty.com/nyc/midtown-west/manhattan-view-mima-460-west-42nd-street/apartment-54D/sold/A269106</td>\n",
       "      <td>2016-06-15</td>\n",
       "      <td>1207</td>\n",
       "      <td>Midtown West</td>\n",
       "      <td>1510.0</td>\n",
       "      <td>888.0</td>\n",
       "      <td>NaN</td>\n",
       "      <td>FT Doorman</td>\n",
       "      <td>NaN</td>\n",
       "      <td>Summer</td>\n",
       "      <td>1168.0</td>\n",
       "      <td>2019</td>\n",
       "    </tr>\n",
       "    <tr>\n",
       "      <td>...</td>\n",
       "      <td>...</td>\n",
       "      <td>...</td>\n",
       "      <td>...</td>\n",
       "      <td>...</td>\n",
       "      <td>...</td>\n",
       "      <td>...</td>\n",
       "      <td>...</td>\n",
       "      <td>...</td>\n",
       "      <td>...</td>\n",
       "      <td>...</td>\n",
       "      <td>...</td>\n",
       "      <td>...</td>\n",
       "      <td>...</td>\n",
       "      <td>...</td>\n",
       "      <td>...</td>\n",
       "      <td>...</td>\n",
       "      <td>...</td>\n",
       "      <td>...</td>\n",
       "      <td>...</td>\n",
       "      <td>...</td>\n",
       "      <td>...</td>\n",
       "      <td>...</td>\n",
       "      <td>...</td>\n",
       "      <td>...</td>\n",
       "      <td>...</td>\n",
       "    </tr>\n",
       "    <tr>\n",
       "      <td>9064</td>\n",
       "      <td>Number 5, 5 East 44th Street, #17</td>\n",
       "      <td>Number 5</td>\n",
       "      <td>5 East 44th Street</td>\n",
       "      <td>17.0</td>\n",
       "      <td>72.0</td>\n",
       "      <td>Last Sold on Sep 7, 2010</td>\n",
       "      <td>2010-09-07</td>\n",
       "      <td>1395000.0</td>\n",
       "      <td>1092.0</td>\n",
       "      <td>1277.0</td>\n",
       "      <td>2 beds, 2 baths</td>\n",
       "      <td>2.0</td>\n",
       "      <td>2.0</td>\n",
       "      <td>https://www.cityrealty.com/nyc/midtown-east/number-5-5-east-44th-street/apartment-17/sold/A145093</td>\n",
       "      <td>2007-06-07</td>\n",
       "      <td>4504</td>\n",
       "      <td>Midtown East</td>\n",
       "      <td>1211.0</td>\n",
       "      <td>453.0</td>\n",
       "      <td>NaN</td>\n",
       "      <td>NaN</td>\n",
       "      <td>NaN</td>\n",
       "      <td>Fall</td>\n",
       "      <td>1188.0</td>\n",
       "      <td>2010</td>\n",
       "    </tr>\n",
       "    <tr>\n",
       "      <td>9147</td>\n",
       "      <td>Number 5, 5 East 44th Street, #4B</td>\n",
       "      <td>Number 5</td>\n",
       "      <td>5 East 44th Street</td>\n",
       "      <td>4.0</td>\n",
       "      <td>72.0</td>\n",
       "      <td>Last Sold on Jul 29, 2010</td>\n",
       "      <td>2010-07-29</td>\n",
       "      <td>670000.0</td>\n",
       "      <td>1065.0</td>\n",
       "      <td>629.0</td>\n",
       "      <td>1 bed, 1 bath</td>\n",
       "      <td>1.0</td>\n",
       "      <td>1.0</td>\n",
       "      <td>https://www.cityrealty.com/nyc/midtown-east/number-5-5-east-44th-street/apartment-4B/sold/A145086</td>\n",
       "      <td>2007-05-25</td>\n",
       "      <td>4517</td>\n",
       "      <td>Midtown East</td>\n",
       "      <td>503.0</td>\n",
       "      <td>250.0</td>\n",
       "      <td>NaN</td>\n",
       "      <td>NaN</td>\n",
       "      <td>NaN</td>\n",
       "      <td>Summer</td>\n",
       "      <td>1161.0</td>\n",
       "      <td>2010</td>\n",
       "    </tr>\n",
       "    <tr>\n",
       "      <td>9160</td>\n",
       "      <td>Number 5, 5 East 44th Street, #16</td>\n",
       "      <td>Number 5</td>\n",
       "      <td>5 East 44th Street</td>\n",
       "      <td>16.0</td>\n",
       "      <td>72.0</td>\n",
       "      <td>Last Sold on Jul 26, 2010</td>\n",
       "      <td>2010-07-26</td>\n",
       "      <td>1295000.0</td>\n",
       "      <td>1014.0</td>\n",
       "      <td>1277.0</td>\n",
       "      <td>2 beds, 2 baths</td>\n",
       "      <td>2.0</td>\n",
       "      <td>2.0</td>\n",
       "      <td>https://www.cityrealty.com/nyc/midtown-east/number-5-5-east-44th-street/apartment-16/sold/A145092</td>\n",
       "      <td>2007-05-25</td>\n",
       "      <td>4517</td>\n",
       "      <td>Midtown East</td>\n",
       "      <td>1020.0</td>\n",
       "      <td>507.0</td>\n",
       "      <td>NaN</td>\n",
       "      <td>NaN</td>\n",
       "      <td>NaN</td>\n",
       "      <td>Summer</td>\n",
       "      <td>1158.0</td>\n",
       "      <td>2010</td>\n",
       "    </tr>\n",
       "    <tr>\n",
       "      <td>9294</td>\n",
       "      <td>Number 5, 5 East 44th Street, #8</td>\n",
       "      <td>Number 5</td>\n",
       "      <td>5 East 44th Street</td>\n",
       "      <td>8.0</td>\n",
       "      <td>72.0</td>\n",
       "      <td>Last Sold on May 27, 2010</td>\n",
       "      <td>2010-05-27</td>\n",
       "      <td>1550000.0</td>\n",
       "      <td>1095.0</td>\n",
       "      <td>1416.0</td>\n",
       "      <td>2 beds, 2 baths</td>\n",
       "      <td>2.0</td>\n",
       "      <td>2.0</td>\n",
       "      <td>https://www.cityrealty.com/nyc/midtown-east/number-5-5-east-44th-street/apartment-8/sold/A145089</td>\n",
       "      <td>2007-05-25</td>\n",
       "      <td>4517</td>\n",
       "      <td>Midtown East</td>\n",
       "      <td>1131.0</td>\n",
       "      <td>561.0</td>\n",
       "      <td>NaN</td>\n",
       "      <td>NaN</td>\n",
       "      <td>NaN</td>\n",
       "      <td>Spring</td>\n",
       "      <td>1098.0</td>\n",
       "      <td>2010</td>\n",
       "    </tr>\n",
       "    <tr>\n",
       "      <td>9364</td>\n",
       "      <td>Number 5, 5 East 44th Street, #5B</td>\n",
       "      <td>Number 5</td>\n",
       "      <td>5 East 44th Street</td>\n",
       "      <td>5.0</td>\n",
       "      <td>72.0</td>\n",
       "      <td>Last Sold on Apr 29, 2010</td>\n",
       "      <td>2010-04-29</td>\n",
       "      <td>715000.0</td>\n",
       "      <td>1137.0</td>\n",
       "      <td>629.0</td>\n",
       "      <td>1 bed, 1 bath</td>\n",
       "      <td>1.0</td>\n",
       "      <td>1.0</td>\n",
       "      <td>https://www.cityrealty.com/nyc/midtown-east/number-5-5-east-44th-street/apartment-5B/sold/A145087</td>\n",
       "      <td>2007-05-25</td>\n",
       "      <td>4517</td>\n",
       "      <td>Midtown East</td>\n",
       "      <td>597.0</td>\n",
       "      <td>223.0</td>\n",
       "      <td>NaN</td>\n",
       "      <td>NaN</td>\n",
       "      <td>NaN</td>\n",
       "      <td>Spring</td>\n",
       "      <td>1070.0</td>\n",
       "      <td>2010</td>\n",
       "    </tr>\n",
       "  </tbody>\n",
       "</table>\n",
       "<p>166 rows × 25 columns</p>\n",
       "</div>"
      ],
      "text/plain": [
       "                                               full_name  \\\n",
       "13                                  1600 Broadway, #PH3B   \n",
       "31           The Parc Vendome, 353 West 56th Street, #4I   \n",
       "43           Worldwide Plaza, 393 West 49th Street, #6II   \n",
       "55                   Atelier, 635 West 42nd Street, #32D   \n",
       "56    Manhattan View at MiMa, 460 West 42nd Street, #54D   \n",
       "...                                                  ...   \n",
       "9064                   Number 5, 5 East 44th Street, #17   \n",
       "9147                   Number 5, 5 East 44th Street, #4B   \n",
       "9160                   Number 5, 5 East 44th Street, #16   \n",
       "9294                    Number 5, 5 East 44th Street, #8   \n",
       "9364                   Number 5, 5 East 44th Street, #5B   \n",
       "\n",
       "                   bldg_name             bldg_addr  apt_floor  bldg_rating  \\\n",
       "13                       NaN         1600 Broadway        3.0         73.0   \n",
       "31          The Parc Vendome  353 West 56th Street        4.0         75.0   \n",
       "43           Worldwide Plaza  393 West 49th Street        6.0         73.0   \n",
       "55                   Atelier  635 West 42nd Street       32.0         81.0   \n",
       "56    Manhattan View at MiMa  460 West 42nd Street       54.0         86.0   \n",
       "...                      ...                   ...        ...          ...   \n",
       "9064                Number 5    5 East 44th Street       17.0         72.0   \n",
       "9147                Number 5    5 East 44th Street        4.0         72.0   \n",
       "9160                Number 5    5 East 44th Street       16.0         72.0   \n",
       "9294                Number 5    5 East 44th Street        8.0         72.0   \n",
       "9364                Number 5    5 East 44th Street        5.0         72.0   \n",
       "\n",
       "                      sold_date sold_date_dt  sold_price  price_per_sqft  \\\n",
       "13    Last Sold on Sep 18, 2019   2019-09-18   1295000.0          1439.0   \n",
       "31    Last Sold on Sep 10, 2019   2019-09-10   1100000.0          1182.0   \n",
       "43     Last Sold on Sep 4, 2019   2019-09-04    575000.0             NaN   \n",
       "55    Last Sold on Aug 28, 2019   2019-08-28   1590000.0          1563.0   \n",
       "56    Last Sold on Aug 27, 2019   2019-08-27   2900000.0          2551.0   \n",
       "...                         ...          ...         ...             ...   \n",
       "9064   Last Sold on Sep 7, 2010   2010-09-07   1395000.0          1092.0   \n",
       "9147  Last Sold on Jul 29, 2010   2010-07-29    670000.0          1065.0   \n",
       "9160  Last Sold on Jul 26, 2010   2010-07-26   1295000.0          1014.0   \n",
       "9294  Last Sold on May 27, 2010   2010-05-27   1550000.0          1095.0   \n",
       "9364  Last Sold on Apr 29, 2010   2010-04-29    715000.0          1137.0   \n",
       "\n",
       "      square_feet     bed_and_bath  beds  baths  \\\n",
       "13          900.0   2 beds, 1 bath   2.0    1.0   \n",
       "31          931.0    1 bed, 1 bath   1.0    1.0   \n",
       "43            NaN   Studio, 1 bath   0.0    1.0   \n",
       "55         1017.0  2 beds, 2 baths   2.0    2.0   \n",
       "56         1137.0  2 beds, 2 baths   2.0    2.0   \n",
       "...           ...              ...   ...    ...   \n",
       "9064       1277.0  2 beds, 2 baths   2.0    2.0   \n",
       "9147        629.0    1 bed, 1 bath   1.0    1.0   \n",
       "9160       1277.0  2 beds, 2 baths   2.0    2.0   \n",
       "9294       1416.0  2 beds, 2 baths   2.0    2.0   \n",
       "9364        629.0    1 bed, 1 bath   1.0    1.0   \n",
       "\n",
       "                                                                                                                  url  \\\n",
       "13                              https://www.cityrealty.com/nyc/midtown-west/1600-broadway/apartment-PH3B/sold/A121793   \n",
       "31        https://www.cityrealty.com/nyc/midtown-west/the-parc-vendome-353-west-56th-street/apartment-4I/sold/A271844   \n",
       "43         https://www.cityrealty.com/nyc/midtown-west/worldwide-plaza-393-west-49th-street/apartment-6II/sold/A12438   \n",
       "55                https://www.cityrealty.com/nyc/midtown-west/atelier-635-west-42nd-street/apartment-32D/sold/A146379   \n",
       "56    https://www.cityrealty.com/nyc/midtown-west/manhattan-view-mima-460-west-42nd-street/apartment-54D/sold/A269106   \n",
       "...                                                                                                               ...   \n",
       "9064                https://www.cityrealty.com/nyc/midtown-east/number-5-5-east-44th-street/apartment-17/sold/A145093   \n",
       "9147                https://www.cityrealty.com/nyc/midtown-east/number-5-5-east-44th-street/apartment-4B/sold/A145086   \n",
       "9160                https://www.cityrealty.com/nyc/midtown-east/number-5-5-east-44th-street/apartment-16/sold/A145092   \n",
       "9294                 https://www.cityrealty.com/nyc/midtown-east/number-5-5-east-44th-street/apartment-8/sold/A145089   \n",
       "9364                https://www.cityrealty.com/nyc/midtown-east/number-5-5-east-44th-street/apartment-5B/sold/A145087   \n",
       "\n",
       "         listed days_on_market  neighborhood  monthly_common_charges  \\\n",
       "13   2009-09-16           3673  Midtown West                  1075.0   \n",
       "31   2014-01-08           2096  Midtown West                  1117.0   \n",
       "43   2009-07-12           3739  Midtown West                   619.0   \n",
       "55   2015-03-18           1662  Midtown West                   816.0   \n",
       "56   2016-06-15           1207  Midtown West                  1510.0   \n",
       "...         ...            ...           ...                     ...   \n",
       "9064 2007-06-07           4504  Midtown East                  1211.0   \n",
       "9147 2007-05-25           4517  Midtown East                   503.0   \n",
       "9160 2007-05-25           4517  Midtown East                  1020.0   \n",
       "9294 2007-05-25           4517  Midtown East                  1131.0   \n",
       "9364 2007-05-25           4517  Midtown East                   597.0   \n",
       "\n",
       "      monthly_real_estate_taxes  minimum_down_payment     doorman  \\\n",
       "13                        575.0                   NaN  FT Doorman   \n",
       "31                        855.0                   0.2  FT Doorman   \n",
       "43                        326.0                   0.1  FT Doorman   \n",
       "55                        799.0                   NaN  FT Doorman   \n",
       "56                        888.0                   NaN  FT Doorman   \n",
       "...                         ...                   ...         ...   \n",
       "9064                      453.0                   NaN         NaN   \n",
       "9147                      250.0                   NaN         NaN   \n",
       "9160                      507.0                   NaN         NaN   \n",
       "9294                      561.0                   NaN         NaN   \n",
       "9364                      223.0                   NaN         NaN   \n",
       "\n",
       "     last_price_change sold_season  days_on_market_1  year  \n",
       "13                 NaN        Fall            3654.0  2019  \n",
       "31                 NaN        Fall            2071.0  2019  \n",
       "43                 NaN        Fall            3706.0  2019  \n",
       "55                 NaN      Summer            1624.0  2019  \n",
       "56                 NaN      Summer            1168.0  2019  \n",
       "...                ...         ...               ...   ...  \n",
       "9064               NaN        Fall            1188.0  2010  \n",
       "9147               NaN      Summer            1161.0  2010  \n",
       "9160               NaN      Summer            1158.0  2010  \n",
       "9294               NaN      Spring            1098.0  2010  \n",
       "9364               NaN      Spring            1070.0  2010  \n",
       "\n",
       "[166 rows x 25 columns]"
      ]
     },
     "execution_count": 85,
     "metadata": {},
     "output_type": "execute_result"
    }
   ],
   "source": [
    "df_drop[df_drop['days_on_market_1'] > 1000]"
   ]
  },
  {
   "cell_type": "code",
   "execution_count": 67,
   "metadata": {
    "hidden": true
   },
   "outputs": [
    {
     "name": "stdout",
     "output_type": "stream",
     "text": [
      "<class 'pandas.core.frame.DataFrame'>\n",
      "RangeIndex: 15003 entries, 0 to 15002\n",
      "Data columns (total 6 columns):\n",
      "full_name         15003 non-null object\n",
      "sold_date_dt      15003 non-null datetime64[ns]\n",
      "listed            7083 non-null datetime64[ns]\n",
      "days_on_market    7083 non-null object\n",
      "days_on_market    7083 non-null float64\n",
      "url               15003 non-null object\n",
      "dtypes: datetime64[ns](2), float64(1), object(3)\n",
      "memory usage: 703.4+ KB\n"
     ]
    }
   ],
   "source": [
    "df_drop[['full_name', 'sold_date_dt', 'listed', 'days_on_market', 'url']].info()"
   ]
  },
  {
   "cell_type": "markdown",
   "metadata": {
    "heading_collapsed": true
   },
   "source": [
    "# EDA"
   ]
  },
  {
   "cell_type": "code",
   "execution_count": 143,
   "metadata": {
    "hidden": true
   },
   "outputs": [],
   "source": [
    "target = ['sold_price']\n",
    "bldg = ['full_name'] #'bldg_name', 'bldg_addr']\n",
    "cont = ['bldg_rating', \n",
    "        'apt_floor',\n",
    "        'square_feet', \n",
    "        'beds', \n",
    "        'baths', \n",
    "        'monthly_common_charges', \n",
    "        'monthly_real_estate_taxes']\n",
    "cat = ['sold_season', 'neighborhood', 'year']\n",
    "model_columns = bldg + cont + cat + target"
   ]
  },
  {
   "cell_type": "code",
   "execution_count": 144,
   "metadata": {
    "hidden": true
   },
   "outputs": [
    {
     "name": "stdout",
     "output_type": "stream",
     "text": [
      "<class 'pandas.core.frame.DataFrame'>\n",
      "RangeIndex: 15003 entries, 0 to 15002\n",
      "Data columns (total 12 columns):\n",
      "full_name                    15003 non-null object\n",
      "bldg_rating                  14392 non-null float64\n",
      "apt_floor                    14978 non-null float64\n",
      "square_feet                  6445 non-null float64\n",
      "beds                         15003 non-null float64\n",
      "baths                        14975 non-null float64\n",
      "monthly_common_charges       7006 non-null float64\n",
      "monthly_real_estate_taxes    6707 non-null float64\n",
      "sold_season                  15003 non-null object\n",
      "neighborhood                 7083 non-null object\n",
      "year                         15003 non-null object\n",
      "sold_price                   15003 non-null float64\n",
      "dtypes: float64(8), object(4)\n",
      "memory usage: 1.4+ MB\n"
     ]
    }
   ],
   "source": [
    "smaller_df = df_drop.loc[:, model_columns]\n",
    "#smaller_df.shape\n",
    "smaller_df.info()"
   ]
  },
  {
   "cell_type": "code",
   "execution_count": 145,
   "metadata": {
    "hidden": true
   },
   "outputs": [],
   "source": [
    "# Drop NAs\n",
    "smaller_df = smaller_df.dropna().reset_index(drop = True)\n",
    "# smaller_df.head()"
   ]
  },
  {
   "cell_type": "code",
   "execution_count": 146,
   "metadata": {
    "hidden": true
   },
   "outputs": [
    {
     "name": "stdout",
     "output_type": "stream",
     "text": [
      "<class 'pandas.core.frame.DataFrame'>\n",
      "RangeIndex: 5049 entries, 0 to 5048\n",
      "Data columns (total 12 columns):\n",
      "full_name                    5049 non-null object\n",
      "bldg_rating                  5049 non-null float64\n",
      "apt_floor                    5049 non-null float64\n",
      "square_feet                  5049 non-null float64\n",
      "beds                         5049 non-null float64\n",
      "baths                        5049 non-null float64\n",
      "monthly_common_charges       5049 non-null float64\n",
      "monthly_real_estate_taxes    5049 non-null float64\n",
      "sold_season                  5049 non-null object\n",
      "neighborhood                 5049 non-null object\n",
      "year                         5049 non-null object\n",
      "sold_price                   5049 non-null float64\n",
      "dtypes: float64(8), object(4)\n",
      "memory usage: 473.5+ KB\n"
     ]
    }
   ],
   "source": [
    "smaller_df.info()"
   ]
  },
  {
   "cell_type": "code",
   "execution_count": 147,
   "metadata": {
    "hidden": true
   },
   "outputs": [
    {
     "data": {
      "text/html": [
       "<div>\n",
       "<style scoped>\n",
       "    .dataframe tbody tr th:only-of-type {\n",
       "        vertical-align: middle;\n",
       "    }\n",
       "\n",
       "    .dataframe tbody tr th {\n",
       "        vertical-align: top;\n",
       "    }\n",
       "\n",
       "    .dataframe thead th {\n",
       "        text-align: right;\n",
       "    }\n",
       "</style>\n",
       "<table border=\"1\" class=\"dataframe\">\n",
       "  <thead>\n",
       "    <tr style=\"text-align: right;\">\n",
       "      <th></th>\n",
       "      <th>bldg_rating</th>\n",
       "      <th>apt_floor</th>\n",
       "      <th>square_feet</th>\n",
       "      <th>beds</th>\n",
       "      <th>baths</th>\n",
       "      <th>monthly_common_charges</th>\n",
       "      <th>monthly_real_estate_taxes</th>\n",
       "      <th>sold_price</th>\n",
       "    </tr>\n",
       "  </thead>\n",
       "  <tbody>\n",
       "    <tr>\n",
       "      <td>count</td>\n",
       "      <td>5049.000000</td>\n",
       "      <td>5049.000000</td>\n",
       "      <td>5049.000000</td>\n",
       "      <td>5049.000000</td>\n",
       "      <td>5049.00000</td>\n",
       "      <td>5049.000000</td>\n",
       "      <td>5049.000000</td>\n",
       "      <td>5.049000e+03</td>\n",
       "    </tr>\n",
       "    <tr>\n",
       "      <td>mean</td>\n",
       "      <td>76.300257</td>\n",
       "      <td>160.894831</td>\n",
       "      <td>960.153694</td>\n",
       "      <td>1.228956</td>\n",
       "      <td>1.51426</td>\n",
       "      <td>1133.735789</td>\n",
       "      <td>938.802931</td>\n",
       "      <td>1.538900e+06</td>\n",
       "    </tr>\n",
       "    <tr>\n",
       "      <td>std</td>\n",
       "      <td>10.694456</td>\n",
       "      <td>622.406380</td>\n",
       "      <td>390.100746</td>\n",
       "      <td>0.678999</td>\n",
       "      <td>0.58159</td>\n",
       "      <td>1192.915130</td>\n",
       "      <td>1228.859152</td>\n",
       "      <td>1.253032e+06</td>\n",
       "    </tr>\n",
       "    <tr>\n",
       "      <td>min</td>\n",
       "      <td>44.000000</td>\n",
       "      <td>1.000000</td>\n",
       "      <td>285.000000</td>\n",
       "      <td>0.000000</td>\n",
       "      <td>1.00000</td>\n",
       "      <td>216.000000</td>\n",
       "      <td>101.000000</td>\n",
       "      <td>1.715180e+05</td>\n",
       "    </tr>\n",
       "    <tr>\n",
       "      <td>25%</td>\n",
       "      <td>70.000000</td>\n",
       "      <td>7.000000</td>\n",
       "      <td>678.000000</td>\n",
       "      <td>1.000000</td>\n",
       "      <td>1.00000</td>\n",
       "      <td>680.000000</td>\n",
       "      <td>516.000000</td>\n",
       "      <td>8.400000e+05</td>\n",
       "    </tr>\n",
       "    <tr>\n",
       "      <td>50%</td>\n",
       "      <td>78.000000</td>\n",
       "      <td>17.000000</td>\n",
       "      <td>884.000000</td>\n",
       "      <td>1.000000</td>\n",
       "      <td>1.50000</td>\n",
       "      <td>917.000000</td>\n",
       "      <td>774.000000</td>\n",
       "      <td>1.200000e+06</td>\n",
       "    </tr>\n",
       "    <tr>\n",
       "      <td>75%</td>\n",
       "      <td>84.000000</td>\n",
       "      <td>32.000000</td>\n",
       "      <td>1185.000000</td>\n",
       "      <td>2.000000</td>\n",
       "      <td>2.00000</td>\n",
       "      <td>1355.000000</td>\n",
       "      <td>1162.000000</td>\n",
       "      <td>1.795000e+06</td>\n",
       "    </tr>\n",
       "    <tr>\n",
       "      <td>max</td>\n",
       "      <td>99.000000</td>\n",
       "      <td>6304.000000</td>\n",
       "      <td>3895.000000</td>\n",
       "      <td>2.000000</td>\n",
       "      <td>3.50000</td>\n",
       "      <td>64560.000000</td>\n",
       "      <td>75980.000000</td>\n",
       "      <td>2.200000e+07</td>\n",
       "    </tr>\n",
       "  </tbody>\n",
       "</table>\n",
       "</div>"
      ],
      "text/plain": [
       "       bldg_rating    apt_floor  square_feet         beds       baths  \\\n",
       "count  5049.000000  5049.000000  5049.000000  5049.000000  5049.00000   \n",
       "mean     76.300257   160.894831   960.153694     1.228956     1.51426   \n",
       "std      10.694456   622.406380   390.100746     0.678999     0.58159   \n",
       "min      44.000000     1.000000   285.000000     0.000000     1.00000   \n",
       "25%      70.000000     7.000000   678.000000     1.000000     1.00000   \n",
       "50%      78.000000    17.000000   884.000000     1.000000     1.50000   \n",
       "75%      84.000000    32.000000  1185.000000     2.000000     2.00000   \n",
       "max      99.000000  6304.000000  3895.000000     2.000000     3.50000   \n",
       "\n",
       "       monthly_common_charges  monthly_real_estate_taxes    sold_price  \n",
       "count             5049.000000                5049.000000  5.049000e+03  \n",
       "mean              1133.735789                 938.802931  1.538900e+06  \n",
       "std               1192.915130                1228.859152  1.253032e+06  \n",
       "min                216.000000                 101.000000  1.715180e+05  \n",
       "25%                680.000000                 516.000000  8.400000e+05  \n",
       "50%                917.000000                 774.000000  1.200000e+06  \n",
       "75%               1355.000000                1162.000000  1.795000e+06  \n",
       "max              64560.000000               75980.000000  2.200000e+07  "
      ]
     },
     "execution_count": 147,
     "metadata": {},
     "output_type": "execute_result"
    }
   ],
   "source": [
    "smaller_df.describe()"
   ]
  },
  {
   "cell_type": "code",
   "execution_count": 101,
   "metadata": {
    "hidden": true
   },
   "outputs": [
    {
     "data": {
      "text/plain": [
       "<seaborn.axisgrid.PairGrid at 0x1a24572320>"
      ]
     },
     "execution_count": 101,
     "metadata": {},
     "output_type": "execute_result"
    },
    {
     "data": {
      "image/png": "[encoded data removed]",
      "text/plain": [
       "<Figure size 1620x1620 with 90 Axes>"
      ]
     },
     "metadata": {
      "needs_background": "light"
     },
     "output_type": "display_data"
    }
   ],
   "source": [
    "sns.pairplot(smaller_df, diag_kind='kde')"
   ]
  },
  {
   "cell_type": "code",
   "execution_count": 102,
   "metadata": {
    "hidden": true
   },
   "outputs": [
    {
     "data": {
      "text/html": [
       "<div>\n",
       "<style scoped>\n",
       "    .dataframe tbody tr th:only-of-type {\n",
       "        vertical-align: middle;\n",
       "    }\n",
       "\n",
       "    .dataframe tbody tr th {\n",
       "        vertical-align: top;\n",
       "    }\n",
       "\n",
       "    .dataframe thead th {\n",
       "        text-align: right;\n",
       "    }\n",
       "</style>\n",
       "<table border=\"1\" class=\"dataframe\">\n",
       "  <thead>\n",
       "    <tr style=\"text-align: right;\">\n",
       "      <th></th>\n",
       "      <th>bldg_rating</th>\n",
       "      <th>apt_floor</th>\n",
       "      <th>square_feet</th>\n",
       "      <th>beds</th>\n",
       "      <th>baths</th>\n",
       "      <th>monthly_common_charges</th>\n",
       "      <th>monthly_real_estate_taxes</th>\n",
       "      <th>sold_price</th>\n",
       "    </tr>\n",
       "  </thead>\n",
       "  <tbody>\n",
       "    <tr>\n",
       "      <td>bldg_rating</td>\n",
       "      <td>1.000000</td>\n",
       "      <td>0.158746</td>\n",
       "      <td>0.318343</td>\n",
       "      <td>0.141038</td>\n",
       "      <td>0.292615</td>\n",
       "      <td>0.242320</td>\n",
       "      <td>0.168298</td>\n",
       "      <td>0.391021</td>\n",
       "    </tr>\n",
       "    <tr>\n",
       "      <td>apt_floor</td>\n",
       "      <td>0.158746</td>\n",
       "      <td>1.000000</td>\n",
       "      <td>0.074298</td>\n",
       "      <td>0.052612</td>\n",
       "      <td>0.098903</td>\n",
       "      <td>0.092237</td>\n",
       "      <td>0.032117</td>\n",
       "      <td>0.102992</td>\n",
       "    </tr>\n",
       "    <tr>\n",
       "      <td>square_feet</td>\n",
       "      <td>0.318343</td>\n",
       "      <td>0.074298</td>\n",
       "      <td>1.000000</td>\n",
       "      <td>0.746346</td>\n",
       "      <td>0.836842</td>\n",
       "      <td>0.436299</td>\n",
       "      <td>0.348755</td>\n",
       "      <td>0.787382</td>\n",
       "    </tr>\n",
       "    <tr>\n",
       "      <td>beds</td>\n",
       "      <td>0.141038</td>\n",
       "      <td>0.052612</td>\n",
       "      <td>0.746346</td>\n",
       "      <td>1.000000</td>\n",
       "      <td>0.765514</td>\n",
       "      <td>0.282735</td>\n",
       "      <td>0.233902</td>\n",
       "      <td>0.481643</td>\n",
       "    </tr>\n",
       "    <tr>\n",
       "      <td>baths</td>\n",
       "      <td>0.292615</td>\n",
       "      <td>0.098903</td>\n",
       "      <td>0.836842</td>\n",
       "      <td>0.765514</td>\n",
       "      <td>1.000000</td>\n",
       "      <td>0.349302</td>\n",
       "      <td>0.275491</td>\n",
       "      <td>0.615625</td>\n",
       "    </tr>\n",
       "    <tr>\n",
       "      <td>monthly_common_charges</td>\n",
       "      <td>0.242320</td>\n",
       "      <td>0.092237</td>\n",
       "      <td>0.436299</td>\n",
       "      <td>0.282735</td>\n",
       "      <td>0.349302</td>\n",
       "      <td>1.000000</td>\n",
       "      <td>0.864796</td>\n",
       "      <td>0.450673</td>\n",
       "    </tr>\n",
       "    <tr>\n",
       "      <td>monthly_real_estate_taxes</td>\n",
       "      <td>0.168298</td>\n",
       "      <td>0.032117</td>\n",
       "      <td>0.348755</td>\n",
       "      <td>0.233902</td>\n",
       "      <td>0.275491</td>\n",
       "      <td>0.864796</td>\n",
       "      <td>1.000000</td>\n",
       "      <td>0.345542</td>\n",
       "    </tr>\n",
       "    <tr>\n",
       "      <td>sold_price</td>\n",
       "      <td>0.391021</td>\n",
       "      <td>0.102992</td>\n",
       "      <td>0.787382</td>\n",
       "      <td>0.481643</td>\n",
       "      <td>0.615625</td>\n",
       "      <td>0.450673</td>\n",
       "      <td>0.345542</td>\n",
       "      <td>1.000000</td>\n",
       "    </tr>\n",
       "  </tbody>\n",
       "</table>\n",
       "</div>"
      ],
      "text/plain": [
       "                           bldg_rating  apt_floor  square_feet      beds  \\\n",
       "bldg_rating                   1.000000   0.158746     0.318343  0.141038   \n",
       "apt_floor                     0.158746   1.000000     0.074298  0.052612   \n",
       "square_feet                   0.318343   0.074298     1.000000  0.746346   \n",
       "beds                          0.141038   0.052612     0.746346  1.000000   \n",
       "baths                         0.292615   0.098903     0.836842  0.765514   \n",
       "monthly_common_charges        0.242320   0.092237     0.436299  0.282735   \n",
       "monthly_real_estate_taxes     0.168298   0.032117     0.348755  0.233902   \n",
       "sold_price                    0.391021   0.102992     0.787382  0.481643   \n",
       "\n",
       "                              baths  monthly_common_charges  \\\n",
       "bldg_rating                0.292615                0.242320   \n",
       "apt_floor                  0.098903                0.092237   \n",
       "square_feet                0.836842                0.436299   \n",
       "beds                       0.765514                0.282735   \n",
       "baths                      1.000000                0.349302   \n",
       "monthly_common_charges     0.349302                1.000000   \n",
       "monthly_real_estate_taxes  0.275491                0.864796   \n",
       "sold_price                 0.615625                0.450673   \n",
       "\n",
       "                           monthly_real_estate_taxes  sold_price  \n",
       "bldg_rating                                 0.168298    0.391021  \n",
       "apt_floor                                   0.032117    0.102992  \n",
       "square_feet                                 0.348755    0.787382  \n",
       "beds                                        0.233902    0.481643  \n",
       "baths                                       0.275491    0.615625  \n",
       "monthly_common_charges                      0.864796    0.450673  \n",
       "monthly_real_estate_taxes                   1.000000    0.345542  \n",
       "sold_price                                  0.345542    1.000000  "
      ]
     },
     "execution_count": 102,
     "metadata": {},
     "output_type": "execute_result"
    }
   ],
   "source": [
    "smaller_df.corr()"
   ]
  },
  {
   "cell_type": "code",
   "execution_count": 167,
   "metadata": {
    "hidden": true
   },
   "outputs": [],
   "source": [
    "# Remove outliers. 21 outliers greater than 8 Million\n",
    "smaller_df_no_out = smaller_df[smaller_df['sold_price'] < 6000000]"
   ]
  },
  {
   "cell_type": "code",
   "execution_count": 168,
   "metadata": {
    "hidden": true
   },
   "outputs": [
    {
     "data": {
      "text/plain": [
       "<matplotlib.axes._subplots.AxesSubplot at 0x1a2399e358>"
      ]
     },
     "execution_count": 168,
     "metadata": {},
     "output_type": "execute_result"
    },
    {
     "data": {
      "image/png": "[encoded data removed]",
      "text/plain": [
       "<Figure size 432x288 with 1 Axes>"
      ]
     },
     "metadata": {
      "needs_background": "light"
     },
     "output_type": "display_data"
    }
   ],
   "source": [
    "sns.distplot(smaller_df['sold_price'] )"
   ]
  },
  {
   "cell_type": "code",
   "execution_count": 169,
   "metadata": {
    "hidden": true
   },
   "outputs": [
    {
     "data": {
      "text/html": [
       "<div>\n",
       "<style scoped>\n",
       "    .dataframe tbody tr th:only-of-type {\n",
       "        vertical-align: middle;\n",
       "    }\n",
       "\n",
       "    .dataframe tbody tr th {\n",
       "        vertical-align: top;\n",
       "    }\n",
       "\n",
       "    .dataframe thead th {\n",
       "        text-align: right;\n",
       "    }\n",
       "</style>\n",
       "<table border=\"1\" class=\"dataframe\">\n",
       "  <thead>\n",
       "    <tr style=\"text-align: right;\">\n",
       "      <th></th>\n",
       "      <th>full_name</th>\n",
       "      <th>bldg_rating</th>\n",
       "      <th>apt_floor</th>\n",
       "      <th>square_feet</th>\n",
       "      <th>beds</th>\n",
       "      <th>baths</th>\n",
       "      <th>monthly_common_charges</th>\n",
       "      <th>monthly_real_estate_taxes</th>\n",
       "      <th>sold_season</th>\n",
       "      <th>neighborhood</th>\n",
       "      <th>year</th>\n",
       "      <th>sold_price</th>\n",
       "    </tr>\n",
       "  </thead>\n",
       "  <tbody>\n",
       "    <tr>\n",
       "      <td>0</td>\n",
       "      <td>The Cosmopolitan, 145 East 48th Street, #25G</td>\n",
       "      <td>78.0</td>\n",
       "      <td>25.0</td>\n",
       "      <td>650.0</td>\n",
       "      <td>1.0</td>\n",
       "      <td>1.0</td>\n",
       "      <td>814.0</td>\n",
       "      <td>948.0</td>\n",
       "      <td>Fall</td>\n",
       "      <td>Midtown East</td>\n",
       "      <td>2019</td>\n",
       "      <td>799000.0</td>\n",
       "    </tr>\n",
       "    <tr>\n",
       "      <td>1</td>\n",
       "      <td>The Orion, 350 West 42nd Street, #21F</td>\n",
       "      <td>79.0</td>\n",
       "      <td>21.0</td>\n",
       "      <td>690.0</td>\n",
       "      <td>1.0</td>\n",
       "      <td>1.0</td>\n",
       "      <td>689.0</td>\n",
       "      <td>1315.0</td>\n",
       "      <td>Fall</td>\n",
       "      <td>Midtown West</td>\n",
       "      <td>2019</td>\n",
       "      <td>1085000.0</td>\n",
       "    </tr>\n",
       "    <tr>\n",
       "      <td>2</td>\n",
       "      <td>Morgan Court, 211 Madison Avenue, #6A</td>\n",
       "      <td>73.0</td>\n",
       "      <td>6.0</td>\n",
       "      <td>1142.0</td>\n",
       "      <td>1.0</td>\n",
       "      <td>1.5</td>\n",
       "      <td>1683.0</td>\n",
       "      <td>1148.0</td>\n",
       "      <td>Fall</td>\n",
       "      <td>Murray Hill</td>\n",
       "      <td>2019</td>\n",
       "      <td>1039000.0</td>\n",
       "    </tr>\n",
       "    <tr>\n",
       "      <td>3</td>\n",
       "      <td>325 Fifth Avenue, #23F</td>\n",
       "      <td>70.0</td>\n",
       "      <td>23.0</td>\n",
       "      <td>688.0</td>\n",
       "      <td>1.0</td>\n",
       "      <td>1.0</td>\n",
       "      <td>810.0</td>\n",
       "      <td>1511.0</td>\n",
       "      <td>Fall</td>\n",
       "      <td>Murray Hill</td>\n",
       "      <td>2019</td>\n",
       "      <td>1080000.0</td>\n",
       "    </tr>\n",
       "    <tr>\n",
       "      <td>4</td>\n",
       "      <td>The Parc Vendome, 350 West 57th Street, #10I</td>\n",
       "      <td>82.0</td>\n",
       "      <td>10.0</td>\n",
       "      <td>1200.0</td>\n",
       "      <td>1.0</td>\n",
       "      <td>1.0</td>\n",
       "      <td>1676.0</td>\n",
       "      <td>1211.0</td>\n",
       "      <td>Fall</td>\n",
       "      <td>Midtown West</td>\n",
       "      <td>2019</td>\n",
       "      <td>1400000.0</td>\n",
       "    </tr>\n",
       "  </tbody>\n",
       "</table>\n",
       "</div>"
      ],
      "text/plain": [
       "                                      full_name  bldg_rating  apt_floor  \\\n",
       "0  The Cosmopolitan, 145 East 48th Street, #25G         78.0       25.0   \n",
       "1         The Orion, 350 West 42nd Street, #21F         79.0       21.0   \n",
       "2         Morgan Court, 211 Madison Avenue, #6A         73.0        6.0   \n",
       "3                        325 Fifth Avenue, #23F         70.0       23.0   \n",
       "4  The Parc Vendome, 350 West 57th Street, #10I         82.0       10.0   \n",
       "\n",
       "   square_feet  beds  baths  monthly_common_charges  \\\n",
       "0        650.0   1.0    1.0                   814.0   \n",
       "1        690.0   1.0    1.0                   689.0   \n",
       "2       1142.0   1.0    1.5                  1683.0   \n",
       "3        688.0   1.0    1.0                   810.0   \n",
       "4       1200.0   1.0    1.0                  1676.0   \n",
       "\n",
       "   monthly_real_estate_taxes sold_season  neighborhood  year  sold_price  \n",
       "0                      948.0        Fall  Midtown East  2019    799000.0  \n",
       "1                     1315.0        Fall  Midtown West  2019   1085000.0  \n",
       "2                     1148.0        Fall   Murray Hill  2019   1039000.0  \n",
       "3                     1511.0        Fall   Murray Hill  2019   1080000.0  \n",
       "4                     1211.0        Fall  Midtown West  2019   1400000.0  "
      ]
     },
     "execution_count": 169,
     "metadata": {},
     "output_type": "execute_result"
    }
   ],
   "source": [
    "smaller_df_no_out.head()"
   ]
  },
  {
   "cell_type": "code",
   "execution_count": 446,
   "metadata": {
    "hidden": true
   },
   "outputs": [
    {
     "data": {
      "text/html": [
       "<div>\n",
       "<style scoped>\n",
       "    .dataframe tbody tr th:only-of-type {\n",
       "        vertical-align: middle;\n",
       "    }\n",
       "\n",
       "    .dataframe tbody tr th {\n",
       "        vertical-align: top;\n",
       "    }\n",
       "\n",
       "    .dataframe thead th {\n",
       "        text-align: right;\n",
       "    }\n",
       "</style>\n",
       "<table border=\"1\" class=\"dataframe\">\n",
       "  <thead>\n",
       "    <tr style=\"text-align: right;\">\n",
       "      <th></th>\n",
       "      <th>bldg_rating</th>\n",
       "      <th>apt_floor</th>\n",
       "      <th>square_feet</th>\n",
       "      <th>beds</th>\n",
       "      <th>baths</th>\n",
       "      <th>monthly_common_charges</th>\n",
       "      <th>monthly_real_estate_taxes</th>\n",
       "      <th>year</th>\n",
       "      <th>sold_price</th>\n",
       "      <th>sold_season_Fall</th>\n",
       "      <th>sold_season_Spring</th>\n",
       "      <th>sold_season_Summer</th>\n",
       "      <th>sold_season_Winter</th>\n",
       "      <th>neighborhood_Beekman/Sutton Place</th>\n",
       "      <th>neighborhood_Midtown East</th>\n",
       "      <th>neighborhood_Midtown West</th>\n",
       "      <th>neighborhood_Murray Hill</th>\n",
       "      <th>neighborhood_Turtle Bay/United Nations</th>\n",
       "    </tr>\n",
       "  </thead>\n",
       "  <tbody>\n",
       "    <tr>\n",
       "      <td>0</td>\n",
       "      <td>78.0</td>\n",
       "      <td>25.0</td>\n",
       "      <td>650.0</td>\n",
       "      <td>1.0</td>\n",
       "      <td>1.0</td>\n",
       "      <td>814.0</td>\n",
       "      <td>948.0</td>\n",
       "      <td>2019</td>\n",
       "      <td>799000.0</td>\n",
       "      <td>1</td>\n",
       "      <td>0</td>\n",
       "      <td>0</td>\n",
       "      <td>0</td>\n",
       "      <td>0</td>\n",
       "      <td>1</td>\n",
       "      <td>0</td>\n",
       "      <td>0</td>\n",
       "      <td>0</td>\n",
       "    </tr>\n",
       "    <tr>\n",
       "      <td>1</td>\n",
       "      <td>79.0</td>\n",
       "      <td>21.0</td>\n",
       "      <td>690.0</td>\n",
       "      <td>1.0</td>\n",
       "      <td>1.0</td>\n",
       "      <td>689.0</td>\n",
       "      <td>1315.0</td>\n",
       "      <td>2019</td>\n",
       "      <td>1085000.0</td>\n",
       "      <td>1</td>\n",
       "      <td>0</td>\n",
       "      <td>0</td>\n",
       "      <td>0</td>\n",
       "      <td>0</td>\n",
       "      <td>0</td>\n",
       "      <td>1</td>\n",
       "      <td>0</td>\n",
       "      <td>0</td>\n",
       "    </tr>\n",
       "    <tr>\n",
       "      <td>2</td>\n",
       "      <td>73.0</td>\n",
       "      <td>6.0</td>\n",
       "      <td>1142.0</td>\n",
       "      <td>1.0</td>\n",
       "      <td>1.5</td>\n",
       "      <td>1683.0</td>\n",
       "      <td>1148.0</td>\n",
       "      <td>2019</td>\n",
       "      <td>1039000.0</td>\n",
       "      <td>1</td>\n",
       "      <td>0</td>\n",
       "      <td>0</td>\n",
       "      <td>0</td>\n",
       "      <td>0</td>\n",
       "      <td>0</td>\n",
       "      <td>0</td>\n",
       "      <td>1</td>\n",
       "      <td>0</td>\n",
       "    </tr>\n",
       "    <tr>\n",
       "      <td>3</td>\n",
       "      <td>70.0</td>\n",
       "      <td>23.0</td>\n",
       "      <td>688.0</td>\n",
       "      <td>1.0</td>\n",
       "      <td>1.0</td>\n",
       "      <td>810.0</td>\n",
       "      <td>1511.0</td>\n",
       "      <td>2019</td>\n",
       "      <td>1080000.0</td>\n",
       "      <td>1</td>\n",
       "      <td>0</td>\n",
       "      <td>0</td>\n",
       "      <td>0</td>\n",
       "      <td>0</td>\n",
       "      <td>0</td>\n",
       "      <td>0</td>\n",
       "      <td>1</td>\n",
       "      <td>0</td>\n",
       "    </tr>\n",
       "    <tr>\n",
       "      <td>4</td>\n",
       "      <td>82.0</td>\n",
       "      <td>10.0</td>\n",
       "      <td>1200.0</td>\n",
       "      <td>1.0</td>\n",
       "      <td>1.0</td>\n",
       "      <td>1676.0</td>\n",
       "      <td>1211.0</td>\n",
       "      <td>2019</td>\n",
       "      <td>1400000.0</td>\n",
       "      <td>1</td>\n",
       "      <td>0</td>\n",
       "      <td>0</td>\n",
       "      <td>0</td>\n",
       "      <td>0</td>\n",
       "      <td>0</td>\n",
       "      <td>1</td>\n",
       "      <td>0</td>\n",
       "      <td>0</td>\n",
       "    </tr>\n",
       "  </tbody>\n",
       "</table>\n",
       "</div>"
      ],
      "text/plain": [
       "   bldg_rating  apt_floor  square_feet  beds  baths  monthly_common_charges  \\\n",
       "0         78.0       25.0        650.0   1.0    1.0                   814.0   \n",
       "1         79.0       21.0        690.0   1.0    1.0                   689.0   \n",
       "2         73.0        6.0       1142.0   1.0    1.5                  1683.0   \n",
       "3         70.0       23.0        688.0   1.0    1.0                   810.0   \n",
       "4         82.0       10.0       1200.0   1.0    1.0                  1676.0   \n",
       "\n",
       "   monthly_real_estate_taxes  year  sold_price  sold_season_Fall  \\\n",
       "0                      948.0  2019    799000.0                 1   \n",
       "1                     1315.0  2019   1085000.0                 1   \n",
       "2                     1148.0  2019   1039000.0                 1   \n",
       "3                     1511.0  2019   1080000.0                 1   \n",
       "4                     1211.0  2019   1400000.0                 1   \n",
       "\n",
       "   sold_season_Spring  sold_season_Summer  sold_season_Winter  \\\n",
       "0                   0                   0                   0   \n",
       "1                   0                   0                   0   \n",
       "2                   0                   0                   0   \n",
       "3                   0                   0                   0   \n",
       "4                   0                   0                   0   \n",
       "\n",
       "   neighborhood_Beekman/Sutton Place  neighborhood_Midtown East  \\\n",
       "0                                  0                          1   \n",
       "1                                  0                          0   \n",
       "2                                  0                          0   \n",
       "3                                  0                          0   \n",
       "4                                  0                          0   \n",
       "\n",
       "   neighborhood_Midtown West  neighborhood_Murray Hill  \\\n",
       "0                          0                         0   \n",
       "1                          1                         0   \n",
       "2                          0                         1   \n",
       "3                          0                         1   \n",
       "4                          1                         0   \n",
       "\n",
       "   neighborhood_Turtle Bay/United Nations  \n",
       "0                                       0  \n",
       "1                                       0  \n",
       "2                                       0  \n",
       "3                                       0  \n",
       "4                                       0  "
      ]
     },
     "execution_count": 446,
     "metadata": {},
     "output_type": "execute_result"
    }
   ],
   "source": [
    "# Get Dummies\n",
    "df_model = pd.get_dummies(smaller_df_no_out.drop('full_name', axis = 1), columns = ['sold_season', 'neighborhood'])\n",
    "\n",
    "# Remove large outliers from sold\n",
    "\n",
    "df_model.head()"
   ]
  },
  {
   "cell_type": "code",
   "execution_count": 448,
   "metadata": {
    "hidden": true
   },
   "outputs": [
    {
     "data": {
      "text/plain": [
       "4988"
      ]
     },
     "execution_count": 448,
     "metadata": {},
     "output_type": "execute_result"
    }
   ],
   "source": [
    "len(df_model)"
   ]
  },
  {
   "cell_type": "code",
   "execution_count": 449,
   "metadata": {
    "hidden": true
   },
   "outputs": [],
   "source": [
    "# Define X values and y values\n",
    "X = df_model.drop('sold_price', axis = 1)\n",
    "y = df_model['sold_price']"
   ]
  },
  {
   "cell_type": "code",
   "execution_count": 450,
   "metadata": {
    "hidden": true
   },
   "outputs": [
    {
     "data": {
      "text/html": [
       "<div>\n",
       "<style scoped>\n",
       "    .dataframe tbody tr th:only-of-type {\n",
       "        vertical-align: middle;\n",
       "    }\n",
       "\n",
       "    .dataframe tbody tr th {\n",
       "        vertical-align: top;\n",
       "    }\n",
       "\n",
       "    .dataframe thead th {\n",
       "        text-align: right;\n",
       "    }\n",
       "</style>\n",
       "<table border=\"1\" class=\"dataframe\">\n",
       "  <thead>\n",
       "    <tr style=\"text-align: right;\">\n",
       "      <th></th>\n",
       "      <th>bldg_rating</th>\n",
       "      <th>apt_floor</th>\n",
       "      <th>square_feet</th>\n",
       "      <th>beds</th>\n",
       "      <th>baths</th>\n",
       "      <th>monthly_common_charges</th>\n",
       "      <th>monthly_real_estate_taxes</th>\n",
       "      <th>year</th>\n",
       "      <th>sold_price</th>\n",
       "      <th>sold_season_Fall</th>\n",
       "      <th>sold_season_Spring</th>\n",
       "      <th>sold_season_Summer</th>\n",
       "      <th>sold_season_Winter</th>\n",
       "      <th>neighborhood_Beekman/Sutton Place</th>\n",
       "      <th>neighborhood_Midtown East</th>\n",
       "      <th>neighborhood_Midtown West</th>\n",
       "      <th>neighborhood_Murray Hill</th>\n",
       "      <th>neighborhood_Turtle Bay/United Nations</th>\n",
       "    </tr>\n",
       "  </thead>\n",
       "  <tbody>\n",
       "    <tr>\n",
       "      <td>0</td>\n",
       "      <td>78.0</td>\n",
       "      <td>25.0</td>\n",
       "      <td>650.0</td>\n",
       "      <td>1.0</td>\n",
       "      <td>1.0</td>\n",
       "      <td>814.0</td>\n",
       "      <td>948.0</td>\n",
       "      <td>2019</td>\n",
       "      <td>799000.0</td>\n",
       "      <td>1</td>\n",
       "      <td>0</td>\n",
       "      <td>0</td>\n",
       "      <td>0</td>\n",
       "      <td>0</td>\n",
       "      <td>1</td>\n",
       "      <td>0</td>\n",
       "      <td>0</td>\n",
       "      <td>0</td>\n",
       "    </tr>\n",
       "    <tr>\n",
       "      <td>1</td>\n",
       "      <td>79.0</td>\n",
       "      <td>21.0</td>\n",
       "      <td>690.0</td>\n",
       "      <td>1.0</td>\n",
       "      <td>1.0</td>\n",
       "      <td>689.0</td>\n",
       "      <td>1315.0</td>\n",
       "      <td>2019</td>\n",
       "      <td>1085000.0</td>\n",
       "      <td>1</td>\n",
       "      <td>0</td>\n",
       "      <td>0</td>\n",
       "      <td>0</td>\n",
       "      <td>0</td>\n",
       "      <td>0</td>\n",
       "      <td>1</td>\n",
       "      <td>0</td>\n",
       "      <td>0</td>\n",
       "    </tr>\n",
       "    <tr>\n",
       "      <td>2</td>\n",
       "      <td>73.0</td>\n",
       "      <td>6.0</td>\n",
       "      <td>1142.0</td>\n",
       "      <td>1.0</td>\n",
       "      <td>1.5</td>\n",
       "      <td>1683.0</td>\n",
       "      <td>1148.0</td>\n",
       "      <td>2019</td>\n",
       "      <td>1039000.0</td>\n",
       "      <td>1</td>\n",
       "      <td>0</td>\n",
       "      <td>0</td>\n",
       "      <td>0</td>\n",
       "      <td>0</td>\n",
       "      <td>0</td>\n",
       "      <td>0</td>\n",
       "      <td>1</td>\n",
       "      <td>0</td>\n",
       "    </tr>\n",
       "    <tr>\n",
       "      <td>3</td>\n",
       "      <td>70.0</td>\n",
       "      <td>23.0</td>\n",
       "      <td>688.0</td>\n",
       "      <td>1.0</td>\n",
       "      <td>1.0</td>\n",
       "      <td>810.0</td>\n",
       "      <td>1511.0</td>\n",
       "      <td>2019</td>\n",
       "      <td>1080000.0</td>\n",
       "      <td>1</td>\n",
       "      <td>0</td>\n",
       "      <td>0</td>\n",
       "      <td>0</td>\n",
       "      <td>0</td>\n",
       "      <td>0</td>\n",
       "      <td>0</td>\n",
       "      <td>1</td>\n",
       "      <td>0</td>\n",
       "    </tr>\n",
       "    <tr>\n",
       "      <td>4</td>\n",
       "      <td>82.0</td>\n",
       "      <td>10.0</td>\n",
       "      <td>1200.0</td>\n",
       "      <td>1.0</td>\n",
       "      <td>1.0</td>\n",
       "      <td>1676.0</td>\n",
       "      <td>1211.0</td>\n",
       "      <td>2019</td>\n",
       "      <td>1400000.0</td>\n",
       "      <td>1</td>\n",
       "      <td>0</td>\n",
       "      <td>0</td>\n",
       "      <td>0</td>\n",
       "      <td>0</td>\n",
       "      <td>0</td>\n",
       "      <td>1</td>\n",
       "      <td>0</td>\n",
       "      <td>0</td>\n",
       "    </tr>\n",
       "  </tbody>\n",
       "</table>\n",
       "</div>"
      ],
      "text/plain": [
       "   bldg_rating  apt_floor  square_feet  beds  baths  monthly_common_charges  \\\n",
       "0         78.0       25.0        650.0   1.0    1.0                   814.0   \n",
       "1         79.0       21.0        690.0   1.0    1.0                   689.0   \n",
       "2         73.0        6.0       1142.0   1.0    1.5                  1683.0   \n",
       "3         70.0       23.0        688.0   1.0    1.0                   810.0   \n",
       "4         82.0       10.0       1200.0   1.0    1.0                  1676.0   \n",
       "\n",
       "   monthly_real_estate_taxes  year  sold_price  sold_season_Fall  \\\n",
       "0                      948.0  2019    799000.0                 1   \n",
       "1                     1315.0  2019   1085000.0                 1   \n",
       "2                     1148.0  2019   1039000.0                 1   \n",
       "3                     1511.0  2019   1080000.0                 1   \n",
       "4                     1211.0  2019   1400000.0                 1   \n",
       "\n",
       "   sold_season_Spring  sold_season_Summer  sold_season_Winter  \\\n",
       "0                   0                   0                   0   \n",
       "1                   0                   0                   0   \n",
       "2                   0                   0                   0   \n",
       "3                   0                   0                   0   \n",
       "4                   0                   0                   0   \n",
       "\n",
       "   neighborhood_Beekman/Sutton Place  neighborhood_Midtown East  \\\n",
       "0                                  0                          1   \n",
       "1                                  0                          0   \n",
       "2                                  0                          0   \n",
       "3                                  0                          0   \n",
       "4                                  0                          0   \n",
       "\n",
       "   neighborhood_Midtown West  neighborhood_Murray Hill  \\\n",
       "0                          0                         0   \n",
       "1                          1                         0   \n",
       "2                          0                         1   \n",
       "3                          0                         1   \n",
       "4                          1                         0   \n",
       "\n",
       "   neighborhood_Turtle Bay/United Nations  \n",
       "0                                       0  \n",
       "1                                       0  \n",
       "2                                       0  \n",
       "3                                       0  \n",
       "4                                       0  "
      ]
     },
     "execution_count": 450,
     "metadata": {},
     "output_type": "execute_result"
    }
   ],
   "source": [
    "df_model.head()"
   ]
  },
  {
   "cell_type": "code",
   "execution_count": 463,
   "metadata": {
    "hidden": true
   },
   "outputs": [],
   "source": [
    "# weird = 10, 14\n",
    "# normal = 11, 12, 13\n",
    "rs = 10"
   ]
  },
  {
   "cell_type": "code",
   "execution_count": 464,
   "metadata": {
    "hidden": true
   },
   "outputs": [],
   "source": [
    "# hold out 20% of the data for final testing\n",
    "X_train, X_test, y_train, y_test = train_test_split(X, y, test_size=.2, random_state= rs)"
   ]
  },
  {
   "cell_type": "code",
   "execution_count": 453,
   "metadata": {
    "hidden": true
   },
   "outputs": [
    {
     "data": {
      "text/plain": [
       "((3990, 17), (3990,))"
      ]
     },
     "execution_count": 453,
     "metadata": {},
     "output_type": "execute_result"
    }
   ],
   "source": [
    "X_train.shape, y_train.shape"
   ]
  },
  {
   "cell_type": "code",
   "execution_count": 454,
   "metadata": {
    "hidden": true
   },
   "outputs": [
    {
     "data": {
      "text/plain": [
       "((998, 17), (998,))"
      ]
     },
     "execution_count": 454,
     "metadata": {},
     "output_type": "execute_result"
    }
   ],
   "source": [
    "X_test.shape, y_test.shape"
   ]
  },
  {
   "cell_type": "markdown",
   "metadata": {
    "heading_collapsed": true
   },
   "source": [
    "# Looking at different random states"
   ]
  },
  {
   "cell_type": "code",
   "execution_count": 404,
   "metadata": {
    "hidden": true
   },
   "outputs": [
    {
     "data": {
      "text/plain": [
       "<matplotlib.axes._subplots.AxesSubplot at 0x1a3310ff60>"
      ]
     },
     "execution_count": 404,
     "metadata": {},
     "output_type": "execute_result"
    },
    {
     "data": {
      "image/png": "[encoded data removed]",
      "text/plain": [
       "<Figure size 432x288 with 1 Axes>"
      ]
     },
     "metadata": {
      "needs_background": "light"
     },
     "output_type": "display_data"
    }
   ],
   "source": [
    "sns.distplot(X['apt_floor'][X['apt_floor'] < 100])"
   ]
  },
  {
   "cell_type": "code",
   "execution_count": 406,
   "metadata": {
    "hidden": true
   },
   "outputs": [
    {
     "data": {
      "text/plain": [
       "<matplotlib.collections.PathCollection at 0x1a33449a58>"
      ]
     },
     "execution_count": 406,
     "metadata": {},
     "output_type": "execute_result"
    },
    {
     "data": {
      "image/png": "[encoded data removed]",
      "text/plain": [
       "<Figure size 432x288 with 1 Axes>"
      ]
     },
     "metadata": {
      "needs_background": "light"
     },
     "output_type": "display_data"
    }
   ],
   "source": [
    "plt.scatter(smaller_df_no_out['apt_floor'][smaller_df_no_out['apt_floor'] < 100], smaller_df_no_out['sold_price'][smaller_df_no_out['apt_floor'] < 100])"
   ]
  },
  {
   "cell_type": "code",
   "execution_count": 355,
   "metadata": {
    "hidden": true
   },
   "outputs": [],
   "source": [
    "rs_10 = 10 #weird\n",
    "rs_14 = 14 #weird\n",
    "rs_11 = 11 #normal\n",
    "X_train10, X_test10, y_train10, y_test10 = train_test_split(X, y, test_size=.2, random_state= rs_10)\n",
    "X_train14, X_test14, y_train14, y_test14 = train_test_split(X, y, test_size=.2, random_state= rs_14)\n",
    "X_train11, X_test11, y_train11, y_test11 = train_test_split(X, y, test_size=.2, random_state= rs_11)"
   ]
  },
  {
   "cell_type": "code",
   "execution_count": 377,
   "metadata": {
    "hidden": true
   },
   "outputs": [
    {
     "data": {
      "text/plain": [
       "Index(['full_name', 'bldg_rating', 'apt_floor', 'square_feet', 'beds', 'baths',\n",
       "       'monthly_common_charges', 'monthly_real_estate_taxes', 'sold_season',\n",
       "       'neighborhood', 'year', 'sold_price'],\n",
       "      dtype='object')"
      ]
     },
     "execution_count": 377,
     "metadata": {},
     "output_type": "execute_result"
    }
   ],
   "source": [
    "smaller_df_no_out.columns"
   ]
  },
  {
   "cell_type": "code",
   "execution_count": 420,
   "metadata": {
    "hidden": true
   },
   "outputs": [
    {
     "data": {
      "text/plain": [
       "1.0    2018\n",
       "2.0     967\n",
       "1.5     515\n",
       "2.5     438\n",
       "3.0      50\n",
       "3.5       2\n",
       "Name: baths, dtype: int64"
      ]
     },
     "execution_count": 420,
     "metadata": {},
     "output_type": "execute_result"
    }
   ],
   "source": [
    "# 14 is weird\n",
    "smaller_df_no_out.loc[list(X_train14.index), :]['baths'].value_counts()\n",
    "#smaller_df_no_out.loc[list(X_train14.index), :]['monthly_common_charges'].mean()"
   ]
  },
  {
   "cell_type": "code",
   "execution_count": 440,
   "metadata": {
    "hidden": true
   },
   "outputs": [
    {
     "data": {
      "text/plain": [
       "Midtown West                 2502\n",
       "Murray Hill                  1168\n",
       "Midtown East                  634\n",
       "Turtle Bay/United Nations     552\n",
       "Beekman/Sutton Place          132\n",
       "Name: neighborhood, dtype: int64"
      ]
     },
     "execution_count": 440,
     "metadata": {},
     "output_type": "execute_result"
    }
   ],
   "source": [
    "smaller_df_no_out['neighborhood'].value_counts()"
   ]
  },
  {
   "cell_type": "code",
   "execution_count": 441,
   "metadata": {
    "hidden": true
   },
   "outputs": [
    {
     "data": {
      "text/plain": [
       "Summer    1484\n",
       "Spring    1196\n",
       "Fall      1158\n",
       "Winter    1150\n",
       "Name: sold_season, dtype: int64"
      ]
     },
     "execution_count": 441,
     "metadata": {},
     "output_type": "execute_result"
    }
   ],
   "source": [
    "smaller_df_no_out['sold_season'].value_counts()"
   ]
  },
  {
   "cell_type": "code",
   "execution_count": 442,
   "metadata": {
    "hidden": true
   },
   "outputs": [
    {
     "data": {
      "text/plain": [
       "2017    658\n",
       "2016    570\n",
       "2015    561\n",
       "2018    549\n",
       "2013    536\n",
       "2014    484\n",
       "2012    455\n",
       "2019    354\n",
       "2011    346\n",
       "2010    292\n",
       "2009    147\n",
       "2008     16\n",
       "2007     10\n",
       "2005      4\n",
       "2006      4\n",
       "2004      2\n",
       "Name: year, dtype: int64"
      ]
     },
     "execution_count": 442,
     "metadata": {},
     "output_type": "execute_result"
    }
   ],
   "source": [
    "smaller_df_no_out['year'].value_counts()"
   ]
  },
  {
   "cell_type": "code",
   "execution_count": 419,
   "metadata": {
    "hidden": true
   },
   "outputs": [
    {
     "data": {
      "text/plain": [
       "1.0    484\n",
       "2.0    247\n",
       "1.5    135\n",
       "2.5    118\n",
       "3.0     13\n",
       "3.5      1\n",
       "Name: baths, dtype: int64"
      ]
     },
     "execution_count": 419,
     "metadata": {},
     "output_type": "execute_result"
    }
   ],
   "source": [
    "smaller_df_no_out.loc[list(X_test14.index), :]['baths'].value_counts()\n",
    "#smaller_df_no_out.loc[list(X_test14.index), :]['monthly_common_charges'].mean()"
   ]
  },
  {
   "cell_type": "code",
   "execution_count": 371,
   "metadata": {
    "hidden": true
   },
   "outputs": [],
   "source": [
    "#smaller_df_no_out.loc[list(X_test14.index), :]['year'].value_counts()"
   ]
  },
  {
   "cell_type": "code",
   "execution_count": 373,
   "metadata": {
    "hidden": true
   },
   "outputs": [],
   "source": [
    "#smaller_df_no_out.loc[list(X_train14.index), :]['sold_season'].value_counts()"
   ]
  },
  {
   "cell_type": "code",
   "execution_count": 418,
   "metadata": {
    "hidden": true
   },
   "outputs": [
    {
     "data": {
      "text/plain": [
       "1.0    1969\n",
       "2.0    1456\n",
       "0.0     565\n",
       "Name: beds, dtype: int64"
      ]
     },
     "execution_count": 418,
     "metadata": {},
     "output_type": "execute_result"
    }
   ],
   "source": [
    "smaller_df_no_out.loc[list(X_train11.index), :]['beds'].value_counts()\n",
    "#smaller_df_no_out.loc[list(X_train11.index), :]['monthly_common_charges'].mean()"
   ]
  },
  {
   "cell_type": "code",
   "execution_count": 417,
   "metadata": {
    "hidden": true
   },
   "outputs": [
    {
     "data": {
      "text/plain": [
       "1.0    483\n",
       "2.0    362\n",
       "0.0    153\n",
       "Name: beds, dtype: int64"
      ]
     },
     "execution_count": 417,
     "metadata": {},
     "output_type": "execute_result"
    }
   ],
   "source": [
    "smaller_df_no_out.loc[list(X_test11.index), :]['beds'].value_counts()"
   ]
  },
  {
   "cell_type": "markdown",
   "metadata": {
    "heading_collapsed": true
   },
   "source": [
    "# Simple Model - 1 Variable"
   ]
  },
  {
   "cell_type": "code",
   "execution_count": 22,
   "metadata": {
    "hidden": true
   },
   "outputs": [],
   "source": [
    "#sns.distplot(df_model['sold_price'][df_model['sold_price'] <10000000])\n",
    "#plt.scatter(df_model['sold_price'])"
   ]
  },
  {
   "cell_type": "code",
   "execution_count": 429,
   "metadata": {
    "hidden": true
   },
   "outputs": [
    {
     "data": {
      "text/plain": [
       "0.6756708541596688"
      ]
     },
     "execution_count": 429,
     "metadata": {},
     "output_type": "execute_result"
    }
   ],
   "source": [
    "column_1 = ['square_feet','monthly_common_charges', 'monthly_real_estate_taxes', 'beds', 'baths', 'apt_floor'] # 'beds', 'baths', \n",
    "one_col_model = LinearRegression()\n",
    "one_col_model.fit(X_train.loc[:, column_1], y_train)\n",
    "one_col_model.score(X_train.loc[:, column_1], y_train)\n",
    "#one_col_model.coef_, one_col_model.intercept_"
   ]
  },
  {
   "cell_type": "code",
   "execution_count": 430,
   "metadata": {
    "hidden": true
   },
   "outputs": [
    {
     "data": {
      "text/plain": [
       "0.6721261231371783"
      ]
     },
     "execution_count": 430,
     "metadata": {},
     "output_type": "execute_result"
    }
   ],
   "source": [
    "one_col_model.score(X_test.loc[:, column_1],y_test)"
   ]
  },
  {
   "cell_type": "code",
   "execution_count": 432,
   "metadata": {
    "hidden": true
   },
   "outputs": [
    {
     "ename": "TypeError",
     "evalue": "estimator should be an estimator implementing 'fit' method,       square_feet  monthly_common_charges  monthly_real_estate_taxes  beds  \\\n3080        663.0                   663.0                      422.0   1.0   \n3214        840.0                  1101.0                      591.0   1.0   \n1631        991.0                  1289.0                      783.0   1.0   \n2453       1040.0                  1475.0                     1317.0   2.0   \n3479       1250.0                  1767.0                     1046.0   2.0   \n...           ...                     ...                        ...   ...   \n336        1970.0                  3278.0                     3164.0   2.0   \n1317        763.0                   607.0                      791.0   1.0   \n4077        675.0                   618.0                      595.0   1.0   \n3825        622.0                   447.0                      440.0   1.0   \n1973        958.0                   751.0                      561.0   1.0   \n\n      baths  apt_floor  \n3080    1.0        6.0  \n3214    1.5       15.0  \n1631    1.5        3.0  \n2453    2.0       35.0  \n3479    2.0        6.0  \n...     ...        ...  \n336     2.5       17.0  \n1317    1.0       35.0  \n4077    1.0        8.0  \n3825    1.0        6.0  \n1973    1.5       23.0  \n\n[3990 rows x 6 columns] was passed",
     "output_type": "error",
     "traceback": [
      "\u001b[0;31m---------------------------------------------------------------------------\u001b[0m",
      "\u001b[0;31mTypeError\u001b[0m                                 Traceback (most recent call last)",
      "\u001b[0;32m<ipython-input-432-55b67f10635c>\u001b[0m in \u001b[0;36m<module>\u001b[0;34m\u001b[0m\n\u001b[0;32m----> 1\u001b[0;31m \u001b[0mcross_val_score\u001b[0m\u001b[0;34m(\u001b[0m\u001b[0mX_train\u001b[0m\u001b[0;34m.\u001b[0m\u001b[0mloc\u001b[0m\u001b[0;34m[\u001b[0m\u001b[0;34m:\u001b[0m\u001b[0;34m,\u001b[0m \u001b[0mcolumn_1\u001b[0m\u001b[0;34m]\u001b[0m\u001b[0;34m,\u001b[0m \u001b[0my_train\u001b[0m\u001b[0;34m,\u001b[0m \u001b[0mcv\u001b[0m \u001b[0;34m=\u001b[0m \u001b[0;36m5\u001b[0m\u001b[0;34m,\u001b[0m \u001b[0mscoring\u001b[0m \u001b[0;34m=\u001b[0m \u001b[0;34m'r2'\u001b[0m\u001b[0;34m)\u001b[0m\u001b[0;34m\u001b[0m\u001b[0;34m\u001b[0m\u001b[0m\n\u001b[0m",
      "\u001b[0;32m/anaconda3/lib/python3.6/site-packages/sklearn/model_selection/_validation.py\u001b[0m in \u001b[0;36mcross_val_score\u001b[0;34m(estimator, X, y, groups, scoring, cv, n_jobs, verbose, fit_params, pre_dispatch, error_score)\u001b[0m\n\u001b[1;32m    380\u001b[0m     \"\"\"\n\u001b[1;32m    381\u001b[0m     \u001b[0;31m# To ensure multimetric format is not supported\u001b[0m\u001b[0;34m\u001b[0m\u001b[0;34m\u001b[0m\u001b[0;34m\u001b[0m\u001b[0m\n\u001b[0;32m--> 382\u001b[0;31m     \u001b[0mscorer\u001b[0m \u001b[0;34m=\u001b[0m \u001b[0mcheck_scoring\u001b[0m\u001b[0;34m(\u001b[0m\u001b[0mestimator\u001b[0m\u001b[0;34m,\u001b[0m \u001b[0mscoring\u001b[0m\u001b[0;34m=\u001b[0m\u001b[0mscoring\u001b[0m\u001b[0;34m)\u001b[0m\u001b[0;34m\u001b[0m\u001b[0;34m\u001b[0m\u001b[0m\n\u001b[0m\u001b[1;32m    383\u001b[0m \u001b[0;34m\u001b[0m\u001b[0m\n\u001b[1;32m    384\u001b[0m     cv_results = cross_validate(estimator=estimator, X=X, y=y, groups=groups,\n",
      "\u001b[0;32m/anaconda3/lib/python3.6/site-packages/sklearn/metrics/scorer.py\u001b[0m in \u001b[0;36mcheck_scoring\u001b[0;34m(estimator, scoring, allow_none)\u001b[0m\n\u001b[1;32m    268\u001b[0m     \u001b[0;32mif\u001b[0m \u001b[0;32mnot\u001b[0m \u001b[0mhasattr\u001b[0m\u001b[0;34m(\u001b[0m\u001b[0mestimator\u001b[0m\u001b[0;34m,\u001b[0m \u001b[0;34m'fit'\u001b[0m\u001b[0;34m)\u001b[0m\u001b[0;34m:\u001b[0m\u001b[0;34m\u001b[0m\u001b[0;34m\u001b[0m\u001b[0m\n\u001b[1;32m    269\u001b[0m         raise TypeError(\"estimator should be an estimator implementing \"\n\u001b[0;32m--> 270\u001b[0;31m                         \"'fit' method, %r was passed\" % estimator)\n\u001b[0m\u001b[1;32m    271\u001b[0m     \u001b[0;32mif\u001b[0m \u001b[0misinstance\u001b[0m\u001b[0;34m(\u001b[0m\u001b[0mscoring\u001b[0m\u001b[0;34m,\u001b[0m \u001b[0mstr\u001b[0m\u001b[0;34m)\u001b[0m\u001b[0;34m:\u001b[0m\u001b[0;34m\u001b[0m\u001b[0;34m\u001b[0m\u001b[0m\n\u001b[1;32m    272\u001b[0m         \u001b[0;32mreturn\u001b[0m \u001b[0mget_scorer\u001b[0m\u001b[0;34m(\u001b[0m\u001b[0mscoring\u001b[0m\u001b[0;34m)\u001b[0m\u001b[0;34m\u001b[0m\u001b[0;34m\u001b[0m\u001b[0m\n",
      "\u001b[0;31mTypeError\u001b[0m: estimator should be an estimator implementing 'fit' method,       square_feet  monthly_common_charges  monthly_real_estate_taxes  beds  \\\n3080        663.0                   663.0                      422.0   1.0   \n3214        840.0                  1101.0                      591.0   1.0   \n1631        991.0                  1289.0                      783.0   1.0   \n2453       1040.0                  1475.0                     1317.0   2.0   \n3479       1250.0                  1767.0                     1046.0   2.0   \n...           ...                     ...                        ...   ...   \n336        1970.0                  3278.0                     3164.0   2.0   \n1317        763.0                   607.0                      791.0   1.0   \n4077        675.0                   618.0                      595.0   1.0   \n3825        622.0                   447.0                      440.0   1.0   \n1973        958.0                   751.0                      561.0   1.0   \n\n      baths  apt_floor  \n3080    1.0        6.0  \n3214    1.5       15.0  \n1631    1.5        3.0  \n2453    2.0       35.0  \n3479    2.0        6.0  \n...     ...        ...  \n336     2.5       17.0  \n1317    1.0       35.0  \n4077    1.0        8.0  \n3825    1.0        6.0  \n1973    1.5       23.0  \n\n[3990 rows x 6 columns] was passed"
     ]
    }
   ],
   "source": [
    "cross_val_score(X_train.loc[:, column_1], y_train, cv = 5, scoring = 'r2')"
   ]
  },
  {
   "cell_type": "markdown",
   "metadata": {
    "heading_collapsed": true
   },
   "source": [
    "# Comparing Simple Models"
   ]
  },
  {
   "cell_type": "code",
   "execution_count": 178,
   "metadata": {
    "hidden": true
   },
   "outputs": [],
   "source": [
    "from sklearn.model_selection import cross_val_score\n",
    "from sklearn.model_selection import KFold"
   ]
  },
  {
   "cell_type": "code",
   "execution_count": 465,
   "metadata": {
    "hidden": true
   },
   "outputs": [],
   "source": [
    "# Models\n",
    "\n",
    "lm = LinearRegression()\n",
    "lm_reg = Ridge(alpha = 10)\n",
    "\n",
    "kf = KFold(n_splits=20, shuffle=True, random_state = 1001)"
   ]
  },
  {
   "cell_type": "code",
   "execution_count": 466,
   "metadata": {
    "hidden": true
   },
   "outputs": [
    {
     "name": "stdout",
     "output_type": "stream",
     "text": [
      "[0.7973052  0.75179733 0.73634191 0.76862131 0.75733443 0.77316519\n",
      " 0.73464122 0.77363831 0.6977092  0.77835272 0.77746498 0.75889589\n",
      " 0.79581168 0.6930534  0.73010122 0.72104875 0.58277109 0.69589616\n",
      " 0.74246858 0.77195774]\n"
     ]
    }
   ],
   "source": [
    "# Linear Regression\n",
    "np.mean(cross_val_score(lm, X_train, y_train, # estimator, features, target\n",
    "                cv=kf, # number of folds \n",
    "                scoring='r2')) # scoring metric\n",
    "print(cross_val_score(lm, X_train, y_train, # estimator, features, target\n",
    "                cv=kf, # number of folds \n",
    "                scoring='r2'))"
   ]
  },
  {
   "cell_type": "code",
   "execution_count": 467,
   "metadata": {
    "hidden": true
   },
   "outputs": [
    {
     "name": "stdout",
     "output_type": "stream",
     "text": [
      "[0.79728381 0.75165338 0.73637491 0.76861202 0.75762701 0.77297167\n",
      " 0.73481525 0.77374124 0.69779181 0.77849162 0.77758538 0.75904774\n",
      " 0.79585024 0.69314244 0.72986633 0.72133759 0.58241616 0.69557355\n",
      " 0.74246255 0.77197944]\n"
     ]
    }
   ],
   "source": [
    "# Ridge Regression\n",
    "np.mean(cross_val_score(lm_reg, X_train, y_train, # estimator, features, target\n",
    "                cv=kf, # number of folds \n",
    "                scoring='r2')) # scoring metric\n",
    "print(cross_val_score(lm_reg, X_train, y_train, # estimator, features, target\n",
    "                cv=kf, # number of folds \n",
    "                scoring='r2'))"
   ]
  },
  {
   "cell_type": "code",
   "execution_count": 468,
   "metadata": {
    "hidden": true
   },
   "outputs": [
    {
     "name": "stdout",
     "output_type": "stream",
     "text": [
      "Train Score:  0.7485974602971146\n",
      "Test Score:  0.10297132300069123\n"
     ]
    }
   ],
   "source": [
    "# Linear Regression. Compare Train and Test\n",
    "lm.fit(X_train, y_train)\n",
    "print(\"Train Score: \", lm.score(X_train, y_train))\n",
    "print(\"Test Score: \", lm.score(X_test, y_test))"
   ]
  },
  {
   "cell_type": "code",
   "execution_count": 469,
   "metadata": {
    "hidden": true
   },
   "outputs": [
    {
     "name": "stdout",
     "output_type": "stream",
     "text": [
      "Train Score:  0.7485878846708134\n",
      "Test Score:  0.10151475549099209\n"
     ]
    }
   ],
   "source": [
    "# Ridge Regression. Compare Train and Test\n",
    "lm_reg.fit(X_train, y_train)\n",
    "print(\"Train Score: \", lm_reg.score(X_train, y_train))\n",
    "print(\"Test Score: \", lm_reg.score(X_test, y_test))"
   ]
  },
  {
   "cell_type": "markdown",
   "metadata": {},
   "source": [
    "# Ridge Regression with Standard Scaler"
   ]
  },
  {
   "cell_type": "code",
   "execution_count": 288,
   "metadata": {},
   "outputs": [
    {
     "data": {
      "text/html": [
       "<div>\n",
       "<style scoped>\n",
       "    .dataframe tbody tr th:only-of-type {\n",
       "        vertical-align: middle;\n",
       "    }\n",
       "\n",
       "    .dataframe tbody tr th {\n",
       "        vertical-align: top;\n",
       "    }\n",
       "\n",
       "    .dataframe thead th {\n",
       "        text-align: right;\n",
       "    }\n",
       "</style>\n",
       "<table border=\"1\" class=\"dataframe\">\n",
       "  <thead>\n",
       "    <tr style=\"text-align: right;\">\n",
       "      <th></th>\n",
       "      <th>bldg_rating</th>\n",
       "      <th>apt_floor</th>\n",
       "      <th>square_feet</th>\n",
       "      <th>beds</th>\n",
       "      <th>baths</th>\n",
       "      <th>monthly_common_charges</th>\n",
       "      <th>monthly_real_estate_taxes</th>\n",
       "      <th>sold_season_Fall</th>\n",
       "      <th>sold_season_Spring</th>\n",
       "      <th>sold_season_Summer</th>\n",
       "      <th>sold_season_Winter</th>\n",
       "      <th>neighborhood_Beekman/Sutton Place</th>\n",
       "      <th>neighborhood_Midtown East</th>\n",
       "      <th>neighborhood_Midtown West</th>\n",
       "      <th>neighborhood_Murray Hill</th>\n",
       "      <th>neighborhood_Turtle Bay/United Nations</th>\n",
       "      <th>year_2004</th>\n",
       "      <th>year_2005</th>\n",
       "      <th>year_2006</th>\n",
       "      <th>year_2007</th>\n",
       "      <th>year_2008</th>\n",
       "      <th>year_2009</th>\n",
       "      <th>year_2010</th>\n",
       "      <th>year_2011</th>\n",
       "      <th>year_2012</th>\n",
       "      <th>year_2013</th>\n",
       "      <th>year_2014</th>\n",
       "      <th>year_2015</th>\n",
       "      <th>year_2016</th>\n",
       "      <th>year_2017</th>\n",
       "      <th>year_2018</th>\n",
       "      <th>year_2019</th>\n",
       "    </tr>\n",
       "  </thead>\n",
       "  <tbody>\n",
       "    <tr>\n",
       "      <td>3080</td>\n",
       "      <td>79.0</td>\n",
       "      <td>6.0</td>\n",
       "      <td>663.0</td>\n",
       "      <td>1.0</td>\n",
       "      <td>1.0</td>\n",
       "      <td>663.0</td>\n",
       "      <td>422.0</td>\n",
       "      <td>0</td>\n",
       "      <td>1</td>\n",
       "      <td>0</td>\n",
       "      <td>0</td>\n",
       "      <td>0</td>\n",
       "      <td>0</td>\n",
       "      <td>1</td>\n",
       "      <td>0</td>\n",
       "      <td>0</td>\n",
       "      <td>0</td>\n",
       "      <td>0</td>\n",
       "      <td>0</td>\n",
       "      <td>0</td>\n",
       "      <td>0</td>\n",
       "      <td>0</td>\n",
       "      <td>0</td>\n",
       "      <td>0</td>\n",
       "      <td>0</td>\n",
       "      <td>0</td>\n",
       "      <td>1</td>\n",
       "      <td>0</td>\n",
       "      <td>0</td>\n",
       "      <td>0</td>\n",
       "      <td>0</td>\n",
       "      <td>0</td>\n",
       "    </tr>\n",
       "    <tr>\n",
       "      <td>3214</td>\n",
       "      <td>78.0</td>\n",
       "      <td>15.0</td>\n",
       "      <td>840.0</td>\n",
       "      <td>1.0</td>\n",
       "      <td>1.5</td>\n",
       "      <td>1101.0</td>\n",
       "      <td>591.0</td>\n",
       "      <td>0</td>\n",
       "      <td>0</td>\n",
       "      <td>0</td>\n",
       "      <td>1</td>\n",
       "      <td>0</td>\n",
       "      <td>0</td>\n",
       "      <td>1</td>\n",
       "      <td>0</td>\n",
       "      <td>0</td>\n",
       "      <td>0</td>\n",
       "      <td>0</td>\n",
       "      <td>0</td>\n",
       "      <td>0</td>\n",
       "      <td>0</td>\n",
       "      <td>0</td>\n",
       "      <td>0</td>\n",
       "      <td>0</td>\n",
       "      <td>0</td>\n",
       "      <td>0</td>\n",
       "      <td>1</td>\n",
       "      <td>0</td>\n",
       "      <td>0</td>\n",
       "      <td>0</td>\n",
       "      <td>0</td>\n",
       "      <td>0</td>\n",
       "    </tr>\n",
       "    <tr>\n",
       "      <td>1631</td>\n",
       "      <td>90.0</td>\n",
       "      <td>3.0</td>\n",
       "      <td>991.0</td>\n",
       "      <td>1.0</td>\n",
       "      <td>1.5</td>\n",
       "      <td>1289.0</td>\n",
       "      <td>783.0</td>\n",
       "      <td>0</td>\n",
       "      <td>0</td>\n",
       "      <td>0</td>\n",
       "      <td>1</td>\n",
       "      <td>1</td>\n",
       "      <td>0</td>\n",
       "      <td>0</td>\n",
       "      <td>0</td>\n",
       "      <td>0</td>\n",
       "      <td>0</td>\n",
       "      <td>0</td>\n",
       "      <td>0</td>\n",
       "      <td>0</td>\n",
       "      <td>0</td>\n",
       "      <td>0</td>\n",
       "      <td>0</td>\n",
       "      <td>0</td>\n",
       "      <td>0</td>\n",
       "      <td>0</td>\n",
       "      <td>0</td>\n",
       "      <td>0</td>\n",
       "      <td>1</td>\n",
       "      <td>0</td>\n",
       "      <td>0</td>\n",
       "      <td>0</td>\n",
       "    </tr>\n",
       "    <tr>\n",
       "      <td>2453</td>\n",
       "      <td>64.0</td>\n",
       "      <td>35.0</td>\n",
       "      <td>1040.0</td>\n",
       "      <td>2.0</td>\n",
       "      <td>2.0</td>\n",
       "      <td>1475.0</td>\n",
       "      <td>1317.0</td>\n",
       "      <td>0</td>\n",
       "      <td>0</td>\n",
       "      <td>1</td>\n",
       "      <td>0</td>\n",
       "      <td>0</td>\n",
       "      <td>0</td>\n",
       "      <td>0</td>\n",
       "      <td>0</td>\n",
       "      <td>1</td>\n",
       "      <td>0</td>\n",
       "      <td>0</td>\n",
       "      <td>0</td>\n",
       "      <td>0</td>\n",
       "      <td>0</td>\n",
       "      <td>0</td>\n",
       "      <td>0</td>\n",
       "      <td>0</td>\n",
       "      <td>0</td>\n",
       "      <td>0</td>\n",
       "      <td>0</td>\n",
       "      <td>1</td>\n",
       "      <td>0</td>\n",
       "      <td>0</td>\n",
       "      <td>0</td>\n",
       "      <td>0</td>\n",
       "    </tr>\n",
       "    <tr>\n",
       "      <td>3479</td>\n",
       "      <td>65.0</td>\n",
       "      <td>6.0</td>\n",
       "      <td>1250.0</td>\n",
       "      <td>2.0</td>\n",
       "      <td>2.0</td>\n",
       "      <td>1767.0</td>\n",
       "      <td>1046.0</td>\n",
       "      <td>0</td>\n",
       "      <td>0</td>\n",
       "      <td>1</td>\n",
       "      <td>0</td>\n",
       "      <td>0</td>\n",
       "      <td>0</td>\n",
       "      <td>1</td>\n",
       "      <td>0</td>\n",
       "      <td>0</td>\n",
       "      <td>0</td>\n",
       "      <td>0</td>\n",
       "      <td>0</td>\n",
       "      <td>0</td>\n",
       "      <td>0</td>\n",
       "      <td>0</td>\n",
       "      <td>0</td>\n",
       "      <td>0</td>\n",
       "      <td>0</td>\n",
       "      <td>1</td>\n",
       "      <td>0</td>\n",
       "      <td>0</td>\n",
       "      <td>0</td>\n",
       "      <td>0</td>\n",
       "      <td>0</td>\n",
       "      <td>0</td>\n",
       "    </tr>\n",
       "  </tbody>\n",
       "</table>\n",
       "</div>"
      ],
      "text/plain": [
       "      bldg_rating  apt_floor  square_feet  beds  baths  \\\n",
       "3080         79.0        6.0        663.0   1.0    1.0   \n",
       "3214         78.0       15.0        840.0   1.0    1.5   \n",
       "1631         90.0        3.0        991.0   1.0    1.5   \n",
       "2453         64.0       35.0       1040.0   2.0    2.0   \n",
       "3479         65.0        6.0       1250.0   2.0    2.0   \n",
       "\n",
       "      monthly_common_charges  monthly_real_estate_taxes  sold_season_Fall  \\\n",
       "3080                   663.0                      422.0                 0   \n",
       "3214                  1101.0                      591.0                 0   \n",
       "1631                  1289.0                      783.0                 0   \n",
       "2453                  1475.0                     1317.0                 0   \n",
       "3479                  1767.0                     1046.0                 0   \n",
       "\n",
       "      sold_season_Spring  sold_season_Summer  sold_season_Winter  \\\n",
       "3080                   1                   0                   0   \n",
       "3214                   0                   0                   1   \n",
       "1631                   0                   0                   1   \n",
       "2453                   0                   1                   0   \n",
       "3479                   0                   1                   0   \n",
       "\n",
       "      neighborhood_Beekman/Sutton Place  neighborhood_Midtown East  \\\n",
       "3080                                  0                          0   \n",
       "3214                                  0                          0   \n",
       "1631                                  1                          0   \n",
       "2453                                  0                          0   \n",
       "3479                                  0                          0   \n",
       "\n",
       "      neighborhood_Midtown West  neighborhood_Murray Hill  \\\n",
       "3080                          1                         0   \n",
       "3214                          1                         0   \n",
       "1631                          0                         0   \n",
       "2453                          0                         0   \n",
       "3479                          1                         0   \n",
       "\n",
       "      neighborhood_Turtle Bay/United Nations  year_2004  year_2005  year_2006  \\\n",
       "3080                                       0          0          0          0   \n",
       "3214                                       0          0          0          0   \n",
       "1631                                       0          0          0          0   \n",
       "2453                                       1          0          0          0   \n",
       "3479                                       0          0          0          0   \n",
       "\n",
       "      year_2007  year_2008  year_2009  year_2010  year_2011  year_2012  \\\n",
       "3080          0          0          0          0          0          0   \n",
       "3214          0          0          0          0          0          0   \n",
       "1631          0          0          0          0          0          0   \n",
       "2453          0          0          0          0          0          0   \n",
       "3479          0          0          0          0          0          0   \n",
       "\n",
       "      year_2013  year_2014  year_2015  year_2016  year_2017  year_2018  \\\n",
       "3080          0          1          0          0          0          0   \n",
       "3214          0          1          0          0          0          0   \n",
       "1631          0          0          0          1          0          0   \n",
       "2453          0          0          1          0          0          0   \n",
       "3479          1          0          0          0          0          0   \n",
       "\n",
       "      year_2019  \n",
       "3080          0  \n",
       "3214          0  \n",
       "1631          0  \n",
       "2453          0  \n",
       "3479          0  "
      ]
     },
     "execution_count": 288,
     "metadata": {},
     "output_type": "execute_result"
    }
   ],
   "source": [
    "X_train.head()"
   ]
  },
  {
   "cell_type": "code",
   "execution_count": 470,
   "metadata": {},
   "outputs": [],
   "source": [
    "# Scale Training data and Transform testing data\n",
    "scaler = StandardScaler()\n",
    "X_train_scaled = scaler.fit_transform(X_train)\n",
    "X_test_scaled = scaler.transform(X_test)"
   ]
  },
  {
   "cell_type": "code",
   "execution_count": 471,
   "metadata": {},
   "outputs": [
    {
     "data": {
      "text/plain": [
       "0.7418918525647394"
      ]
     },
     "execution_count": 471,
     "metadata": {},
     "output_type": "execute_result"
    }
   ],
   "source": [
    "# Run Cross Validation on Ridge Regression with scaled features. It is similar to simple models\n",
    "np.mean(cross_val_score(lm_reg, X_train_scaled, y_train, cv=kf, scoring = 'r2'))"
   ]
  },
  {
   "cell_type": "code",
   "execution_count": 483,
   "metadata": {},
   "outputs": [
    {
     "name": "stdout",
     "output_type": "stream",
     "text": [
      "0.7485973317272582\n",
      "0.10116295371372241\n"
     ]
    }
   ],
   "source": [
    "# Ridge Regression\n",
    "lm_reg = Ridge(alpha=1)\n",
    "lm_reg.fit(X_train_scaled, y_train)\n",
    "print(lm_reg.score(X_train_scaled, y_train))\n",
    "print(lm_reg.score(X_test_scaled, y_test))"
   ]
  },
  {
   "cell_type": "code",
   "execution_count": 479,
   "metadata": {},
   "outputs": [
    {
     "name": "stdout",
     "output_type": "stream",
     "text": [
      "Trained Score:  0.7485972498954097\n",
      "Test Score:  0.10263986941005132\n"
     ]
    },
    {
     "name": "stderr",
     "output_type": "stream",
     "text": [
      "/anaconda3/lib/python3.6/site-packages/sklearn/linear_model/coordinate_descent.py:475: ConvergenceWarning: Objective did not converge. You might want to increase the number of iterations. Duality gap: 1736646190708.75, tolerance: 334837332071.4781\n",
      "  positive)\n"
     ]
    }
   ],
   "source": [
    "from sklearn.linear_model import LassoCV\n",
    "from sklearn import linear_model\n",
    "#lasso_model = LassoCV()\n",
    "lasso_model_2 = linear_model.Lasso(alpha = 100)\n",
    "#lasso_model_3 = linear_model.Lasso(alpha = 1000)\n",
    "lasso_model_2.fit(X_train_scaled, y_train)\n",
    "print(\"Trained Score: \", lasso_model_2.score(X_train_scaled, y_train))\n",
    "print(\"Test Score: \", lasso_model_2.score(X_test_scaled, y_test))"
   ]
  },
  {
   "cell_type": "code",
   "execution_count": 489,
   "metadata": {},
   "outputs": [
    {
     "name": "stderr",
     "output_type": "stream",
     "text": [
      "/anaconda3/lib/python3.6/site-packages/sklearn/linear_model/coordinate_descent.py:475: ConvergenceWarning: Objective did not converge. You might want to increase the number of iterations. Duality gap: 1736646190708.75, tolerance: 334837332071.4781\n",
      "  positive)\n"
     ]
    }
   ],
   "source": [
    "lasso_model_2.fit(X_train_scaled,y_train)\n",
    "pred = lasso_model_2.predict(X_test_scaled)"
   ]
  },
  {
   "cell_type": "code",
   "execution_count": 490,
   "metadata": {},
   "outputs": [
    {
     "data": {
      "text/plain": [
       "Text(0, 0.5, 'residuals')"
      ]
     },
     "execution_count": 490,
     "metadata": {},
     "output_type": "execute_result"
    },
    {
     "data": {
      "image/png": "[encoded data removed]",
      "text/plain": [
       "<Figure size 432x288 with 1 Axes>"
      ]
     },
     "metadata": {
      "needs_background": "light"
     },
     "output_type": "display_data"
    }
   ],
   "source": [
    "# Plot residuals\n",
    "res = y_test - pred\n",
    "plt.scatter(pred, res)\n",
    "plt.title(\"Residual plot\")\n",
    "plt.xlabel(\"prediction\")\n",
    "plt.ylabel(\"residuals\")"
   ]
  },
  {
   "cell_type": "code",
   "execution_count": 480,
   "metadata": {},
   "outputs": [
    {
     "name": "stderr",
     "output_type": "stream",
     "text": [
      "/anaconda3/lib/python3.6/site-packages/sklearn/linear_model/coordinate_descent.py:475: ConvergenceWarning: Objective did not converge. You might want to increase the number of iterations. Duality gap: 1682939074481.375, tolerance: 317027833890.67053\n",
      "  positive)\n",
      "/anaconda3/lib/python3.6/site-packages/sklearn/linear_model/coordinate_descent.py:475: ConvergenceWarning: Objective did not converge. You might want to increase the number of iterations. Duality gap: 1635268016225.0, tolerance: 317756269905.60944\n",
      "  positive)\n",
      "/anaconda3/lib/python3.6/site-packages/sklearn/linear_model/coordinate_descent.py:475: ConvergenceWarning: Objective did not converge. You might want to increase the number of iterations. Duality gap: 1654405461914.375, tolerance: 319540621283.91016\n",
      "  positive)\n",
      "/anaconda3/lib/python3.6/site-packages/sklearn/linear_model/coordinate_descent.py:475: ConvergenceWarning: Objective did not converge. You might want to increase the number of iterations. Duality gap: 1652095743722.625, tolerance: 317712458912.70734\n",
      "  positive)\n",
      "/anaconda3/lib/python3.6/site-packages/sklearn/linear_model/coordinate_descent.py:475: ConvergenceWarning: Objective did not converge. You might want to increase the number of iterations. Duality gap: 1636372777525.75, tolerance: 317612743736.0772\n",
      "  positive)\n",
      "/anaconda3/lib/python3.6/site-packages/sklearn/linear_model/coordinate_descent.py:475: ConvergenceWarning: Objective did not converge. You might want to increase the number of iterations. Duality gap: 1650803315796.5, tolerance: 317566599029.3025\n",
      "  positive)\n",
      "/anaconda3/lib/python3.6/site-packages/sklearn/linear_model/coordinate_descent.py:475: ConvergenceWarning: Objective did not converge. You might want to increase the number of iterations. Duality gap: 1656899283168.375, tolerance: 321568622570.779\n",
      "  positive)\n",
      "/anaconda3/lib/python3.6/site-packages/sklearn/linear_model/coordinate_descent.py:475: ConvergenceWarning: Objective did not converge. You might want to increase the number of iterations. Duality gap: 1669345777435.125, tolerance: 317845946263.1161\n",
      "  positive)\n",
      "/anaconda3/lib/python3.6/site-packages/sklearn/linear_model/coordinate_descent.py:475: ConvergenceWarning: Objective did not converge. You might want to increase the number of iterations. Duality gap: 1648836001970.5, tolerance: 319713954116.24274\n",
      "  positive)\n",
      "/anaconda3/lib/python3.6/site-packages/sklearn/linear_model/coordinate_descent.py:475: ConvergenceWarning: Objective did not converge. You might want to increase the number of iterations. Duality gap: 1693874388816.5, tolerance: 319406625544.9255\n",
      "  positive)\n",
      "/anaconda3/lib/python3.6/site-packages/sklearn/linear_model/coordinate_descent.py:475: ConvergenceWarning: Objective did not converge. You might want to increase the number of iterations. Duality gap: 1643800008944.125, tolerance: 317828511921.0242\n",
      "  positive)\n",
      "/anaconda3/lib/python3.6/site-packages/sklearn/linear_model/coordinate_descent.py:475: ConvergenceWarning: Objective did not converge. You might want to increase the number of iterations. Duality gap: 1653116060708.5, tolerance: 316325283135.9882\n",
      "  positive)\n",
      "/anaconda3/lib/python3.6/site-packages/sklearn/linear_model/coordinate_descent.py:475: ConvergenceWarning: Objective did not converge. You might want to increase the number of iterations. Duality gap: 1657685452073.5, tolerance: 319520142207.60175\n",
      "  positive)\n",
      "/anaconda3/lib/python3.6/site-packages/sklearn/linear_model/coordinate_descent.py:475: ConvergenceWarning: Objective did not converge. You might want to increase the number of iterations. Duality gap: 1625038514845.625, tolerance: 316945977502.0809\n",
      "  positive)\n",
      "/anaconda3/lib/python3.6/site-packages/sklearn/linear_model/coordinate_descent.py:475: ConvergenceWarning: Objective did not converge. You might want to increase the number of iterations. Duality gap: 1655753192745.625, tolerance: 320015987166.9511\n",
      "  positive)\n",
      "/anaconda3/lib/python3.6/site-packages/sklearn/linear_model/coordinate_descent.py:475: ConvergenceWarning: Objective did not converge. You might want to increase the number of iterations. Duality gap: 1650107444083.375, tolerance: 319576978099.33887\n",
      "  positive)\n",
      "/anaconda3/lib/python3.6/site-packages/sklearn/linear_model/coordinate_descent.py:475: ConvergenceWarning: Objective did not converge. You might want to increase the number of iterations. Duality gap: 1602119358018.0, tolerance: 315036967731.9582\n",
      "  positive)\n",
      "/anaconda3/lib/python3.6/site-packages/sklearn/linear_model/coordinate_descent.py:475: ConvergenceWarning: Objective did not converge. You might want to increase the number of iterations. Duality gap: 1620821967932.875, tolerance: 313198385244.7148\n",
      "  positive)\n",
      "/anaconda3/lib/python3.6/site-packages/sklearn/linear_model/coordinate_descent.py:475: ConvergenceWarning: Objective did not converge. You might want to increase the number of iterations. Duality gap: 1617315552901.5, tolerance: 317298693232.7989\n",
      "  positive)\n",
      "/anaconda3/lib/python3.6/site-packages/sklearn/linear_model/coordinate_descent.py:475: ConvergenceWarning: Objective did not converge. You might want to increase the number of iterations. Duality gap: 1667256335435.5, tolerance: 320359647701.8098\n",
      "  positive)\n"
     ]
    },
    {
     "data": {
      "text/plain": [
       "0.7419188626300987"
      ]
     },
     "execution_count": 480,
     "metadata": {},
     "output_type": "execute_result"
    }
   ],
   "source": [
    "np.mean(cross_val_score(lasso_model_2, X_train_scaled, y_train, cv=kf, scoring = 'r2'))\n",
    "# score is 0.51"
   ]
  },
  {
   "cell_type": "code",
   "execution_count": 294,
   "metadata": {},
   "outputs": [
    {
     "data": {
      "text/plain": [
       "<bound method PolynomialFeatures.fit of PolynomialFeatures(degree=2, include_bias=True, interaction_only=False,\n",
       "                   order='C')>"
      ]
     },
     "execution_count": 294,
     "metadata": {},
     "output_type": "execute_result"
    }
   ],
   "source": [
    "lm_poly = PolynomialFeatures(degree=2) \n",
    "lm_poly.fit"
   ]
  },
  {
   "cell_type": "markdown",
   "metadata": {
    "heading_collapsed": true
   },
   "source": [
    "# Feature Interactions / Polynomial"
   ]
  },
  {
   "cell_type": "code",
   "execution_count": 295,
   "metadata": {
    "hidden": true
   },
   "outputs": [
    {
     "data": {
      "text/html": [
       "<div>\n",
       "<style scoped>\n",
       "    .dataframe tbody tr th:only-of-type {\n",
       "        vertical-align: middle;\n",
       "    }\n",
       "\n",
       "    .dataframe tbody tr th {\n",
       "        vertical-align: top;\n",
       "    }\n",
       "\n",
       "    .dataframe thead th {\n",
       "        text-align: right;\n",
       "    }\n",
       "</style>\n",
       "<table border=\"1\" class=\"dataframe\">\n",
       "  <thead>\n",
       "    <tr style=\"text-align: right;\">\n",
       "      <th></th>\n",
       "      <th>bldg_rating</th>\n",
       "      <th>apt_floor</th>\n",
       "      <th>square_feet</th>\n",
       "      <th>beds</th>\n",
       "      <th>baths</th>\n",
       "      <th>monthly_common_charges</th>\n",
       "      <th>monthly_real_estate_taxes</th>\n",
       "      <th>sold_season_Fall</th>\n",
       "      <th>sold_season_Spring</th>\n",
       "      <th>sold_season_Summer</th>\n",
       "      <th>sold_season_Winter</th>\n",
       "      <th>neighborhood_Beekman/Sutton Place</th>\n",
       "      <th>neighborhood_Midtown East</th>\n",
       "      <th>neighborhood_Midtown West</th>\n",
       "      <th>neighborhood_Murray Hill</th>\n",
       "      <th>neighborhood_Turtle Bay/United Nations</th>\n",
       "      <th>year_2004</th>\n",
       "      <th>year_2005</th>\n",
       "      <th>year_2006</th>\n",
       "      <th>year_2007</th>\n",
       "      <th>year_2008</th>\n",
       "      <th>year_2009</th>\n",
       "      <th>year_2010</th>\n",
       "      <th>year_2011</th>\n",
       "      <th>year_2012</th>\n",
       "      <th>year_2013</th>\n",
       "      <th>year_2014</th>\n",
       "      <th>year_2015</th>\n",
       "      <th>year_2016</th>\n",
       "      <th>year_2017</th>\n",
       "      <th>year_2018</th>\n",
       "      <th>year_2019</th>\n",
       "    </tr>\n",
       "  </thead>\n",
       "  <tbody>\n",
       "    <tr>\n",
       "      <td>3080</td>\n",
       "      <td>79.0</td>\n",
       "      <td>6.0</td>\n",
       "      <td>663.0</td>\n",
       "      <td>1.0</td>\n",
       "      <td>1.0</td>\n",
       "      <td>663.0</td>\n",
       "      <td>422.0</td>\n",
       "      <td>0</td>\n",
       "      <td>1</td>\n",
       "      <td>0</td>\n",
       "      <td>0</td>\n",
       "      <td>0</td>\n",
       "      <td>0</td>\n",
       "      <td>1</td>\n",
       "      <td>0</td>\n",
       "      <td>0</td>\n",
       "      <td>0</td>\n",
       "      <td>0</td>\n",
       "      <td>0</td>\n",
       "      <td>0</td>\n",
       "      <td>0</td>\n",
       "      <td>0</td>\n",
       "      <td>0</td>\n",
       "      <td>0</td>\n",
       "      <td>0</td>\n",
       "      <td>0</td>\n",
       "      <td>1</td>\n",
       "      <td>0</td>\n",
       "      <td>0</td>\n",
       "      <td>0</td>\n",
       "      <td>0</td>\n",
       "      <td>0</td>\n",
       "    </tr>\n",
       "    <tr>\n",
       "      <td>3214</td>\n",
       "      <td>78.0</td>\n",
       "      <td>15.0</td>\n",
       "      <td>840.0</td>\n",
       "      <td>1.0</td>\n",
       "      <td>1.5</td>\n",
       "      <td>1101.0</td>\n",
       "      <td>591.0</td>\n",
       "      <td>0</td>\n",
       "      <td>0</td>\n",
       "      <td>0</td>\n",
       "      <td>1</td>\n",
       "      <td>0</td>\n",
       "      <td>0</td>\n",
       "      <td>1</td>\n",
       "      <td>0</td>\n",
       "      <td>0</td>\n",
       "      <td>0</td>\n",
       "      <td>0</td>\n",
       "      <td>0</td>\n",
       "      <td>0</td>\n",
       "      <td>0</td>\n",
       "      <td>0</td>\n",
       "      <td>0</td>\n",
       "      <td>0</td>\n",
       "      <td>0</td>\n",
       "      <td>0</td>\n",
       "      <td>1</td>\n",
       "      <td>0</td>\n",
       "      <td>0</td>\n",
       "      <td>0</td>\n",
       "      <td>0</td>\n",
       "      <td>0</td>\n",
       "    </tr>\n",
       "    <tr>\n",
       "      <td>1631</td>\n",
       "      <td>90.0</td>\n",
       "      <td>3.0</td>\n",
       "      <td>991.0</td>\n",
       "      <td>1.0</td>\n",
       "      <td>1.5</td>\n",
       "      <td>1289.0</td>\n",
       "      <td>783.0</td>\n",
       "      <td>0</td>\n",
       "      <td>0</td>\n",
       "      <td>0</td>\n",
       "      <td>1</td>\n",
       "      <td>1</td>\n",
       "      <td>0</td>\n",
       "      <td>0</td>\n",
       "      <td>0</td>\n",
       "      <td>0</td>\n",
       "      <td>0</td>\n",
       "      <td>0</td>\n",
       "      <td>0</td>\n",
       "      <td>0</td>\n",
       "      <td>0</td>\n",
       "      <td>0</td>\n",
       "      <td>0</td>\n",
       "      <td>0</td>\n",
       "      <td>0</td>\n",
       "      <td>0</td>\n",
       "      <td>0</td>\n",
       "      <td>0</td>\n",
       "      <td>1</td>\n",
       "      <td>0</td>\n",
       "      <td>0</td>\n",
       "      <td>0</td>\n",
       "    </tr>\n",
       "    <tr>\n",
       "      <td>2453</td>\n",
       "      <td>64.0</td>\n",
       "      <td>35.0</td>\n",
       "      <td>1040.0</td>\n",
       "      <td>2.0</td>\n",
       "      <td>2.0</td>\n",
       "      <td>1475.0</td>\n",
       "      <td>1317.0</td>\n",
       "      <td>0</td>\n",
       "      <td>0</td>\n",
       "      <td>1</td>\n",
       "      <td>0</td>\n",
       "      <td>0</td>\n",
       "      <td>0</td>\n",
       "      <td>0</td>\n",
       "      <td>0</td>\n",
       "      <td>1</td>\n",
       "      <td>0</td>\n",
       "      <td>0</td>\n",
       "      <td>0</td>\n",
       "      <td>0</td>\n",
       "      <td>0</td>\n",
       "      <td>0</td>\n",
       "      <td>0</td>\n",
       "      <td>0</td>\n",
       "      <td>0</td>\n",
       "      <td>0</td>\n",
       "      <td>0</td>\n",
       "      <td>1</td>\n",
       "      <td>0</td>\n",
       "      <td>0</td>\n",
       "      <td>0</td>\n",
       "      <td>0</td>\n",
       "    </tr>\n",
       "    <tr>\n",
       "      <td>3479</td>\n",
       "      <td>65.0</td>\n",
       "      <td>6.0</td>\n",
       "      <td>1250.0</td>\n",
       "      <td>2.0</td>\n",
       "      <td>2.0</td>\n",
       "      <td>1767.0</td>\n",
       "      <td>1046.0</td>\n",
       "      <td>0</td>\n",
       "      <td>0</td>\n",
       "      <td>1</td>\n",
       "      <td>0</td>\n",
       "      <td>0</td>\n",
       "      <td>0</td>\n",
       "      <td>1</td>\n",
       "      <td>0</td>\n",
       "      <td>0</td>\n",
       "      <td>0</td>\n",
       "      <td>0</td>\n",
       "      <td>0</td>\n",
       "      <td>0</td>\n",
       "      <td>0</td>\n",
       "      <td>0</td>\n",
       "      <td>0</td>\n",
       "      <td>0</td>\n",
       "      <td>0</td>\n",
       "      <td>1</td>\n",
       "      <td>0</td>\n",
       "      <td>0</td>\n",
       "      <td>0</td>\n",
       "      <td>0</td>\n",
       "      <td>0</td>\n",
       "      <td>0</td>\n",
       "    </tr>\n",
       "  </tbody>\n",
       "</table>\n",
       "</div>"
      ],
      "text/plain": [
       "      bldg_rating  apt_floor  square_feet  beds  baths  \\\n",
       "3080         79.0        6.0        663.0   1.0    1.0   \n",
       "3214         78.0       15.0        840.0   1.0    1.5   \n",
       "1631         90.0        3.0        991.0   1.0    1.5   \n",
       "2453         64.0       35.0       1040.0   2.0    2.0   \n",
       "3479         65.0        6.0       1250.0   2.0    2.0   \n",
       "\n",
       "      monthly_common_charges  monthly_real_estate_taxes  sold_season_Fall  \\\n",
       "3080                   663.0                      422.0                 0   \n",
       "3214                  1101.0                      591.0                 0   \n",
       "1631                  1289.0                      783.0                 0   \n",
       "2453                  1475.0                     1317.0                 0   \n",
       "3479                  1767.0                     1046.0                 0   \n",
       "\n",
       "      sold_season_Spring  sold_season_Summer  sold_season_Winter  \\\n",
       "3080                   1                   0                   0   \n",
       "3214                   0                   0                   1   \n",
       "1631                   0                   0                   1   \n",
       "2453                   0                   1                   0   \n",
       "3479                   0                   1                   0   \n",
       "\n",
       "      neighborhood_Beekman/Sutton Place  neighborhood_Midtown East  \\\n",
       "3080                                  0                          0   \n",
       "3214                                  0                          0   \n",
       "1631                                  1                          0   \n",
       "2453                                  0                          0   \n",
       "3479                                  0                          0   \n",
       "\n",
       "      neighborhood_Midtown West  neighborhood_Murray Hill  \\\n",
       "3080                          1                         0   \n",
       "3214                          1                         0   \n",
       "1631                          0                         0   \n",
       "2453                          0                         0   \n",
       "3479                          1                         0   \n",
       "\n",
       "      neighborhood_Turtle Bay/United Nations  year_2004  year_2005  year_2006  \\\n",
       "3080                                       0          0          0          0   \n",
       "3214                                       0          0          0          0   \n",
       "1631                                       0          0          0          0   \n",
       "2453                                       1          0          0          0   \n",
       "3479                                       0          0          0          0   \n",
       "\n",
       "      year_2007  year_2008  year_2009  year_2010  year_2011  year_2012  \\\n",
       "3080          0          0          0          0          0          0   \n",
       "3214          0          0          0          0          0          0   \n",
       "1631          0          0          0          0          0          0   \n",
       "2453          0          0          0          0          0          0   \n",
       "3479          0          0          0          0          0          0   \n",
       "\n",
       "      year_2013  year_2014  year_2015  year_2016  year_2017  year_2018  \\\n",
       "3080          0          1          0          0          0          0   \n",
       "3214          0          1          0          0          0          0   \n",
       "1631          0          0          0          1          0          0   \n",
       "2453          0          0          1          0          0          0   \n",
       "3479          1          0          0          0          0          0   \n",
       "\n",
       "      year_2019  \n",
       "3080          0  \n",
       "3214          0  \n",
       "1631          0  \n",
       "2453          0  \n",
       "3479          0  "
      ]
     },
     "execution_count": 295,
     "metadata": {},
     "output_type": "execute_result"
    }
   ],
   "source": [
    "X_train.head()"
   ]
  },
  {
   "cell_type": "code",
   "execution_count": 296,
   "metadata": {
    "hidden": true
   },
   "outputs": [],
   "source": [
    "poly = PolynomialFeatures(degree=2) \n",
    "\n",
    "# Poly Transform adds new values to the tran, test, and validation sets\n",
    "#X_train_poly = poly.fit_transform(X_train.values) # fits and transforms the data in one spot\n",
    "X_train_poly = poly.fit_transform(X_train)\n",
    "# scale is part of the model. So, need to fit to the training data. And test this fit on the \n",
    "# test data.\n",
    "\n",
    "#X_test_poly = poly.transform(X_test.values)\n",
    "X_test_poly = poly.transform(X_test)"
   ]
  },
  {
   "cell_type": "code",
   "execution_count": 297,
   "metadata": {
    "hidden": true
   },
   "outputs": [],
   "source": [
    "# So we know what the columns are for polynomial-ized variables\n",
    "poly_train_df = pd.DataFrame(poly.fit_transform(X_train), columns = poly.get_feature_names(input_features = X_train.columns))\n",
    "poly_col = poly_train_df.columns"
   ]
  },
  {
   "cell_type": "code",
   "execution_count": 298,
   "metadata": {
    "hidden": true
   },
   "outputs": [],
   "source": [
    "Poly_train_df = pd.DataFrame(poly.fit_transform(X_train), columns = poly.get_feature_names(input_features = X_train.columns))"
   ]
  },
  {
   "cell_type": "code",
   "execution_count": 299,
   "metadata": {
    "hidden": true
   },
   "outputs": [
    {
     "name": "stdout",
     "output_type": "stream",
     "text": [
      "Mean value fom cv:  -28.895410265604987\n"
     ]
    },
    {
     "data": {
      "text/plain": [
       "array([   0.79958732,    0.82600589, -147.63865113,    0.76353554,\n",
       "          0.77247105])"
      ]
     },
     "execution_count": 299,
     "metadata": {},
     "output_type": "execute_result"
    }
   ],
   "source": [
    "# Values show that we need to scale. Model is over fit\n",
    "lm_poly = LinearRegression()\n",
    "\n",
    "kf = KFold(n_splits=5, shuffle=True, random_state = 71)\n",
    "print(\"Mean value fom cv: \", np.mean(cross_val_score(lm_poly, X_train_poly, y_train, cv=kf, scoring='r2')))\n",
    "cross_val_score(lm_poly, X_train_poly, y_train, cv=kf, scoring='r2')"
   ]
  },
  {
   "cell_type": "code",
   "execution_count": 300,
   "metadata": {
    "hidden": true
   },
   "outputs": [
    {
     "name": "stdout",
     "output_type": "stream",
     "text": [
      "Train Score:  0.8543073819115926\n",
      "Test Score:  0.8061636525611946\n"
     ]
    }
   ],
   "source": [
    "# Run linear Regression\n",
    "lm_poly = LinearRegression()\n",
    "\n",
    "lm_poly.fit(X_train_poly, y_train)\n",
    "print(\"Train Score: \", lm_poly.score(X_train_poly, y_train))\n",
    "print(\"Test Score: \", lm_poly.score(X_test_poly, y_test))"
   ]
  },
  {
   "cell_type": "markdown",
   "metadata": {
    "heading_collapsed": true
   },
   "source": [
    "# Standardize Features, and run Regularization Models"
   ]
  },
  {
   "cell_type": "code",
   "execution_count": 301,
   "metadata": {
    "hidden": true
   },
   "outputs": [],
   "source": [
    "from sklearn.pipeline import Pipeline\n",
    "from sklearn.preprocessing import StandardScaler"
   ]
  },
  {
   "cell_type": "code",
   "execution_count": 302,
   "metadata": {
    "hidden": true
   },
   "outputs": [
    {
     "data": {
      "text/plain": [
       "StandardScaler(copy=True, with_mean=True, with_std=True)"
      ]
     },
     "execution_count": 302,
     "metadata": {},
     "output_type": "execute_result"
    }
   ],
   "source": [
    "# Fit standard scalar to the X train values to get mean and std. dev.\n",
    "std = StandardScaler()\n",
    "std.fit(X_train_poly)"
   ]
  },
  {
   "cell_type": "code",
   "execution_count": 303,
   "metadata": {
    "hidden": true
   },
   "outputs": [],
   "source": [
    "# Applies scalar to training set. Subtracts mean and divides by st. dev. for every value\n",
    "X_tr = std.transform(X_train_poly)\n",
    "X_te = std.transform(X_test_poly)"
   ]
  },
  {
   "cell_type": "code",
   "execution_count": 304,
   "metadata": {
    "hidden": true
   },
   "outputs": [
    {
     "name": "stderr",
     "output_type": "stream",
     "text": [
      "/anaconda3/lib/python3.6/site-packages/sklearn/model_selection/_split.py:1978: FutureWarning: The default value of cv will change from 3 to 5 in version 0.22. Specify it explicitly to silence this warning.\n",
      "  warnings.warn(CV_WARNING, FutureWarning)\n",
      "/anaconda3/lib/python3.6/site-packages/sklearn/linear_model/coordinate_descent.py:471: ConvergenceWarning: Objective did not converge. You might want to increase the number of iterations. Duality gap: 220276669125.375, tolerance: 210459093580.07196\n",
      "  tol, rng, random, positive)\n",
      "/anaconda3/lib/python3.6/site-packages/sklearn/linear_model/coordinate_descent.py:471: ConvergenceWarning: Objective did not converge. You might want to increase the number of iterations. Duality gap: 220651339795.5, tolerance: 217230463511.10367\n",
      "  tol, rng, random, positive)\n",
      "/anaconda3/lib/python3.6/site-packages/sklearn/linear_model/coordinate_descent.py:471: ConvergenceWarning: Objective did not converge. You might want to increase the number of iterations. Duality gap: 289119176902.375, tolerance: 217230463511.10367\n",
      "  tol, rng, random, positive)\n",
      "/anaconda3/lib/python3.6/site-packages/sklearn/linear_model/coordinate_descent.py:471: ConvergenceWarning: Objective did not converge. You might want to increase the number of iterations. Duality gap: 369772027241.3125, tolerance: 217230463511.10367\n",
      "  tol, rng, random, positive)\n",
      "/anaconda3/lib/python3.6/site-packages/sklearn/linear_model/coordinate_descent.py:471: ConvergenceWarning: Objective did not converge. You might want to increase the number of iterations. Duality gap: 265660098329.875, tolerance: 217230463511.10367\n",
      "  tol, rng, random, positive)\n",
      "/anaconda3/lib/python3.6/site-packages/sklearn/linear_model/coordinate_descent.py:471: ConvergenceWarning: Objective did not converge. You might want to increase the number of iterations. Duality gap: 246680809742.625, tolerance: 217230463511.10367\n",
      "  tol, rng, random, positive)\n"
     ]
    },
    {
     "data": {
      "text/plain": [
       "LassoCV(alphas=None, copy_X=True, cv='warn', eps=0.001, fit_intercept=True,\n",
       "        max_iter=1000, n_alphas=100, n_jobs=None, normalize=False,\n",
       "        positive=False, precompute='auto', random_state=None,\n",
       "        selection='cyclic', tol=0.0001, verbose=False)"
      ]
     },
     "execution_count": 304,
     "metadata": {},
     "output_type": "execute_result"
    }
   ],
   "source": [
    "lasso_model = LassoCV()\n",
    "lasso_model.fit(X_tr, y_train)"
   ]
  },
  {
   "cell_type": "code",
   "execution_count": 305,
   "metadata": {
    "hidden": true
   },
   "outputs": [
    {
     "data": {
      "text/plain": [
       "22853.18275505545"
      ]
     },
     "execution_count": 305,
     "metadata": {},
     "output_type": "execute_result"
    }
   ],
   "source": [
    "lasso_model.alpha_"
   ]
  },
  {
   "cell_type": "code",
   "execution_count": 306,
   "metadata": {
    "hidden": true
   },
   "outputs": [
    {
     "name": "stderr",
     "output_type": "stream",
     "text": [
      "/anaconda3/lib/python3.6/site-packages/sklearn/model_selection/_split.py:1978: FutureWarning: The default value of cv will change from 3 to 5 in version 0.22. Specify it explicitly to silence this warning.\n",
      "  warnings.warn(CV_WARNING, FutureWarning)\n",
      "/anaconda3/lib/python3.6/site-packages/sklearn/linear_model/coordinate_descent.py:471: ConvergenceWarning: Objective did not converge. You might want to increase the number of iterations. Duality gap: 814002972554.5, tolerance: 168690557339.72202\n",
      "  tol, rng, random, positive)\n",
      "/anaconda3/lib/python3.6/site-packages/sklearn/linear_model/coordinate_descent.py:471: ConvergenceWarning: Objective did not converge. You might want to increase the number of iterations. Duality gap: 792080327907.6875, tolerance: 168690557339.72202\n",
      "  tol, rng, random, positive)\n",
      "/anaconda3/lib/python3.6/site-packages/sklearn/linear_model/coordinate_descent.py:471: ConvergenceWarning: Objective did not converge. You might want to increase the number of iterations. Duality gap: 178631711949.625, tolerance: 164556478651.2966\n",
      "  tol, rng, random, positive)\n",
      "/anaconda3/lib/python3.6/site-packages/sklearn/linear_model/coordinate_descent.py:471: ConvergenceWarning: Objective did not converge. You might want to increase the number of iterations. Duality gap: 169702312824.4375, tolerance: 164556478651.2966\n",
      "  tol, rng, random, positive)\n",
      "/anaconda3/lib/python3.6/site-packages/sklearn/linear_model/coordinate_descent.py:471: ConvergenceWarning: Objective did not converge. You might want to increase the number of iterations. Duality gap: 214803005876.3125, tolerance: 172167285630.3511\n",
      "  tol, rng, random, positive)\n",
      "/anaconda3/lib/python3.6/site-packages/sklearn/linear_model/coordinate_descent.py:471: ConvergenceWarning: Objective did not converge. You might want to increase the number of iterations. Duality gap: 289444921970.34375, tolerance: 172167285630.3511\n",
      "  tol, rng, random, positive)\n",
      "/anaconda3/lib/python3.6/site-packages/sklearn/linear_model/coordinate_descent.py:471: ConvergenceWarning: Objective did not converge. You might want to increase the number of iterations. Duality gap: 236262485822.8125, tolerance: 172167285630.3511\n",
      "  tol, rng, random, positive)\n",
      "/anaconda3/lib/python3.6/site-packages/sklearn/linear_model/coordinate_descent.py:471: ConvergenceWarning: Objective did not converge. You might want to increase the number of iterations. Duality gap: 207522042701.5625, tolerance: 172167285630.3511\n",
      "  tol, rng, random, positive)\n",
      "/anaconda3/lib/python3.6/site-packages/sklearn/linear_model/coordinate_descent.py:471: ConvergenceWarning: Objective did not converge. You might want to increase the number of iterations. Duality gap: 331785773618.21875, tolerance: 172167285630.3511\n",
      "  tol, rng, random, positive)\n",
      "/anaconda3/lib/python3.6/site-packages/sklearn/linear_model/coordinate_descent.py:471: ConvergenceWarning: Objective did not converge. You might want to increase the number of iterations. Duality gap: 229995010918.125, tolerance: 172167285630.3511\n",
      "  tol, rng, random, positive)\n",
      "/anaconda3/lib/python3.6/site-packages/sklearn/linear_model/coordinate_descent.py:471: ConvergenceWarning: Objective did not converge. You might want to increase the number of iterations. Duality gap: 233495834968.3125, tolerance: 172167285630.3511\n",
      "  tol, rng, random, positive)\n",
      "/anaconda3/lib/python3.6/site-packages/sklearn/linear_model/coordinate_descent.py:471: ConvergenceWarning: Objective did not converge. You might want to increase the number of iterations. Duality gap: 416388117870.75, tolerance: 172167285630.3511\n",
      "  tol, rng, random, positive)\n",
      "/anaconda3/lib/python3.6/site-packages/sklearn/linear_model/coordinate_descent.py:471: ConvergenceWarning: Objective did not converge. You might want to increase the number of iterations. Duality gap: 522347532032.5625, tolerance: 172167285630.3511\n",
      "  tol, rng, random, positive)\n",
      "/anaconda3/lib/python3.6/site-packages/sklearn/linear_model/coordinate_descent.py:471: ConvergenceWarning: Objective did not converge. You might want to increase the number of iterations. Duality gap: 536178222765.15625, tolerance: 172167285630.3511\n",
      "  tol, rng, random, positive)\n",
      "/anaconda3/lib/python3.6/site-packages/sklearn/linear_model/coordinate_descent.py:471: ConvergenceWarning: Objective did not converge. You might want to increase the number of iterations. Duality gap: 494362127316.9375, tolerance: 172167285630.3511\n",
      "  tol, rng, random, positive)\n",
      "/anaconda3/lib/python3.6/site-packages/sklearn/model_selection/_split.py:1978: FutureWarning: The default value of cv will change from 3 to 5 in version 0.22. Specify it explicitly to silence this warning.\n",
      "  warnings.warn(CV_WARNING, FutureWarning)\n",
      "/anaconda3/lib/python3.6/site-packages/sklearn/linear_model/coordinate_descent.py:471: ConvergenceWarning: Objective did not converge. You might want to increase the number of iterations. Duality gap: 175414283922.6875, tolerance: 172347424838.0599\n",
      "  tol, rng, random, positive)\n",
      "/anaconda3/lib/python3.6/site-packages/sklearn/linear_model/coordinate_descent.py:471: ConvergenceWarning: Objective did not converge. You might want to increase the number of iterations. Duality gap: 227329846706.3125, tolerance: 172347424838.0599\n",
      "  tol, rng, random, positive)\n",
      "/anaconda3/lib/python3.6/site-packages/sklearn/linear_model/coordinate_descent.py:471: ConvergenceWarning: Objective did not converge. You might want to increase the number of iterations. Duality gap: 236641912209.125, tolerance: 172347424838.0599\n",
      "  tol, rng, random, positive)\n",
      "/anaconda3/lib/python3.6/site-packages/sklearn/linear_model/coordinate_descent.py:471: ConvergenceWarning: Objective did not converge. You might want to increase the number of iterations. Duality gap: 233200668394.25, tolerance: 172347424838.0599\n",
      "  tol, rng, random, positive)\n",
      "/anaconda3/lib/python3.6/site-packages/sklearn/linear_model/coordinate_descent.py:471: ConvergenceWarning: Objective did not converge. You might want to increase the number of iterations. Duality gap: 211820668817.0625, tolerance: 172347424838.0599\n",
      "  tol, rng, random, positive)\n",
      "/anaconda3/lib/python3.6/site-packages/sklearn/linear_model/coordinate_descent.py:471: ConvergenceWarning: Objective did not converge. You might want to increase the number of iterations. Duality gap: 220569548786.25, tolerance: 175179295727.40677\n",
      "  tol, rng, random, positive)\n",
      "/anaconda3/lib/python3.6/site-packages/sklearn/linear_model/coordinate_descent.py:471: ConvergenceWarning: Objective did not converge. You might want to increase the number of iterations. Duality gap: 382237809617.25, tolerance: 175179295727.40677\n",
      "  tol, rng, random, positive)\n",
      "/anaconda3/lib/python3.6/site-packages/sklearn/linear_model/coordinate_descent.py:471: ConvergenceWarning: Objective did not converge. You might want to increase the number of iterations. Duality gap: 918500224664.3125, tolerance: 175179295727.40677\n",
      "  tol, rng, random, positive)\n",
      "/anaconda3/lib/python3.6/site-packages/sklearn/linear_model/coordinate_descent.py:471: ConvergenceWarning: Objective did not converge. You might want to increase the number of iterations. Duality gap: 1365516880304.375, tolerance: 175179295727.40677\n",
      "  tol, rng, random, positive)\n",
      "/anaconda3/lib/python3.6/site-packages/sklearn/linear_model/coordinate_descent.py:471: ConvergenceWarning: Objective did not converge. You might want to increase the number of iterations. Duality gap: 1586137567223.6562, tolerance: 175179295727.40677\n",
      "  tol, rng, random, positive)\n",
      "/anaconda3/lib/python3.6/site-packages/sklearn/linear_model/coordinate_descent.py:471: ConvergenceWarning: Objective did not converge. You might want to increase the number of iterations. Duality gap: 1487933786244.25, tolerance: 175179295727.40677\n",
      "  tol, rng, random, positive)\n",
      "/anaconda3/lib/python3.6/site-packages/sklearn/linear_model/coordinate_descent.py:471: ConvergenceWarning: Objective did not converge. You might want to increase the number of iterations. Duality gap: 1450870384531.875, tolerance: 175179295727.40677\n",
      "  tol, rng, random, positive)\n",
      "/anaconda3/lib/python3.6/site-packages/sklearn/linear_model/coordinate_descent.py:471: ConvergenceWarning: Objective did not converge. You might want to increase the number of iterations. Duality gap: 1126203667279.0, tolerance: 175179295727.40677\n",
      "  tol, rng, random, positive)\n",
      "/anaconda3/lib/python3.6/site-packages/sklearn/linear_model/coordinate_descent.py:471: ConvergenceWarning: Objective did not converge. You might want to increase the number of iterations. Duality gap: 1008798827474.7812, tolerance: 175179295727.40677\n",
      "  tol, rng, random, positive)\n"
     ]
    },
    {
     "name": "stderr",
     "output_type": "stream",
     "text": [
      "/anaconda3/lib/python3.6/site-packages/sklearn/model_selection/_split.py:1978: FutureWarning: The default value of cv will change from 3 to 5 in version 0.22. Specify it explicitly to silence this warning.\n",
      "  warnings.warn(CV_WARNING, FutureWarning)\n",
      "/anaconda3/lib/python3.6/site-packages/sklearn/linear_model/coordinate_descent.py:471: ConvergenceWarning: Objective did not converge. You might want to increase the number of iterations. Duality gap: 226237506893.375, tolerance: 166916374244.61865\n",
      "  tol, rng, random, positive)\n",
      "/anaconda3/lib/python3.6/site-packages/sklearn/linear_model/coordinate_descent.py:471: ConvergenceWarning: Objective did not converge. You might want to increase the number of iterations. Duality gap: 228973301352.1875, tolerance: 166916374244.61865\n",
      "  tol, rng, random, positive)\n",
      "/anaconda3/lib/python3.6/site-packages/sklearn/linear_model/coordinate_descent.py:471: ConvergenceWarning: Objective did not converge. You might want to increase the number of iterations. Duality gap: 210700638994.84375, tolerance: 166916374244.61865\n",
      "  tol, rng, random, positive)\n",
      "/anaconda3/lib/python3.6/site-packages/sklearn/linear_model/coordinate_descent.py:471: ConvergenceWarning: Objective did not converge. You might want to increase the number of iterations. Duality gap: 203318531495.25, tolerance: 175447666988.8216\n",
      "  tol, rng, random, positive)\n",
      "/anaconda3/lib/python3.6/site-packages/sklearn/linear_model/coordinate_descent.py:471: ConvergenceWarning: Objective did not converge. You might want to increase the number of iterations. Duality gap: 460819243051.1875, tolerance: 175447666988.8216\n",
      "  tol, rng, random, positive)\n",
      "/anaconda3/lib/python3.6/site-packages/sklearn/model_selection/_split.py:1978: FutureWarning: The default value of cv will change from 3 to 5 in version 0.22. Specify it explicitly to silence this warning.\n",
      "  warnings.warn(CV_WARNING, FutureWarning)\n",
      "/anaconda3/lib/python3.6/site-packages/sklearn/linear_model/coordinate_descent.py:471: ConvergenceWarning: Objective did not converge. You might want to increase the number of iterations. Duality gap: 170594229365.125, tolerance: 163265268641.77386\n",
      "  tol, rng, random, positive)\n",
      "/anaconda3/lib/python3.6/site-packages/sklearn/linear_model/coordinate_descent.py:471: ConvergenceWarning: Objective did not converge. You might want to increase the number of iterations. Duality gap: 316842617983.875, tolerance: 163265268641.77386\n",
      "  tol, rng, random, positive)\n",
      "/anaconda3/lib/python3.6/site-packages/sklearn/linear_model/coordinate_descent.py:471: ConvergenceWarning: Objective did not converge. You might want to increase the number of iterations. Duality gap: 352811635591.0, tolerance: 163265268641.77386\n",
      "  tol, rng, random, positive)\n",
      "/anaconda3/lib/python3.6/site-packages/sklearn/linear_model/coordinate_descent.py:471: ConvergenceWarning: Objective did not converge. You might want to increase the number of iterations. Duality gap: 203838418825.5, tolerance: 160989659413.16986\n",
      "  tol, rng, random, positive)\n",
      "/anaconda3/lib/python3.6/site-packages/sklearn/linear_model/coordinate_descent.py:471: ConvergenceWarning: Objective did not converge. You might want to increase the number of iterations. Duality gap: 200035598666.875, tolerance: 160989659413.16986\n",
      "  tol, rng, random, positive)\n",
      "/anaconda3/lib/python3.6/site-packages/sklearn/linear_model/coordinate_descent.py:471: ConvergenceWarning: Objective did not converge. You might want to increase the number of iterations. Duality gap: 163591622271.0625, tolerance: 160989659413.16986\n",
      "  tol, rng, random, positive)\n",
      "/anaconda3/lib/python3.6/site-packages/sklearn/linear_model/coordinate_descent.py:471: ConvergenceWarning: Objective did not converge. You might want to increase the number of iterations. Duality gap: 235477093146.9375, tolerance: 169371351225.3243\n",
      "  tol, rng, random, positive)\n",
      "/anaconda3/lib/python3.6/site-packages/sklearn/linear_model/coordinate_descent.py:471: ConvergenceWarning: Objective did not converge. You might want to increase the number of iterations. Duality gap: 248656362515.5625, tolerance: 169371351225.3243\n",
      "  tol, rng, random, positive)\n",
      "/anaconda3/lib/python3.6/site-packages/sklearn/linear_model/coordinate_descent.py:471: ConvergenceWarning: Objective did not converge. You might want to increase the number of iterations. Duality gap: 232605512729.25, tolerance: 169371351225.3243\n",
      "  tol, rng, random, positive)\n",
      "/anaconda3/lib/python3.6/site-packages/sklearn/linear_model/coordinate_descent.py:471: ConvergenceWarning: Objective did not converge. You might want to increase the number of iterations. Duality gap: 230619522648.3125, tolerance: 169371351225.3243\n",
      "  tol, rng, random, positive)\n",
      "/anaconda3/lib/python3.6/site-packages/sklearn/linear_model/coordinate_descent.py:471: ConvergenceWarning: Objective did not converge. You might want to increase the number of iterations. Duality gap: 258032453028.75, tolerance: 169371351225.3243\n",
      "  tol, rng, random, positive)\n",
      "/anaconda3/lib/python3.6/site-packages/sklearn/linear_model/coordinate_descent.py:471: ConvergenceWarning: Objective did not converge. You might want to increase the number of iterations. Duality gap: 264761191881.125, tolerance: 169371351225.3243\n",
      "  tol, rng, random, positive)\n",
      "/anaconda3/lib/python3.6/site-packages/sklearn/linear_model/coordinate_descent.py:471: ConvergenceWarning: Objective did not converge. You might want to increase the number of iterations. Duality gap: 206101128429.0625, tolerance: 169371351225.3243\n",
      "  tol, rng, random, positive)\n",
      "/anaconda3/lib/python3.6/site-packages/sklearn/linear_model/coordinate_descent.py:471: ConvergenceWarning: Objective did not converge. You might want to increase the number of iterations. Duality gap: 192548448717.9375, tolerance: 169371351225.3243\n",
      "  tol, rng, random, positive)\n",
      "/anaconda3/lib/python3.6/site-packages/sklearn/model_selection/_split.py:1978: FutureWarning: The default value of cv will change from 3 to 5 in version 0.22. Specify it explicitly to silence this warning.\n",
      "  warnings.warn(CV_WARNING, FutureWarning)\n",
      "/anaconda3/lib/python3.6/site-packages/sklearn/linear_model/coordinate_descent.py:471: ConvergenceWarning: Objective did not converge. You might want to increase the number of iterations. Duality gap: 252364075939.5625, tolerance: 176325837568.42642\n",
      "  tol, rng, random, positive)\n",
      "/anaconda3/lib/python3.6/site-packages/sklearn/linear_model/coordinate_descent.py:471: ConvergenceWarning: Objective did not converge. You might want to increase the number of iterations. Duality gap: 450460881039.4375, tolerance: 176325837568.42642\n",
      "  tol, rng, random, positive)\n",
      "/anaconda3/lib/python3.6/site-packages/sklearn/linear_model/coordinate_descent.py:471: ConvergenceWarning: Objective did not converge. You might want to increase the number of iterations. Duality gap: 413909531996.9375, tolerance: 176325837568.42642\n",
      "  tol, rng, random, positive)\n",
      "/anaconda3/lib/python3.6/site-packages/sklearn/linear_model/coordinate_descent.py:471: ConvergenceWarning: Objective did not converge. You might want to increase the number of iterations. Duality gap: 308731138290.3125, tolerance: 176325837568.42642\n",
      "  tol, rng, random, positive)\n",
      "/anaconda3/lib/python3.6/site-packages/sklearn/linear_model/coordinate_descent.py:471: ConvergenceWarning: Objective did not converge. You might want to increase the number of iterations. Duality gap: 281970136056.5625, tolerance: 176325837568.42642\n",
      "  tol, rng, random, positive)\n"
     ]
    },
    {
     "data": {
      "text/plain": [
       "0.7584413753834441"
      ]
     },
     "execution_count": 306,
     "metadata": {},
     "output_type": "execute_result"
    }
   ],
   "source": [
    "np.mean(cross_val_score(lasso_model, X_tr, y_train, # estimator, features, target\n",
    "                cv=kf, # number of folds \n",
    "                scoring='r2')) # scoring metric"
   ]
  },
  {
   "cell_type": "code",
   "execution_count": 307,
   "metadata": {
    "hidden": true
   },
   "outputs": [
    {
     "data": {
      "text/plain": [
       "0.7845648783232102"
      ]
     },
     "execution_count": 307,
     "metadata": {},
     "output_type": "execute_result"
    }
   ],
   "source": [
    "lasso_model.score(X_tr, y_train)"
   ]
  },
  {
   "cell_type": "code",
   "execution_count": 308,
   "metadata": {
    "hidden": true
   },
   "outputs": [
    {
     "data": {
      "text/plain": [
       "0.7701615405136096"
      ]
     },
     "execution_count": 308,
     "metadata": {},
     "output_type": "execute_result"
    }
   ],
   "source": [
    "lasso_model.score(X_te, y_test)"
   ]
  },
  {
   "cell_type": "code",
   "execution_count": 309,
   "metadata": {
    "hidden": true
   },
   "outputs": [],
   "source": [
    "feature_list = list(zip(poly_col, lasso_model.coef_))"
   ]
  },
  {
   "cell_type": "code",
   "execution_count": 310,
   "metadata": {
    "hidden": true
   },
   "outputs": [
    {
     "data": {
      "text/plain": [
       "[('monthly_common_charges^2', -61552.70080924663),\n",
       " ('baths year_2010', -26305.274065376772),\n",
       " ('baths year_2009', -17316.32698985246),\n",
       " ('year_2012', -17065.600362864156),\n",
       " ('monthly_common_charges year_2008', -15138.929214705082),\n",
       " ('monthly_real_estate_taxes year_2013', -12300.298481989452),\n",
       " ('year_2011^2', -9084.8677816091),\n",
       " ('sold_season_Winter year_2008', -7681.500074916813),\n",
       " ('square_feet year_2004', -5750.4636643512395),\n",
       " ('monthly_common_charges year_2007', -4597.924245989472)]"
      ]
     },
     "execution_count": 310,
     "metadata": {},
     "output_type": "execute_result"
    }
   ],
   "source": [
    "sorted(feature_list, key=lambda tup: tup[1])[:10]"
   ]
  },
  {
   "cell_type": "code",
   "execution_count": 311,
   "metadata": {
    "hidden": true
   },
   "outputs": [
    {
     "data": {
      "text/plain": [
       "[('bldg_rating square_feet', 499730.0002001709),\n",
       " ('square_feet monthly_common_charges', 153166.1972178118),\n",
       " ('monthly_real_estate_taxes neighborhood_Midtown West', 137259.6527942911),\n",
       " ('monthly_common_charges neighborhood_Midtown East', 73565.66188788287),\n",
       " ('square_feet baths', 43060.03480494025),\n",
       " ('monthly_real_estate_taxes year_2016', 42501.129049395815),\n",
       " ('baths year_2017', 29222.138293321095),\n",
       " ('monthly_real_estate_taxes year_2018', 28553.532651865087),\n",
       " ('monthly_common_charges sold_season_Winter', 17388.14474654554),\n",
       " ('baths monthly_common_charges', 10912.271948688765)]"
      ]
     },
     "execution_count": 311,
     "metadata": {},
     "output_type": "execute_result"
    }
   ],
   "source": [
    "sorted(feature_list, key=lambda tup: tup[1], reverse = True)[:10]"
   ]
  },
  {
   "cell_type": "code",
   "execution_count": 312,
   "metadata": {
    "hidden": true
   },
   "outputs": [],
   "source": [
    "std = StandardScaler()\n",
    "std.fit(X_train_poly)\n",
    "\n",
    "X_tr = std.transform(X_train_poly)\n",
    "X_te = std.transform(X_test_poly)"
   ]
  },
  {
   "cell_type": "code",
   "execution_count": 443,
   "metadata": {
    "hidden": true
   },
   "outputs": [
    {
     "data": {
      "text/plain": [
       "array([-0.13708896, -8.71043637, -0.14289035, -0.13931001, -0.14198392,\n",
       "       -0.38935359, -0.0493253 , -0.50171131, -0.17619422, -0.22141168,\n",
       "       -0.07367806, -0.46287565, -0.1066332 , -0.29456236, -0.09084425,\n",
       "       -0.03129253, -0.1036575 , -0.1300583 , -0.46280965, -0.19377234])"
      ]
     },
     "execution_count": 443,
     "metadata": {},
     "output_type": "execute_result"
    }
   ],
   "source": [
    "np.mean(cross_val_score(lm_reg, X_tr, y_train, cv = kf, scoring = 'r2'))\n",
    "#cross_val_score(lm_reg, X_tr, y_train, cv = kf, scoring = 'r2')"
   ]
  },
  {
   "cell_type": "code",
   "execution_count": 314,
   "metadata": {
    "hidden": true,
    "scrolled": true
   },
   "outputs": [
    {
     "name": "stdout",
     "output_type": "stream",
     "text": [
      "0.8498066906058204\n",
      "0.8112840415131332\n"
     ]
    }
   ],
   "source": [
    "lm_reg = Ridge(alpha=1)\n",
    "lm_reg.fit(X_tr, y_train)\n",
    "print(lm_reg.score(X_tr, y_train))\n",
    "print(lm_reg.score(X_te, y_test))"
   ]
  },
  {
   "cell_type": "code",
   "execution_count": 315,
   "metadata": {
    "hidden": true
   },
   "outputs": [
    {
     "data": {
      "text/plain": [
       "[('monthly_common_charges^2', -849492.750625096),\n",
       " ('square_feet^2', -561444.1031073492),\n",
       " ('monthly_common_charges neighborhood_Turtle Bay/United Nations',\n",
       "  -327431.3371695097),\n",
       " ('bldg_rating beds', -325731.4845303929),\n",
       " ('bldg_rating', -301197.03692920395),\n",
       " ('square_feet', -281265.63376385014),\n",
       " ('monthly_common_charges monthly_real_estate_taxes', -252783.17343490245),\n",
       " ('square_feet sold_season_Fall', -248372.35841318924),\n",
       " ('baths^2', -233220.88800249796),\n",
       " ('square_feet year_2008', -228899.51482908067)]"
      ]
     },
     "execution_count": 315,
     "metadata": {},
     "output_type": "execute_result"
    }
   ],
   "source": [
    "feature_list = list(zip(poly_col, lm_reg.coef_))\n",
    "sorted(feature_list, key=lambda tup: tup[1])[:10]"
   ]
  },
  {
   "cell_type": "code",
   "execution_count": 316,
   "metadata": {
    "hidden": true
   },
   "outputs": [
    {
     "data": {
      "text/plain": [
       "[('bldg_rating square_feet', 1111381.0820222727),\n",
       " ('square_feet baths', 658653.9256962996),\n",
       " ('monthly_real_estate_taxes^2', 600046.7584551148),\n",
       " ('bldg_rating apt_floor', 486316.3293835324),\n",
       " ('square_feet monthly_real_estate_taxes', 247984.25219133846),\n",
       " ('monthly_common_charges neighborhood_Murray Hill', 246890.17175465552),\n",
       " ('square_feet monthly_common_charges', 239409.4821088101),\n",
       " ('beds baths', 232616.2191177884),\n",
       " ('monthly_real_estate_taxes neighborhood_Midtown West', 201152.90510312442),\n",
       " ('bldg_rating^2', 198018.40558006425)]"
      ]
     },
     "execution_count": 316,
     "metadata": {},
     "output_type": "execute_result"
    }
   ],
   "source": [
    "sorted(feature_list, key=lambda tup: tup[1], reverse = True)[:10]"
   ]
  },
  {
   "cell_type": "markdown",
   "metadata": {},
   "source": [
    "# Understanding Model Performance"
   ]
  },
  {
   "cell_type": "code",
   "execution_count": 317,
   "metadata": {},
   "outputs": [],
   "source": [
    "X = df_model.drop('sold_price', axis = 1)\n",
    "y = df_model['sold_price']"
   ]
  },
  {
   "cell_type": "code",
   "execution_count": 318,
   "metadata": {},
   "outputs": [
    {
     "data": {
      "text/plain": [
       "(4988, 32)"
      ]
     },
     "execution_count": 318,
     "metadata": {},
     "output_type": "execute_result"
    }
   ],
   "source": [
    "X.shape"
   ]
  },
  {
   "cell_type": "code",
   "execution_count": 319,
   "metadata": {},
   "outputs": [
    {
     "data": {
      "text/plain": [
       "(4988,)"
      ]
     },
     "execution_count": 319,
     "metadata": {},
     "output_type": "execute_result"
    }
   ],
   "source": [
    "y.shape"
   ]
  },
  {
   "cell_type": "code",
   "execution_count": 320,
   "metadata": {},
   "outputs": [
    {
     "data": {
      "text/plain": [
       "<Figure size 1440x360 with 0 Axes>"
      ]
     },
     "metadata": {},
     "output_type": "display_data"
    }
   ],
   "source": [
    "plt.figure(figsize=(20,5))\n",
    "\n",
    "rgr = LinearRegression()\n",
    "rgr.fit(X,y)\n",
    "pred = rgr.predict(X)"
   ]
  },
  {
   "cell_type": "code",
   "execution_count": 321,
   "metadata": {},
   "outputs": [],
   "source": [
    "lm_reg = Ridge(alpha=1)\n",
    "lm_reg.fit(X_tr, y_train)\n",
    "pred = lm_reg.predict(X_te)"
   ]
  },
  {
   "cell_type": "code",
   "execution_count": 322,
   "metadata": {},
   "outputs": [
    {
     "data": {
      "text/plain": [
       "(998, 561)"
      ]
     },
     "execution_count": 322,
     "metadata": {},
     "output_type": "execute_result"
    }
   ],
   "source": [
    "X_te.shape"
   ]
  },
  {
   "cell_type": "code",
   "execution_count": 323,
   "metadata": {},
   "outputs": [
    {
     "data": {
      "text/plain": [
       "(998,)"
      ]
     },
     "execution_count": 323,
     "metadata": {},
     "output_type": "execute_result"
    }
   ],
   "source": [
    "y_test.shape"
   ]
  },
  {
   "cell_type": "code",
   "execution_count": 326,
   "metadata": {},
   "outputs": [
    {
     "data": {
      "text/plain": [
       "Text(0, 0.5, 'residuals')"
      ]
     },
     "execution_count": 326,
     "metadata": {},
     "output_type": "execute_result"
    },
    {
     "data": {
      "image/png": "[encoded data removed]",
      "text/plain": [
       "<Figure size 432x288 with 1 Axes>"
      ]
     },
     "metadata": {
      "needs_background": "light"
     },
     "output_type": "display_data"
    }
   ],
   "source": [
    "# Plot residuals\n",
    "res = y_test - pred\n",
    "plt.scatter(pred, res)\n",
    "plt.title(\"Residual plot\")\n",
    "plt.xlabel(\"prediction\")\n",
    "plt.ylabel(\"residuals\")\n",
    "\n",
    "# res is NEGATIVE when prediction is LARGER than actual (over predicting)\n",
    "# res is POSITIVE when prediction is SMALLER than actual (under predicting)"
   ]
  },
  {
   "cell_type": "code",
   "execution_count": 325,
   "metadata": {},
   "outputs": [
    {
     "data": {
      "text/plain": [
       "Text(0.5, 1.0, 'Normal Q-Q plot')"
      ]
     },
     "execution_count": 325,
     "metadata": {},
     "output_type": "execute_result"
    },
    {
     "data": {
      "image/png": "[encoded data removed]",
      "text/plain": [
       "<Figure size 432x288 with 1 Axes>"
      ]
     },
     "metadata": {
      "needs_background": "light"
     },
     "output_type": "display_data"
    }
   ],
   "source": [
    "import scipy.stats as stats\n",
    "# Plot Q-Q plot\n",
    "#plt.subplot(1, 3, 3)\n",
    "#Generates a probability plot of sample data against the quantiles of a \n",
    "# specified theoretical distribution \n",
    "stats.probplot(res, dist=\"norm\", plot=plt)\n",
    "plt.title(\"Normal Q-Q plot\")\n",
    "\n",
    "# Has problems predicting really large and reall small values\n",
    "# Comparing the residuals to a normal distribution\n",
    "# This is HEAVY TAILED"
   ]
  },
  {
   "cell_type": "code",
   "execution_count": null,
   "metadata": {},
   "outputs": [],
   "source": [
    "lm_reg = Ridge(alpha=1)\n",
    "lm_reg.fit(X_tr, y_train)\n",
    "pred = lm_reg.predict(X_te)"
   ]
  },
  {
   "cell_type": "code",
   "execution_count": 327,
   "metadata": {},
   "outputs": [
    {
     "name": "stderr",
     "output_type": "stream",
     "text": [
      "'c' argument looks like a single numeric RGB or RGBA sequence, which should be avoided as value-mapping will have precedence in case its length matches with 'x' & 'y'.  Please use a 2-D array with a single row if you really want to specify the same RGB or RGBA value for all points.\n"
     ]
    },
    {
     "data": {
      "image/png": "[encoded data removed]",
      "text/plain": [
       "<Figure size 720x432 with 1 Axes>"
      ]
     },
     "metadata": {},
     "output_type": "display_data"
    }
   ],
   "source": [
    "# Plot your predicted values on the x-axis, and your residuals on the y-axis\n",
    "data = pd.DataFrame()\n",
    "data['predict']= lm_reg.predict(X_te)\n",
    "data['resid']= y_test - data['predict']\n",
    "with sns.axes_style('white'):\n",
    "    plot=data.plot(kind='scatter',\n",
    "                  x='predict',y='resid',alpha=0.2,figsize=(10,6))\n",
    "\n",
    "# Heteroskedasticity is shown here. Residuals look like a \"tornado\""
   ]
  },
  {
   "cell_type": "code",
   "execution_count": null,
   "metadata": {},
   "outputs": [],
   "source": [
    "# Higher prediction, the more negative the residuals, meaning \n",
    "# the model is over predicting.\n",
    "\n",
    "# Lower prediction, the more positive the residuals, meaning\n",
    "# the model is under predicting."
   ]
  },
  {
   "cell_type": "code",
   "execution_count": 124,
   "metadata": {},
   "outputs": [
    {
     "ename": "AttributeError",
     "evalue": "module 'matplotlib.pyplot' has no attribute 'dist'",
     "output_type": "error",
     "traceback": [
      "\u001b[0;31m---------------------------------------------------------------------------\u001b[0m",
      "\u001b[0;31mAttributeError\u001b[0m                            Traceback (most recent call last)",
      "\u001b[0;32m<ipython-input-124-3515c502d9bb>\u001b[0m in \u001b[0;36m<module>\u001b[0;34m\u001b[0m\n\u001b[1;32m      4\u001b[0m \u001b[0;34m\u001b[0m\u001b[0m\n\u001b[1;32m      5\u001b[0m \u001b[0;31m#y_test[y_test < 10000000].hist(bins=25)\u001b[0m\u001b[0;34m\u001b[0m\u001b[0;34m\u001b[0m\u001b[0;34m\u001b[0m\u001b[0m\n\u001b[0;32m----> 6\u001b[0;31m \u001b[0mplt\u001b[0m\u001b[0;34m.\u001b[0m\u001b[0mdist\u001b[0m\u001b[0;34m(\u001b[0m\u001b[0my_test\u001b[0m\u001b[0;34m[\u001b[0m\u001b[0my_test\u001b[0m \u001b[0;34m<\u001b[0m \u001b[0;36m10000000\u001b[0m\u001b[0;34m]\u001b[0m\u001b[0;34m)\u001b[0m\u001b[0;34m;\u001b[0m\u001b[0;34m\u001b[0m\u001b[0;34m\u001b[0m\u001b[0m\n\u001b[0m",
      "\u001b[0;31mAttributeError\u001b[0m: module 'matplotlib.pyplot' has no attribute 'dist'"
     ]
    }
   ],
   "source": [
    "# inspect histogram\n",
    "#y_test[y_test < 10000000].hist(bins=25)\n",
    "#plt.dist('Histogram of Dependent Variable (User Counts)');\n",
    "\n",
    "#y_test[y_test < 10000000].hist(bins=25)\n",
    "plt.dist(y_test[y_test < 10000000]);"
   ]
  },
  {
   "cell_type": "code",
   "execution_count": 120,
   "metadata": {},
   "outputs": [
    {
     "data": {
      "text/plain": [
       "9190"
      ]
     },
     "execution_count": 120,
     "metadata": {},
     "output_type": "execute_result"
    }
   ],
   "source": [
    "len(y[y < 10000000])"
   ]
  },
  {
   "cell_type": "code",
   "execution_count": 121,
   "metadata": {},
   "outputs": [
    {
     "data": {
      "text/plain": [
       "9213"
      ]
     },
     "execution_count": 121,
     "metadata": {},
     "output_type": "execute_result"
    }
   ],
   "source": [
    "len(y)"
   ]
  },
  {
   "cell_type": "code",
   "execution_count": null,
   "metadata": {},
   "outputs": [],
   "source": [
    "# diagnose/inspect residual normality using qqplot:\n",
    "stats.probplot(data['resid'], dist=\"norm\", plot=plt)\n",
    "plt.title(\"Normal Q-Q plot\")\n",
    "plt.show()"
   ]
  },
  {
   "cell_type": "code",
   "execution_count": null,
   "metadata": {},
   "outputs": [],
   "source": []
  },
  {
   "cell_type": "markdown",
   "metadata": {
    "heading_collapsed": true
   },
   "source": [
    "# Investigating Target Variable"
   ]
  },
  {
   "cell_type": "code",
   "execution_count": 85,
   "metadata": {
    "hidden": true
   },
   "outputs": [
    {
     "data": {
      "text/html": [
       "<div>\n",
       "<style scoped>\n",
       "    .dataframe tbody tr th:only-of-type {\n",
       "        vertical-align: middle;\n",
       "    }\n",
       "\n",
       "    .dataframe tbody tr th {\n",
       "        vertical-align: top;\n",
       "    }\n",
       "\n",
       "    .dataframe thead th {\n",
       "        text-align: right;\n",
       "    }\n",
       "</style>\n",
       "<table border=\"1\" class=\"dataframe\">\n",
       "  <thead>\n",
       "    <tr style=\"text-align: right;\">\n",
       "      <th></th>\n",
       "      <th>full_name</th>\n",
       "      <th>bldg_name</th>\n",
       "      <th>bldg_addr</th>\n",
       "      <th>apt_floor</th>\n",
       "      <th>bldg_rating</th>\n",
       "      <th>sold_date</th>\n",
       "      <th>sold_date_dt</th>\n",
       "      <th>sold_price</th>\n",
       "      <th>price_per_sqft</th>\n",
       "      <th>square_feet</th>\n",
       "      <th>bed_and_bath</th>\n",
       "      <th>beds</th>\n",
       "      <th>baths</th>\n",
       "      <th>url</th>\n",
       "      <th>listed</th>\n",
       "      <th>days_on_market</th>\n",
       "      <th>neighborhood</th>\n",
       "      <th>monthly_common_charges</th>\n",
       "      <th>monthly_real_estate_taxes</th>\n",
       "      <th>minimum_down_payment</th>\n",
       "      <th>doorman</th>\n",
       "      <th>last_price_change</th>\n",
       "      <th>sold_season</th>\n",
       "      <th>days_on_market</th>\n",
       "    </tr>\n",
       "  </thead>\n",
       "  <tbody>\n",
       "    <tr>\n",
       "      <td>0</td>\n",
       "      <td>Worldwide Plaza, 393 West 49th Street, #3P</td>\n",
       "      <td>Worldwide Plaza</td>\n",
       "      <td>393 West 49th Street</td>\n",
       "      <td>3.0</td>\n",
       "      <td>73.0</td>\n",
       "      <td>Last Sold on Sep 27, 2019</td>\n",
       "      <td>2019-09-27</td>\n",
       "      <td>545000.0</td>\n",
       "      <td>NaN</td>\n",
       "      <td>NaN</td>\n",
       "      <td>Studio, 1 bath</td>\n",
       "      <td>0.0</td>\n",
       "      <td>1.0</td>\n",
       "      <td>https://www.cityrealty.com/nyc/midtown-west/wo...</td>\n",
       "      <td>NaT</td>\n",
       "      <td>NaN</td>\n",
       "      <td>NaN</td>\n",
       "      <td>NaN</td>\n",
       "      <td>NaN</td>\n",
       "      <td>NaN</td>\n",
       "      <td>NaN</td>\n",
       "      <td>NaN</td>\n",
       "      <td>Fall</td>\n",
       "      <td>NaN</td>\n",
       "    </tr>\n",
       "    <tr>\n",
       "      <td>1</td>\n",
       "      <td>The Cosmopolitan, 145 East 48th Street, #25G</td>\n",
       "      <td>The Cosmopolitan</td>\n",
       "      <td>145 East 48th Street</td>\n",
       "      <td>25.0</td>\n",
       "      <td>78.0</td>\n",
       "      <td>Last Sold on Sep 25, 2019</td>\n",
       "      <td>2019-09-25</td>\n",
       "      <td>799000.0</td>\n",
       "      <td>1229.0</td>\n",
       "      <td>650.0</td>\n",
       "      <td>1 bed, 1 bath</td>\n",
       "      <td>1.0</td>\n",
       "      <td>1.0</td>\n",
       "      <td>https://www.cityrealty.com/nyc/midtown-east/th...</td>\n",
       "      <td>2019-04-12</td>\n",
       "      <td>177</td>\n",
       "      <td>Midtown East</td>\n",
       "      <td>814.0</td>\n",
       "      <td>948.0</td>\n",
       "      <td>0.1</td>\n",
       "      <td>FT Doorman</td>\n",
       "      <td>NaN</td>\n",
       "      <td>Fall</td>\n",
       "      <td>166.0</td>\n",
       "    </tr>\n",
       "    <tr>\n",
       "      <td>2</td>\n",
       "      <td>The Orion, 350 West 42nd Street, #21F</td>\n",
       "      <td>The Orion</td>\n",
       "      <td>350 West 42nd Street</td>\n",
       "      <td>21.0</td>\n",
       "      <td>79.0</td>\n",
       "      <td>Last Sold on Sep 24, 2019</td>\n",
       "      <td>2019-09-24</td>\n",
       "      <td>1085000.0</td>\n",
       "      <td>1572.0</td>\n",
       "      <td>690.0</td>\n",
       "      <td>1 bed, 1 bath</td>\n",
       "      <td>1.0</td>\n",
       "      <td>1.0</td>\n",
       "      <td>https://www.cityrealty.com/nyc/midtown-west/th...</td>\n",
       "      <td>2019-04-12</td>\n",
       "      <td>176</td>\n",
       "      <td>Midtown West</td>\n",
       "      <td>689.0</td>\n",
       "      <td>1315.0</td>\n",
       "      <td>NaN</td>\n",
       "      <td>FT Doorman</td>\n",
       "      <td>NaN</td>\n",
       "      <td>Fall</td>\n",
       "      <td>165.0</td>\n",
       "    </tr>\n",
       "    <tr>\n",
       "      <td>3</td>\n",
       "      <td>Morgan Court, 211 Madison Avenue, #6A</td>\n",
       "      <td>Morgan Court</td>\n",
       "      <td>211 Madison Avenue</td>\n",
       "      <td>6.0</td>\n",
       "      <td>73.0</td>\n",
       "      <td>Last Sold on Sep 23, 2019</td>\n",
       "      <td>2019-09-23</td>\n",
       "      <td>1039000.0</td>\n",
       "      <td>910.0</td>\n",
       "      <td>1142.0</td>\n",
       "      <td>1 bed, 1.5 baths</td>\n",
       "      <td>1.0</td>\n",
       "      <td>1.5</td>\n",
       "      <td>https://www.cityrealty.com/nyc/murray-hill/mor...</td>\n",
       "      <td>2019-03-06</td>\n",
       "      <td>214</td>\n",
       "      <td>Murray Hill</td>\n",
       "      <td>1683.0</td>\n",
       "      <td>1148.0</td>\n",
       "      <td>NaN</td>\n",
       "      <td>FT Doorman</td>\n",
       "      <td>NaN</td>\n",
       "      <td>Fall</td>\n",
       "      <td>201.0</td>\n",
       "    </tr>\n",
       "    <tr>\n",
       "      <td>4</td>\n",
       "      <td>325 Fifth Avenue, #23F</td>\n",
       "      <td>NaN</td>\n",
       "      <td>325 Fifth Avenue</td>\n",
       "      <td>23.0</td>\n",
       "      <td>70.0</td>\n",
       "      <td>Last Sold on Sep 23, 2019</td>\n",
       "      <td>2019-09-23</td>\n",
       "      <td>1080000.0</td>\n",
       "      <td>1570.0</td>\n",
       "      <td>688.0</td>\n",
       "      <td>1 bed, 1 bath</td>\n",
       "      <td>1.0</td>\n",
       "      <td>1.0</td>\n",
       "      <td>https://www.cityrealty.com/nyc/murray-hill/325...</td>\n",
       "      <td>2019-05-28</td>\n",
       "      <td>132</td>\n",
       "      <td>Murray Hill</td>\n",
       "      <td>810.0</td>\n",
       "      <td>1511.0</td>\n",
       "      <td>NaN</td>\n",
       "      <td>FT Doorman</td>\n",
       "      <td>NaN</td>\n",
       "      <td>Fall</td>\n",
       "      <td>118.0</td>\n",
       "    </tr>\n",
       "  </tbody>\n",
       "</table>\n",
       "</div>"
      ],
      "text/plain": [
       "                                      full_name         bldg_name  \\\n",
       "0    Worldwide Plaza, 393 West 49th Street, #3P   Worldwide Plaza   \n",
       "1  The Cosmopolitan, 145 East 48th Street, #25G  The Cosmopolitan   \n",
       "2         The Orion, 350 West 42nd Street, #21F         The Orion   \n",
       "3         Morgan Court, 211 Madison Avenue, #6A      Morgan Court   \n",
       "4                        325 Fifth Avenue, #23F               NaN   \n",
       "\n",
       "              bldg_addr  apt_floor  bldg_rating                  sold_date  \\\n",
       "0  393 West 49th Street        3.0         73.0  Last Sold on Sep 27, 2019   \n",
       "1  145 East 48th Street       25.0         78.0  Last Sold on Sep 25, 2019   \n",
       "2  350 West 42nd Street       21.0         79.0  Last Sold on Sep 24, 2019   \n",
       "3    211 Madison Avenue        6.0         73.0  Last Sold on Sep 23, 2019   \n",
       "4      325 Fifth Avenue       23.0         70.0  Last Sold on Sep 23, 2019   \n",
       "\n",
       "  sold_date_dt  sold_price  price_per_sqft  square_feet      bed_and_bath  \\\n",
       "0   2019-09-27    545000.0             NaN          NaN    Studio, 1 bath   \n",
       "1   2019-09-25    799000.0          1229.0        650.0     1 bed, 1 bath   \n",
       "2   2019-09-24   1085000.0          1572.0        690.0     1 bed, 1 bath   \n",
       "3   2019-09-23   1039000.0           910.0       1142.0  1 bed, 1.5 baths   \n",
       "4   2019-09-23   1080000.0          1570.0        688.0     1 bed, 1 bath   \n",
       "\n",
       "   beds  baths                                                url     listed  \\\n",
       "0   0.0    1.0  https://www.cityrealty.com/nyc/midtown-west/wo...        NaT   \n",
       "1   1.0    1.0  https://www.cityrealty.com/nyc/midtown-east/th... 2019-04-12   \n",
       "2   1.0    1.0  https://www.cityrealty.com/nyc/midtown-west/th... 2019-04-12   \n",
       "3   1.0    1.5  https://www.cityrealty.com/nyc/murray-hill/mor... 2019-03-06   \n",
       "4   1.0    1.0  https://www.cityrealty.com/nyc/murray-hill/325... 2019-05-28   \n",
       "\n",
       "   days_on_market  neighborhood  monthly_common_charges  \\\n",
       "0             NaN           NaN                     NaN   \n",
       "1             177  Midtown East                   814.0   \n",
       "2             176  Midtown West                   689.0   \n",
       "3             214   Murray Hill                  1683.0   \n",
       "4             132   Murray Hill                   810.0   \n",
       "\n",
       "   monthly_real_estate_taxes  minimum_down_payment     doorman  \\\n",
       "0                        NaN                   NaN         NaN   \n",
       "1                      948.0                   0.1  FT Doorman   \n",
       "2                     1315.0                   NaN  FT Doorman   \n",
       "3                     1148.0                   NaN  FT Doorman   \n",
       "4                     1511.0                   NaN  FT Doorman   \n",
       "\n",
       "  last_price_change sold_season  days_on_market  \n",
       "0               NaN        Fall             NaN  \n",
       "1               NaN        Fall           166.0  \n",
       "2               NaN        Fall           165.0  \n",
       "3               NaN        Fall           201.0  \n",
       "4               NaN        Fall           118.0  "
      ]
     },
     "execution_count": 85,
     "metadata": {},
     "output_type": "execute_result"
    }
   ],
   "source": [
    "df_clean.head()"
   ]
  },
  {
   "cell_type": "code",
   "execution_count": 94,
   "metadata": {
    "hidden": true
   },
   "outputs": [
    {
     "data": {
      "text/plain": [
       "<matplotlib.collections.PathCollection at 0x1a2ce612e8>"
      ]
     },
     "execution_count": 94,
     "metadata": {},
     "output_type": "execute_result"
    },
    {
     "data": {
      "image/png": "[encoded data removed]",
      "text/plain": [
       "<Figure size 432x288 with 1 Axes>"
      ]
     },
     "metadata": {},
     "output_type": "display_data"
    }
   ],
   "source": [
    "plt.scatter(df_clean['sold_date_dt'], df_clean['sold_price'])"
   ]
  },
  {
   "cell_type": "code",
   "execution_count": 36,
   "metadata": {
    "hidden": true
   },
   "outputs": [
    {
     "data": {
      "text/plain": [
       "<matplotlib.axes._subplots.AxesSubplot at 0x1a205c8a20>"
      ]
     },
     "execution_count": 36,
     "metadata": {},
     "output_type": "execute_result"
    },
    {
     "data": {
      "image/png": "[encoded data removed]",
      "text/plain": [
       "<Figure size 432x288 with 1 Axes>"
      ]
     },
     "metadata": {},
     "output_type": "display_data"
    }
   ],
   "source": [
    "sns.distplot(df_clean['sold_price'])"
   ]
  },
  {
   "cell_type": "code",
   "execution_count": 99,
   "metadata": {
    "hidden": true
   },
   "outputs": [
    {
     "data": {
      "text/plain": [
       "14840"
      ]
     },
     "execution_count": 99,
     "metadata": {},
     "output_type": "execute_result"
    }
   ],
   "source": [
    "len(df_clean) - len([df_clean['sold_price'] < 8000000])"
   ]
  },
  {
   "cell_type": "code",
   "execution_count": 102,
   "metadata": {
    "hidden": true
   },
   "outputs": [
    {
     "data": {
      "text/plain": [
       "<matplotlib.axes._subplots.AxesSubplot at 0x1a2d6b5470>"
      ]
     },
     "execution_count": 102,
     "metadata": {},
     "output_type": "execute_result"
    },
    {
     "data": {
      "image/png": "[encoded data removed]",
      "text/plain": [
       "<Figure size 432x288 with 1 Axes>"
      ]
     },
     "metadata": {},
     "output_type": "display_data"
    }
   ],
   "source": [
    "sns.distplot(df_model['sold_price'][df_model['sold_price'] < 10000000])"
   ]
  },
  {
   "cell_type": "code",
   "execution_count": null,
   "metadata": {
    "hidden": true
   },
   "outputs": [],
   "source": []
  }
 ],
 "metadata": {
  "kernelspec": {
   "display_name": "Python 3",
   "language": "python",
   "name": "python3"
  },
  "language_info": {
   "codemirror_mode": {
    "name": "ipython",
    "version": 3
   },
   "file_extension": ".py",
   "mimetype": "text/x-python",
   "name": "python",
   "nbconvert_exporter": "python",
   "pygments_lexer": "ipython3",
   "version": "3.6.8"
  }
 },
 "nbformat": 4,
 "nbformat_minor": 2
}
