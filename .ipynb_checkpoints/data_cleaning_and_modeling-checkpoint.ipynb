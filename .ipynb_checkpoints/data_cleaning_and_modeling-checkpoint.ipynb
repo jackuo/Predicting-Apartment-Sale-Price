{
 "cells": [
  {
   "cell_type": "markdown",
   "metadata": {
    "heading_collapsed": true
   },
   "source": [
    "# Import Statements"
   ]
  },
  {
   "cell_type": "code",
   "execution_count": 21,
   "metadata": {
    "hidden": true
   },
   "outputs": [],
   "source": [
    "import pickle\n",
    "import pandas as pd\n",
    "import numpy as np\n",
    "\n",
    "from bs4 import BeautifulSoup\n",
    "import requests\n",
    "from collections import defaultdict\n",
    "\n",
    "import re\n",
    "from datetime import datetime\n",
    "import glob\n",
    "\n",
    "import matplotlib.pyplot as plt\n",
    "import seaborn as sns\n",
    "%matplotlib inline\n",
    "sns.set()\n",
    "\n",
    "# Necessary imports\n",
    "from sklearn.linear_model import LinearRegression\n",
    "from sklearn.linear_model import RidgeCV\n",
    "\n",
    "from sklearn.model_selection import train_test_split\n",
    "from sklearn.linear_model import LinearRegression, Ridge #ordinary linear regression + w/ ridge regularization\n",
    "from sklearn.preprocessing import StandardScaler, PolynomialFeatures\n",
    "\n",
    "\n",
    "pd.set_option('display.max_columns', 500)"
   ]
  },
  {
   "cell_type": "markdown",
   "metadata": {
    "heading_collapsed": true
   },
   "source": [
    "# Functions"
   ]
  },
  {
   "cell_type": "code",
   "execution_count": 2,
   "metadata": {
    "hidden": true
   },
   "outputs": [],
   "source": [
    "def load_pickle(file_location):\n",
    "    with open(file_location, \"rb\") as picklefile:\n",
    "        df = pickle.load(picklefile)\n",
    "    return(df)"
   ]
  },
  {
   "cell_type": "markdown",
   "metadata": {
    "heading_collapsed": true
   },
   "source": [
    "# Clean Data"
   ]
  },
  {
   "cell_type": "code",
   "execution_count": 3,
   "metadata": {
    "hidden": true
   },
   "outputs": [],
   "source": [
    "df = load_pickle(\"all_midtown_data.pkl\")"
   ]
  },
  {
   "cell_type": "code",
   "execution_count": 4,
   "metadata": {
    "hidden": true
   },
   "outputs": [
    {
     "name": "stdout",
     "output_type": "stream",
     "text": [
      "2. Season Added\n",
      "3. Days on Market Added\n",
      "4. Filled Beds to indicate Studio\n",
      "5. Apt Nulls Filled\n",
      "6. Renamed Columns\n"
     ]
    }
   ],
   "source": [
    "# Remove Building Type column. They are all Condos\n",
    "df = df.drop(\"Building Type\", axis=1)\n",
    "\n",
    "# Sort values by date sold\n",
    "df = df.sort_values(by = 'sold_date_dt', ascending = False)\n",
    "\n",
    "# Drop duplicate rows\n",
    "#df_no_dup = df.drop_duplicates(subset = 'full_name', keep = 'first').reset_index(drop = True)\n",
    "#print(\"1. Duplicates Removed\")\n",
    "\n",
    "# Add season\n",
    "df['sold_season'] = (df['sold_date_dt']\n",
    "                     .dt\n",
    "                     .month\n",
    "                     .map({1 : 'Winter', \n",
    "                           2 : 'Winter',\n",
    "                           3 : 'Spring',\n",
    "                           4 : 'Spring',\n",
    "                           5 : 'Spring',\n",
    "                           6 : 'Summer',\n",
    "                           7 : 'Summer',\n",
    "                           8 : 'Summer',\n",
    "                           9 : 'Fall',\n",
    "                           10 : 'Fall',\n",
    "                           11 : 'Fall',\n",
    "                           12 : 'Winter'}))\n",
    "print(\"2. Season Added\")\n",
    "\n",
    "# Add days on market column, and convert datetime timedelta to float\n",
    "df['days_on_market'] = df['sold_date_dt'] - df['Listed']\n",
    "df['days_on_market'] = (df['days_on_market']/np.timedelta64(1, 'D'))\n",
    "print(\"3. Days on Market Added\")\n",
    "\n",
    "# Fill to indicate Studio\n",
    "df['beds'] = df['beds'].fillna(0)\n",
    "print(\"4. Filled Beds to indicate Studio\")\n",
    "\n",
    "### Fixing rows where there is no condo ###\n",
    "# Find where apt = NaN\n",
    "df_apt_na = df[df['apt_floor'].isna()]\n",
    "\n",
    "# Fill Apt nulls, move bldg address to correct place, and delete bldg name\n",
    "for index, row in df_apt_na.iterrows():\n",
    "    #print(row['apt_floor'])\n",
    "    #print(np.isnan(row['apt_floor']))\n",
    "    try:\n",
    "        if np.isnan(row['apt_floor']):\n",
    "            df.loc[index, 'apt_floor'] = int(re.findall('\\d+', row['bldg_addr'])[0]) # assign value in full dataframe\n",
    "            df.loc[index, 'bldg_addr'] = df.loc[index]['bldg_name'] # move building address over to correct column\n",
    "            df.loc[index, 'bldg_name'] = np.nan # clears building name\n",
    "            #print(index)\n",
    "        else:\n",
    "            continue\n",
    "    except:\n",
    "        continue\n",
    "print(\"5. Apt Nulls Filled\")\n",
    "\n",
    "# Rename Columns\n",
    "df = df.rename(columns = {\"Listed\": \"listed\", \n",
    "                 \"Days on Market\": \"days_on_market\", \n",
    "                 \"Neighborhood\": \"neighborhood\", \n",
    "                 \"Monthly Common Charges\": \"monthly_common_charges\", \n",
    "                 \"Monthly Real Estate Taxes\": \"monthly_real_estate_taxes\", \n",
    "                 \"Minimum Down Payment\": \"minimum_down_payment\", \n",
    "                 \"Doorman\": \"doorman\", \n",
    "                 \"Last Price Change\": \"last_price_change\"})\n",
    "print(\"6. Renamed Columns\")"
   ]
  },
  {
   "cell_type": "code",
   "execution_count": 9,
   "metadata": {
    "hidden": true
   },
   "outputs": [],
   "source": [
    "#df_clean['year'] = df_clean['sold_date_dt'].apply(lambda x: x.strftime('%Y'))\n",
    "df['year'] = df['sold_date_dt'].apply(lambda x: x.strftime('%Y'))\n",
    "#df.head()"
   ]
  },
  {
   "cell_type": "code",
   "execution_count": 10,
   "metadata": {
    "hidden": true
   },
   "outputs": [
    {
     "data": {
      "text/plain": [
       "(22945, 25)"
      ]
     },
     "execution_count": 10,
     "metadata": {},
     "output_type": "execute_result"
    }
   ],
   "source": [
    "df.shape"
   ]
  },
  {
   "cell_type": "code",
   "execution_count": 11,
   "metadata": {
    "hidden": true
   },
   "outputs": [
    {
     "name": "stdout",
     "output_type": "stream",
     "text": [
      "<class 'pandas.core.frame.DataFrame'>\n",
      "Int64Index: 22945 entries, 0 to 14377\n",
      "Data columns (total 25 columns):\n",
      "full_name                    22945 non-null object\n",
      "bldg_name                    19449 non-null object\n",
      "bldg_addr                    22945 non-null object\n",
      "apt_floor                    22916 non-null float64\n",
      "bldg_rating                  22124 non-null float64\n",
      "sold_date                    22945 non-null object\n",
      "sold_date_dt                 22945 non-null datetime64[ns]\n",
      "sold_price                   22945 non-null float64\n",
      "price_per_sqft               11885 non-null float64\n",
      "square_feet                  11885 non-null float64\n",
      "bed_and_bath                 22945 non-null object\n",
      "beds                         22945 non-null float64\n",
      "baths                        22908 non-null float64\n",
      "url                          22945 non-null object\n",
      "listed                       12657 non-null datetime64[ns]\n",
      "days_on_market               12657 non-null object\n",
      "neighborhood                 12657 non-null object\n",
      "monthly_common_charges       12529 non-null float64\n",
      "monthly_real_estate_taxes    12102 non-null float64\n",
      "minimum_down_payment         5180 non-null float64\n",
      "doorman                      12027 non-null object\n",
      "last_price_change            153 non-null object\n",
      "sold_season                  22945 non-null object\n",
      "days_on_market               12657 non-null float64\n",
      "year                         22945 non-null object\n",
      "dtypes: datetime64[ns](2), float64(11), object(12)\n",
      "memory usage: 4.6+ MB\n"
     ]
    }
   ],
   "source": [
    "df.info()"
   ]
  },
  {
   "cell_type": "markdown",
   "metadata": {},
   "source": [
    "# EDA"
   ]
  },
  {
   "cell_type": "code",
   "execution_count": 12,
   "metadata": {},
   "outputs": [],
   "source": [
    "target = ['sold_price']\n",
    "cont = ['bldg_rating', \n",
    "        'apt_floor',\n",
    "        'square_feet', \n",
    "        'beds', \n",
    "        'baths', \n",
    "        'monthly_common_charges', \n",
    "        'monthly_real_estate_taxes']\n",
    "cat = ['sold_season', 'neighborhood', 'year']\n",
    "model_columns = cont + cat + target"
   ]
  },
  {
   "cell_type": "code",
   "execution_count": 13,
   "metadata": {},
   "outputs": [
    {
     "name": "stdout",
     "output_type": "stream",
     "text": [
      "<class 'pandas.core.frame.DataFrame'>\n",
      "Int64Index: 22945 entries, 0 to 14377\n",
      "Data columns (total 11 columns):\n",
      "bldg_rating                  22124 non-null float64\n",
      "apt_floor                    22916 non-null float64\n",
      "square_feet                  11885 non-null float64\n",
      "beds                         22945 non-null float64\n",
      "baths                        22908 non-null float64\n",
      "monthly_common_charges       12529 non-null float64\n",
      "monthly_real_estate_taxes    12102 non-null float64\n",
      "sold_season                  22945 non-null object\n",
      "neighborhood                 12657 non-null object\n",
      "year                         22945 non-null object\n",
      "sold_price                   22945 non-null float64\n",
      "dtypes: float64(8), object(3)\n",
      "memory usage: 2.1+ MB\n"
     ]
    }
   ],
   "source": [
    "smaller_df = df.loc[:, model_columns]\n",
    "#smaller_df.shape\n",
    "smaller_df.info()"
   ]
  },
  {
   "cell_type": "code",
   "execution_count": 14,
   "metadata": {},
   "outputs": [],
   "source": [
    "# Drop NAs\n",
    "smaller_df = smaller_df.dropna().reset_index(drop = True)\n",
    "# smaller_df.head()"
   ]
  },
  {
   "cell_type": "code",
   "execution_count": 15,
   "metadata": {},
   "outputs": [
    {
     "data": {
      "text/html": [
       "<div>\n",
       "<style scoped>\n",
       "    .dataframe tbody tr th:only-of-type {\n",
       "        vertical-align: middle;\n",
       "    }\n",
       "\n",
       "    .dataframe tbody tr th {\n",
       "        vertical-align: top;\n",
       "    }\n",
       "\n",
       "    .dataframe thead th {\n",
       "        text-align: right;\n",
       "    }\n",
       "</style>\n",
       "<table border=\"1\" class=\"dataframe\">\n",
       "  <thead>\n",
       "    <tr style=\"text-align: right;\">\n",
       "      <th></th>\n",
       "      <th>bldg_rating</th>\n",
       "      <th>apt_floor</th>\n",
       "      <th>square_feet</th>\n",
       "      <th>beds</th>\n",
       "      <th>baths</th>\n",
       "      <th>monthly_common_charges</th>\n",
       "      <th>monthly_real_estate_taxes</th>\n",
       "      <th>sold_price</th>\n",
       "    </tr>\n",
       "  </thead>\n",
       "  <tbody>\n",
       "    <tr>\n",
       "      <td>count</td>\n",
       "      <td>9213.000000</td>\n",
       "      <td>9213.000000</td>\n",
       "      <td>9213.000000</td>\n",
       "      <td>9213.000000</td>\n",
       "      <td>9213.000000</td>\n",
       "      <td>9213.000000</td>\n",
       "      <td>9213.000000</td>\n",
       "      <td>9.213000e+03</td>\n",
       "    </tr>\n",
       "    <tr>\n",
       "      <td>mean</td>\n",
       "      <td>76.403560</td>\n",
       "      <td>172.635841</td>\n",
       "      <td>949.395962</td>\n",
       "      <td>1.216325</td>\n",
       "      <td>1.503256</td>\n",
       "      <td>1118.170086</td>\n",
       "      <td>936.144687</td>\n",
       "      <td>1.519628e+06</td>\n",
       "    </tr>\n",
       "    <tr>\n",
       "      <td>std</td>\n",
       "      <td>10.546259</td>\n",
       "      <td>644.239001</td>\n",
       "      <td>386.183235</td>\n",
       "      <td>0.685108</td>\n",
       "      <td>0.578312</td>\n",
       "      <td>1187.605880</td>\n",
       "      <td>1259.686924</td>\n",
       "      <td>1.272554e+06</td>\n",
       "    </tr>\n",
       "    <tr>\n",
       "      <td>min</td>\n",
       "      <td>44.000000</td>\n",
       "      <td>1.000000</td>\n",
       "      <td>285.000000</td>\n",
       "      <td>0.000000</td>\n",
       "      <td>1.000000</td>\n",
       "      <td>216.000000</td>\n",
       "      <td>101.000000</td>\n",
       "      <td>1.715180e+05</td>\n",
       "    </tr>\n",
       "    <tr>\n",
       "      <td>25%</td>\n",
       "      <td>70.000000</td>\n",
       "      <td>7.000000</td>\n",
       "      <td>670.000000</td>\n",
       "      <td>1.000000</td>\n",
       "      <td>1.000000</td>\n",
       "      <td>678.000000</td>\n",
       "      <td>530.000000</td>\n",
       "      <td>8.350000e+05</td>\n",
       "    </tr>\n",
       "    <tr>\n",
       "      <td>50%</td>\n",
       "      <td>78.000000</td>\n",
       "      <td>17.000000</td>\n",
       "      <td>868.000000</td>\n",
       "      <td>1.000000</td>\n",
       "      <td>1.000000</td>\n",
       "      <td>918.000000</td>\n",
       "      <td>774.000000</td>\n",
       "      <td>1.199000e+06</td>\n",
       "    </tr>\n",
       "    <tr>\n",
       "      <td>75%</td>\n",
       "      <td>84.000000</td>\n",
       "      <td>33.000000</td>\n",
       "      <td>1179.000000</td>\n",
       "      <td>2.000000</td>\n",
       "      <td>2.000000</td>\n",
       "      <td>1340.000000</td>\n",
       "      <td>1146.000000</td>\n",
       "      <td>1.750000e+06</td>\n",
       "    </tr>\n",
       "    <tr>\n",
       "      <td>max</td>\n",
       "      <td>99.000000</td>\n",
       "      <td>6304.000000</td>\n",
       "      <td>3895.000000</td>\n",
       "      <td>4.000000</td>\n",
       "      <td>5.000000</td>\n",
       "      <td>64560.000000</td>\n",
       "      <td>75980.000000</td>\n",
       "      <td>2.350000e+07</td>\n",
       "    </tr>\n",
       "  </tbody>\n",
       "</table>\n",
       "</div>"
      ],
      "text/plain": [
       "       bldg_rating    apt_floor  square_feet         beds        baths  \\\n",
       "count  9213.000000  9213.000000  9213.000000  9213.000000  9213.000000   \n",
       "mean     76.403560   172.635841   949.395962     1.216325     1.503256   \n",
       "std      10.546259   644.239001   386.183235     0.685108     0.578312   \n",
       "min      44.000000     1.000000   285.000000     0.000000     1.000000   \n",
       "25%      70.000000     7.000000   670.000000     1.000000     1.000000   \n",
       "50%      78.000000    17.000000   868.000000     1.000000     1.000000   \n",
       "75%      84.000000    33.000000  1179.000000     2.000000     2.000000   \n",
       "max      99.000000  6304.000000  3895.000000     4.000000     5.000000   \n",
       "\n",
       "       monthly_common_charges  monthly_real_estate_taxes    sold_price  \n",
       "count             9213.000000                9213.000000  9.213000e+03  \n",
       "mean              1118.170086                 936.144687  1.519628e+06  \n",
       "std               1187.605880                1259.686924  1.272554e+06  \n",
       "min                216.000000                 101.000000  1.715180e+05  \n",
       "25%                678.000000                 530.000000  8.350000e+05  \n",
       "50%                918.000000                 774.000000  1.199000e+06  \n",
       "75%               1340.000000                1146.000000  1.750000e+06  \n",
       "max              64560.000000               75980.000000  2.350000e+07  "
      ]
     },
     "execution_count": 15,
     "metadata": {},
     "output_type": "execute_result"
    }
   ],
   "source": [
    "smaller_df.describe()"
   ]
  },
  {
   "cell_type": "code",
   "execution_count": 16,
   "metadata": {},
   "outputs": [
    {
     "name": "stdout",
     "output_type": "stream",
     "text": [
      "<class 'pandas.core.frame.DataFrame'>\n",
      "RangeIndex: 9213 entries, 0 to 9212\n",
      "Data columns (total 11 columns):\n",
      "bldg_rating                  9213 non-null float64\n",
      "apt_floor                    9213 non-null float64\n",
      "square_feet                  9213 non-null float64\n",
      "beds                         9213 non-null float64\n",
      "baths                        9213 non-null float64\n",
      "monthly_common_charges       9213 non-null float64\n",
      "monthly_real_estate_taxes    9213 non-null float64\n",
      "sold_season                  9213 non-null object\n",
      "neighborhood                 9213 non-null object\n",
      "year                         9213 non-null object\n",
      "sold_price                   9213 non-null float64\n",
      "dtypes: float64(8), object(3)\n",
      "memory usage: 791.9+ KB\n"
     ]
    }
   ],
   "source": [
    "smaller_df.info()"
   ]
  },
  {
   "cell_type": "code",
   "execution_count": 17,
   "metadata": {},
   "outputs": [
    {
     "data": {
      "text/plain": [
       "<seaborn.axisgrid.PairGrid at 0x1a23b1e7b8>"
      ]
     },
     "execution_count": 17,
     "metadata": {},
     "output_type": "execute_result"
    },
    {
     "data": {
      "image/png": "[encoded data removed]",
      "text/plain": [
       "<Figure size 1620x1620 with 90 Axes>"
      ]
     },
     "metadata": {
      "needs_background": "light"
     },
     "output_type": "display_data"
    }
   ],
   "source": [
    "sns.pairplot(smaller_df, diag_kind='kde')"
   ]
  },
  {
   "cell_type": "code",
   "execution_count": 18,
   "metadata": {},
   "outputs": [
    {
     "data": {
      "text/html": [
       "<div>\n",
       "<style scoped>\n",
       "    .dataframe tbody tr th:only-of-type {\n",
       "        vertical-align: middle;\n",
       "    }\n",
       "\n",
       "    .dataframe tbody tr th {\n",
       "        vertical-align: top;\n",
       "    }\n",
       "\n",
       "    .dataframe thead th {\n",
       "        text-align: right;\n",
       "    }\n",
       "</style>\n",
       "<table border=\"1\" class=\"dataframe\">\n",
       "  <thead>\n",
       "    <tr style=\"text-align: right;\">\n",
       "      <th></th>\n",
       "      <th>bldg_rating</th>\n",
       "      <th>apt_floor</th>\n",
       "      <th>square_feet</th>\n",
       "      <th>beds</th>\n",
       "      <th>baths</th>\n",
       "      <th>monthly_common_charges</th>\n",
       "      <th>monthly_real_estate_taxes</th>\n",
       "      <th>sold_price</th>\n",
       "    </tr>\n",
       "  </thead>\n",
       "  <tbody>\n",
       "    <tr>\n",
       "      <td>bldg_rating</td>\n",
       "      <td>1.000000</td>\n",
       "      <td>0.168424</td>\n",
       "      <td>0.319553</td>\n",
       "      <td>0.140756</td>\n",
       "      <td>0.293470</td>\n",
       "      <td>0.229591</td>\n",
       "      <td>0.164236</td>\n",
       "      <td>0.397080</td>\n",
       "    </tr>\n",
       "    <tr>\n",
       "      <td>apt_floor</td>\n",
       "      <td>0.168424</td>\n",
       "      <td>1.000000</td>\n",
       "      <td>0.096148</td>\n",
       "      <td>0.060561</td>\n",
       "      <td>0.114580</td>\n",
       "      <td>0.090550</td>\n",
       "      <td>0.034372</td>\n",
       "      <td>0.124835</td>\n",
       "    </tr>\n",
       "    <tr>\n",
       "      <td>square_feet</td>\n",
       "      <td>0.319553</td>\n",
       "      <td>0.096148</td>\n",
       "      <td>1.000000</td>\n",
       "      <td>0.759236</td>\n",
       "      <td>0.842308</td>\n",
       "      <td>0.422368</td>\n",
       "      <td>0.327033</td>\n",
       "      <td>0.775133</td>\n",
       "    </tr>\n",
       "    <tr>\n",
       "      <td>beds</td>\n",
       "      <td>0.140756</td>\n",
       "      <td>0.060561</td>\n",
       "      <td>0.759236</td>\n",
       "      <td>1.000000</td>\n",
       "      <td>0.770582</td>\n",
       "      <td>0.282847</td>\n",
       "      <td>0.226872</td>\n",
       "      <td>0.492474</td>\n",
       "    </tr>\n",
       "    <tr>\n",
       "      <td>baths</td>\n",
       "      <td>0.293470</td>\n",
       "      <td>0.114580</td>\n",
       "      <td>0.842308</td>\n",
       "      <td>0.770582</td>\n",
       "      <td>1.000000</td>\n",
       "      <td>0.342631</td>\n",
       "      <td>0.264079</td>\n",
       "      <td>0.622095</td>\n",
       "    </tr>\n",
       "    <tr>\n",
       "      <td>monthly_common_charges</td>\n",
       "      <td>0.229591</td>\n",
       "      <td>0.090550</td>\n",
       "      <td>0.422368</td>\n",
       "      <td>0.282847</td>\n",
       "      <td>0.342631</td>\n",
       "      <td>1.000000</td>\n",
       "      <td>0.887635</td>\n",
       "      <td>0.414322</td>\n",
       "    </tr>\n",
       "    <tr>\n",
       "      <td>monthly_real_estate_taxes</td>\n",
       "      <td>0.164236</td>\n",
       "      <td>0.034372</td>\n",
       "      <td>0.327033</td>\n",
       "      <td>0.226872</td>\n",
       "      <td>0.264079</td>\n",
       "      <td>0.887635</td>\n",
       "      <td>1.000000</td>\n",
       "      <td>0.322614</td>\n",
       "    </tr>\n",
       "    <tr>\n",
       "      <td>sold_price</td>\n",
       "      <td>0.397080</td>\n",
       "      <td>0.124835</td>\n",
       "      <td>0.775133</td>\n",
       "      <td>0.492474</td>\n",
       "      <td>0.622095</td>\n",
       "      <td>0.414322</td>\n",
       "      <td>0.322614</td>\n",
       "      <td>1.000000</td>\n",
       "    </tr>\n",
       "  </tbody>\n",
       "</table>\n",
       "</div>"
      ],
      "text/plain": [
       "                           bldg_rating  apt_floor  square_feet      beds  \\\n",
       "bldg_rating                   1.000000   0.168424     0.319553  0.140756   \n",
       "apt_floor                     0.168424   1.000000     0.096148  0.060561   \n",
       "square_feet                   0.319553   0.096148     1.000000  0.759236   \n",
       "beds                          0.140756   0.060561     0.759236  1.000000   \n",
       "baths                         0.293470   0.114580     0.842308  0.770582   \n",
       "monthly_common_charges        0.229591   0.090550     0.422368  0.282847   \n",
       "monthly_real_estate_taxes     0.164236   0.034372     0.327033  0.226872   \n",
       "sold_price                    0.397080   0.124835     0.775133  0.492474   \n",
       "\n",
       "                              baths  monthly_common_charges  \\\n",
       "bldg_rating                0.293470                0.229591   \n",
       "apt_floor                  0.114580                0.090550   \n",
       "square_feet                0.842308                0.422368   \n",
       "beds                       0.770582                0.282847   \n",
       "baths                      1.000000                0.342631   \n",
       "monthly_common_charges     0.342631                1.000000   \n",
       "monthly_real_estate_taxes  0.264079                0.887635   \n",
       "sold_price                 0.622095                0.414322   \n",
       "\n",
       "                           monthly_real_estate_taxes  sold_price  \n",
       "bldg_rating                                 0.164236    0.397080  \n",
       "apt_floor                                   0.034372    0.124835  \n",
       "square_feet                                 0.327033    0.775133  \n",
       "beds                                        0.226872    0.492474  \n",
       "baths                                       0.264079    0.622095  \n",
       "monthly_common_charges                      0.887635    0.414322  \n",
       "monthly_real_estate_taxes                   1.000000    0.322614  \n",
       "sold_price                                  0.322614    1.000000  "
      ]
     },
     "execution_count": 18,
     "metadata": {},
     "output_type": "execute_result"
    }
   ],
   "source": [
    "smaller_df.corr()"
   ]
  },
  {
   "cell_type": "code",
   "execution_count": 19,
   "metadata": {},
   "outputs": [],
   "source": [
    "#sns.distplot(smaller_df['sold_price'])\n",
    "#smaller_df.head()"
   ]
  },
  {
   "cell_type": "code",
   "execution_count": 20,
   "metadata": {},
   "outputs": [
    {
     "data": {
      "text/html": [
       "<div>\n",
       "<style scoped>\n",
       "    .dataframe tbody tr th:only-of-type {\n",
       "        vertical-align: middle;\n",
       "    }\n",
       "\n",
       "    .dataframe tbody tr th {\n",
       "        vertical-align: top;\n",
       "    }\n",
       "\n",
       "    .dataframe thead th {\n",
       "        text-align: right;\n",
       "    }\n",
       "</style>\n",
       "<table border=\"1\" class=\"dataframe\">\n",
       "  <thead>\n",
       "    <tr style=\"text-align: right;\">\n",
       "      <th></th>\n",
       "      <th>bldg_rating</th>\n",
       "      <th>apt_floor</th>\n",
       "      <th>square_feet</th>\n",
       "      <th>beds</th>\n",
       "      <th>baths</th>\n",
       "      <th>monthly_common_charges</th>\n",
       "      <th>monthly_real_estate_taxes</th>\n",
       "      <th>sold_price</th>\n",
       "      <th>sold_season_Fall</th>\n",
       "      <th>sold_season_Spring</th>\n",
       "      <th>sold_season_Summer</th>\n",
       "      <th>sold_season_Winter</th>\n",
       "      <th>neighborhood_Beekman/Sutton Place</th>\n",
       "      <th>neighborhood_Midtown East</th>\n",
       "      <th>neighborhood_Midtown West</th>\n",
       "      <th>neighborhood_Murray Hill</th>\n",
       "      <th>neighborhood_Turtle Bay/United Nations</th>\n",
       "      <th>year_2004</th>\n",
       "      <th>year_2005</th>\n",
       "      <th>year_2006</th>\n",
       "      <th>year_2007</th>\n",
       "      <th>year_2008</th>\n",
       "      <th>year_2009</th>\n",
       "      <th>year_2010</th>\n",
       "      <th>year_2011</th>\n",
       "      <th>year_2012</th>\n",
       "      <th>year_2013</th>\n",
       "      <th>year_2014</th>\n",
       "      <th>year_2015</th>\n",
       "      <th>year_2016</th>\n",
       "      <th>year_2017</th>\n",
       "      <th>year_2018</th>\n",
       "      <th>year_2019</th>\n",
       "    </tr>\n",
       "  </thead>\n",
       "  <tbody>\n",
       "    <tr>\n",
       "      <td>0</td>\n",
       "      <td>78.0</td>\n",
       "      <td>25.0</td>\n",
       "      <td>650.0</td>\n",
       "      <td>1.0</td>\n",
       "      <td>1.0</td>\n",
       "      <td>814.0</td>\n",
       "      <td>948.0</td>\n",
       "      <td>799000.0</td>\n",
       "      <td>1</td>\n",
       "      <td>0</td>\n",
       "      <td>0</td>\n",
       "      <td>0</td>\n",
       "      <td>0</td>\n",
       "      <td>1</td>\n",
       "      <td>0</td>\n",
       "      <td>0</td>\n",
       "      <td>0</td>\n",
       "      <td>0</td>\n",
       "      <td>0</td>\n",
       "      <td>0</td>\n",
       "      <td>0</td>\n",
       "      <td>0</td>\n",
       "      <td>0</td>\n",
       "      <td>0</td>\n",
       "      <td>0</td>\n",
       "      <td>0</td>\n",
       "      <td>0</td>\n",
       "      <td>0</td>\n",
       "      <td>0</td>\n",
       "      <td>0</td>\n",
       "      <td>0</td>\n",
       "      <td>0</td>\n",
       "      <td>1</td>\n",
       "    </tr>\n",
       "    <tr>\n",
       "      <td>1</td>\n",
       "      <td>78.0</td>\n",
       "      <td>25.0</td>\n",
       "      <td>650.0</td>\n",
       "      <td>1.0</td>\n",
       "      <td>1.0</td>\n",
       "      <td>814.0</td>\n",
       "      <td>948.0</td>\n",
       "      <td>799000.0</td>\n",
       "      <td>1</td>\n",
       "      <td>0</td>\n",
       "      <td>0</td>\n",
       "      <td>0</td>\n",
       "      <td>0</td>\n",
       "      <td>1</td>\n",
       "      <td>0</td>\n",
       "      <td>0</td>\n",
       "      <td>0</td>\n",
       "      <td>0</td>\n",
       "      <td>0</td>\n",
       "      <td>0</td>\n",
       "      <td>0</td>\n",
       "      <td>0</td>\n",
       "      <td>0</td>\n",
       "      <td>0</td>\n",
       "      <td>0</td>\n",
       "      <td>0</td>\n",
       "      <td>0</td>\n",
       "      <td>0</td>\n",
       "      <td>0</td>\n",
       "      <td>0</td>\n",
       "      <td>0</td>\n",
       "      <td>0</td>\n",
       "      <td>1</td>\n",
       "    </tr>\n",
       "    <tr>\n",
       "      <td>2</td>\n",
       "      <td>78.0</td>\n",
       "      <td>25.0</td>\n",
       "      <td>650.0</td>\n",
       "      <td>1.0</td>\n",
       "      <td>1.0</td>\n",
       "      <td>814.0</td>\n",
       "      <td>948.0</td>\n",
       "      <td>799000.0</td>\n",
       "      <td>1</td>\n",
       "      <td>0</td>\n",
       "      <td>0</td>\n",
       "      <td>0</td>\n",
       "      <td>0</td>\n",
       "      <td>1</td>\n",
       "      <td>0</td>\n",
       "      <td>0</td>\n",
       "      <td>0</td>\n",
       "      <td>0</td>\n",
       "      <td>0</td>\n",
       "      <td>0</td>\n",
       "      <td>0</td>\n",
       "      <td>0</td>\n",
       "      <td>0</td>\n",
       "      <td>0</td>\n",
       "      <td>0</td>\n",
       "      <td>0</td>\n",
       "      <td>0</td>\n",
       "      <td>0</td>\n",
       "      <td>0</td>\n",
       "      <td>0</td>\n",
       "      <td>0</td>\n",
       "      <td>0</td>\n",
       "      <td>1</td>\n",
       "    </tr>\n",
       "    <tr>\n",
       "      <td>3</td>\n",
       "      <td>79.0</td>\n",
       "      <td>21.0</td>\n",
       "      <td>690.0</td>\n",
       "      <td>1.0</td>\n",
       "      <td>1.0</td>\n",
       "      <td>689.0</td>\n",
       "      <td>1315.0</td>\n",
       "      <td>1085000.0</td>\n",
       "      <td>1</td>\n",
       "      <td>0</td>\n",
       "      <td>0</td>\n",
       "      <td>0</td>\n",
       "      <td>0</td>\n",
       "      <td>0</td>\n",
       "      <td>1</td>\n",
       "      <td>0</td>\n",
       "      <td>0</td>\n",
       "      <td>0</td>\n",
       "      <td>0</td>\n",
       "      <td>0</td>\n",
       "      <td>0</td>\n",
       "      <td>0</td>\n",
       "      <td>0</td>\n",
       "      <td>0</td>\n",
       "      <td>0</td>\n",
       "      <td>0</td>\n",
       "      <td>0</td>\n",
       "      <td>0</td>\n",
       "      <td>0</td>\n",
       "      <td>0</td>\n",
       "      <td>0</td>\n",
       "      <td>0</td>\n",
       "      <td>1</td>\n",
       "    </tr>\n",
       "    <tr>\n",
       "      <td>4</td>\n",
       "      <td>79.0</td>\n",
       "      <td>21.0</td>\n",
       "      <td>690.0</td>\n",
       "      <td>1.0</td>\n",
       "      <td>1.0</td>\n",
       "      <td>689.0</td>\n",
       "      <td>1315.0</td>\n",
       "      <td>1085000.0</td>\n",
       "      <td>1</td>\n",
       "      <td>0</td>\n",
       "      <td>0</td>\n",
       "      <td>0</td>\n",
       "      <td>0</td>\n",
       "      <td>0</td>\n",
       "      <td>1</td>\n",
       "      <td>0</td>\n",
       "      <td>0</td>\n",
       "      <td>0</td>\n",
       "      <td>0</td>\n",
       "      <td>0</td>\n",
       "      <td>0</td>\n",
       "      <td>0</td>\n",
       "      <td>0</td>\n",
       "      <td>0</td>\n",
       "      <td>0</td>\n",
       "      <td>0</td>\n",
       "      <td>0</td>\n",
       "      <td>0</td>\n",
       "      <td>0</td>\n",
       "      <td>0</td>\n",
       "      <td>0</td>\n",
       "      <td>0</td>\n",
       "      <td>1</td>\n",
       "    </tr>\n",
       "  </tbody>\n",
       "</table>\n",
       "</div>"
      ],
      "text/plain": [
       "   bldg_rating  apt_floor  square_feet  beds  baths  monthly_common_charges  \\\n",
       "0         78.0       25.0        650.0   1.0    1.0                   814.0   \n",
       "1         78.0       25.0        650.0   1.0    1.0                   814.0   \n",
       "2         78.0       25.0        650.0   1.0    1.0                   814.0   \n",
       "3         79.0       21.0        690.0   1.0    1.0                   689.0   \n",
       "4         79.0       21.0        690.0   1.0    1.0                   689.0   \n",
       "\n",
       "   monthly_real_estate_taxes  sold_price  sold_season_Fall  \\\n",
       "0                      948.0    799000.0                 1   \n",
       "1                      948.0    799000.0                 1   \n",
       "2                      948.0    799000.0                 1   \n",
       "3                     1315.0   1085000.0                 1   \n",
       "4                     1315.0   1085000.0                 1   \n",
       "\n",
       "   sold_season_Spring  sold_season_Summer  sold_season_Winter  \\\n",
       "0                   0                   0                   0   \n",
       "1                   0                   0                   0   \n",
       "2                   0                   0                   0   \n",
       "3                   0                   0                   0   \n",
       "4                   0                   0                   0   \n",
       "\n",
       "   neighborhood_Beekman/Sutton Place  neighborhood_Midtown East  \\\n",
       "0                                  0                          1   \n",
       "1                                  0                          1   \n",
       "2                                  0                          1   \n",
       "3                                  0                          0   \n",
       "4                                  0                          0   \n",
       "\n",
       "   neighborhood_Midtown West  neighborhood_Murray Hill  \\\n",
       "0                          0                         0   \n",
       "1                          0                         0   \n",
       "2                          0                         0   \n",
       "3                          1                         0   \n",
       "4                          1                         0   \n",
       "\n",
       "   neighborhood_Turtle Bay/United Nations  year_2004  year_2005  year_2006  \\\n",
       "0                                       0          0          0          0   \n",
       "1                                       0          0          0          0   \n",
       "2                                       0          0          0          0   \n",
       "3                                       0          0          0          0   \n",
       "4                                       0          0          0          0   \n",
       "\n",
       "   year_2007  year_2008  year_2009  year_2010  year_2011  year_2012  \\\n",
       "0          0          0          0          0          0          0   \n",
       "1          0          0          0          0          0          0   \n",
       "2          0          0          0          0          0          0   \n",
       "3          0          0          0          0          0          0   \n",
       "4          0          0          0          0          0          0   \n",
       "\n",
       "   year_2013  year_2014  year_2015  year_2016  year_2017  year_2018  year_2019  \n",
       "0          0          0          0          0          0          0          1  \n",
       "1          0          0          0          0          0          0          1  \n",
       "2          0          0          0          0          0          0          1  \n",
       "3          0          0          0          0          0          0          1  \n",
       "4          0          0          0          0          0          0          1  "
      ]
     },
     "execution_count": 20,
     "metadata": {},
     "output_type": "execute_result"
    }
   ],
   "source": [
    "# Get Dummies\n",
    "df_model = pd.get_dummies(smaller_df)\n",
    "\n",
    "# Remove large outliers from sold\n",
    "\n",
    "df_model.head()"
   ]
  },
  {
   "cell_type": "markdown",
   "metadata": {
    "heading_collapsed": true
   },
   "source": [
    "# Simple Model - 1 Variable"
   ]
  },
  {
   "cell_type": "code",
   "execution_count": 22,
   "metadata": {
    "hidden": true
   },
   "outputs": [],
   "source": [
    "#sns.distplot(df_model['sold_price'][df_model['sold_price'] <10000000])\n",
    "#plt.scatter(df_model['sold_price'])"
   ]
  },
  {
   "cell_type": "code",
   "execution_count": 23,
   "metadata": {
    "hidden": true
   },
   "outputs": [],
   "source": [
    "#target = ['sold_price']\n",
    "#cont = ['bldg_rating', \n",
    "#        'apt_floor',\n",
    "#        'square_feet', \n",
    "#        'beds', \n",
    "#        'baths', \n",
    "#        'monthly_common_charges', \n",
    "#        'monthly_real_estate_taxes']\n",
    "#cat = ['sold_season', 'neighborhood']\n",
    "#model_columns = cont + cat + target\n",
    "\n",
    "# Define X values and y values\n",
    "X = df_model.drop('sold_price', axis = 1)\n",
    "y = df_model['sold_price']"
   ]
  },
  {
   "cell_type": "code",
   "execution_count": 24,
   "metadata": {
    "hidden": true
   },
   "outputs": [],
   "source": [
    "# hold out 20% of the data for final testing\n",
    "X_train, X_test, y_train, y_test = train_test_split(X, y, test_size=.2, random_state=10)"
   ]
  },
  {
   "cell_type": "code",
   "execution_count": 25,
   "metadata": {
    "hidden": true
   },
   "outputs": [
    {
     "data": {
      "text/plain": [
       "(7370, 32)"
      ]
     },
     "execution_count": 25,
     "metadata": {},
     "output_type": "execute_result"
    }
   ],
   "source": [
    "X_train.shape"
   ]
  },
  {
   "cell_type": "code",
   "execution_count": 26,
   "metadata": {
    "hidden": true
   },
   "outputs": [
    {
     "data": {
      "text/plain": [
       "(1843, 32)"
      ]
     },
     "execution_count": 26,
     "metadata": {},
     "output_type": "execute_result"
    }
   ],
   "source": [
    "X_test.shape"
   ]
  },
  {
   "cell_type": "code",
   "execution_count": 27,
   "metadata": {
    "hidden": true
   },
   "outputs": [
    {
     "data": {
      "text/plain": [
       "0.5975542019440261"
      ]
     },
     "execution_count": 27,
     "metadata": {},
     "output_type": "execute_result"
    }
   ],
   "source": [
    "column_1 = ['square_feet']\n",
    "one_col_model = LinearRegression()\n",
    "one_col_model.fit(X_train.loc[:, column_1], y_train)\n",
    "one_col_model.score(X_train.loc[:, column_1], y_train)\n",
    "#one_col_model.coef_, one_col_model.intercept_"
   ]
  },
  {
   "cell_type": "code",
   "execution_count": 28,
   "metadata": {
    "hidden": true
   },
   "outputs": [
    {
     "data": {
      "text/plain": [
       "0.6176491226090489"
      ]
     },
     "execution_count": 28,
     "metadata": {},
     "output_type": "execute_result"
    }
   ],
   "source": [
    "one_col_model.score(X_test.loc[:, column_1],y_test)"
   ]
  },
  {
   "cell_type": "markdown",
   "metadata": {
    "heading_collapsed": true
   },
   "source": [
    "# Comparing Simple Models"
   ]
  },
  {
   "cell_type": "code",
   "execution_count": 29,
   "metadata": {
    "hidden": true
   },
   "outputs": [],
   "source": [
    "from sklearn.model_selection import cross_val_score\n",
    "from sklearn.model_selection import KFold"
   ]
  },
  {
   "cell_type": "code",
   "execution_count": 30,
   "metadata": {
    "hidden": true
   },
   "outputs": [],
   "source": [
    "# Models\n",
    "\n",
    "lm = LinearRegression()\n",
    "lm_reg = Ridge(alpha = 1)\n",
    "\n",
    "kf = KFold(n_splits=5, shuffle=True, random_state = 1001)"
   ]
  },
  {
   "cell_type": "code",
   "execution_count": 33,
   "metadata": {
    "hidden": true
   },
   "outputs": [
    {
     "data": {
      "text/plain": [
       "0.5540313849625313"
      ]
     },
     "execution_count": 33,
     "metadata": {},
     "output_type": "execute_result"
    }
   ],
   "source": [
    "# Linear Regression\n",
    "np.mean(cross_val_score(lm, X_train, y_train, # estimator, features, target\n",
    "                cv=kf, # number of folds \n",
    "                scoring='r2')) # scoring metric"
   ]
  },
  {
   "cell_type": "code",
   "execution_count": 34,
   "metadata": {
    "hidden": true
   },
   "outputs": [
    {
     "data": {
      "text/plain": [
       "0.5544096543042181"
      ]
     },
     "execution_count": 34,
     "metadata": {},
     "output_type": "execute_result"
    }
   ],
   "source": [
    "# Ridge Regression\n",
    "np.mean(cross_val_score(lm_reg, X_train, y_train, # estimator, features, target\n",
    "                cv=kf, # number of folds \n",
    "                scoring='r2')) # scoring metric"
   ]
  },
  {
   "cell_type": "code",
   "execution_count": 35,
   "metadata": {
    "hidden": true
   },
   "outputs": [
    {
     "name": "stdout",
     "output_type": "stream",
     "text": [
      "Train Score:  0.6717220971052916\n",
      "Test Score:  0.6641355562183885\n"
     ]
    }
   ],
   "source": [
    "# Linear Regression. Compare Train and Test\n",
    "lm.fit(X_train, y_train)\n",
    "print(\"Train Score: \", lm.score(X_train, y_train))\n",
    "print(\"Test Score: \", lm.score(X_test, y_test))"
   ]
  },
  {
   "cell_type": "code",
   "execution_count": 36,
   "metadata": {
    "hidden": true
   },
   "outputs": [
    {
     "name": "stdout",
     "output_type": "stream",
     "text": [
      "Train Score:  0.6716727722841707\n",
      "Test Score:  0.6648348067920592\n"
     ]
    }
   ],
   "source": [
    "# Ridge Regression. Compare Train and Test\n",
    "lm_reg.fit(X_train, y_train)\n",
    "print(\"Train Score: \", lm_reg.score(X_train, y_train))\n",
    "print(\"Test Score: \", lm_reg.score(X_test, y_test))"
   ]
  },
  {
   "cell_type": "markdown",
   "metadata": {},
   "source": [
    "# Ridge Regression with Standard Scaler"
   ]
  },
  {
   "cell_type": "code",
   "execution_count": 37,
   "metadata": {},
   "outputs": [
    {
     "data": {
      "text/html": [
       "<div>\n",
       "<style scoped>\n",
       "    .dataframe tbody tr th:only-of-type {\n",
       "        vertical-align: middle;\n",
       "    }\n",
       "\n",
       "    .dataframe tbody tr th {\n",
       "        vertical-align: top;\n",
       "    }\n",
       "\n",
       "    .dataframe thead th {\n",
       "        text-align: right;\n",
       "    }\n",
       "</style>\n",
       "<table border=\"1\" class=\"dataframe\">\n",
       "  <thead>\n",
       "    <tr style=\"text-align: right;\">\n",
       "      <th></th>\n",
       "      <th>bldg_rating</th>\n",
       "      <th>apt_floor</th>\n",
       "      <th>square_feet</th>\n",
       "      <th>beds</th>\n",
       "      <th>baths</th>\n",
       "      <th>monthly_common_charges</th>\n",
       "      <th>monthly_real_estate_taxes</th>\n",
       "      <th>sold_season_Fall</th>\n",
       "      <th>sold_season_Spring</th>\n",
       "      <th>sold_season_Summer</th>\n",
       "      <th>sold_season_Winter</th>\n",
       "      <th>neighborhood_Beekman/Sutton Place</th>\n",
       "      <th>neighborhood_Midtown East</th>\n",
       "      <th>neighborhood_Midtown West</th>\n",
       "      <th>neighborhood_Murray Hill</th>\n",
       "      <th>neighborhood_Turtle Bay/United Nations</th>\n",
       "      <th>year_2004</th>\n",
       "      <th>year_2005</th>\n",
       "      <th>year_2006</th>\n",
       "      <th>year_2007</th>\n",
       "      <th>year_2008</th>\n",
       "      <th>year_2009</th>\n",
       "      <th>year_2010</th>\n",
       "      <th>year_2011</th>\n",
       "      <th>year_2012</th>\n",
       "      <th>year_2013</th>\n",
       "      <th>year_2014</th>\n",
       "      <th>year_2015</th>\n",
       "      <th>year_2016</th>\n",
       "      <th>year_2017</th>\n",
       "      <th>year_2018</th>\n",
       "      <th>year_2019</th>\n",
       "    </tr>\n",
       "  </thead>\n",
       "  <tbody>\n",
       "    <tr>\n",
       "      <td>636</td>\n",
       "      <td>65.0</td>\n",
       "      <td>14.0</td>\n",
       "      <td>590.0</td>\n",
       "      <td>0.0</td>\n",
       "      <td>1.0</td>\n",
       "      <td>819.0</td>\n",
       "      <td>677.0</td>\n",
       "      <td>0</td>\n",
       "      <td>0</td>\n",
       "      <td>0</td>\n",
       "      <td>1</td>\n",
       "      <td>0</td>\n",
       "      <td>0</td>\n",
       "      <td>1</td>\n",
       "      <td>0</td>\n",
       "      <td>0</td>\n",
       "      <td>0</td>\n",
       "      <td>0</td>\n",
       "      <td>0</td>\n",
       "      <td>0</td>\n",
       "      <td>0</td>\n",
       "      <td>0</td>\n",
       "      <td>0</td>\n",
       "      <td>0</td>\n",
       "      <td>0</td>\n",
       "      <td>0</td>\n",
       "      <td>0</td>\n",
       "      <td>0</td>\n",
       "      <td>0</td>\n",
       "      <td>0</td>\n",
       "      <td>0</td>\n",
       "      <td>1</td>\n",
       "    </tr>\n",
       "    <tr>\n",
       "      <td>824</td>\n",
       "      <td>62.0</td>\n",
       "      <td>10.0</td>\n",
       "      <td>1353.0</td>\n",
       "      <td>0.0</td>\n",
       "      <td>1.0</td>\n",
       "      <td>1665.0</td>\n",
       "      <td>1657.0</td>\n",
       "      <td>1</td>\n",
       "      <td>0</td>\n",
       "      <td>0</td>\n",
       "      <td>0</td>\n",
       "      <td>0</td>\n",
       "      <td>1</td>\n",
       "      <td>0</td>\n",
       "      <td>0</td>\n",
       "      <td>0</td>\n",
       "      <td>0</td>\n",
       "      <td>0</td>\n",
       "      <td>0</td>\n",
       "      <td>0</td>\n",
       "      <td>0</td>\n",
       "      <td>0</td>\n",
       "      <td>0</td>\n",
       "      <td>0</td>\n",
       "      <td>0</td>\n",
       "      <td>0</td>\n",
       "      <td>0</td>\n",
       "      <td>0</td>\n",
       "      <td>0</td>\n",
       "      <td>0</td>\n",
       "      <td>1</td>\n",
       "      <td>0</td>\n",
       "    </tr>\n",
       "    <tr>\n",
       "      <td>5010</td>\n",
       "      <td>82.0</td>\n",
       "      <td>50.0</td>\n",
       "      <td>812.0</td>\n",
       "      <td>1.0</td>\n",
       "      <td>1.5</td>\n",
       "      <td>1071.0</td>\n",
       "      <td>737.0</td>\n",
       "      <td>0</td>\n",
       "      <td>0</td>\n",
       "      <td>0</td>\n",
       "      <td>1</td>\n",
       "      <td>0</td>\n",
       "      <td>0</td>\n",
       "      <td>1</td>\n",
       "      <td>0</td>\n",
       "      <td>0</td>\n",
       "      <td>0</td>\n",
       "      <td>0</td>\n",
       "      <td>0</td>\n",
       "      <td>0</td>\n",
       "      <td>0</td>\n",
       "      <td>0</td>\n",
       "      <td>0</td>\n",
       "      <td>0</td>\n",
       "      <td>0</td>\n",
       "      <td>0</td>\n",
       "      <td>0</td>\n",
       "      <td>1</td>\n",
       "      <td>0</td>\n",
       "      <td>0</td>\n",
       "      <td>0</td>\n",
       "      <td>0</td>\n",
       "    </tr>\n",
       "    <tr>\n",
       "      <td>6987</td>\n",
       "      <td>74.0</td>\n",
       "      <td>5.0</td>\n",
       "      <td>1267.0</td>\n",
       "      <td>2.0</td>\n",
       "      <td>2.5</td>\n",
       "      <td>1728.0</td>\n",
       "      <td>809.0</td>\n",
       "      <td>0</td>\n",
       "      <td>0</td>\n",
       "      <td>0</td>\n",
       "      <td>1</td>\n",
       "      <td>0</td>\n",
       "      <td>1</td>\n",
       "      <td>0</td>\n",
       "      <td>0</td>\n",
       "      <td>0</td>\n",
       "      <td>0</td>\n",
       "      <td>0</td>\n",
       "      <td>0</td>\n",
       "      <td>0</td>\n",
       "      <td>0</td>\n",
       "      <td>0</td>\n",
       "      <td>0</td>\n",
       "      <td>0</td>\n",
       "      <td>0</td>\n",
       "      <td>1</td>\n",
       "      <td>0</td>\n",
       "      <td>0</td>\n",
       "      <td>0</td>\n",
       "      <td>0</td>\n",
       "      <td>0</td>\n",
       "      <td>0</td>\n",
       "    </tr>\n",
       "    <tr>\n",
       "      <td>7068</td>\n",
       "      <td>79.0</td>\n",
       "      <td>20.0</td>\n",
       "      <td>846.0</td>\n",
       "      <td>1.0</td>\n",
       "      <td>1.0</td>\n",
       "      <td>930.0</td>\n",
       "      <td>406.0</td>\n",
       "      <td>0</td>\n",
       "      <td>0</td>\n",
       "      <td>0</td>\n",
       "      <td>1</td>\n",
       "      <td>0</td>\n",
       "      <td>0</td>\n",
       "      <td>0</td>\n",
       "      <td>1</td>\n",
       "      <td>0</td>\n",
       "      <td>0</td>\n",
       "      <td>0</td>\n",
       "      <td>0</td>\n",
       "      <td>0</td>\n",
       "      <td>0</td>\n",
       "      <td>0</td>\n",
       "      <td>0</td>\n",
       "      <td>0</td>\n",
       "      <td>1</td>\n",
       "      <td>0</td>\n",
       "      <td>0</td>\n",
       "      <td>0</td>\n",
       "      <td>0</td>\n",
       "      <td>0</td>\n",
       "      <td>0</td>\n",
       "      <td>0</td>\n",
       "    </tr>\n",
       "  </tbody>\n",
       "</table>\n",
       "</div>"
      ],
      "text/plain": [
       "      bldg_rating  apt_floor  square_feet  beds  baths  \\\n",
       "636          65.0       14.0        590.0   0.0    1.0   \n",
       "824          62.0       10.0       1353.0   0.0    1.0   \n",
       "5010         82.0       50.0        812.0   1.0    1.5   \n",
       "6987         74.0        5.0       1267.0   2.0    2.5   \n",
       "7068         79.0       20.0        846.0   1.0    1.0   \n",
       "\n",
       "      monthly_common_charges  monthly_real_estate_taxes  sold_season_Fall  \\\n",
       "636                    819.0                      677.0                 0   \n",
       "824                   1665.0                     1657.0                 1   \n",
       "5010                  1071.0                      737.0                 0   \n",
       "6987                  1728.0                      809.0                 0   \n",
       "7068                   930.0                      406.0                 0   \n",
       "\n",
       "      sold_season_Spring  sold_season_Summer  sold_season_Winter  \\\n",
       "636                    0                   0                   1   \n",
       "824                    0                   0                   0   \n",
       "5010                   0                   0                   1   \n",
       "6987                   0                   0                   1   \n",
       "7068                   0                   0                   1   \n",
       "\n",
       "      neighborhood_Beekman/Sutton Place  neighborhood_Midtown East  \\\n",
       "636                                   0                          0   \n",
       "824                                   0                          1   \n",
       "5010                                  0                          0   \n",
       "6987                                  0                          1   \n",
       "7068                                  0                          0   \n",
       "\n",
       "      neighborhood_Midtown West  neighborhood_Murray Hill  \\\n",
       "636                           1                         0   \n",
       "824                           0                         0   \n",
       "5010                          1                         0   \n",
       "6987                          0                         0   \n",
       "7068                          0                         1   \n",
       "\n",
       "      neighborhood_Turtle Bay/United Nations  year_2004  year_2005  year_2006  \\\n",
       "636                                        0          0          0          0   \n",
       "824                                        0          0          0          0   \n",
       "5010                                       0          0          0          0   \n",
       "6987                                       0          0          0          0   \n",
       "7068                                       0          0          0          0   \n",
       "\n",
       "      year_2007  year_2008  year_2009  year_2010  year_2011  year_2012  \\\n",
       "636           0          0          0          0          0          0   \n",
       "824           0          0          0          0          0          0   \n",
       "5010          0          0          0          0          0          0   \n",
       "6987          0          0          0          0          0          0   \n",
       "7068          0          0          0          0          0          1   \n",
       "\n",
       "      year_2013  year_2014  year_2015  year_2016  year_2017  year_2018  \\\n",
       "636           0          0          0          0          0          0   \n",
       "824           0          0          0          0          0          1   \n",
       "5010          0          0          1          0          0          0   \n",
       "6987          1          0          0          0          0          0   \n",
       "7068          0          0          0          0          0          0   \n",
       "\n",
       "      year_2019  \n",
       "636           1  \n",
       "824           0  \n",
       "5010          0  \n",
       "6987          0  \n",
       "7068          0  "
      ]
     },
     "execution_count": 37,
     "metadata": {},
     "output_type": "execute_result"
    }
   ],
   "source": [
    "X_train.head()"
   ]
  },
  {
   "cell_type": "code",
   "execution_count": 38,
   "metadata": {},
   "outputs": [],
   "source": [
    "# Scale Training data and Transform testing data\n",
    "scaler = StandardScaler()\n",
    "X_train_scaled = scaler.fit_transform(X_train)\n",
    "X_test_scaled = scaler.transform(X_test)"
   ]
  },
  {
   "cell_type": "code",
   "execution_count": 40,
   "metadata": {},
   "outputs": [
    {
     "data": {
      "text/plain": [
       "0.5540381094918689"
      ]
     },
     "execution_count": 40,
     "metadata": {},
     "output_type": "execute_result"
    }
   ],
   "source": [
    "# Run Cross Validation on Ridge Regression with scaled features. It is similar to simple models\n",
    "np.mean(cross_val_score(lm_reg, X_train_scaled, y_train, cv=kf, scoring = 'r2'))"
   ]
  },
  {
   "cell_type": "code",
   "execution_count": 39,
   "metadata": {},
   "outputs": [
    {
     "name": "stdout",
     "output_type": "stream",
     "text": [
      "0.671722026641166\n",
      "0.6641761505020942\n"
     ]
    }
   ],
   "source": [
    "# Ridge Regression\n",
    "lm_reg = Ridge(alpha=1)\n",
    "lm_reg.fit(X_train_scaled, y_train)\n",
    "print(lm_reg.score(X_train_scaled, y_train))\n",
    "print(lm_reg.score(X_test_scaled, y_test))"
   ]
  },
  {
   "cell_type": "code",
   "execution_count": 45,
   "metadata": {},
   "outputs": [
    {
     "name": "stdout",
     "output_type": "stream",
     "text": [
      "Trained Score:  0.6067654651505701\n",
      "Test Score:  0.6652155180670053\n"
     ]
    },
    {
     "name": "stderr",
     "output_type": "stream",
     "text": [
      "/anaconda3/lib/python3.6/site-packages/sklearn/model_selection/_split.py:1978: FutureWarning: The default value of cv will change from 3 to 5 in version 0.22. Specify it explicitly to silence this warning.\n",
      "  warnings.warn(CV_WARNING, FutureWarning)\n"
     ]
    }
   ],
   "source": [
    "from sklearn.linear_model import LassoCV\n",
    "lasso_model = LassoCV()\n",
    "#lasso_model_2 = Lasso(alpha = 100)\n",
    "#lasso_model_3 = Lasso(alpha = 1000)\n",
    "lasso_model.fit(X_train_scaled, y_train)\n",
    "print(\"Trained Score: \", lasso_model.score(X_train_scaled, y_train))\n",
    "print(\"Test Score: \", lasso_model.score(X_test_scaled, y_test))"
   ]
  },
  {
   "cell_type": "code",
   "execution_count": 47,
   "metadata": {},
   "outputs": [
    {
     "name": "stderr",
     "output_type": "stream",
     "text": [
      "/anaconda3/lib/python3.6/site-packages/sklearn/model_selection/_split.py:1978: FutureWarning: The default value of cv will change from 3 to 5 in version 0.22. Specify it explicitly to silence this warning.\n",
      "  warnings.warn(CV_WARNING, FutureWarning)\n",
      "/anaconda3/lib/python3.6/site-packages/sklearn/model_selection/_split.py:1978: FutureWarning: The default value of cv will change from 3 to 5 in version 0.22. Specify it explicitly to silence this warning.\n",
      "  warnings.warn(CV_WARNING, FutureWarning)\n",
      "/anaconda3/lib/python3.6/site-packages/sklearn/model_selection/_split.py:1978: FutureWarning: The default value of cv will change from 3 to 5 in version 0.22. Specify it explicitly to silence this warning.\n",
      "  warnings.warn(CV_WARNING, FutureWarning)\n",
      "/anaconda3/lib/python3.6/site-packages/sklearn/model_selection/_split.py:1978: FutureWarning: The default value of cv will change from 3 to 5 in version 0.22. Specify it explicitly to silence this warning.\n",
      "  warnings.warn(CV_WARNING, FutureWarning)\n",
      "/anaconda3/lib/python3.6/site-packages/sklearn/model_selection/_split.py:1978: FutureWarning: The default value of cv will change from 3 to 5 in version 0.22. Specify it explicitly to silence this warning.\n",
      "  warnings.warn(CV_WARNING, FutureWarning)\n"
     ]
    },
    {
     "data": {
      "text/plain": [
       "0.5108082164277656"
      ]
     },
     "execution_count": 47,
     "metadata": {},
     "output_type": "execute_result"
    }
   ],
   "source": [
    "np.mean(cross_val_score(lasso_model, X_train_scaled, y_train, cv=kf, scoring = 'r2'))\n",
    "# score is 0.51"
   ]
  },
  {
   "cell_type": "code",
   "execution_count": null,
   "metadata": {},
   "outputs": [],
   "source": [
    "lm_poly = PolynomialFeatures(degree=2) \n",
    "lm_poly.fit"
   ]
  },
  {
   "cell_type": "markdown",
   "metadata": {
    "heading_collapsed": true
   },
   "source": [
    "# Feature Interactions / Polynomial"
   ]
  },
  {
   "cell_type": "code",
   "execution_count": 48,
   "metadata": {
    "hidden": true
   },
   "outputs": [
    {
     "data": {
      "text/html": [
       "<div>\n",
       "<style scoped>\n",
       "    .dataframe tbody tr th:only-of-type {\n",
       "        vertical-align: middle;\n",
       "    }\n",
       "\n",
       "    .dataframe tbody tr th {\n",
       "        vertical-align: top;\n",
       "    }\n",
       "\n",
       "    .dataframe thead th {\n",
       "        text-align: right;\n",
       "    }\n",
       "</style>\n",
       "<table border=\"1\" class=\"dataframe\">\n",
       "  <thead>\n",
       "    <tr style=\"text-align: right;\">\n",
       "      <th></th>\n",
       "      <th>bldg_rating</th>\n",
       "      <th>apt_floor</th>\n",
       "      <th>square_feet</th>\n",
       "      <th>beds</th>\n",
       "      <th>baths</th>\n",
       "      <th>monthly_common_charges</th>\n",
       "      <th>monthly_real_estate_taxes</th>\n",
       "      <th>sold_season_Fall</th>\n",
       "      <th>sold_season_Spring</th>\n",
       "      <th>sold_season_Summer</th>\n",
       "      <th>sold_season_Winter</th>\n",
       "      <th>neighborhood_Beekman/Sutton Place</th>\n",
       "      <th>neighborhood_Midtown East</th>\n",
       "      <th>neighborhood_Midtown West</th>\n",
       "      <th>neighborhood_Murray Hill</th>\n",
       "      <th>neighborhood_Turtle Bay/United Nations</th>\n",
       "      <th>year_2004</th>\n",
       "      <th>year_2005</th>\n",
       "      <th>year_2006</th>\n",
       "      <th>year_2007</th>\n",
       "      <th>year_2008</th>\n",
       "      <th>year_2009</th>\n",
       "      <th>year_2010</th>\n",
       "      <th>year_2011</th>\n",
       "      <th>year_2012</th>\n",
       "      <th>year_2013</th>\n",
       "      <th>year_2014</th>\n",
       "      <th>year_2015</th>\n",
       "      <th>year_2016</th>\n",
       "      <th>year_2017</th>\n",
       "      <th>year_2018</th>\n",
       "      <th>year_2019</th>\n",
       "    </tr>\n",
       "  </thead>\n",
       "  <tbody>\n",
       "    <tr>\n",
       "      <td>636</td>\n",
       "      <td>65.0</td>\n",
       "      <td>14.0</td>\n",
       "      <td>590.0</td>\n",
       "      <td>0.0</td>\n",
       "      <td>1.0</td>\n",
       "      <td>819.0</td>\n",
       "      <td>677.0</td>\n",
       "      <td>0</td>\n",
       "      <td>0</td>\n",
       "      <td>0</td>\n",
       "      <td>1</td>\n",
       "      <td>0</td>\n",
       "      <td>0</td>\n",
       "      <td>1</td>\n",
       "      <td>0</td>\n",
       "      <td>0</td>\n",
       "      <td>0</td>\n",
       "      <td>0</td>\n",
       "      <td>0</td>\n",
       "      <td>0</td>\n",
       "      <td>0</td>\n",
       "      <td>0</td>\n",
       "      <td>0</td>\n",
       "      <td>0</td>\n",
       "      <td>0</td>\n",
       "      <td>0</td>\n",
       "      <td>0</td>\n",
       "      <td>0</td>\n",
       "      <td>0</td>\n",
       "      <td>0</td>\n",
       "      <td>0</td>\n",
       "      <td>1</td>\n",
       "    </tr>\n",
       "    <tr>\n",
       "      <td>824</td>\n",
       "      <td>62.0</td>\n",
       "      <td>10.0</td>\n",
       "      <td>1353.0</td>\n",
       "      <td>0.0</td>\n",
       "      <td>1.0</td>\n",
       "      <td>1665.0</td>\n",
       "      <td>1657.0</td>\n",
       "      <td>1</td>\n",
       "      <td>0</td>\n",
       "      <td>0</td>\n",
       "      <td>0</td>\n",
       "      <td>0</td>\n",
       "      <td>1</td>\n",
       "      <td>0</td>\n",
       "      <td>0</td>\n",
       "      <td>0</td>\n",
       "      <td>0</td>\n",
       "      <td>0</td>\n",
       "      <td>0</td>\n",
       "      <td>0</td>\n",
       "      <td>0</td>\n",
       "      <td>0</td>\n",
       "      <td>0</td>\n",
       "      <td>0</td>\n",
       "      <td>0</td>\n",
       "      <td>0</td>\n",
       "      <td>0</td>\n",
       "      <td>0</td>\n",
       "      <td>0</td>\n",
       "      <td>0</td>\n",
       "      <td>1</td>\n",
       "      <td>0</td>\n",
       "    </tr>\n",
       "    <tr>\n",
       "      <td>5010</td>\n",
       "      <td>82.0</td>\n",
       "      <td>50.0</td>\n",
       "      <td>812.0</td>\n",
       "      <td>1.0</td>\n",
       "      <td>1.5</td>\n",
       "      <td>1071.0</td>\n",
       "      <td>737.0</td>\n",
       "      <td>0</td>\n",
       "      <td>0</td>\n",
       "      <td>0</td>\n",
       "      <td>1</td>\n",
       "      <td>0</td>\n",
       "      <td>0</td>\n",
       "      <td>1</td>\n",
       "      <td>0</td>\n",
       "      <td>0</td>\n",
       "      <td>0</td>\n",
       "      <td>0</td>\n",
       "      <td>0</td>\n",
       "      <td>0</td>\n",
       "      <td>0</td>\n",
       "      <td>0</td>\n",
       "      <td>0</td>\n",
       "      <td>0</td>\n",
       "      <td>0</td>\n",
       "      <td>0</td>\n",
       "      <td>0</td>\n",
       "      <td>1</td>\n",
       "      <td>0</td>\n",
       "      <td>0</td>\n",
       "      <td>0</td>\n",
       "      <td>0</td>\n",
       "    </tr>\n",
       "    <tr>\n",
       "      <td>6987</td>\n",
       "      <td>74.0</td>\n",
       "      <td>5.0</td>\n",
       "      <td>1267.0</td>\n",
       "      <td>2.0</td>\n",
       "      <td>2.5</td>\n",
       "      <td>1728.0</td>\n",
       "      <td>809.0</td>\n",
       "      <td>0</td>\n",
       "      <td>0</td>\n",
       "      <td>0</td>\n",
       "      <td>1</td>\n",
       "      <td>0</td>\n",
       "      <td>1</td>\n",
       "      <td>0</td>\n",
       "      <td>0</td>\n",
       "      <td>0</td>\n",
       "      <td>0</td>\n",
       "      <td>0</td>\n",
       "      <td>0</td>\n",
       "      <td>0</td>\n",
       "      <td>0</td>\n",
       "      <td>0</td>\n",
       "      <td>0</td>\n",
       "      <td>0</td>\n",
       "      <td>0</td>\n",
       "      <td>1</td>\n",
       "      <td>0</td>\n",
       "      <td>0</td>\n",
       "      <td>0</td>\n",
       "      <td>0</td>\n",
       "      <td>0</td>\n",
       "      <td>0</td>\n",
       "    </tr>\n",
       "    <tr>\n",
       "      <td>7068</td>\n",
       "      <td>79.0</td>\n",
       "      <td>20.0</td>\n",
       "      <td>846.0</td>\n",
       "      <td>1.0</td>\n",
       "      <td>1.0</td>\n",
       "      <td>930.0</td>\n",
       "      <td>406.0</td>\n",
       "      <td>0</td>\n",
       "      <td>0</td>\n",
       "      <td>0</td>\n",
       "      <td>1</td>\n",
       "      <td>0</td>\n",
       "      <td>0</td>\n",
       "      <td>0</td>\n",
       "      <td>1</td>\n",
       "      <td>0</td>\n",
       "      <td>0</td>\n",
       "      <td>0</td>\n",
       "      <td>0</td>\n",
       "      <td>0</td>\n",
       "      <td>0</td>\n",
       "      <td>0</td>\n",
       "      <td>0</td>\n",
       "      <td>0</td>\n",
       "      <td>1</td>\n",
       "      <td>0</td>\n",
       "      <td>0</td>\n",
       "      <td>0</td>\n",
       "      <td>0</td>\n",
       "      <td>0</td>\n",
       "      <td>0</td>\n",
       "      <td>0</td>\n",
       "    </tr>\n",
       "  </tbody>\n",
       "</table>\n",
       "</div>"
      ],
      "text/plain": [
       "      bldg_rating  apt_floor  square_feet  beds  baths  \\\n",
       "636          65.0       14.0        590.0   0.0    1.0   \n",
       "824          62.0       10.0       1353.0   0.0    1.0   \n",
       "5010         82.0       50.0        812.0   1.0    1.5   \n",
       "6987         74.0        5.0       1267.0   2.0    2.5   \n",
       "7068         79.0       20.0        846.0   1.0    1.0   \n",
       "\n",
       "      monthly_common_charges  monthly_real_estate_taxes  sold_season_Fall  \\\n",
       "636                    819.0                      677.0                 0   \n",
       "824                   1665.0                     1657.0                 1   \n",
       "5010                  1071.0                      737.0                 0   \n",
       "6987                  1728.0                      809.0                 0   \n",
       "7068                   930.0                      406.0                 0   \n",
       "\n",
       "      sold_season_Spring  sold_season_Summer  sold_season_Winter  \\\n",
       "636                    0                   0                   1   \n",
       "824                    0                   0                   0   \n",
       "5010                   0                   0                   1   \n",
       "6987                   0                   0                   1   \n",
       "7068                   0                   0                   1   \n",
       "\n",
       "      neighborhood_Beekman/Sutton Place  neighborhood_Midtown East  \\\n",
       "636                                   0                          0   \n",
       "824                                   0                          1   \n",
       "5010                                  0                          0   \n",
       "6987                                  0                          1   \n",
       "7068                                  0                          0   \n",
       "\n",
       "      neighborhood_Midtown West  neighborhood_Murray Hill  \\\n",
       "636                           1                         0   \n",
       "824                           0                         0   \n",
       "5010                          1                         0   \n",
       "6987                          0                         0   \n",
       "7068                          0                         1   \n",
       "\n",
       "      neighborhood_Turtle Bay/United Nations  year_2004  year_2005  year_2006  \\\n",
       "636                                        0          0          0          0   \n",
       "824                                        0          0          0          0   \n",
       "5010                                       0          0          0          0   \n",
       "6987                                       0          0          0          0   \n",
       "7068                                       0          0          0          0   \n",
       "\n",
       "      year_2007  year_2008  year_2009  year_2010  year_2011  year_2012  \\\n",
       "636           0          0          0          0          0          0   \n",
       "824           0          0          0          0          0          0   \n",
       "5010          0          0          0          0          0          0   \n",
       "6987          0          0          0          0          0          0   \n",
       "7068          0          0          0          0          0          1   \n",
       "\n",
       "      year_2013  year_2014  year_2015  year_2016  year_2017  year_2018  \\\n",
       "636           0          0          0          0          0          0   \n",
       "824           0          0          0          0          0          1   \n",
       "5010          0          0          1          0          0          0   \n",
       "6987          1          0          0          0          0          0   \n",
       "7068          0          0          0          0          0          0   \n",
       "\n",
       "      year_2019  \n",
       "636           1  \n",
       "824           0  \n",
       "5010          0  \n",
       "6987          0  \n",
       "7068          0  "
      ]
     },
     "execution_count": 48,
     "metadata": {},
     "output_type": "execute_result"
    }
   ],
   "source": [
    "X_train.head()"
   ]
  },
  {
   "cell_type": "code",
   "execution_count": 185,
   "metadata": {
    "hidden": true
   },
   "outputs": [],
   "source": [
    "Poly_train_df = pd.DataFrame(poly.fit_transform(X_train), columns = poly.get_feature_names(input_features = X_train.columns))"
   ]
  },
  {
   "cell_type": "code",
   "execution_count": 49,
   "metadata": {
    "hidden": true
   },
   "outputs": [],
   "source": [
    "poly = PolynomialFeatures(degree=2) \n",
    "\n",
    "# Poly Transform adds new values to the tran, test, and validation sets\n",
    "#X_train_poly = poly.fit_transform(X_train.values) # fits and transforms the data in one spot\n",
    "X_train_poly = poly.fit_transform(X_train)\n",
    "# scale is part of the model. So, need to fit to the training data. And test this fit on the \n",
    "# test data.\n",
    "\n",
    "#X_test_poly = poly.transform(X_test.values)\n",
    "X_test_poly = poly.transform(X_test)"
   ]
  },
  {
   "cell_type": "code",
   "execution_count": 50,
   "metadata": {
    "hidden": true
   },
   "outputs": [],
   "source": [
    "# So we know what the columns are for polynomial-ized variables\n",
    "poly_train_df = pd.DataFrame(poly.fit_transform(X_train), columns = poly.get_feature_names(input_features = X_train.columns))\n",
    "poly_col = poly_train_df.columns"
   ]
  },
  {
   "cell_type": "code",
   "execution_count": 52,
   "metadata": {
    "hidden": true
   },
   "outputs": [
    {
     "name": "stdout",
     "output_type": "stream",
     "text": [
      "Mean value fom cv:  -5.828779066811022\n"
     ]
    },
    {
     "data": {
      "text/plain": [
       "array([-31.53711596,  -0.11369886,   0.7918153 ,   0.87253154,\n",
       "         0.84257265])"
      ]
     },
     "execution_count": 52,
     "metadata": {},
     "output_type": "execute_result"
    }
   ],
   "source": [
    "# Values show that we need to scale. Model is over fit\n",
    "lm_poly = LinearRegression()\n",
    "\n",
    "kf = KFold(n_splits=5, shuffle=True, random_state = 71)\n",
    "print(\"Mean value fom cv: \", np.mean(cross_val_score(lm_poly, X_train_poly, y_train, cv=kf, scoring='r2')))\n",
    "cross_val_score(lm_poly, X_train_poly, y_train, cv=kf, scoring='r2')"
   ]
  },
  {
   "cell_type": "code",
   "execution_count": 53,
   "metadata": {
    "hidden": true
   },
   "outputs": [
    {
     "name": "stdout",
     "output_type": "stream",
     "text": [
      "Train Score:  0.8766050959613992\n",
      "Test Score:  0.7850316665728582\n"
     ]
    }
   ],
   "source": [
    "# Run linear Regression\n",
    "lm_poly = LinearRegression()\n",
    "\n",
    "lm_poly.fit(X_train_poly, y_train)\n",
    "print(\"Train Score: \", lm_poly.score(X_train_poly, y_train))\n",
    "print(\"Test Score: \", lm_poly.score(X_test_poly, y_test))"
   ]
  },
  {
   "cell_type": "markdown",
   "metadata": {},
   "source": [
    "# Standardize Features, and run Regularization Models"
   ]
  },
  {
   "cell_type": "code",
   "execution_count": 54,
   "metadata": {},
   "outputs": [],
   "source": [
    "from sklearn.pipeline import Pipeline\n",
    "from sklearn.preprocessing import StandardScaler"
   ]
  },
  {
   "cell_type": "code",
   "execution_count": 55,
   "metadata": {},
   "outputs": [
    {
     "data": {
      "text/plain": [
       "StandardScaler(copy=True, with_mean=True, with_std=True)"
      ]
     },
     "execution_count": 55,
     "metadata": {},
     "output_type": "execute_result"
    }
   ],
   "source": [
    "# Fit standard scalar to the X train values to get mean and std. dev.\n",
    "std = StandardScaler()\n",
    "std.fit(X_train_poly)"
   ]
  },
  {
   "cell_type": "code",
   "execution_count": 56,
   "metadata": {},
   "outputs": [],
   "source": [
    "# Applies scalar to training set. Subtracts mean and divides by st. dev. for every value\n",
    "X_tr = std.transform(X_train_poly)\n",
    "X_te = std.transform(X_test_poly)"
   ]
  },
  {
   "cell_type": "code",
   "execution_count": 57,
   "metadata": {},
   "outputs": [
    {
     "name": "stderr",
     "output_type": "stream",
     "text": [
      "/anaconda3/lib/python3.6/site-packages/sklearn/model_selection/_split.py:1978: FutureWarning: The default value of cv will change from 3 to 5 in version 0.22. Specify it explicitly to silence this warning.\n",
      "  warnings.warn(CV_WARNING, FutureWarning)\n",
      "/anaconda3/lib/python3.6/site-packages/sklearn/linear_model/coordinate_descent.py:471: ConvergenceWarning: Objective did not converge. You might want to increase the number of iterations. Duality gap: 1256571623136.25, tolerance: 874854832874.4338\n",
      "  tol, rng, random, positive)\n",
      "/anaconda3/lib/python3.6/site-packages/sklearn/linear_model/coordinate_descent.py:471: ConvergenceWarning: Objective did not converge. You might want to increase the number of iterations. Duality gap: 2489579770330.5, tolerance: 874854832874.4338\n",
      "  tol, rng, random, positive)\n",
      "/anaconda3/lib/python3.6/site-packages/sklearn/linear_model/coordinate_descent.py:471: ConvergenceWarning: Objective did not converge. You might want to increase the number of iterations. Duality gap: 3134568711628.375, tolerance: 874854832874.4338\n",
      "  tol, rng, random, positive)\n",
      "/anaconda3/lib/python3.6/site-packages/sklearn/linear_model/coordinate_descent.py:471: ConvergenceWarning: Objective did not converge. You might want to increase the number of iterations. Duality gap: 3420923117942.75, tolerance: 874854832874.4338\n",
      "  tol, rng, random, positive)\n",
      "/anaconda3/lib/python3.6/site-packages/sklearn/linear_model/coordinate_descent.py:471: ConvergenceWarning: Objective did not converge. You might want to increase the number of iterations. Duality gap: 3517825082788.0, tolerance: 874854832874.4338\n",
      "  tol, rng, random, positive)\n",
      "/anaconda3/lib/python3.6/site-packages/sklearn/linear_model/coordinate_descent.py:471: ConvergenceWarning: Objective did not converge. You might want to increase the number of iterations. Duality gap: 2972192320238.75, tolerance: 874854832874.4338\n",
      "  tol, rng, random, positive)\n",
      "/anaconda3/lib/python3.6/site-packages/sklearn/linear_model/coordinate_descent.py:471: ConvergenceWarning: Objective did not converge. You might want to increase the number of iterations. Duality gap: 3264865721132.75, tolerance: 874854832874.4338\n",
      "  tol, rng, random, positive)\n",
      "/anaconda3/lib/python3.6/site-packages/sklearn/linear_model/coordinate_descent.py:471: ConvergenceWarning: Objective did not converge. You might want to increase the number of iterations. Duality gap: 926803006001.0, tolerance: 921491199091.1587\n",
      "  tol, rng, random, positive)\n",
      "/anaconda3/lib/python3.6/site-packages/sklearn/linear_model/coordinate_descent.py:471: ConvergenceWarning: Objective did not converge. You might want to increase the number of iterations. Duality gap: 1191285241404.375, tolerance: 921491199091.1587\n",
      "  tol, rng, random, positive)\n",
      "/anaconda3/lib/python3.6/site-packages/sklearn/linear_model/coordinate_descent.py:471: ConvergenceWarning: Objective did not converge. You might want to increase the number of iterations. Duality gap: 1159670655942.5, tolerance: 805472313930.4144\n",
      "  tol, rng, random, positive)\n",
      "/anaconda3/lib/python3.6/site-packages/sklearn/linear_model/coordinate_descent.py:471: ConvergenceWarning: Objective did not converge. You might want to increase the number of iterations. Duality gap: 1185068657031.0, tolerance: 805472313930.4144\n",
      "  tol, rng, random, positive)\n",
      "/anaconda3/lib/python3.6/site-packages/sklearn/linear_model/coordinate_descent.py:471: ConvergenceWarning: Objective did not converge. You might want to increase the number of iterations. Duality gap: 1169548869802.25, tolerance: 805472313930.4144\n",
      "  tol, rng, random, positive)\n",
      "/anaconda3/lib/python3.6/site-packages/sklearn/linear_model/coordinate_descent.py:475: ConvergenceWarning: Objective did not converge. You might want to increase the number of iterations. Duality gap: 31356958968194.0, tolerance: 1300921376050.971\n",
      "  positive)\n"
     ]
    },
    {
     "data": {
      "text/plain": [
       "LassoCV(alphas=None, copy_X=True, cv='warn', eps=0.001, fit_intercept=True,\n",
       "        max_iter=1000, n_alphas=100, n_jobs=None, normalize=False,\n",
       "        positive=False, precompute='auto', random_state=None,\n",
       "        selection='cyclic', tol=0.0001, verbose=False)"
      ]
     },
     "execution_count": 57,
     "metadata": {},
     "output_type": "execute_result"
    }
   ],
   "source": [
    "lasso_model = LassoCV()\n",
    "lasso_model.fit(X_tr, y_train)"
   ]
  },
  {
   "cell_type": "code",
   "execution_count": 58,
   "metadata": {},
   "outputs": [
    {
     "data": {
      "text/plain": [
       "2071.509508854621"
      ]
     },
     "execution_count": 58,
     "metadata": {},
     "output_type": "execute_result"
    }
   ],
   "source": [
    "lasso_model.alpha_"
   ]
  },
  {
   "cell_type": "code",
   "execution_count": 60,
   "metadata": {},
   "outputs": [
    {
     "name": "stderr",
     "output_type": "stream",
     "text": [
      "/anaconda3/lib/python3.6/site-packages/sklearn/model_selection/_split.py:1978: FutureWarning: The default value of cv will change from 3 to 5 in version 0.22. Specify it explicitly to silence this warning.\n",
      "  warnings.warn(CV_WARNING, FutureWarning)\n",
      "/anaconda3/lib/python3.6/site-packages/sklearn/linear_model/coordinate_descent.py:471: ConvergenceWarning: Objective did not converge. You might want to increase the number of iterations. Duality gap: 792395794527.5, tolerance: 726018102570.681\n",
      "  tol, rng, random, positive)\n",
      "/anaconda3/lib/python3.6/site-packages/sklearn/linear_model/coordinate_descent.py:471: ConvergenceWarning: Objective did not converge. You might want to increase the number of iterations. Duality gap: 804518919605.0, tolerance: 726018102570.681\n",
      "  tol, rng, random, positive)\n",
      "/anaconda3/lib/python3.6/site-packages/sklearn/linear_model/coordinate_descent.py:471: ConvergenceWarning: Objective did not converge. You might want to increase the number of iterations. Duality gap: 661369774545.0, tolerance: 631432749307.6082\n",
      "  tol, rng, random, positive)\n",
      "/anaconda3/lib/python3.6/site-packages/sklearn/linear_model/coordinate_descent.py:471: ConvergenceWarning: Objective did not converge. You might want to increase the number of iterations. Duality gap: 1357641178931.375, tolerance: 631432749307.6082\n",
      "  tol, rng, random, positive)\n",
      "/anaconda3/lib/python3.6/site-packages/sklearn/model_selection/_split.py:1978: FutureWarning: The default value of cv will change from 3 to 5 in version 0.22. Specify it explicitly to silence this warning.\n",
      "  warnings.warn(CV_WARNING, FutureWarning)\n",
      "/anaconda3/lib/python3.6/site-packages/sklearn/linear_model/coordinate_descent.py:471: ConvergenceWarning: Objective did not converge. You might want to increase the number of iterations. Duality gap: 798016479380.0, tolerance: 613859770931.9059\n",
      "  tol, rng, random, positive)\n",
      "/anaconda3/lib/python3.6/site-packages/sklearn/linear_model/coordinate_descent.py:471: ConvergenceWarning: Objective did not converge. You might want to increase the number of iterations. Duality gap: 1391242845461.75, tolerance: 613859770931.9059\n",
      "  tol, rng, random, positive)\n",
      "/anaconda3/lib/python3.6/site-packages/sklearn/linear_model/coordinate_descent.py:471: ConvergenceWarning: Objective did not converge. You might want to increase the number of iterations. Duality gap: 2320087784799.0, tolerance: 613859770931.9059\n",
      "  tol, rng, random, positive)\n",
      "/anaconda3/lib/python3.6/site-packages/sklearn/linear_model/coordinate_descent.py:471: ConvergenceWarning: Objective did not converge. You might want to increase the number of iterations. Duality gap: 2721688490180.0, tolerance: 613859770931.9059\n",
      "  tol, rng, random, positive)\n",
      "/anaconda3/lib/python3.6/site-packages/sklearn/linear_model/coordinate_descent.py:471: ConvergenceWarning: Objective did not converge. You might want to increase the number of iterations. Duality gap: 2558847240017.625, tolerance: 613859770931.9059\n",
      "  tol, rng, random, positive)\n",
      "/anaconda3/lib/python3.6/site-packages/sklearn/linear_model/coordinate_descent.py:471: ConvergenceWarning: Objective did not converge. You might want to increase the number of iterations. Duality gap: 3404041814816.75, tolerance: 613859770931.9059\n",
      "  tol, rng, random, positive)\n",
      "/anaconda3/lib/python3.6/site-packages/sklearn/linear_model/coordinate_descent.py:471: ConvergenceWarning: Objective did not converge. You might want to increase the number of iterations. Duality gap: 4008276267082.0, tolerance: 613859770931.9059\n",
      "  tol, rng, random, positive)\n",
      "/anaconda3/lib/python3.6/site-packages/sklearn/linear_model/coordinate_descent.py:471: ConvergenceWarning: Objective did not converge. You might want to increase the number of iterations. Duality gap: 4177555486366.375, tolerance: 613859770931.9059\n",
      "  tol, rng, random, positive)\n",
      "/anaconda3/lib/python3.6/site-packages/sklearn/linear_model/coordinate_descent.py:471: ConvergenceWarning: Objective did not converge. You might want to increase the number of iterations. Duality gap: 1094158892405.75, tolerance: 613859770931.9059\n",
      "  tol, rng, random, positive)\n",
      "/anaconda3/lib/python3.6/site-packages/sklearn/linear_model/coordinate_descent.py:471: ConvergenceWarning: Objective did not converge. You might want to increase the number of iterations. Duality gap: 858694037135.25, tolerance: 613859770931.9059\n",
      "  tol, rng, random, positive)\n",
      "/anaconda3/lib/python3.6/site-packages/sklearn/linear_model/coordinate_descent.py:471: ConvergenceWarning: Objective did not converge. You might want to increase the number of iterations. Duality gap: 2052240196476.0, tolerance: 667735572129.5801\n",
      "  tol, rng, random, positive)\n",
      "/anaconda3/lib/python3.6/site-packages/sklearn/linear_model/coordinate_descent.py:471: ConvergenceWarning: Objective did not converge. You might want to increase the number of iterations. Duality gap: 767675862540.25, tolerance: 685864746334.1393\n",
      "  tol, rng, random, positive)\n",
      "/anaconda3/lib/python3.6/site-packages/sklearn/linear_model/coordinate_descent.py:471: ConvergenceWarning: Objective did not converge. You might want to increase the number of iterations. Duality gap: 1125816092461.5, tolerance: 685864746334.1393\n",
      "  tol, rng, random, positive)\n",
      "/anaconda3/lib/python3.6/site-packages/sklearn/linear_model/coordinate_descent.py:471: ConvergenceWarning: Objective did not converge. You might want to increase the number of iterations. Duality gap: 1120926949452.25, tolerance: 685864746334.1393\n",
      "  tol, rng, random, positive)\n",
      "/anaconda3/lib/python3.6/site-packages/sklearn/linear_model/coordinate_descent.py:471: ConvergenceWarning: Objective did not converge. You might want to increase the number of iterations. Duality gap: 960112395469.75, tolerance: 685864746334.1393\n",
      "  tol, rng, random, positive)\n",
      "/anaconda3/lib/python3.6/site-packages/sklearn/linear_model/coordinate_descent.py:471: ConvergenceWarning: Objective did not converge. You might want to increase the number of iterations. Duality gap: 878114350236.5, tolerance: 685864746334.1393\n",
      "  tol, rng, random, positive)\n",
      "/anaconda3/lib/python3.6/site-packages/sklearn/linear_model/coordinate_descent.py:475: ConvergenceWarning: Objective did not converge. You might want to increase the number of iterations. Duality gap: 55274987994268.125, tolerance: 983741524303.8264\n",
      "  positive)\n",
      "/anaconda3/lib/python3.6/site-packages/sklearn/model_selection/_split.py:1978: FutureWarning: The default value of cv will change from 3 to 5 in version 0.22. Specify it explicitly to silence this warning.\n",
      "  warnings.warn(CV_WARNING, FutureWarning)\n",
      "/anaconda3/lib/python3.6/site-packages/sklearn/linear_model/coordinate_descent.py:471: ConvergenceWarning: Objective did not converge. You might want to increase the number of iterations. Duality gap: 1920136400595.5, tolerance: 748091308476.0677\n",
      "  tol, rng, random, positive)\n",
      "/anaconda3/lib/python3.6/site-packages/sklearn/linear_model/coordinate_descent.py:471: ConvergenceWarning: Objective did not converge. You might want to increase the number of iterations. Duality gap: 2469864398752.5, tolerance: 748091308476.0677\n",
      "  tol, rng, random, positive)\n",
      "/anaconda3/lib/python3.6/site-packages/sklearn/linear_model/coordinate_descent.py:471: ConvergenceWarning: Objective did not converge. You might want to increase the number of iterations. Duality gap: 2992527157108.75, tolerance: 748091308476.0677\n",
      "  tol, rng, random, positive)\n",
      "/anaconda3/lib/python3.6/site-packages/sklearn/linear_model/coordinate_descent.py:471: ConvergenceWarning: Objective did not converge. You might want to increase the number of iterations. Duality gap: 3570469145484.75, tolerance: 748091308476.0677\n",
      "  tol, rng, random, positive)\n",
      "/anaconda3/lib/python3.6/site-packages/sklearn/linear_model/coordinate_descent.py:471: ConvergenceWarning: Objective did not converge. You might want to increase the number of iterations. Duality gap: 3662942874870.25, tolerance: 748091308476.0677\n",
      "  tol, rng, random, positive)\n",
      "/anaconda3/lib/python3.6/site-packages/sklearn/linear_model/coordinate_descent.py:471: ConvergenceWarning: Objective did not converge. You might want to increase the number of iterations. Duality gap: 3258926738374.75, tolerance: 748091308476.0677\n",
      "  tol, rng, random, positive)\n"
     ]
    },
    {
     "name": "stderr",
     "output_type": "stream",
     "text": [
      "/anaconda3/lib/python3.6/site-packages/sklearn/linear_model/coordinate_descent.py:471: ConvergenceWarning: Objective did not converge. You might want to increase the number of iterations. Duality gap: 850197707834.25, tolerance: 790848407769.515\n",
      "  tol, rng, random, positive)\n",
      "/anaconda3/lib/python3.6/site-packages/sklearn/linear_model/coordinate_descent.py:471: ConvergenceWarning: Objective did not converge. You might want to increase the number of iterations. Duality gap: 1163597298186.5, tolerance: 790848407769.515\n",
      "  tol, rng, random, positive)\n",
      "/anaconda3/lib/python3.6/site-packages/sklearn/linear_model/coordinate_descent.py:471: ConvergenceWarning: Objective did not converge. You might want to increase the number of iterations. Duality gap: 688209071772.0, tolerance: 674669429282.895\n",
      "  tol, rng, random, positive)\n",
      "/anaconda3/lib/python3.6/site-packages/sklearn/linear_model/coordinate_descent.py:471: ConvergenceWarning: Objective did not converge. You might want to increase the number of iterations. Duality gap: 731884225471.0, tolerance: 674669429282.895\n",
      "  tol, rng, random, positive)\n",
      "/anaconda3/lib/python3.6/site-packages/sklearn/linear_model/coordinate_descent.py:475: ConvergenceWarning: Objective did not converge. You might want to increase the number of iterations. Duality gap: 56407250932351.625, tolerance: 1106807909255.4832\n",
      "  positive)\n",
      "/anaconda3/lib/python3.6/site-packages/sklearn/model_selection/_split.py:1978: FutureWarning: The default value of cv will change from 3 to 5 in version 0.22. Specify it explicitly to silence this warning.\n",
      "  warnings.warn(CV_WARNING, FutureWarning)\n",
      "/anaconda3/lib/python3.6/site-packages/sklearn/linear_model/coordinate_descent.py:471: ConvergenceWarning: Objective did not converge. You might want to increase the number of iterations. Duality gap: 702218843119.5, tolerance: 663971738915.7988\n",
      "  tol, rng, random, positive)\n",
      "/anaconda3/lib/python3.6/site-packages/sklearn/linear_model/coordinate_descent.py:471: ConvergenceWarning: Objective did not converge. You might want to increase the number of iterations. Duality gap: 1312847839201.5, tolerance: 663971738915.7988\n",
      "  tol, rng, random, positive)\n",
      "/anaconda3/lib/python3.6/site-packages/sklearn/linear_model/coordinate_descent.py:471: ConvergenceWarning: Objective did not converge. You might want to increase the number of iterations. Duality gap: 920546423400.125, tolerance: 663971738915.7988\n",
      "  tol, rng, random, positive)\n",
      "/anaconda3/lib/python3.6/site-packages/sklearn/linear_model/coordinate_descent.py:471: ConvergenceWarning: Objective did not converge. You might want to increase the number of iterations. Duality gap: 710644239513.25, tolerance: 663971738915.7988\n",
      "  tol, rng, random, positive)\n",
      "/anaconda3/lib/python3.6/site-packages/sklearn/linear_model/coordinate_descent.py:471: ConvergenceWarning: Objective did not converge. You might want to increase the number of iterations. Duality gap: 1288107091642.25, tolerance: 663971738915.7988\n",
      "  tol, rng, random, positive)\n",
      "/anaconda3/lib/python3.6/site-packages/sklearn/linear_model/coordinate_descent.py:471: ConvergenceWarning: Objective did not converge. You might want to increase the number of iterations. Duality gap: 823550451855.5, tolerance: 724140320002.11\n",
      "  tol, rng, random, positive)\n",
      "/anaconda3/lib/python3.6/site-packages/sklearn/linear_model/coordinate_descent.py:471: ConvergenceWarning: Objective did not converge. You might want to increase the number of iterations. Duality gap: 736397632780.0, tolerance: 724140320002.11\n",
      "  tol, rng, random, positive)\n",
      "/anaconda3/lib/python3.6/site-packages/sklearn/linear_model/coordinate_descent.py:471: ConvergenceWarning: Objective did not converge. You might want to increase the number of iterations. Duality gap: 716458792092.125, tolerance: 580917509443.5802\n",
      "  tol, rng, random, positive)\n",
      "/anaconda3/lib/python3.6/site-packages/sklearn/linear_model/coordinate_descent.py:471: ConvergenceWarning: Objective did not converge. You might want to increase the number of iterations. Duality gap: 787361090925.25, tolerance: 580917509443.5802\n",
      "  tol, rng, random, positive)\n",
      "/anaconda3/lib/python3.6/site-packages/sklearn/linear_model/coordinate_descent.py:471: ConvergenceWarning: Objective did not converge. You might want to increase the number of iterations. Duality gap: 773215313371.25, tolerance: 580917509443.5802\n",
      "  tol, rng, random, positive)\n",
      "/anaconda3/lib/python3.6/site-packages/sklearn/linear_model/coordinate_descent.py:471: ConvergenceWarning: Objective did not converge. You might want to increase the number of iterations. Duality gap: 779283339589.125, tolerance: 580917509443.5802\n",
      "  tol, rng, random, positive)\n",
      "/anaconda3/lib/python3.6/site-packages/sklearn/linear_model/coordinate_descent.py:471: ConvergenceWarning: Objective did not converge. You might want to increase the number of iterations. Duality gap: 709726960106.0, tolerance: 580917509443.5802\n",
      "  tol, rng, random, positive)\n",
      "/anaconda3/lib/python3.6/site-packages/sklearn/linear_model/coordinate_descent.py:475: ConvergenceWarning: Objective did not converge. You might want to increase the number of iterations. Duality gap: 3467899297728.5, tolerance: 984550785249.8838\n",
      "  positive)\n",
      "/anaconda3/lib/python3.6/site-packages/sklearn/model_selection/_split.py:1978: FutureWarning: The default value of cv will change from 3 to 5 in version 0.22. Specify it explicitly to silence this warning.\n",
      "  warnings.warn(CV_WARNING, FutureWarning)\n",
      "/anaconda3/lib/python3.6/site-packages/sklearn/linear_model/coordinate_descent.py:471: ConvergenceWarning: Objective did not converge. You might want to increase the number of iterations. Duality gap: 758643747401.5, tolerance: 723649007083.1317\n",
      "  tol, rng, random, positive)\n",
      "/anaconda3/lib/python3.6/site-packages/sklearn/linear_model/coordinate_descent.py:471: ConvergenceWarning: Objective did not converge. You might want to increase the number of iterations. Duality gap: 2594702543897.0, tolerance: 723649007083.1317\n",
      "  tol, rng, random, positive)\n",
      "/anaconda3/lib/python3.6/site-packages/sklearn/linear_model/coordinate_descent.py:471: ConvergenceWarning: Objective did not converge. You might want to increase the number of iterations. Duality gap: 3180200224367.125, tolerance: 723649007083.1317\n",
      "  tol, rng, random, positive)\n",
      "/anaconda3/lib/python3.6/site-packages/sklearn/linear_model/coordinate_descent.py:471: ConvergenceWarning: Objective did not converge. You might want to increase the number of iterations. Duality gap: 1060044669158.125, tolerance: 752889801234.3579\n",
      "  tol, rng, random, positive)\n",
      "/anaconda3/lib/python3.6/site-packages/sklearn/linear_model/coordinate_descent.py:471: ConvergenceWarning: Objective did not converge. You might want to increase the number of iterations. Duality gap: 1286569486366.25, tolerance: 752889801234.3579\n",
      "  tol, rng, random, positive)\n",
      "/anaconda3/lib/python3.6/site-packages/sklearn/linear_model/coordinate_descent.py:471: ConvergenceWarning: Objective did not converge. You might want to increase the number of iterations. Duality gap: 1542478173172.375, tolerance: 752889801234.3579\n",
      "  tol, rng, random, positive)\n",
      "/anaconda3/lib/python3.6/site-packages/sklearn/linear_model/coordinate_descent.py:471: ConvergenceWarning: Objective did not converge. You might want to increase the number of iterations. Duality gap: 927328363407.0, tolerance: 752889801234.3579\n",
      "  tol, rng, random, positive)\n",
      "/anaconda3/lib/python3.6/site-packages/sklearn/linear_model/coordinate_descent.py:471: ConvergenceWarning: Objective did not converge. You might want to increase the number of iterations. Duality gap: 1098622982130.625, tolerance: 647205205790.6256\n",
      "  tol, rng, random, positive)\n",
      "/anaconda3/lib/python3.6/site-packages/sklearn/linear_model/coordinate_descent.py:471: ConvergenceWarning: Objective did not converge. You might want to increase the number of iterations. Duality gap: 1102430052866.5, tolerance: 647205205790.6256\n",
      "  tol, rng, random, positive)\n",
      "/anaconda3/lib/python3.6/site-packages/sklearn/linear_model/coordinate_descent.py:471: ConvergenceWarning: Objective did not converge. You might want to increase the number of iterations. Duality gap: 1077621282442.25, tolerance: 647205205790.6256\n",
      "  tol, rng, random, positive)\n"
     ]
    },
    {
     "name": "stderr",
     "output_type": "stream",
     "text": [
      "/anaconda3/lib/python3.6/site-packages/sklearn/linear_model/coordinate_descent.py:471: ConvergenceWarning: Objective did not converge. You might want to increase the number of iterations. Duality gap: 1029660230471.125, tolerance: 647205205790.6256\n",
      "  tol, rng, random, positive)\n",
      "/anaconda3/lib/python3.6/site-packages/sklearn/linear_model/coordinate_descent.py:475: ConvergenceWarning: Objective did not converge. You might want to increase the number of iterations. Duality gap: 10362101528447.0, tolerance: 1061904875596.7728\n",
      "  positive)\n"
     ]
    },
    {
     "data": {
      "text/plain": [
       "0.830193154442888"
      ]
     },
     "execution_count": 60,
     "metadata": {},
     "output_type": "execute_result"
    }
   ],
   "source": [
    "np.mean(cross_val_score(lasso_model, X_tr, y_train, # estimator, features, target\n",
    "                cv=kf, # number of folds \n",
    "                scoring='r2')) # scoring metric"
   ]
  },
  {
   "cell_type": "code",
   "execution_count": 84,
   "metadata": {},
   "outputs": [
    {
     "data": {
      "text/plain": [
       "0.8642279662546257"
      ]
     },
     "execution_count": 84,
     "metadata": {},
     "output_type": "execute_result"
    }
   ],
   "source": [
    "lasso_model.score(X_tr, y_train)"
   ]
  },
  {
   "cell_type": "code",
   "execution_count": 59,
   "metadata": {},
   "outputs": [
    {
     "data": {
      "text/plain": [
       "0.7742733192120499"
      ]
     },
     "execution_count": 59,
     "metadata": {},
     "output_type": "execute_result"
    }
   ],
   "source": [
    "lasso_model.score(X_te, y_test)"
   ]
  },
  {
   "cell_type": "code",
   "execution_count": 62,
   "metadata": {},
   "outputs": [],
   "source": [
    "feature_list = list(zip(poly_col, lasso_model.coef_))"
   ]
  },
  {
   "cell_type": "code",
   "execution_count": 73,
   "metadata": {},
   "outputs": [
    {
     "data": {
      "text/plain": [
       "[('monthly_common_charges^2', -956265.1999183116),\n",
       " ('square_feet', -736882.3358251749),\n",
       " ('bldg_rating beds', -720720.5786307228),\n",
       " ('bldg_rating', -632375.2076071132),\n",
       " ('baths', -417648.50297630345),\n",
       " ('square_feet neighborhood_Midtown East', -401073.4479771547),\n",
       " ('square_feet^2', -335178.3883823083),\n",
       " ('square_feet sold_season_Fall', -327131.0729106285),\n",
       " ('baths^2', -325253.04896887654),\n",
       " ('monthly_common_charges neighborhood_Midtown West', -295517.1388101802)]"
      ]
     },
     "execution_count": 73,
     "metadata": {},
     "output_type": "execute_result"
    }
   ],
   "source": [
    "sorted(feature_list, key=lambda tup: tup[1])[:10]"
   ]
  },
  {
   "cell_type": "code",
   "execution_count": 74,
   "metadata": {},
   "outputs": [
    {
     "data": {
      "text/plain": [
       "[('bldg_rating square_feet', 1630548.460961168),\n",
       " ('bldg_rating monthly_common_charges', 1037738.0815879276),\n",
       " ('bldg_rating apt_floor', 997773.5651569689),\n",
       " ('square_feet baths', 913514.1805622692),\n",
       " ('monthly_real_estate_taxes^2', 879988.4603170982),\n",
       " ('beds baths', 822161.0567446348),\n",
       " ('square_feet monthly_common_charges', 529386.9109723788),\n",
       " ('bldg_rating^2', 413527.3692405356),\n",
       " ('apt_floor square_feet', 373015.0417303555),\n",
       " ('beds monthly_real_estate_taxes', 350629.7624990348)]"
      ]
     },
     "execution_count": 74,
     "metadata": {},
     "output_type": "execute_result"
    }
   ],
   "source": [
    "sorted(feature_list, key=lambda tup: tup[1], reverse = True)[:10]"
   ]
  },
  {
   "cell_type": "code",
   "execution_count": 64,
   "metadata": {},
   "outputs": [],
   "source": [
    "std = StandardScaler()\n",
    "std.fit(X_train_poly)\n",
    "\n",
    "X_tr = std.transform(X_train_poly)\n",
    "X_te = std.transform(X_test_poly)"
   ]
  },
  {
   "cell_type": "code",
   "execution_count": 66,
   "metadata": {},
   "outputs": [
    {
     "data": {
      "text/plain": [
       "0.8301350421410525"
      ]
     },
     "execution_count": 66,
     "metadata": {},
     "output_type": "execute_result"
    }
   ],
   "source": [
    "np.mean(cross_val_score(lm_reg, X_tr, y_train, cv = kf, scoring = 'r2'))"
   ]
  },
  {
   "cell_type": "code",
   "execution_count": 67,
   "metadata": {
    "scrolled": true
   },
   "outputs": [
    {
     "name": "stdout",
     "output_type": "stream",
     "text": [
      "0.876162804732471\n",
      "0.7829537689067851\n"
     ]
    }
   ],
   "source": [
    "lm_reg = Ridge(alpha=1)\n",
    "lm_reg.fit(X_tr, y_train)\n",
    "print(lm_reg.score(X_tr, y_train))\n",
    "print(lm_reg.score(X_te, y_test))"
   ]
  },
  {
   "cell_type": "code",
   "execution_count": 72,
   "metadata": {},
   "outputs": [
    {
     "data": {
      "text/plain": [
       "[('monthly_common_charges^2', -956265.1999183116),\n",
       " ('square_feet', -736882.3358251749),\n",
       " ('bldg_rating beds', -720720.5786307228),\n",
       " ('bldg_rating', -632375.2076071132),\n",
       " ('baths', -417648.50297630345),\n",
       " ('square_feet neighborhood_Midtown East', -401073.4479771547),\n",
       " ('square_feet^2', -335178.3883823083),\n",
       " ('square_feet sold_season_Fall', -327131.0729106285),\n",
       " ('baths^2', -325253.04896887654),\n",
       " ('monthly_common_charges neighborhood_Midtown West', -295517.1388101802)]"
      ]
     },
     "execution_count": 72,
     "metadata": {},
     "output_type": "execute_result"
    }
   ],
   "source": [
    "feature_list = list(zip(poly_col, lm_reg.coef_))\n",
    "sorted(feature_list, key=lambda tup: tup[1])[:10]"
   ]
  },
  {
   "cell_type": "code",
   "execution_count": 71,
   "metadata": {
    "scrolled": false
   },
   "outputs": [
    {
     "data": {
      "text/plain": [
       "[('bldg_rating square_feet', 1630548.460961168),\n",
       " ('bldg_rating monthly_common_charges', 1037738.0815879276),\n",
       " ('bldg_rating apt_floor', 997773.5651569689),\n",
       " ('square_feet baths', 913514.1805622692),\n",
       " ('monthly_real_estate_taxes^2', 879988.4603170982),\n",
       " ('beds baths', 822161.0567446348),\n",
       " ('square_feet monthly_common_charges', 529386.9109723788),\n",
       " ('bldg_rating^2', 413527.3692405356),\n",
       " ('apt_floor square_feet', 373015.0417303555),\n",
       " ('beds monthly_real_estate_taxes', 350629.7624990348)]"
      ]
     },
     "execution_count": 71,
     "metadata": {},
     "output_type": "execute_result"
    }
   ],
   "source": [
    "sorted(feature_list, key=lambda tup: tup[1], reverse = True)[:10]"
   ]
  },
  {
   "cell_type": "markdown",
   "metadata": {},
   "source": [
    "# Investigating Features"
   ]
  },
  {
   "cell_type": "code",
   "execution_count": 134,
   "metadata": {},
   "outputs": [
    {
     "data": {
      "text/plain": [
       "(9213, 33)"
      ]
     },
     "execution_count": 134,
     "metadata": {},
     "output_type": "execute_result"
    }
   ],
   "source": [
    "df_model.shape"
   ]
  },
  {
   "cell_type": "code",
   "execution_count": 136,
   "metadata": {},
   "outputs": [
    {
     "data": {
      "text/html": [
       "<div>\n",
       "<style scoped>\n",
       "    .dataframe tbody tr th:only-of-type {\n",
       "        vertical-align: middle;\n",
       "    }\n",
       "\n",
       "    .dataframe tbody tr th {\n",
       "        vertical-align: top;\n",
       "    }\n",
       "\n",
       "    .dataframe thead th {\n",
       "        text-align: right;\n",
       "    }\n",
       "</style>\n",
       "<table border=\"1\" class=\"dataframe\">\n",
       "  <thead>\n",
       "    <tr style=\"text-align: right;\">\n",
       "      <th></th>\n",
       "      <th>bldg_rating</th>\n",
       "      <th>apt_floor</th>\n",
       "      <th>square_feet</th>\n",
       "      <th>beds</th>\n",
       "      <th>baths</th>\n",
       "      <th>monthly_common_charges</th>\n",
       "      <th>monthly_real_estate_taxes</th>\n",
       "      <th>sold_price</th>\n",
       "      <th>sold_season_Fall</th>\n",
       "      <th>sold_season_Spring</th>\n",
       "      <th>sold_season_Summer</th>\n",
       "      <th>sold_season_Winter</th>\n",
       "      <th>neighborhood_Beekman/Sutton Place</th>\n",
       "      <th>neighborhood_Midtown East</th>\n",
       "      <th>neighborhood_Midtown West</th>\n",
       "      <th>neighborhood_Murray Hill</th>\n",
       "      <th>neighborhood_Turtle Bay/United Nations</th>\n",
       "      <th>year_2004</th>\n",
       "      <th>year_2005</th>\n",
       "      <th>year_2006</th>\n",
       "      <th>year_2007</th>\n",
       "      <th>year_2008</th>\n",
       "      <th>year_2009</th>\n",
       "      <th>year_2010</th>\n",
       "      <th>year_2011</th>\n",
       "      <th>year_2012</th>\n",
       "      <th>year_2013</th>\n",
       "      <th>year_2014</th>\n",
       "      <th>year_2015</th>\n",
       "      <th>year_2016</th>\n",
       "      <th>year_2017</th>\n",
       "      <th>year_2018</th>\n",
       "      <th>year_2019</th>\n",
       "    </tr>\n",
       "  </thead>\n",
       "  <tbody>\n",
       "    <tr>\n",
       "      <td>0</td>\n",
       "      <td>78.0</td>\n",
       "      <td>25.0</td>\n",
       "      <td>650.0</td>\n",
       "      <td>1.0</td>\n",
       "      <td>1.0</td>\n",
       "      <td>814.0</td>\n",
       "      <td>948.0</td>\n",
       "      <td>799000.0</td>\n",
       "      <td>1</td>\n",
       "      <td>0</td>\n",
       "      <td>0</td>\n",
       "      <td>0</td>\n",
       "      <td>0</td>\n",
       "      <td>1</td>\n",
       "      <td>0</td>\n",
       "      <td>0</td>\n",
       "      <td>0</td>\n",
       "      <td>0</td>\n",
       "      <td>0</td>\n",
       "      <td>0</td>\n",
       "      <td>0</td>\n",
       "      <td>0</td>\n",
       "      <td>0</td>\n",
       "      <td>0</td>\n",
       "      <td>0</td>\n",
       "      <td>0</td>\n",
       "      <td>0</td>\n",
       "      <td>0</td>\n",
       "      <td>0</td>\n",
       "      <td>0</td>\n",
       "      <td>0</td>\n",
       "      <td>0</td>\n",
       "      <td>1</td>\n",
       "    </tr>\n",
       "    <tr>\n",
       "      <td>1</td>\n",
       "      <td>78.0</td>\n",
       "      <td>25.0</td>\n",
       "      <td>650.0</td>\n",
       "      <td>1.0</td>\n",
       "      <td>1.0</td>\n",
       "      <td>814.0</td>\n",
       "      <td>948.0</td>\n",
       "      <td>799000.0</td>\n",
       "      <td>1</td>\n",
       "      <td>0</td>\n",
       "      <td>0</td>\n",
       "      <td>0</td>\n",
       "      <td>0</td>\n",
       "      <td>1</td>\n",
       "      <td>0</td>\n",
       "      <td>0</td>\n",
       "      <td>0</td>\n",
       "      <td>0</td>\n",
       "      <td>0</td>\n",
       "      <td>0</td>\n",
       "      <td>0</td>\n",
       "      <td>0</td>\n",
       "      <td>0</td>\n",
       "      <td>0</td>\n",
       "      <td>0</td>\n",
       "      <td>0</td>\n",
       "      <td>0</td>\n",
       "      <td>0</td>\n",
       "      <td>0</td>\n",
       "      <td>0</td>\n",
       "      <td>0</td>\n",
       "      <td>0</td>\n",
       "      <td>1</td>\n",
       "    </tr>\n",
       "    <tr>\n",
       "      <td>2</td>\n",
       "      <td>78.0</td>\n",
       "      <td>25.0</td>\n",
       "      <td>650.0</td>\n",
       "      <td>1.0</td>\n",
       "      <td>1.0</td>\n",
       "      <td>814.0</td>\n",
       "      <td>948.0</td>\n",
       "      <td>799000.0</td>\n",
       "      <td>1</td>\n",
       "      <td>0</td>\n",
       "      <td>0</td>\n",
       "      <td>0</td>\n",
       "      <td>0</td>\n",
       "      <td>1</td>\n",
       "      <td>0</td>\n",
       "      <td>0</td>\n",
       "      <td>0</td>\n",
       "      <td>0</td>\n",
       "      <td>0</td>\n",
       "      <td>0</td>\n",
       "      <td>0</td>\n",
       "      <td>0</td>\n",
       "      <td>0</td>\n",
       "      <td>0</td>\n",
       "      <td>0</td>\n",
       "      <td>0</td>\n",
       "      <td>0</td>\n",
       "      <td>0</td>\n",
       "      <td>0</td>\n",
       "      <td>0</td>\n",
       "      <td>0</td>\n",
       "      <td>0</td>\n",
       "      <td>1</td>\n",
       "    </tr>\n",
       "    <tr>\n",
       "      <td>3</td>\n",
       "      <td>79.0</td>\n",
       "      <td>21.0</td>\n",
       "      <td>690.0</td>\n",
       "      <td>1.0</td>\n",
       "      <td>1.0</td>\n",
       "      <td>689.0</td>\n",
       "      <td>1315.0</td>\n",
       "      <td>1085000.0</td>\n",
       "      <td>1</td>\n",
       "      <td>0</td>\n",
       "      <td>0</td>\n",
       "      <td>0</td>\n",
       "      <td>0</td>\n",
       "      <td>0</td>\n",
       "      <td>1</td>\n",
       "      <td>0</td>\n",
       "      <td>0</td>\n",
       "      <td>0</td>\n",
       "      <td>0</td>\n",
       "      <td>0</td>\n",
       "      <td>0</td>\n",
       "      <td>0</td>\n",
       "      <td>0</td>\n",
       "      <td>0</td>\n",
       "      <td>0</td>\n",
       "      <td>0</td>\n",
       "      <td>0</td>\n",
       "      <td>0</td>\n",
       "      <td>0</td>\n",
       "      <td>0</td>\n",
       "      <td>0</td>\n",
       "      <td>0</td>\n",
       "      <td>1</td>\n",
       "    </tr>\n",
       "    <tr>\n",
       "      <td>4</td>\n",
       "      <td>79.0</td>\n",
       "      <td>21.0</td>\n",
       "      <td>690.0</td>\n",
       "      <td>1.0</td>\n",
       "      <td>1.0</td>\n",
       "      <td>689.0</td>\n",
       "      <td>1315.0</td>\n",
       "      <td>1085000.0</td>\n",
       "      <td>1</td>\n",
       "      <td>0</td>\n",
       "      <td>0</td>\n",
       "      <td>0</td>\n",
       "      <td>0</td>\n",
       "      <td>0</td>\n",
       "      <td>1</td>\n",
       "      <td>0</td>\n",
       "      <td>0</td>\n",
       "      <td>0</td>\n",
       "      <td>0</td>\n",
       "      <td>0</td>\n",
       "      <td>0</td>\n",
       "      <td>0</td>\n",
       "      <td>0</td>\n",
       "      <td>0</td>\n",
       "      <td>0</td>\n",
       "      <td>0</td>\n",
       "      <td>0</td>\n",
       "      <td>0</td>\n",
       "      <td>0</td>\n",
       "      <td>0</td>\n",
       "      <td>0</td>\n",
       "      <td>0</td>\n",
       "      <td>1</td>\n",
       "    </tr>\n",
       "  </tbody>\n",
       "</table>\n",
       "</div>"
      ],
      "text/plain": [
       "   bldg_rating  apt_floor  square_feet  beds  baths  monthly_common_charges  \\\n",
       "0         78.0       25.0        650.0   1.0    1.0                   814.0   \n",
       "1         78.0       25.0        650.0   1.0    1.0                   814.0   \n",
       "2         78.0       25.0        650.0   1.0    1.0                   814.0   \n",
       "3         79.0       21.0        690.0   1.0    1.0                   689.0   \n",
       "4         79.0       21.0        690.0   1.0    1.0                   689.0   \n",
       "\n",
       "   monthly_real_estate_taxes  sold_price  sold_season_Fall  \\\n",
       "0                      948.0    799000.0                 1   \n",
       "1                      948.0    799000.0                 1   \n",
       "2                      948.0    799000.0                 1   \n",
       "3                     1315.0   1085000.0                 1   \n",
       "4                     1315.0   1085000.0                 1   \n",
       "\n",
       "   sold_season_Spring  sold_season_Summer  sold_season_Winter  \\\n",
       "0                   0                   0                   0   \n",
       "1                   0                   0                   0   \n",
       "2                   0                   0                   0   \n",
       "3                   0                   0                   0   \n",
       "4                   0                   0                   0   \n",
       "\n",
       "   neighborhood_Beekman/Sutton Place  neighborhood_Midtown East  \\\n",
       "0                                  0                          1   \n",
       "1                                  0                          1   \n",
       "2                                  0                          1   \n",
       "3                                  0                          0   \n",
       "4                                  0                          0   \n",
       "\n",
       "   neighborhood_Midtown West  neighborhood_Murray Hill  \\\n",
       "0                          0                         0   \n",
       "1                          0                         0   \n",
       "2                          0                         0   \n",
       "3                          1                         0   \n",
       "4                          1                         0   \n",
       "\n",
       "   neighborhood_Turtle Bay/United Nations  year_2004  year_2005  year_2006  \\\n",
       "0                                       0          0          0          0   \n",
       "1                                       0          0          0          0   \n",
       "2                                       0          0          0          0   \n",
       "3                                       0          0          0          0   \n",
       "4                                       0          0          0          0   \n",
       "\n",
       "   year_2007  year_2008  year_2009  year_2010  year_2011  year_2012  \\\n",
       "0          0          0          0          0          0          0   \n",
       "1          0          0          0          0          0          0   \n",
       "2          0          0          0          0          0          0   \n",
       "3          0          0          0          0          0          0   \n",
       "4          0          0          0          0          0          0   \n",
       "\n",
       "   year_2013  year_2014  year_2015  year_2016  year_2017  year_2018  year_2019  \n",
       "0          0          0          0          0          0          0          1  \n",
       "1          0          0          0          0          0          0          1  \n",
       "2          0          0          0          0          0          0          1  \n",
       "3          0          0          0          0          0          0          1  \n",
       "4          0          0          0          0          0          0          1  "
      ]
     },
     "execution_count": 136,
     "metadata": {},
     "output_type": "execute_result"
    }
   ],
   "source": [
    "df_model.head()"
   ]
  },
  {
   "cell_type": "code",
   "execution_count": 141,
   "metadata": {},
   "outputs": [
    {
     "data": {
      "text/html": [
       "<div>\n",
       "<style scoped>\n",
       "    .dataframe tbody tr th:only-of-type {\n",
       "        vertical-align: middle;\n",
       "    }\n",
       "\n",
       "    .dataframe tbody tr th {\n",
       "        vertical-align: top;\n",
       "    }\n",
       "\n",
       "    .dataframe thead th {\n",
       "        text-align: right;\n",
       "    }\n",
       "</style>\n",
       "<table border=\"1\" class=\"dataframe\">\n",
       "  <thead>\n",
       "    <tr style=\"text-align: right;\">\n",
       "      <th></th>\n",
       "      <th>bldg_rating square_feet</th>\n",
       "      <th>bldg_rating monthly_common_charges</th>\n",
       "      <th>bldg_rating apt_floor</th>\n",
       "      <th>sold_price</th>\n",
       "    </tr>\n",
       "  </thead>\n",
       "  <tbody>\n",
       "    <tr>\n",
       "      <td>0</td>\n",
       "      <td>50700.0</td>\n",
       "      <td>63492.0</td>\n",
       "      <td>1950.0</td>\n",
       "      <td>799000.0</td>\n",
       "    </tr>\n",
       "    <tr>\n",
       "      <td>1</td>\n",
       "      <td>50700.0</td>\n",
       "      <td>63492.0</td>\n",
       "      <td>1950.0</td>\n",
       "      <td>799000.0</td>\n",
       "    </tr>\n",
       "    <tr>\n",
       "      <td>2</td>\n",
       "      <td>50700.0</td>\n",
       "      <td>63492.0</td>\n",
       "      <td>1950.0</td>\n",
       "      <td>799000.0</td>\n",
       "    </tr>\n",
       "    <tr>\n",
       "      <td>3</td>\n",
       "      <td>54510.0</td>\n",
       "      <td>54431.0</td>\n",
       "      <td>1659.0</td>\n",
       "      <td>1085000.0</td>\n",
       "    </tr>\n",
       "    <tr>\n",
       "      <td>4</td>\n",
       "      <td>54510.0</td>\n",
       "      <td>54431.0</td>\n",
       "      <td>1659.0</td>\n",
       "      <td>1085000.0</td>\n",
       "    </tr>\n",
       "  </tbody>\n",
       "</table>\n",
       "</div>"
      ],
      "text/plain": [
       "   bldg_rating square_feet  bldg_rating monthly_common_charges  \\\n",
       "0                  50700.0                             63492.0   \n",
       "1                  50700.0                             63492.0   \n",
       "2                  50700.0                             63492.0   \n",
       "3                  54510.0                             54431.0   \n",
       "4                  54510.0                             54431.0   \n",
       "\n",
       "   bldg_rating apt_floor  sold_price  \n",
       "0                 1950.0    799000.0  \n",
       "1                 1950.0    799000.0  \n",
       "2                 1950.0    799000.0  \n",
       "3                 1659.0   1085000.0  \n",
       "4                 1659.0   1085000.0  "
      ]
     },
     "execution_count": 141,
     "metadata": {},
     "output_type": "execute_result"
    }
   ],
   "source": [
    "df_feat = pd.DataFrame()\n",
    "df_feat['bldg_rating square_feet'] = df_model['bldg_rating'] * df_model['square_feet']\n",
    "df_feat['bldg_rating monthly_common_charges'] = df_model['bldg_rating'] * df_model['monthly_common_charges']\n",
    "df_feat['bldg_rating apt_floor'] = df_model['bldg_rating'] * df_model['apt_floor']\n",
    "df_feat['sold_price'] = df_model['sold_price']\n",
    "df_feat.head()"
   ]
  },
  {
   "cell_type": "code",
   "execution_count": 142,
   "metadata": {},
   "outputs": [
    {
     "data": {
      "text/plain": [
       "(9213, 4)"
      ]
     },
     "execution_count": 142,
     "metadata": {},
     "output_type": "execute_result"
    }
   ],
   "source": [
    "df_feat.shape"
   ]
  },
  {
   "cell_type": "code",
   "execution_count": 145,
   "metadata": {},
   "outputs": [
    {
     "data": {
      "text/html": [
       "<div>\n",
       "<style scoped>\n",
       "    .dataframe tbody tr th:only-of-type {\n",
       "        vertical-align: middle;\n",
       "    }\n",
       "\n",
       "    .dataframe tbody tr th {\n",
       "        vertical-align: top;\n",
       "    }\n",
       "\n",
       "    .dataframe thead th {\n",
       "        text-align: right;\n",
       "    }\n",
       "</style>\n",
       "<table border=\"1\" class=\"dataframe\">\n",
       "  <thead>\n",
       "    <tr style=\"text-align: right;\">\n",
       "      <th></th>\n",
       "      <th>bldg_rating</th>\n",
       "      <th>apt_floor</th>\n",
       "      <th>square_feet</th>\n",
       "      <th>beds</th>\n",
       "      <th>baths</th>\n",
       "      <th>monthly_common_charges</th>\n",
       "      <th>monthly_real_estate_taxes</th>\n",
       "      <th>sold_price</th>\n",
       "      <th>sold_season_Fall</th>\n",
       "      <th>sold_season_Spring</th>\n",
       "      <th>sold_season_Summer</th>\n",
       "      <th>sold_season_Winter</th>\n",
       "      <th>neighborhood_Beekman/Sutton Place</th>\n",
       "      <th>neighborhood_Midtown East</th>\n",
       "      <th>neighborhood_Midtown West</th>\n",
       "      <th>neighborhood_Murray Hill</th>\n",
       "      <th>neighborhood_Turtle Bay/United Nations</th>\n",
       "      <th>year_2004</th>\n",
       "      <th>year_2005</th>\n",
       "      <th>year_2006</th>\n",
       "      <th>year_2007</th>\n",
       "      <th>year_2008</th>\n",
       "      <th>year_2009</th>\n",
       "      <th>year_2010</th>\n",
       "      <th>year_2011</th>\n",
       "      <th>year_2012</th>\n",
       "      <th>year_2013</th>\n",
       "      <th>year_2014</th>\n",
       "      <th>year_2015</th>\n",
       "      <th>year_2016</th>\n",
       "      <th>year_2017</th>\n",
       "      <th>year_2018</th>\n",
       "      <th>year_2019</th>\n",
       "    </tr>\n",
       "  </thead>\n",
       "  <tbody>\n",
       "    <tr>\n",
       "      <td>0</td>\n",
       "      <td>78.0</td>\n",
       "      <td>25.0</td>\n",
       "      <td>650.0</td>\n",
       "      <td>1.0</td>\n",
       "      <td>1.0</td>\n",
       "      <td>814.0</td>\n",
       "      <td>948.0</td>\n",
       "      <td>799000.0</td>\n",
       "      <td>1</td>\n",
       "      <td>0</td>\n",
       "      <td>0</td>\n",
       "      <td>0</td>\n",
       "      <td>0</td>\n",
       "      <td>1</td>\n",
       "      <td>0</td>\n",
       "      <td>0</td>\n",
       "      <td>0</td>\n",
       "      <td>0</td>\n",
       "      <td>0</td>\n",
       "      <td>0</td>\n",
       "      <td>0</td>\n",
       "      <td>0</td>\n",
       "      <td>0</td>\n",
       "      <td>0</td>\n",
       "      <td>0</td>\n",
       "      <td>0</td>\n",
       "      <td>0</td>\n",
       "      <td>0</td>\n",
       "      <td>0</td>\n",
       "      <td>0</td>\n",
       "      <td>0</td>\n",
       "      <td>0</td>\n",
       "      <td>1</td>\n",
       "    </tr>\n",
       "    <tr>\n",
       "      <td>3</td>\n",
       "      <td>79.0</td>\n",
       "      <td>21.0</td>\n",
       "      <td>690.0</td>\n",
       "      <td>1.0</td>\n",
       "      <td>1.0</td>\n",
       "      <td>689.0</td>\n",
       "      <td>1315.0</td>\n",
       "      <td>1085000.0</td>\n",
       "      <td>1</td>\n",
       "      <td>0</td>\n",
       "      <td>0</td>\n",
       "      <td>0</td>\n",
       "      <td>0</td>\n",
       "      <td>0</td>\n",
       "      <td>1</td>\n",
       "      <td>0</td>\n",
       "      <td>0</td>\n",
       "      <td>0</td>\n",
       "      <td>0</td>\n",
       "      <td>0</td>\n",
       "      <td>0</td>\n",
       "      <td>0</td>\n",
       "      <td>0</td>\n",
       "      <td>0</td>\n",
       "      <td>0</td>\n",
       "      <td>0</td>\n",
       "      <td>0</td>\n",
       "      <td>0</td>\n",
       "      <td>0</td>\n",
       "      <td>0</td>\n",
       "      <td>0</td>\n",
       "      <td>0</td>\n",
       "      <td>1</td>\n",
       "    </tr>\n",
       "    <tr>\n",
       "      <td>6</td>\n",
       "      <td>73.0</td>\n",
       "      <td>6.0</td>\n",
       "      <td>1142.0</td>\n",
       "      <td>1.0</td>\n",
       "      <td>1.5</td>\n",
       "      <td>1683.0</td>\n",
       "      <td>1148.0</td>\n",
       "      <td>1039000.0</td>\n",
       "      <td>1</td>\n",
       "      <td>0</td>\n",
       "      <td>0</td>\n",
       "      <td>0</td>\n",
       "      <td>0</td>\n",
       "      <td>0</td>\n",
       "      <td>0</td>\n",
       "      <td>1</td>\n",
       "      <td>0</td>\n",
       "      <td>0</td>\n",
       "      <td>0</td>\n",
       "      <td>0</td>\n",
       "      <td>0</td>\n",
       "      <td>0</td>\n",
       "      <td>0</td>\n",
       "      <td>0</td>\n",
       "      <td>0</td>\n",
       "      <td>0</td>\n",
       "      <td>0</td>\n",
       "      <td>0</td>\n",
       "      <td>0</td>\n",
       "      <td>0</td>\n",
       "      <td>0</td>\n",
       "      <td>0</td>\n",
       "      <td>1</td>\n",
       "    </tr>\n",
       "    <tr>\n",
       "      <td>7</td>\n",
       "      <td>70.0</td>\n",
       "      <td>23.0</td>\n",
       "      <td>688.0</td>\n",
       "      <td>1.0</td>\n",
       "      <td>1.0</td>\n",
       "      <td>810.0</td>\n",
       "      <td>1511.0</td>\n",
       "      <td>1080000.0</td>\n",
       "      <td>1</td>\n",
       "      <td>0</td>\n",
       "      <td>0</td>\n",
       "      <td>0</td>\n",
       "      <td>0</td>\n",
       "      <td>0</td>\n",
       "      <td>0</td>\n",
       "      <td>1</td>\n",
       "      <td>0</td>\n",
       "      <td>0</td>\n",
       "      <td>0</td>\n",
       "      <td>0</td>\n",
       "      <td>0</td>\n",
       "      <td>0</td>\n",
       "      <td>0</td>\n",
       "      <td>0</td>\n",
       "      <td>0</td>\n",
       "      <td>0</td>\n",
       "      <td>0</td>\n",
       "      <td>0</td>\n",
       "      <td>0</td>\n",
       "      <td>0</td>\n",
       "      <td>0</td>\n",
       "      <td>0</td>\n",
       "      <td>1</td>\n",
       "    </tr>\n",
       "    <tr>\n",
       "      <td>9</td>\n",
       "      <td>82.0</td>\n",
       "      <td>10.0</td>\n",
       "      <td>1200.0</td>\n",
       "      <td>1.0</td>\n",
       "      <td>1.0</td>\n",
       "      <td>1676.0</td>\n",
       "      <td>1211.0</td>\n",
       "      <td>1400000.0</td>\n",
       "      <td>1</td>\n",
       "      <td>0</td>\n",
       "      <td>0</td>\n",
       "      <td>0</td>\n",
       "      <td>0</td>\n",
       "      <td>0</td>\n",
       "      <td>1</td>\n",
       "      <td>0</td>\n",
       "      <td>0</td>\n",
       "      <td>0</td>\n",
       "      <td>0</td>\n",
       "      <td>0</td>\n",
       "      <td>0</td>\n",
       "      <td>0</td>\n",
       "      <td>0</td>\n",
       "      <td>0</td>\n",
       "      <td>0</td>\n",
       "      <td>0</td>\n",
       "      <td>0</td>\n",
       "      <td>0</td>\n",
       "      <td>0</td>\n",
       "      <td>0</td>\n",
       "      <td>0</td>\n",
       "      <td>0</td>\n",
       "      <td>1</td>\n",
       "    </tr>\n",
       "    <tr>\n",
       "      <td>...</td>\n",
       "      <td>...</td>\n",
       "      <td>...</td>\n",
       "      <td>...</td>\n",
       "      <td>...</td>\n",
       "      <td>...</td>\n",
       "      <td>...</td>\n",
       "      <td>...</td>\n",
       "      <td>...</td>\n",
       "      <td>...</td>\n",
       "      <td>...</td>\n",
       "      <td>...</td>\n",
       "      <td>...</td>\n",
       "      <td>...</td>\n",
       "      <td>...</td>\n",
       "      <td>...</td>\n",
       "      <td>...</td>\n",
       "      <td>...</td>\n",
       "      <td>...</td>\n",
       "      <td>...</td>\n",
       "      <td>...</td>\n",
       "      <td>...</td>\n",
       "      <td>...</td>\n",
       "      <td>...</td>\n",
       "      <td>...</td>\n",
       "      <td>...</td>\n",
       "      <td>...</td>\n",
       "      <td>...</td>\n",
       "      <td>...</td>\n",
       "      <td>...</td>\n",
       "      <td>...</td>\n",
       "      <td>...</td>\n",
       "      <td>...</td>\n",
       "      <td>...</td>\n",
       "    </tr>\n",
       "    <tr>\n",
       "      <td>9202</td>\n",
       "      <td>69.0</td>\n",
       "      <td>20.0</td>\n",
       "      <td>507.0</td>\n",
       "      <td>1.0</td>\n",
       "      <td>1.0</td>\n",
       "      <td>430.0</td>\n",
       "      <td>727.0</td>\n",
       "      <td>447000.0</td>\n",
       "      <td>1</td>\n",
       "      <td>0</td>\n",
       "      <td>0</td>\n",
       "      <td>0</td>\n",
       "      <td>0</td>\n",
       "      <td>0</td>\n",
       "      <td>1</td>\n",
       "      <td>0</td>\n",
       "      <td>0</td>\n",
       "      <td>0</td>\n",
       "      <td>1</td>\n",
       "      <td>0</td>\n",
       "      <td>0</td>\n",
       "      <td>0</td>\n",
       "      <td>0</td>\n",
       "      <td>0</td>\n",
       "      <td>0</td>\n",
       "      <td>0</td>\n",
       "      <td>0</td>\n",
       "      <td>0</td>\n",
       "      <td>0</td>\n",
       "      <td>0</td>\n",
       "      <td>0</td>\n",
       "      <td>0</td>\n",
       "      <td>0</td>\n",
       "    </tr>\n",
       "    <tr>\n",
       "      <td>9204</td>\n",
       "      <td>77.0</td>\n",
       "      <td>23.0</td>\n",
       "      <td>830.0</td>\n",
       "      <td>1.0</td>\n",
       "      <td>1.5</td>\n",
       "      <td>978.0</td>\n",
       "      <td>1092.0</td>\n",
       "      <td>191667.0</td>\n",
       "      <td>0</td>\n",
       "      <td>0</td>\n",
       "      <td>1</td>\n",
       "      <td>0</td>\n",
       "      <td>0</td>\n",
       "      <td>1</td>\n",
       "      <td>0</td>\n",
       "      <td>0</td>\n",
       "      <td>0</td>\n",
       "      <td>0</td>\n",
       "      <td>1</td>\n",
       "      <td>0</td>\n",
       "      <td>0</td>\n",
       "      <td>0</td>\n",
       "      <td>0</td>\n",
       "      <td>0</td>\n",
       "      <td>0</td>\n",
       "      <td>0</td>\n",
       "      <td>0</td>\n",
       "      <td>0</td>\n",
       "      <td>0</td>\n",
       "      <td>0</td>\n",
       "      <td>0</td>\n",
       "      <td>0</td>\n",
       "      <td>0</td>\n",
       "    </tr>\n",
       "    <tr>\n",
       "      <td>9207</td>\n",
       "      <td>92.0</td>\n",
       "      <td>39.0</td>\n",
       "      <td>1431.0</td>\n",
       "      <td>2.0</td>\n",
       "      <td>2.5</td>\n",
       "      <td>1649.0</td>\n",
       "      <td>1786.0</td>\n",
       "      <td>750000.0</td>\n",
       "      <td>0</td>\n",
       "      <td>0</td>\n",
       "      <td>1</td>\n",
       "      <td>0</td>\n",
       "      <td>0</td>\n",
       "      <td>0</td>\n",
       "      <td>0</td>\n",
       "      <td>0</td>\n",
       "      <td>1</td>\n",
       "      <td>0</td>\n",
       "      <td>1</td>\n",
       "      <td>0</td>\n",
       "      <td>0</td>\n",
       "      <td>0</td>\n",
       "      <td>0</td>\n",
       "      <td>0</td>\n",
       "      <td>0</td>\n",
       "      <td>0</td>\n",
       "      <td>0</td>\n",
       "      <td>0</td>\n",
       "      <td>0</td>\n",
       "      <td>0</td>\n",
       "      <td>0</td>\n",
       "      <td>0</td>\n",
       "      <td>0</td>\n",
       "    </tr>\n",
       "    <tr>\n",
       "      <td>9209</td>\n",
       "      <td>89.0</td>\n",
       "      <td>42.0</td>\n",
       "      <td>2062.0</td>\n",
       "      <td>2.0</td>\n",
       "      <td>3.0</td>\n",
       "      <td>2223.0</td>\n",
       "      <td>2514.0</td>\n",
       "      <td>1858306.0</td>\n",
       "      <td>0</td>\n",
       "      <td>1</td>\n",
       "      <td>0</td>\n",
       "      <td>0</td>\n",
       "      <td>0</td>\n",
       "      <td>0</td>\n",
       "      <td>0</td>\n",
       "      <td>0</td>\n",
       "      <td>1</td>\n",
       "      <td>1</td>\n",
       "      <td>0</td>\n",
       "      <td>0</td>\n",
       "      <td>0</td>\n",
       "      <td>0</td>\n",
       "      <td>0</td>\n",
       "      <td>0</td>\n",
       "      <td>0</td>\n",
       "      <td>0</td>\n",
       "      <td>0</td>\n",
       "      <td>0</td>\n",
       "      <td>0</td>\n",
       "      <td>0</td>\n",
       "      <td>0</td>\n",
       "      <td>0</td>\n",
       "      <td>0</td>\n",
       "    </tr>\n",
       "    <tr>\n",
       "      <td>9211</td>\n",
       "      <td>89.0</td>\n",
       "      <td>19.0</td>\n",
       "      <td>894.0</td>\n",
       "      <td>1.0</td>\n",
       "      <td>1.5</td>\n",
       "      <td>1045.0</td>\n",
       "      <td>833.0</td>\n",
       "      <td>695000.0</td>\n",
       "      <td>0</td>\n",
       "      <td>1</td>\n",
       "      <td>0</td>\n",
       "      <td>0</td>\n",
       "      <td>0</td>\n",
       "      <td>0</td>\n",
       "      <td>0</td>\n",
       "      <td>0</td>\n",
       "      <td>1</td>\n",
       "      <td>1</td>\n",
       "      <td>0</td>\n",
       "      <td>0</td>\n",
       "      <td>0</td>\n",
       "      <td>0</td>\n",
       "      <td>0</td>\n",
       "      <td>0</td>\n",
       "      <td>0</td>\n",
       "      <td>0</td>\n",
       "      <td>0</td>\n",
       "      <td>0</td>\n",
       "      <td>0</td>\n",
       "      <td>0</td>\n",
       "      <td>0</td>\n",
       "      <td>0</td>\n",
       "      <td>0</td>\n",
       "    </tr>\n",
       "  </tbody>\n",
       "</table>\n",
       "<p>5047 rows × 33 columns</p>\n",
       "</div>"
      ],
      "text/plain": [
       "      bldg_rating  apt_floor  square_feet  beds  baths  \\\n",
       "0            78.0       25.0        650.0   1.0    1.0   \n",
       "3            79.0       21.0        690.0   1.0    1.0   \n",
       "6            73.0        6.0       1142.0   1.0    1.5   \n",
       "7            70.0       23.0        688.0   1.0    1.0   \n",
       "9            82.0       10.0       1200.0   1.0    1.0   \n",
       "...           ...        ...          ...   ...    ...   \n",
       "9202         69.0       20.0        507.0   1.0    1.0   \n",
       "9204         77.0       23.0        830.0   1.0    1.5   \n",
       "9207         92.0       39.0       1431.0   2.0    2.5   \n",
       "9209         89.0       42.0       2062.0   2.0    3.0   \n",
       "9211         89.0       19.0        894.0   1.0    1.5   \n",
       "\n",
       "      monthly_common_charges  monthly_real_estate_taxes  sold_price  \\\n",
       "0                      814.0                      948.0    799000.0   \n",
       "3                      689.0                     1315.0   1085000.0   \n",
       "6                     1683.0                     1148.0   1039000.0   \n",
       "7                      810.0                     1511.0   1080000.0   \n",
       "9                     1676.0                     1211.0   1400000.0   \n",
       "...                      ...                        ...         ...   \n",
       "9202                   430.0                      727.0    447000.0   \n",
       "9204                   978.0                     1092.0    191667.0   \n",
       "9207                  1649.0                     1786.0    750000.0   \n",
       "9209                  2223.0                     2514.0   1858306.0   \n",
       "9211                  1045.0                      833.0    695000.0   \n",
       "\n",
       "      sold_season_Fall  sold_season_Spring  sold_season_Summer  \\\n",
       "0                    1                   0                   0   \n",
       "3                    1                   0                   0   \n",
       "6                    1                   0                   0   \n",
       "7                    1                   0                   0   \n",
       "9                    1                   0                   0   \n",
       "...                ...                 ...                 ...   \n",
       "9202                 1                   0                   0   \n",
       "9204                 0                   0                   1   \n",
       "9207                 0                   0                   1   \n",
       "9209                 0                   1                   0   \n",
       "9211                 0                   1                   0   \n",
       "\n",
       "      sold_season_Winter  neighborhood_Beekman/Sutton Place  \\\n",
       "0                      0                                  0   \n",
       "3                      0                                  0   \n",
       "6                      0                                  0   \n",
       "7                      0                                  0   \n",
       "9                      0                                  0   \n",
       "...                  ...                                ...   \n",
       "9202                   0                                  0   \n",
       "9204                   0                                  0   \n",
       "9207                   0                                  0   \n",
       "9209                   0                                  0   \n",
       "9211                   0                                  0   \n",
       "\n",
       "      neighborhood_Midtown East  neighborhood_Midtown West  \\\n",
       "0                             1                          0   \n",
       "3                             0                          1   \n",
       "6                             0                          0   \n",
       "7                             0                          0   \n",
       "9                             0                          1   \n",
       "...                         ...                        ...   \n",
       "9202                          0                          1   \n",
       "9204                          1                          0   \n",
       "9207                          0                          0   \n",
       "9209                          0                          0   \n",
       "9211                          0                          0   \n",
       "\n",
       "      neighborhood_Murray Hill  neighborhood_Turtle Bay/United Nations  \\\n",
       "0                            0                                       0   \n",
       "3                            0                                       0   \n",
       "6                            1                                       0   \n",
       "7                            1                                       0   \n",
       "9                            0                                       0   \n",
       "...                        ...                                     ...   \n",
       "9202                         0                                       0   \n",
       "9204                         0                                       0   \n",
       "9207                         0                                       1   \n",
       "9209                         0                                       1   \n",
       "9211                         0                                       1   \n",
       "\n",
       "      year_2004  year_2005  year_2006  year_2007  year_2008  year_2009  \\\n",
       "0             0          0          0          0          0          0   \n",
       "3             0          0          0          0          0          0   \n",
       "6             0          0          0          0          0          0   \n",
       "7             0          0          0          0          0          0   \n",
       "9             0          0          0          0          0          0   \n",
       "...         ...        ...        ...        ...        ...        ...   \n",
       "9202          0          1          0          0          0          0   \n",
       "9204          0          1          0          0          0          0   \n",
       "9207          0          1          0          0          0          0   \n",
       "9209          1          0          0          0          0          0   \n",
       "9211          1          0          0          0          0          0   \n",
       "\n",
       "      year_2010  year_2011  year_2012  year_2013  year_2014  year_2015  \\\n",
       "0             0          0          0          0          0          0   \n",
       "3             0          0          0          0          0          0   \n",
       "6             0          0          0          0          0          0   \n",
       "7             0          0          0          0          0          0   \n",
       "9             0          0          0          0          0          0   \n",
       "...         ...        ...        ...        ...        ...        ...   \n",
       "9202          0          0          0          0          0          0   \n",
       "9204          0          0          0          0          0          0   \n",
       "9207          0          0          0          0          0          0   \n",
       "9209          0          0          0          0          0          0   \n",
       "9211          0          0          0          0          0          0   \n",
       "\n",
       "      year_2016  year_2017  year_2018  year_2019  \n",
       "0             0          0          0          1  \n",
       "3             0          0          0          1  \n",
       "6             0          0          0          1  \n",
       "7             0          0          0          1  \n",
       "9             0          0          0          1  \n",
       "...         ...        ...        ...        ...  \n",
       "9202          0          0          0          0  \n",
       "9204          0          0          0          0  \n",
       "9207          0          0          0          0  \n",
       "9209          0          0          0          0  \n",
       "9211          0          0          0          0  \n",
       "\n",
       "[5047 rows x 33 columns]"
      ]
     },
     "execution_count": 145,
     "metadata": {},
     "output_type": "execute_result"
    }
   ],
   "source": [
    "df_model.drop_duplicates()"
   ]
  },
  {
   "cell_type": "code",
   "execution_count": null,
   "metadata": {},
   "outputs": [],
   "source": [
    "bldg_rating square_feet"
   ]
  },
  {
   "cell_type": "code",
   "execution_count": null,
   "metadata": {},
   "outputs": [],
   "source": [
    "sns.pairplot(smaller_df, diag_kind='kde')"
   ]
  },
  {
   "cell_type": "code",
   "execution_count": null,
   "metadata": {},
   "outputs": [],
   "source": []
  },
  {
   "cell_type": "code",
   "execution_count": null,
   "metadata": {},
   "outputs": [],
   "source": []
  },
  {
   "cell_type": "markdown",
   "metadata": {
    "heading_collapsed": true
   },
   "source": [
    "# Understanding Model Performance"
   ]
  },
  {
   "cell_type": "code",
   "execution_count": 75,
   "metadata": {
    "hidden": true
   },
   "outputs": [],
   "source": [
    "X = df_model.drop('sold_price', axis = 1)\n",
    "y = df_model['sold_price']"
   ]
  },
  {
   "cell_type": "code",
   "execution_count": 78,
   "metadata": {
    "hidden": true
   },
   "outputs": [
    {
     "data": {
      "text/plain": [
       "(9213, 32)"
      ]
     },
     "execution_count": 78,
     "metadata": {},
     "output_type": "execute_result"
    }
   ],
   "source": [
    "X.shape"
   ]
  },
  {
   "cell_type": "code",
   "execution_count": 79,
   "metadata": {
    "hidden": true
   },
   "outputs": [
    {
     "data": {
      "text/plain": [
       "(9213,)"
      ]
     },
     "execution_count": 79,
     "metadata": {},
     "output_type": "execute_result"
    }
   ],
   "source": [
    "y.shape"
   ]
  },
  {
   "cell_type": "code",
   "execution_count": 76,
   "metadata": {
    "hidden": true
   },
   "outputs": [
    {
     "data": {
      "text/plain": [
       "<Figure size 1440x360 with 0 Axes>"
      ]
     },
     "metadata": {},
     "output_type": "display_data"
    }
   ],
   "source": [
    "plt.figure(figsize=(20,5))\n",
    "\n",
    "rgr = LinearRegression()\n",
    "rgr.fit(X,y)\n",
    "pred = rgr.predict(X)"
   ]
  },
  {
   "cell_type": "code",
   "execution_count": 86,
   "metadata": {
    "hidden": true
   },
   "outputs": [],
   "source": [
    "lm_reg = Ridge(alpha=1)\n",
    "lm_reg.fit(X_tr, y_train)\n",
    "pred = lm_reg.predict(X_te)"
   ]
  },
  {
   "cell_type": "code",
   "execution_count": 111,
   "metadata": {
    "hidden": true
   },
   "outputs": [
    {
     "data": {
      "text/plain": [
       "(1843, 561)"
      ]
     },
     "execution_count": 111,
     "metadata": {},
     "output_type": "execute_result"
    }
   ],
   "source": [
    "X_te.shape"
   ]
  },
  {
   "cell_type": "code",
   "execution_count": 112,
   "metadata": {
    "hidden": true
   },
   "outputs": [
    {
     "data": {
      "text/plain": [
       "(1843,)"
      ]
     },
     "execution_count": 112,
     "metadata": {},
     "output_type": "execute_result"
    }
   ],
   "source": [
    "y_test.shape"
   ]
  },
  {
   "cell_type": "code",
   "execution_count": 88,
   "metadata": {
    "hidden": true
   },
   "outputs": [
    {
     "data": {
      "text/plain": [
       "Text(0, 0.5, 'residuals')"
      ]
     },
     "execution_count": 88,
     "metadata": {},
     "output_type": "execute_result"
    },
    {
     "data": {
      "image/png": "[encoded data removed]",
      "text/plain": [
       "<Figure size 432x288 with 1 Axes>"
      ]
     },
     "metadata": {},
     "output_type": "display_data"
    }
   ],
   "source": [
    "# Plot residuals\n",
    "res = y_test - pred\n",
    "plt.scatter(pred, res)\n",
    "plt.title(\"Residual plot\")\n",
    "plt.xlabel(\"prediction\")\n",
    "plt.ylabel(\"residuals\")\n",
    "\n",
    "# res is NEGATIVE when prediction is LARGER than actual (over predicting)\n",
    "# res is POSITIVE when prediction is SMALLER than actual (under predicting)"
   ]
  },
  {
   "cell_type": "code",
   "execution_count": 89,
   "metadata": {
    "hidden": true
   },
   "outputs": [
    {
     "data": {
      "text/plain": [
       "Text(0.5, 1.0, 'Normal Q-Q plot')"
      ]
     },
     "execution_count": 89,
     "metadata": {},
     "output_type": "execute_result"
    },
    {
     "data": {
      "image/png": "[encoded data removed]",
      "text/plain": [
       "<Figure size 432x288 with 1 Axes>"
      ]
     },
     "metadata": {},
     "output_type": "display_data"
    }
   ],
   "source": [
    "import scipy.stats as stats\n",
    "# Plot Q-Q plot\n",
    "#plt.subplot(1, 3, 3)\n",
    "#Generates a probability plot of sample data against the quantiles of a \n",
    "# specified theoretical distribution \n",
    "stats.probplot(res, dist=\"norm\", plot=plt)\n",
    "plt.title(\"Normal Q-Q plot\")\n",
    "\n",
    "# Has problems predicting really large and reall small values\n",
    "# Comparing the residuals to a normal distribution\n",
    "# This is HEAVY TAILED"
   ]
  },
  {
   "cell_type": "code",
   "execution_count": null,
   "metadata": {
    "hidden": true
   },
   "outputs": [],
   "source": [
    "lm_reg = Ridge(alpha=1)\n",
    "lm_reg.fit(X_tr, y_train)\n",
    "pred = lm_reg.predict(X_te)"
   ]
  },
  {
   "cell_type": "code",
   "execution_count": 114,
   "metadata": {
    "hidden": true
   },
   "outputs": [
    {
     "name": "stderr",
     "output_type": "stream",
     "text": [
      "'c' argument looks like a single numeric RGB or RGBA sequence, which should be avoided as value-mapping will have precedence in case its length matches with 'x' & 'y'.  Please use a 2-D array with a single row if you really want to specify the same RGB or RGBA value for all points.\n"
     ]
    },
    {
     "data": {
      "image/png": "[encoded data removed]",
      "text/plain": [
       "<Figure size 720x432 with 1 Axes>"
      ]
     },
     "metadata": {},
     "output_type": "display_data"
    }
   ],
   "source": [
    "# Plot your predicted values on the x-axis, and your residuals on the y-axis\n",
    "data = pd.DataFrame()\n",
    "data['predict']= lm_reg.predict(X_te)\n",
    "data['resid']= y_test - data['predict']\n",
    "with sns.axes_style('white'):\n",
    "    plot=data.plot(kind='scatter',\n",
    "                  x='predict',y='resid',alpha=0.2,figsize=(10,6))\n",
    "\n",
    "# Heteroskedasticity is shown here. Residuals look like a \"tornado\""
   ]
  },
  {
   "cell_type": "code",
   "execution_count": null,
   "metadata": {
    "hidden": true
   },
   "outputs": [],
   "source": [
    "# Higher prediction, the more negative the residuals, meaning \n",
    "# the model is over predicting.\n",
    "\n",
    "# Lower prediction, the more positive the residuals, meaning\n",
    "# the model is under predicting."
   ]
  },
  {
   "cell_type": "code",
   "execution_count": 124,
   "metadata": {
    "hidden": true
   },
   "outputs": [
    {
     "ename": "AttributeError",
     "evalue": "module 'matplotlib.pyplot' has no attribute 'dist'",
     "output_type": "error",
     "traceback": [
      "\u001b[0;31m---------------------------------------------------------------------------\u001b[0m",
      "\u001b[0;31mAttributeError\u001b[0m                            Traceback (most recent call last)",
      "\u001b[0;32m<ipython-input-124-3515c502d9bb>\u001b[0m in \u001b[0;36m<module>\u001b[0;34m\u001b[0m\n\u001b[1;32m      4\u001b[0m \u001b[0;34m\u001b[0m\u001b[0m\n\u001b[1;32m      5\u001b[0m \u001b[0;31m#y_test[y_test < 10000000].hist(bins=25)\u001b[0m\u001b[0;34m\u001b[0m\u001b[0;34m\u001b[0m\u001b[0;34m\u001b[0m\u001b[0m\n\u001b[0;32m----> 6\u001b[0;31m \u001b[0mplt\u001b[0m\u001b[0;34m.\u001b[0m\u001b[0mdist\u001b[0m\u001b[0;34m(\u001b[0m\u001b[0my_test\u001b[0m\u001b[0;34m[\u001b[0m\u001b[0my_test\u001b[0m \u001b[0;34m<\u001b[0m \u001b[0;36m10000000\u001b[0m\u001b[0;34m]\u001b[0m\u001b[0;34m)\u001b[0m\u001b[0;34m;\u001b[0m\u001b[0;34m\u001b[0m\u001b[0;34m\u001b[0m\u001b[0m\n\u001b[0m",
      "\u001b[0;31mAttributeError\u001b[0m: module 'matplotlib.pyplot' has no attribute 'dist'"
     ]
    }
   ],
   "source": [
    "# inspect histogram\n",
    "#y_test[y_test < 10000000].hist(bins=25)\n",
    "#plt.dist('Histogram of Dependent Variable (User Counts)');\n",
    "\n",
    "#y_test[y_test < 10000000].hist(bins=25)\n",
    "plt.dist(y_test[y_test < 10000000]);"
   ]
  },
  {
   "cell_type": "code",
   "execution_count": 120,
   "metadata": {
    "hidden": true
   },
   "outputs": [
    {
     "data": {
      "text/plain": [
       "9190"
      ]
     },
     "execution_count": 120,
     "metadata": {},
     "output_type": "execute_result"
    }
   ],
   "source": [
    "len(y[y < 10000000])"
   ]
  },
  {
   "cell_type": "code",
   "execution_count": 121,
   "metadata": {
    "hidden": true
   },
   "outputs": [
    {
     "data": {
      "text/plain": [
       "9213"
      ]
     },
     "execution_count": 121,
     "metadata": {},
     "output_type": "execute_result"
    }
   ],
   "source": [
    "len(y)"
   ]
  },
  {
   "cell_type": "code",
   "execution_count": 129,
   "metadata": {
    "hidden": true
   },
   "outputs": [
    {
     "data": {
      "text/html": [
       "<div>\n",
       "<style scoped>\n",
       "    .dataframe tbody tr th:only-of-type {\n",
       "        vertical-align: middle;\n",
       "    }\n",
       "\n",
       "    .dataframe tbody tr th {\n",
       "        vertical-align: top;\n",
       "    }\n",
       "\n",
       "    .dataframe thead th {\n",
       "        text-align: right;\n",
       "    }\n",
       "</style>\n",
       "<table border=\"1\" class=\"dataframe\">\n",
       "  <thead>\n",
       "    <tr style=\"text-align: right;\">\n",
       "      <th></th>\n",
       "      <th>bldg_rating</th>\n",
       "      <th>apt_floor</th>\n",
       "      <th>square_feet</th>\n",
       "      <th>beds</th>\n",
       "      <th>baths</th>\n",
       "      <th>monthly_common_charges</th>\n",
       "      <th>monthly_real_estate_taxes</th>\n",
       "      <th>sold_season_Fall</th>\n",
       "      <th>sold_season_Spring</th>\n",
       "      <th>sold_season_Summer</th>\n",
       "      <th>sold_season_Winter</th>\n",
       "      <th>neighborhood_Beekman/Sutton Place</th>\n",
       "      <th>neighborhood_Midtown East</th>\n",
       "      <th>neighborhood_Midtown West</th>\n",
       "      <th>neighborhood_Murray Hill</th>\n",
       "      <th>neighborhood_Turtle Bay/United Nations</th>\n",
       "      <th>year_2004</th>\n",
       "      <th>year_2005</th>\n",
       "      <th>year_2006</th>\n",
       "      <th>year_2007</th>\n",
       "      <th>year_2008</th>\n",
       "      <th>year_2009</th>\n",
       "      <th>year_2010</th>\n",
       "      <th>year_2011</th>\n",
       "      <th>year_2012</th>\n",
       "      <th>year_2013</th>\n",
       "      <th>year_2014</th>\n",
       "      <th>year_2015</th>\n",
       "      <th>year_2016</th>\n",
       "      <th>year_2017</th>\n",
       "      <th>year_2018</th>\n",
       "      <th>year_2019</th>\n",
       "    </tr>\n",
       "  </thead>\n",
       "  <tbody>\n",
       "    <tr>\n",
       "      <td>0</td>\n",
       "      <td>78.0</td>\n",
       "      <td>25.0</td>\n",
       "      <td>650.0</td>\n",
       "      <td>1.0</td>\n",
       "      <td>1.0</td>\n",
       "      <td>814.0</td>\n",
       "      <td>948.0</td>\n",
       "      <td>1</td>\n",
       "      <td>0</td>\n",
       "      <td>0</td>\n",
       "      <td>0</td>\n",
       "      <td>0</td>\n",
       "      <td>1</td>\n",
       "      <td>0</td>\n",
       "      <td>0</td>\n",
       "      <td>0</td>\n",
       "      <td>0</td>\n",
       "      <td>0</td>\n",
       "      <td>0</td>\n",
       "      <td>0</td>\n",
       "      <td>0</td>\n",
       "      <td>0</td>\n",
       "      <td>0</td>\n",
       "      <td>0</td>\n",
       "      <td>0</td>\n",
       "      <td>0</td>\n",
       "      <td>0</td>\n",
       "      <td>0</td>\n",
       "      <td>0</td>\n",
       "      <td>0</td>\n",
       "      <td>0</td>\n",
       "      <td>1</td>\n",
       "    </tr>\n",
       "    <tr>\n",
       "      <td>1</td>\n",
       "      <td>78.0</td>\n",
       "      <td>25.0</td>\n",
       "      <td>650.0</td>\n",
       "      <td>1.0</td>\n",
       "      <td>1.0</td>\n",
       "      <td>814.0</td>\n",
       "      <td>948.0</td>\n",
       "      <td>1</td>\n",
       "      <td>0</td>\n",
       "      <td>0</td>\n",
       "      <td>0</td>\n",
       "      <td>0</td>\n",
       "      <td>1</td>\n",
       "      <td>0</td>\n",
       "      <td>0</td>\n",
       "      <td>0</td>\n",
       "      <td>0</td>\n",
       "      <td>0</td>\n",
       "      <td>0</td>\n",
       "      <td>0</td>\n",
       "      <td>0</td>\n",
       "      <td>0</td>\n",
       "      <td>0</td>\n",
       "      <td>0</td>\n",
       "      <td>0</td>\n",
       "      <td>0</td>\n",
       "      <td>0</td>\n",
       "      <td>0</td>\n",
       "      <td>0</td>\n",
       "      <td>0</td>\n",
       "      <td>0</td>\n",
       "      <td>1</td>\n",
       "    </tr>\n",
       "    <tr>\n",
       "      <td>2</td>\n",
       "      <td>78.0</td>\n",
       "      <td>25.0</td>\n",
       "      <td>650.0</td>\n",
       "      <td>1.0</td>\n",
       "      <td>1.0</td>\n",
       "      <td>814.0</td>\n",
       "      <td>948.0</td>\n",
       "      <td>1</td>\n",
       "      <td>0</td>\n",
       "      <td>0</td>\n",
       "      <td>0</td>\n",
       "      <td>0</td>\n",
       "      <td>1</td>\n",
       "      <td>0</td>\n",
       "      <td>0</td>\n",
       "      <td>0</td>\n",
       "      <td>0</td>\n",
       "      <td>0</td>\n",
       "      <td>0</td>\n",
       "      <td>0</td>\n",
       "      <td>0</td>\n",
       "      <td>0</td>\n",
       "      <td>0</td>\n",
       "      <td>0</td>\n",
       "      <td>0</td>\n",
       "      <td>0</td>\n",
       "      <td>0</td>\n",
       "      <td>0</td>\n",
       "      <td>0</td>\n",
       "      <td>0</td>\n",
       "      <td>0</td>\n",
       "      <td>1</td>\n",
       "    </tr>\n",
       "    <tr>\n",
       "      <td>3</td>\n",
       "      <td>79.0</td>\n",
       "      <td>21.0</td>\n",
       "      <td>690.0</td>\n",
       "      <td>1.0</td>\n",
       "      <td>1.0</td>\n",
       "      <td>689.0</td>\n",
       "      <td>1315.0</td>\n",
       "      <td>1</td>\n",
       "      <td>0</td>\n",
       "      <td>0</td>\n",
       "      <td>0</td>\n",
       "      <td>0</td>\n",
       "      <td>0</td>\n",
       "      <td>1</td>\n",
       "      <td>0</td>\n",
       "      <td>0</td>\n",
       "      <td>0</td>\n",
       "      <td>0</td>\n",
       "      <td>0</td>\n",
       "      <td>0</td>\n",
       "      <td>0</td>\n",
       "      <td>0</td>\n",
       "      <td>0</td>\n",
       "      <td>0</td>\n",
       "      <td>0</td>\n",
       "      <td>0</td>\n",
       "      <td>0</td>\n",
       "      <td>0</td>\n",
       "      <td>0</td>\n",
       "      <td>0</td>\n",
       "      <td>0</td>\n",
       "      <td>1</td>\n",
       "    </tr>\n",
       "    <tr>\n",
       "      <td>4</td>\n",
       "      <td>79.0</td>\n",
       "      <td>21.0</td>\n",
       "      <td>690.0</td>\n",
       "      <td>1.0</td>\n",
       "      <td>1.0</td>\n",
       "      <td>689.0</td>\n",
       "      <td>1315.0</td>\n",
       "      <td>1</td>\n",
       "      <td>0</td>\n",
       "      <td>0</td>\n",
       "      <td>0</td>\n",
       "      <td>0</td>\n",
       "      <td>0</td>\n",
       "      <td>1</td>\n",
       "      <td>0</td>\n",
       "      <td>0</td>\n",
       "      <td>0</td>\n",
       "      <td>0</td>\n",
       "      <td>0</td>\n",
       "      <td>0</td>\n",
       "      <td>0</td>\n",
       "      <td>0</td>\n",
       "      <td>0</td>\n",
       "      <td>0</td>\n",
       "      <td>0</td>\n",
       "      <td>0</td>\n",
       "      <td>0</td>\n",
       "      <td>0</td>\n",
       "      <td>0</td>\n",
       "      <td>0</td>\n",
       "      <td>0</td>\n",
       "      <td>1</td>\n",
       "    </tr>\n",
       "    <tr>\n",
       "      <td>...</td>\n",
       "      <td>...</td>\n",
       "      <td>...</td>\n",
       "      <td>...</td>\n",
       "      <td>...</td>\n",
       "      <td>...</td>\n",
       "      <td>...</td>\n",
       "      <td>...</td>\n",
       "      <td>...</td>\n",
       "      <td>...</td>\n",
       "      <td>...</td>\n",
       "      <td>...</td>\n",
       "      <td>...</td>\n",
       "      <td>...</td>\n",
       "      <td>...</td>\n",
       "      <td>...</td>\n",
       "      <td>...</td>\n",
       "      <td>...</td>\n",
       "      <td>...</td>\n",
       "      <td>...</td>\n",
       "      <td>...</td>\n",
       "      <td>...</td>\n",
       "      <td>...</td>\n",
       "      <td>...</td>\n",
       "      <td>...</td>\n",
       "      <td>...</td>\n",
       "      <td>...</td>\n",
       "      <td>...</td>\n",
       "      <td>...</td>\n",
       "      <td>...</td>\n",
       "      <td>...</td>\n",
       "      <td>...</td>\n",
       "      <td>...</td>\n",
       "    </tr>\n",
       "    <tr>\n",
       "      <td>9208</td>\n",
       "      <td>92.0</td>\n",
       "      <td>39.0</td>\n",
       "      <td>1431.0</td>\n",
       "      <td>2.0</td>\n",
       "      <td>2.5</td>\n",
       "      <td>1649.0</td>\n",
       "      <td>1786.0</td>\n",
       "      <td>0</td>\n",
       "      <td>0</td>\n",
       "      <td>1</td>\n",
       "      <td>0</td>\n",
       "      <td>0</td>\n",
       "      <td>0</td>\n",
       "      <td>0</td>\n",
       "      <td>0</td>\n",
       "      <td>1</td>\n",
       "      <td>0</td>\n",
       "      <td>1</td>\n",
       "      <td>0</td>\n",
       "      <td>0</td>\n",
       "      <td>0</td>\n",
       "      <td>0</td>\n",
       "      <td>0</td>\n",
       "      <td>0</td>\n",
       "      <td>0</td>\n",
       "      <td>0</td>\n",
       "      <td>0</td>\n",
       "      <td>0</td>\n",
       "      <td>0</td>\n",
       "      <td>0</td>\n",
       "      <td>0</td>\n",
       "      <td>0</td>\n",
       "    </tr>\n",
       "    <tr>\n",
       "      <td>9209</td>\n",
       "      <td>89.0</td>\n",
       "      <td>42.0</td>\n",
       "      <td>2062.0</td>\n",
       "      <td>2.0</td>\n",
       "      <td>3.0</td>\n",
       "      <td>2223.0</td>\n",
       "      <td>2514.0</td>\n",
       "      <td>0</td>\n",
       "      <td>1</td>\n",
       "      <td>0</td>\n",
       "      <td>0</td>\n",
       "      <td>0</td>\n",
       "      <td>0</td>\n",
       "      <td>0</td>\n",
       "      <td>0</td>\n",
       "      <td>1</td>\n",
       "      <td>1</td>\n",
       "      <td>0</td>\n",
       "      <td>0</td>\n",
       "      <td>0</td>\n",
       "      <td>0</td>\n",
       "      <td>0</td>\n",
       "      <td>0</td>\n",
       "      <td>0</td>\n",
       "      <td>0</td>\n",
       "      <td>0</td>\n",
       "      <td>0</td>\n",
       "      <td>0</td>\n",
       "      <td>0</td>\n",
       "      <td>0</td>\n",
       "      <td>0</td>\n",
       "      <td>0</td>\n",
       "    </tr>\n",
       "    <tr>\n",
       "      <td>9210</td>\n",
       "      <td>89.0</td>\n",
       "      <td>42.0</td>\n",
       "      <td>2062.0</td>\n",
       "      <td>2.0</td>\n",
       "      <td>3.0</td>\n",
       "      <td>2223.0</td>\n",
       "      <td>2514.0</td>\n",
       "      <td>0</td>\n",
       "      <td>1</td>\n",
       "      <td>0</td>\n",
       "      <td>0</td>\n",
       "      <td>0</td>\n",
       "      <td>0</td>\n",
       "      <td>0</td>\n",
       "      <td>0</td>\n",
       "      <td>1</td>\n",
       "      <td>1</td>\n",
       "      <td>0</td>\n",
       "      <td>0</td>\n",
       "      <td>0</td>\n",
       "      <td>0</td>\n",
       "      <td>0</td>\n",
       "      <td>0</td>\n",
       "      <td>0</td>\n",
       "      <td>0</td>\n",
       "      <td>0</td>\n",
       "      <td>0</td>\n",
       "      <td>0</td>\n",
       "      <td>0</td>\n",
       "      <td>0</td>\n",
       "      <td>0</td>\n",
       "      <td>0</td>\n",
       "    </tr>\n",
       "    <tr>\n",
       "      <td>9211</td>\n",
       "      <td>89.0</td>\n",
       "      <td>19.0</td>\n",
       "      <td>894.0</td>\n",
       "      <td>1.0</td>\n",
       "      <td>1.5</td>\n",
       "      <td>1045.0</td>\n",
       "      <td>833.0</td>\n",
       "      <td>0</td>\n",
       "      <td>1</td>\n",
       "      <td>0</td>\n",
       "      <td>0</td>\n",
       "      <td>0</td>\n",
       "      <td>0</td>\n",
       "      <td>0</td>\n",
       "      <td>0</td>\n",
       "      <td>1</td>\n",
       "      <td>1</td>\n",
       "      <td>0</td>\n",
       "      <td>0</td>\n",
       "      <td>0</td>\n",
       "      <td>0</td>\n",
       "      <td>0</td>\n",
       "      <td>0</td>\n",
       "      <td>0</td>\n",
       "      <td>0</td>\n",
       "      <td>0</td>\n",
       "      <td>0</td>\n",
       "      <td>0</td>\n",
       "      <td>0</td>\n",
       "      <td>0</td>\n",
       "      <td>0</td>\n",
       "      <td>0</td>\n",
       "    </tr>\n",
       "    <tr>\n",
       "      <td>9212</td>\n",
       "      <td>89.0</td>\n",
       "      <td>19.0</td>\n",
       "      <td>894.0</td>\n",
       "      <td>1.0</td>\n",
       "      <td>1.5</td>\n",
       "      <td>1045.0</td>\n",
       "      <td>833.0</td>\n",
       "      <td>0</td>\n",
       "      <td>1</td>\n",
       "      <td>0</td>\n",
       "      <td>0</td>\n",
       "      <td>0</td>\n",
       "      <td>0</td>\n",
       "      <td>0</td>\n",
       "      <td>0</td>\n",
       "      <td>1</td>\n",
       "      <td>1</td>\n",
       "      <td>0</td>\n",
       "      <td>0</td>\n",
       "      <td>0</td>\n",
       "      <td>0</td>\n",
       "      <td>0</td>\n",
       "      <td>0</td>\n",
       "      <td>0</td>\n",
       "      <td>0</td>\n",
       "      <td>0</td>\n",
       "      <td>0</td>\n",
       "      <td>0</td>\n",
       "      <td>0</td>\n",
       "      <td>0</td>\n",
       "      <td>0</td>\n",
       "      <td>0</td>\n",
       "    </tr>\n",
       "  </tbody>\n",
       "</table>\n",
       "<p>9213 rows × 32 columns</p>\n",
       "</div>"
      ],
      "text/plain": [
       "      bldg_rating  apt_floor  square_feet  beds  baths  \\\n",
       "0            78.0       25.0        650.0   1.0    1.0   \n",
       "1            78.0       25.0        650.0   1.0    1.0   \n",
       "2            78.0       25.0        650.0   1.0    1.0   \n",
       "3            79.0       21.0        690.0   1.0    1.0   \n",
       "4            79.0       21.0        690.0   1.0    1.0   \n",
       "...           ...        ...          ...   ...    ...   \n",
       "9208         92.0       39.0       1431.0   2.0    2.5   \n",
       "9209         89.0       42.0       2062.0   2.0    3.0   \n",
       "9210         89.0       42.0       2062.0   2.0    3.0   \n",
       "9211         89.0       19.0        894.0   1.0    1.5   \n",
       "9212         89.0       19.0        894.0   1.0    1.5   \n",
       "\n",
       "      monthly_common_charges  monthly_real_estate_taxes  sold_season_Fall  \\\n",
       "0                      814.0                      948.0                 1   \n",
       "1                      814.0                      948.0                 1   \n",
       "2                      814.0                      948.0                 1   \n",
       "3                      689.0                     1315.0                 1   \n",
       "4                      689.0                     1315.0                 1   \n",
       "...                      ...                        ...               ...   \n",
       "9208                  1649.0                     1786.0                 0   \n",
       "9209                  2223.0                     2514.0                 0   \n",
       "9210                  2223.0                     2514.0                 0   \n",
       "9211                  1045.0                      833.0                 0   \n",
       "9212                  1045.0                      833.0                 0   \n",
       "\n",
       "      sold_season_Spring  sold_season_Summer  sold_season_Winter  \\\n",
       "0                      0                   0                   0   \n",
       "1                      0                   0                   0   \n",
       "2                      0                   0                   0   \n",
       "3                      0                   0                   0   \n",
       "4                      0                   0                   0   \n",
       "...                  ...                 ...                 ...   \n",
       "9208                   0                   1                   0   \n",
       "9209                   1                   0                   0   \n",
       "9210                   1                   0                   0   \n",
       "9211                   1                   0                   0   \n",
       "9212                   1                   0                   0   \n",
       "\n",
       "      neighborhood_Beekman/Sutton Place  neighborhood_Midtown East  \\\n",
       "0                                     0                          1   \n",
       "1                                     0                          1   \n",
       "2                                     0                          1   \n",
       "3                                     0                          0   \n",
       "4                                     0                          0   \n",
       "...                                 ...                        ...   \n",
       "9208                                  0                          0   \n",
       "9209                                  0                          0   \n",
       "9210                                  0                          0   \n",
       "9211                                  0                          0   \n",
       "9212                                  0                          0   \n",
       "\n",
       "      neighborhood_Midtown West  neighborhood_Murray Hill  \\\n",
       "0                             0                         0   \n",
       "1                             0                         0   \n",
       "2                             0                         0   \n",
       "3                             1                         0   \n",
       "4                             1                         0   \n",
       "...                         ...                       ...   \n",
       "9208                          0                         0   \n",
       "9209                          0                         0   \n",
       "9210                          0                         0   \n",
       "9211                          0                         0   \n",
       "9212                          0                         0   \n",
       "\n",
       "      neighborhood_Turtle Bay/United Nations  year_2004  year_2005  year_2006  \\\n",
       "0                                          0          0          0          0   \n",
       "1                                          0          0          0          0   \n",
       "2                                          0          0          0          0   \n",
       "3                                          0          0          0          0   \n",
       "4                                          0          0          0          0   \n",
       "...                                      ...        ...        ...        ...   \n",
       "9208                                       1          0          1          0   \n",
       "9209                                       1          1          0          0   \n",
       "9210                                       1          1          0          0   \n",
       "9211                                       1          1          0          0   \n",
       "9212                                       1          1          0          0   \n",
       "\n",
       "      year_2007  year_2008  year_2009  year_2010  year_2011  year_2012  \\\n",
       "0             0          0          0          0          0          0   \n",
       "1             0          0          0          0          0          0   \n",
       "2             0          0          0          0          0          0   \n",
       "3             0          0          0          0          0          0   \n",
       "4             0          0          0          0          0          0   \n",
       "...         ...        ...        ...        ...        ...        ...   \n",
       "9208          0          0          0          0          0          0   \n",
       "9209          0          0          0          0          0          0   \n",
       "9210          0          0          0          0          0          0   \n",
       "9211          0          0          0          0          0          0   \n",
       "9212          0          0          0          0          0          0   \n",
       "\n",
       "      year_2013  year_2014  year_2015  year_2016  year_2017  year_2018  \\\n",
       "0             0          0          0          0          0          0   \n",
       "1             0          0          0          0          0          0   \n",
       "2             0          0          0          0          0          0   \n",
       "3             0          0          0          0          0          0   \n",
       "4             0          0          0          0          0          0   \n",
       "...         ...        ...        ...        ...        ...        ...   \n",
       "9208          0          0          0          0          0          0   \n",
       "9209          0          0          0          0          0          0   \n",
       "9210          0          0          0          0          0          0   \n",
       "9211          0          0          0          0          0          0   \n",
       "9212          0          0          0          0          0          0   \n",
       "\n",
       "      year_2019  \n",
       "0             1  \n",
       "1             1  \n",
       "2             1  \n",
       "3             1  \n",
       "4             1  \n",
       "...         ...  \n",
       "9208          0  \n",
       "9209          0  \n",
       "9210          0  \n",
       "9211          0  \n",
       "9212          0  \n",
       "\n",
       "[9213 rows x 32 columns]"
      ]
     },
     "execution_count": 129,
     "metadata": {},
     "output_type": "execute_result"
    }
   ],
   "source": [
    "X"
   ]
  },
  {
   "cell_type": "code",
   "execution_count": 130,
   "metadata": {
    "hidden": true
   },
   "outputs": [
    {
     "data": {
      "text/html": [
       "<table class=\"simpletable\">\n",
       "<caption>OLS Regression Results</caption>\n",
       "<tr>\n",
       "  <th>Dep. Variable:</th>       <td>sold_price</td>    <th>  R-squared:         </th>  <td>   0.673</td>  \n",
       "</tr>\n",
       "<tr>\n",
       "  <th>Model:</th>                   <td>OLS</td>       <th>  Adj. R-squared:    </th>  <td>   0.672</td>  \n",
       "</tr>\n",
       "<tr>\n",
       "  <th>Method:</th>             <td>Least Squares</td>  <th>  F-statistic:       </th>  <td>   651.7</td>  \n",
       "</tr>\n",
       "<tr>\n",
       "  <th>Date:</th>             <td>Thu, 10 Oct 2019</td> <th>  Prob (F-statistic):</th>   <td>  0.00</td>   \n",
       "</tr>\n",
       "<tr>\n",
       "  <th>Time:</th>                 <td>00:23:27</td>     <th>  Log-Likelihood:    </th> <td>-1.3743e+05</td>\n",
       "</tr>\n",
       "<tr>\n",
       "  <th>No. Observations:</th>      <td>  9213</td>      <th>  AIC:               </th>  <td>2.749e+05</td> \n",
       "</tr>\n",
       "<tr>\n",
       "  <th>Df Residuals:</th>          <td>  9183</td>      <th>  BIC:               </th>  <td>2.751e+05</td> \n",
       "</tr>\n",
       "<tr>\n",
       "  <th>Df Model:</th>              <td>    29</td>      <th>                     </th>      <td> </td>     \n",
       "</tr>\n",
       "<tr>\n",
       "  <th>Covariance Type:</th>      <td>nonrobust</td>    <th>                     </th>      <td> </td>     \n",
       "</tr>\n",
       "</table>\n",
       "<table class=\"simpletable\">\n",
       "<tr>\n",
       "                     <td></td>                       <th>coef</th>     <th>std err</th>      <th>t</th>      <th>P>|t|</th>  <th>[0.025</th>    <th>0.975]</th>  \n",
       "</tr>\n",
       "<tr>\n",
       "  <th>bldg_rating</th>                            <td> 1.441e+04</td> <td>  797.487</td> <td>   18.064</td> <td> 0.000</td> <td> 1.28e+04</td> <td>  1.6e+04</td>\n",
       "</tr>\n",
       "<tr>\n",
       "  <th>apt_floor</th>                              <td>   28.0469</td> <td>   12.211</td> <td>    2.297</td> <td> 0.022</td> <td>    4.110</td> <td>   51.984</td>\n",
       "</tr>\n",
       "<tr>\n",
       "  <th>square_feet</th>                            <td> 2870.1313</td> <td>   41.107</td> <td>   69.821</td> <td> 0.000</td> <td> 2789.552</td> <td> 2950.710</td>\n",
       "</tr>\n",
       "<tr>\n",
       "  <th>beds</th>                                   <td>-3.231e+05</td> <td> 1.88e+04</td> <td>  -17.156</td> <td> 0.000</td> <td> -3.6e+05</td> <td>-2.86e+05</td>\n",
       "</tr>\n",
       "<tr>\n",
       "  <th>baths</th>                                  <td>-7.898e+04</td> <td> 2.66e+04</td> <td>   -2.971</td> <td> 0.003</td> <td>-1.31e+05</td> <td>-2.69e+04</td>\n",
       "</tr>\n",
       "<tr>\n",
       "  <th>monthly_common_charges</th>                 <td>  103.8350</td> <td>   14.958</td> <td>    6.942</td> <td> 0.000</td> <td>   74.514</td> <td>  133.156</td>\n",
       "</tr>\n",
       "<tr>\n",
       "  <th>monthly_real_estate_taxes</th>              <td>  -33.1519</td> <td>   13.548</td> <td>   -2.447</td> <td> 0.014</td> <td>  -59.708</td> <td>   -6.595</td>\n",
       "</tr>\n",
       "<tr>\n",
       "  <th>sold_season_Fall</th>                       <td>-1.071e+06</td> <td> 3.56e+04</td> <td>  -30.119</td> <td> 0.000</td> <td>-1.14e+06</td> <td>   -1e+06</td>\n",
       "</tr>\n",
       "<tr>\n",
       "  <th>sold_season_Spring</th>                     <td>-1.139e+06</td> <td> 3.54e+04</td> <td>  -32.162</td> <td> 0.000</td> <td>-1.21e+06</td> <td>-1.07e+06</td>\n",
       "</tr>\n",
       "<tr>\n",
       "  <th>sold_season_Summer</th>                     <td>-1.121e+06</td> <td>  3.5e+04</td> <td>  -31.998</td> <td> 0.000</td> <td>-1.19e+06</td> <td>-1.05e+06</td>\n",
       "</tr>\n",
       "<tr>\n",
       "  <th>sold_season_Winter</th>                     <td>-1.082e+06</td> <td> 3.59e+04</td> <td>  -30.133</td> <td> 0.000</td> <td>-1.15e+06</td> <td>-1.01e+06</td>\n",
       "</tr>\n",
       "<tr>\n",
       "  <th>neighborhood_Beekman/Sutton Place</th>      <td>-1.122e+06</td> <td> 4.72e+04</td> <td>  -23.756</td> <td> 0.000</td> <td>-1.21e+06</td> <td>-1.03e+06</td>\n",
       "</tr>\n",
       "<tr>\n",
       "  <th>neighborhood_Midtown East</th>              <td>-7.517e+05</td> <td> 3.42e+04</td> <td>  -22.001</td> <td> 0.000</td> <td>-8.19e+05</td> <td>-6.85e+05</td>\n",
       "</tr>\n",
       "<tr>\n",
       "  <th>neighborhood_Midtown West</th>              <td>-7.024e+05</td> <td> 2.94e+04</td> <td>  -23.864</td> <td> 0.000</td> <td> -7.6e+05</td> <td>-6.45e+05</td>\n",
       "</tr>\n",
       "<tr>\n",
       "  <th>neighborhood_Murray Hill</th>               <td>-9.291e+05</td> <td> 2.93e+04</td> <td>  -31.691</td> <td> 0.000</td> <td>-9.87e+05</td> <td>-8.72e+05</td>\n",
       "</tr>\n",
       "<tr>\n",
       "  <th>neighborhood_Turtle Bay/United Nations</th> <td> -9.07e+05</td> <td>  3.3e+04</td> <td>  -27.489</td> <td> 0.000</td> <td>-9.72e+05</td> <td>-8.42e+05</td>\n",
       "</tr>\n",
       "<tr>\n",
       "  <th>year_2004</th>                              <td>-1.654e+06</td> <td> 3.47e+05</td> <td>   -4.773</td> <td> 0.000</td> <td>-2.33e+06</td> <td>-9.75e+05</td>\n",
       "</tr>\n",
       "<tr>\n",
       "  <th>year_2005</th>                              <td>-7.822e+05</td> <td>  2.2e+05</td> <td>   -3.560</td> <td> 0.000</td> <td>-1.21e+06</td> <td>-3.51e+05</td>\n",
       "</tr>\n",
       "<tr>\n",
       "  <th>year_2006</th>                              <td> -5.92e+05</td> <td> 2.31e+05</td> <td>   -2.558</td> <td> 0.011</td> <td>-1.05e+06</td> <td>-1.38e+05</td>\n",
       "</tr>\n",
       "<tr>\n",
       "  <th>year_2007</th>                              <td>-5.043e+05</td> <td>  1.5e+05</td> <td>   -3.359</td> <td> 0.001</td> <td>-7.99e+05</td> <td> -2.1e+05</td>\n",
       "</tr>\n",
       "<tr>\n",
       "  <th>year_2008</th>                              <td>-5.329e+05</td> <td>  1.2e+05</td> <td>   -4.430</td> <td> 0.000</td> <td>-7.69e+05</td> <td>-2.97e+05</td>\n",
       "</tr>\n",
       "<tr>\n",
       "  <th>year_2009</th>                              <td>-3.192e+05</td> <td> 5.51e+04</td> <td>   -5.791</td> <td> 0.000</td> <td>-4.27e+05</td> <td>-2.11e+05</td>\n",
       "</tr>\n",
       "<tr>\n",
       "  <th>year_2010</th>                              <td>-2.831e+05</td> <td> 4.42e+04</td> <td>   -6.399</td> <td> 0.000</td> <td> -3.7e+05</td> <td>-1.96e+05</td>\n",
       "</tr>\n",
       "<tr>\n",
       "  <th>year_2011</th>                              <td>-2.014e+05</td> <td> 4.18e+04</td> <td>   -4.812</td> <td> 0.000</td> <td>-2.83e+05</td> <td>-1.19e+05</td>\n",
       "</tr>\n",
       "<tr>\n",
       "  <th>year_2012</th>                              <td>-1.591e+05</td> <td> 3.91e+04</td> <td>   -4.070</td> <td> 0.000</td> <td>-2.36e+05</td> <td>-8.25e+04</td>\n",
       "</tr>\n",
       "<tr>\n",
       "  <th>year_2013</th>                              <td> -1.17e+05</td> <td> 3.74e+04</td> <td>   -3.125</td> <td> 0.002</td> <td> -1.9e+05</td> <td>-4.36e+04</td>\n",
       "</tr>\n",
       "<tr>\n",
       "  <th>year_2014</th>                              <td> 2.335e+04</td> <td> 3.78e+04</td> <td>    0.617</td> <td> 0.537</td> <td>-5.08e+04</td> <td> 9.75e+04</td>\n",
       "</tr>\n",
       "<tr>\n",
       "  <th>year_2015</th>                              <td> 1.352e+05</td> <td> 3.76e+04</td> <td>    3.595</td> <td> 0.000</td> <td> 6.15e+04</td> <td> 2.09e+05</td>\n",
       "</tr>\n",
       "<tr>\n",
       "  <th>year_2016</th>                              <td> 1.444e+05</td> <td> 3.71e+04</td> <td>    3.895</td> <td> 0.000</td> <td> 7.18e+04</td> <td> 2.17e+05</td>\n",
       "</tr>\n",
       "<tr>\n",
       "  <th>year_2017</th>                              <td> 1.324e+05</td> <td> 3.63e+04</td> <td>    3.649</td> <td> 0.000</td> <td> 6.12e+04</td> <td> 2.03e+05</td>\n",
       "</tr>\n",
       "<tr>\n",
       "  <th>year_2018</th>                              <td> 1.607e+05</td> <td>  3.7e+04</td> <td>    4.345</td> <td> 0.000</td> <td> 8.82e+04</td> <td> 2.33e+05</td>\n",
       "</tr>\n",
       "<tr>\n",
       "  <th>year_2019</th>                              <td>  1.37e+05</td> <td> 4.02e+04</td> <td>    3.404</td> <td> 0.001</td> <td> 5.81e+04</td> <td> 2.16e+05</td>\n",
       "</tr>\n",
       "</table>\n",
       "<table class=\"simpletable\">\n",
       "<tr>\n",
       "  <th>Omnibus:</th>       <td>11673.286</td> <th>  Durbin-Watson:     </th>  <td>   1.547</td>  \n",
       "</tr>\n",
       "<tr>\n",
       "  <th>Prob(Omnibus):</th>  <td> 0.000</td>   <th>  Jarque-Bera (JB):  </th> <td>4652098.304</td>\n",
       "</tr>\n",
       "<tr>\n",
       "  <th>Skew:</th>           <td> 6.622</td>   <th>  Prob(JB):          </th>  <td>    0.00</td>  \n",
       "</tr>\n",
       "<tr>\n",
       "  <th>Kurtosis:</th>       <td>112.286</td>  <th>  Cond. No.          </th>  <td>1.32e+16</td>  \n",
       "</tr>\n",
       "</table><br/><br/>Warnings:<br/>[1] Standard Errors assume that the covariance matrix of the errors is correctly specified.<br/>[2] The smallest eigenvalue is 2.92e-22. This might indicate that there are<br/>strong multicollinearity problems or that the design matrix is singular."
      ],
      "text/plain": [
       "<class 'statsmodels.iolib.summary.Summary'>\n",
       "\"\"\"\n",
       "                            OLS Regression Results                            \n",
       "==============================================================================\n",
       "Dep. Variable:             sold_price   R-squared:                       0.673\n",
       "Model:                            OLS   Adj. R-squared:                  0.672\n",
       "Method:                 Least Squares   F-statistic:                     651.7\n",
       "Date:                Thu, 10 Oct 2019   Prob (F-statistic):               0.00\n",
       "Time:                        00:23:27   Log-Likelihood:            -1.3743e+05\n",
       "No. Observations:                9213   AIC:                         2.749e+05\n",
       "Df Residuals:                    9183   BIC:                         2.751e+05\n",
       "Df Model:                          29                                         \n",
       "Covariance Type:            nonrobust                                         \n",
       "==========================================================================================================\n",
       "                                             coef    std err          t      P>|t|      [0.025      0.975]\n",
       "----------------------------------------------------------------------------------------------------------\n",
       "bldg_rating                             1.441e+04    797.487     18.064      0.000    1.28e+04     1.6e+04\n",
       "apt_floor                                 28.0469     12.211      2.297      0.022       4.110      51.984\n",
       "square_feet                             2870.1313     41.107     69.821      0.000    2789.552    2950.710\n",
       "beds                                   -3.231e+05   1.88e+04    -17.156      0.000    -3.6e+05   -2.86e+05\n",
       "baths                                  -7.898e+04   2.66e+04     -2.971      0.003   -1.31e+05   -2.69e+04\n",
       "monthly_common_charges                   103.8350     14.958      6.942      0.000      74.514     133.156\n",
       "monthly_real_estate_taxes                -33.1519     13.548     -2.447      0.014     -59.708      -6.595\n",
       "sold_season_Fall                       -1.071e+06   3.56e+04    -30.119      0.000   -1.14e+06      -1e+06\n",
       "sold_season_Spring                     -1.139e+06   3.54e+04    -32.162      0.000   -1.21e+06   -1.07e+06\n",
       "sold_season_Summer                     -1.121e+06    3.5e+04    -31.998      0.000   -1.19e+06   -1.05e+06\n",
       "sold_season_Winter                     -1.082e+06   3.59e+04    -30.133      0.000   -1.15e+06   -1.01e+06\n",
       "neighborhood_Beekman/Sutton Place      -1.122e+06   4.72e+04    -23.756      0.000   -1.21e+06   -1.03e+06\n",
       "neighborhood_Midtown East              -7.517e+05   3.42e+04    -22.001      0.000   -8.19e+05   -6.85e+05\n",
       "neighborhood_Midtown West              -7.024e+05   2.94e+04    -23.864      0.000    -7.6e+05   -6.45e+05\n",
       "neighborhood_Murray Hill               -9.291e+05   2.93e+04    -31.691      0.000   -9.87e+05   -8.72e+05\n",
       "neighborhood_Turtle Bay/United Nations  -9.07e+05    3.3e+04    -27.489      0.000   -9.72e+05   -8.42e+05\n",
       "year_2004                              -1.654e+06   3.47e+05     -4.773      0.000   -2.33e+06   -9.75e+05\n",
       "year_2005                              -7.822e+05    2.2e+05     -3.560      0.000   -1.21e+06   -3.51e+05\n",
       "year_2006                               -5.92e+05   2.31e+05     -2.558      0.011   -1.05e+06   -1.38e+05\n",
       "year_2007                              -5.043e+05    1.5e+05     -3.359      0.001   -7.99e+05    -2.1e+05\n",
       "year_2008                              -5.329e+05    1.2e+05     -4.430      0.000   -7.69e+05   -2.97e+05\n",
       "year_2009                              -3.192e+05   5.51e+04     -5.791      0.000   -4.27e+05   -2.11e+05\n",
       "year_2010                              -2.831e+05   4.42e+04     -6.399      0.000    -3.7e+05   -1.96e+05\n",
       "year_2011                              -2.014e+05   4.18e+04     -4.812      0.000   -2.83e+05   -1.19e+05\n",
       "year_2012                              -1.591e+05   3.91e+04     -4.070      0.000   -2.36e+05   -8.25e+04\n",
       "year_2013                               -1.17e+05   3.74e+04     -3.125      0.002    -1.9e+05   -4.36e+04\n",
       "year_2014                               2.335e+04   3.78e+04      0.617      0.537   -5.08e+04    9.75e+04\n",
       "year_2015                               1.352e+05   3.76e+04      3.595      0.000    6.15e+04    2.09e+05\n",
       "year_2016                               1.444e+05   3.71e+04      3.895      0.000    7.18e+04    2.17e+05\n",
       "year_2017                               1.324e+05   3.63e+04      3.649      0.000    6.12e+04    2.03e+05\n",
       "year_2018                               1.607e+05    3.7e+04      4.345      0.000    8.82e+04    2.33e+05\n",
       "year_2019                                1.37e+05   4.02e+04      3.404      0.001    5.81e+04    2.16e+05\n",
       "==============================================================================\n",
       "Omnibus:                    11673.286   Durbin-Watson:                   1.547\n",
       "Prob(Omnibus):                  0.000   Jarque-Bera (JB):          4652098.304\n",
       "Skew:                           6.622   Prob(JB):                         0.00\n",
       "Kurtosis:                     112.286   Cond. No.                     1.32e+16\n",
       "==============================================================================\n",
       "\n",
       "Warnings:\n",
       "[1] Standard Errors assume that the covariance matrix of the errors is correctly specified.\n",
       "[2] The smallest eigenvalue is 2.92e-22. This might indicate that there are\n",
       "strong multicollinearity problems or that the design matrix is singular.\n",
       "\"\"\""
      ]
     },
     "execution_count": 130,
     "metadata": {},
     "output_type": "execute_result"
    }
   ],
   "source": [
    "### Error Terms MUST have constant variance ###\n",
    "\n",
    "import statsmodels.api as sm\n",
    "import statsmodels.formula.api as smf\n",
    "\n",
    "# look at numeric data\n",
    "# X_tr, y_train\n",
    "model = sm.OLS(y, X)\n",
    "fit = model.fit()\n",
    "fit.summary()"
   ]
  },
  {
   "cell_type": "code",
   "execution_count": 128,
   "metadata": {
    "hidden": true
   },
   "outputs": [
    {
     "data": {
      "text/plain": [
       "287"
      ]
     },
     "execution_count": 128,
     "metadata": {},
     "output_type": "execute_result"
    }
   ],
   "source": [
    "7370-7083"
   ]
  },
  {
   "cell_type": "code",
   "execution_count": null,
   "metadata": {
    "hidden": true
   },
   "outputs": [],
   "source": []
  },
  {
   "cell_type": "markdown",
   "metadata": {
    "heading_collapsed": true
   },
   "source": [
    "# Investigating Target Variable"
   ]
  },
  {
   "cell_type": "code",
   "execution_count": 85,
   "metadata": {
    "hidden": true
   },
   "outputs": [
    {
     "data": {
      "text/html": [
       "<div>\n",
       "<style scoped>\n",
       "    .dataframe tbody tr th:only-of-type {\n",
       "        vertical-align: middle;\n",
       "    }\n",
       "\n",
       "    .dataframe tbody tr th {\n",
       "        vertical-align: top;\n",
       "    }\n",
       "\n",
       "    .dataframe thead th {\n",
       "        text-align: right;\n",
       "    }\n",
       "</style>\n",
       "<table border=\"1\" class=\"dataframe\">\n",
       "  <thead>\n",
       "    <tr style=\"text-align: right;\">\n",
       "      <th></th>\n",
       "      <th>full_name</th>\n",
       "      <th>bldg_name</th>\n",
       "      <th>bldg_addr</th>\n",
       "      <th>apt_floor</th>\n",
       "      <th>bldg_rating</th>\n",
       "      <th>sold_date</th>\n",
       "      <th>sold_date_dt</th>\n",
       "      <th>sold_price</th>\n",
       "      <th>price_per_sqft</th>\n",
       "      <th>square_feet</th>\n",
       "      <th>bed_and_bath</th>\n",
       "      <th>beds</th>\n",
       "      <th>baths</th>\n",
       "      <th>url</th>\n",
       "      <th>listed</th>\n",
       "      <th>days_on_market</th>\n",
       "      <th>neighborhood</th>\n",
       "      <th>monthly_common_charges</th>\n",
       "      <th>monthly_real_estate_taxes</th>\n",
       "      <th>minimum_down_payment</th>\n",
       "      <th>doorman</th>\n",
       "      <th>last_price_change</th>\n",
       "      <th>sold_season</th>\n",
       "      <th>days_on_market</th>\n",
       "    </tr>\n",
       "  </thead>\n",
       "  <tbody>\n",
       "    <tr>\n",
       "      <td>0</td>\n",
       "      <td>Worldwide Plaza, 393 West 49th Street, #3P</td>\n",
       "      <td>Worldwide Plaza</td>\n",
       "      <td>393 West 49th Street</td>\n",
       "      <td>3.0</td>\n",
       "      <td>73.0</td>\n",
       "      <td>Last Sold on Sep 27, 2019</td>\n",
       "      <td>2019-09-27</td>\n",
       "      <td>545000.0</td>\n",
       "      <td>NaN</td>\n",
       "      <td>NaN</td>\n",
       "      <td>Studio, 1 bath</td>\n",
       "      <td>0.0</td>\n",
       "      <td>1.0</td>\n",
       "      <td>https://www.cityrealty.com/nyc/midtown-west/wo...</td>\n",
       "      <td>NaT</td>\n",
       "      <td>NaN</td>\n",
       "      <td>NaN</td>\n",
       "      <td>NaN</td>\n",
       "      <td>NaN</td>\n",
       "      <td>NaN</td>\n",
       "      <td>NaN</td>\n",
       "      <td>NaN</td>\n",
       "      <td>Fall</td>\n",
       "      <td>NaN</td>\n",
       "    </tr>\n",
       "    <tr>\n",
       "      <td>1</td>\n",
       "      <td>The Cosmopolitan, 145 East 48th Street, #25G</td>\n",
       "      <td>The Cosmopolitan</td>\n",
       "      <td>145 East 48th Street</td>\n",
       "      <td>25.0</td>\n",
       "      <td>78.0</td>\n",
       "      <td>Last Sold on Sep 25, 2019</td>\n",
       "      <td>2019-09-25</td>\n",
       "      <td>799000.0</td>\n",
       "      <td>1229.0</td>\n",
       "      <td>650.0</td>\n",
       "      <td>1 bed, 1 bath</td>\n",
       "      <td>1.0</td>\n",
       "      <td>1.0</td>\n",
       "      <td>https://www.cityrealty.com/nyc/midtown-east/th...</td>\n",
       "      <td>2019-04-12</td>\n",
       "      <td>177</td>\n",
       "      <td>Midtown East</td>\n",
       "      <td>814.0</td>\n",
       "      <td>948.0</td>\n",
       "      <td>0.1</td>\n",
       "      <td>FT Doorman</td>\n",
       "      <td>NaN</td>\n",
       "      <td>Fall</td>\n",
       "      <td>166.0</td>\n",
       "    </tr>\n",
       "    <tr>\n",
       "      <td>2</td>\n",
       "      <td>The Orion, 350 West 42nd Street, #21F</td>\n",
       "      <td>The Orion</td>\n",
       "      <td>350 West 42nd Street</td>\n",
       "      <td>21.0</td>\n",
       "      <td>79.0</td>\n",
       "      <td>Last Sold on Sep 24, 2019</td>\n",
       "      <td>2019-09-24</td>\n",
       "      <td>1085000.0</td>\n",
       "      <td>1572.0</td>\n",
       "      <td>690.0</td>\n",
       "      <td>1 bed, 1 bath</td>\n",
       "      <td>1.0</td>\n",
       "      <td>1.0</td>\n",
       "      <td>https://www.cityrealty.com/nyc/midtown-west/th...</td>\n",
       "      <td>2019-04-12</td>\n",
       "      <td>176</td>\n",
       "      <td>Midtown West</td>\n",
       "      <td>689.0</td>\n",
       "      <td>1315.0</td>\n",
       "      <td>NaN</td>\n",
       "      <td>FT Doorman</td>\n",
       "      <td>NaN</td>\n",
       "      <td>Fall</td>\n",
       "      <td>165.0</td>\n",
       "    </tr>\n",
       "    <tr>\n",
       "      <td>3</td>\n",
       "      <td>Morgan Court, 211 Madison Avenue, #6A</td>\n",
       "      <td>Morgan Court</td>\n",
       "      <td>211 Madison Avenue</td>\n",
       "      <td>6.0</td>\n",
       "      <td>73.0</td>\n",
       "      <td>Last Sold on Sep 23, 2019</td>\n",
       "      <td>2019-09-23</td>\n",
       "      <td>1039000.0</td>\n",
       "      <td>910.0</td>\n",
       "      <td>1142.0</td>\n",
       "      <td>1 bed, 1.5 baths</td>\n",
       "      <td>1.0</td>\n",
       "      <td>1.5</td>\n",
       "      <td>https://www.cityrealty.com/nyc/murray-hill/mor...</td>\n",
       "      <td>2019-03-06</td>\n",
       "      <td>214</td>\n",
       "      <td>Murray Hill</td>\n",
       "      <td>1683.0</td>\n",
       "      <td>1148.0</td>\n",
       "      <td>NaN</td>\n",
       "      <td>FT Doorman</td>\n",
       "      <td>NaN</td>\n",
       "      <td>Fall</td>\n",
       "      <td>201.0</td>\n",
       "    </tr>\n",
       "    <tr>\n",
       "      <td>4</td>\n",
       "      <td>325 Fifth Avenue, #23F</td>\n",
       "      <td>NaN</td>\n",
       "      <td>325 Fifth Avenue</td>\n",
       "      <td>23.0</td>\n",
       "      <td>70.0</td>\n",
       "      <td>Last Sold on Sep 23, 2019</td>\n",
       "      <td>2019-09-23</td>\n",
       "      <td>1080000.0</td>\n",
       "      <td>1570.0</td>\n",
       "      <td>688.0</td>\n",
       "      <td>1 bed, 1 bath</td>\n",
       "      <td>1.0</td>\n",
       "      <td>1.0</td>\n",
       "      <td>https://www.cityrealty.com/nyc/murray-hill/325...</td>\n",
       "      <td>2019-05-28</td>\n",
       "      <td>132</td>\n",
       "      <td>Murray Hill</td>\n",
       "      <td>810.0</td>\n",
       "      <td>1511.0</td>\n",
       "      <td>NaN</td>\n",
       "      <td>FT Doorman</td>\n",
       "      <td>NaN</td>\n",
       "      <td>Fall</td>\n",
       "      <td>118.0</td>\n",
       "    </tr>\n",
       "  </tbody>\n",
       "</table>\n",
       "</div>"
      ],
      "text/plain": [
       "                                      full_name         bldg_name  \\\n",
       "0    Worldwide Plaza, 393 West 49th Street, #3P   Worldwide Plaza   \n",
       "1  The Cosmopolitan, 145 East 48th Street, #25G  The Cosmopolitan   \n",
       "2         The Orion, 350 West 42nd Street, #21F         The Orion   \n",
       "3         Morgan Court, 211 Madison Avenue, #6A      Morgan Court   \n",
       "4                        325 Fifth Avenue, #23F               NaN   \n",
       "\n",
       "              bldg_addr  apt_floor  bldg_rating                  sold_date  \\\n",
       "0  393 West 49th Street        3.0         73.0  Last Sold on Sep 27, 2019   \n",
       "1  145 East 48th Street       25.0         78.0  Last Sold on Sep 25, 2019   \n",
       "2  350 West 42nd Street       21.0         79.0  Last Sold on Sep 24, 2019   \n",
       "3    211 Madison Avenue        6.0         73.0  Last Sold on Sep 23, 2019   \n",
       "4      325 Fifth Avenue       23.0         70.0  Last Sold on Sep 23, 2019   \n",
       "\n",
       "  sold_date_dt  sold_price  price_per_sqft  square_feet      bed_and_bath  \\\n",
       "0   2019-09-27    545000.0             NaN          NaN    Studio, 1 bath   \n",
       "1   2019-09-25    799000.0          1229.0        650.0     1 bed, 1 bath   \n",
       "2   2019-09-24   1085000.0          1572.0        690.0     1 bed, 1 bath   \n",
       "3   2019-09-23   1039000.0           910.0       1142.0  1 bed, 1.5 baths   \n",
       "4   2019-09-23   1080000.0          1570.0        688.0     1 bed, 1 bath   \n",
       "\n",
       "   beds  baths                                                url     listed  \\\n",
       "0   0.0    1.0  https://www.cityrealty.com/nyc/midtown-west/wo...        NaT   \n",
       "1   1.0    1.0  https://www.cityrealty.com/nyc/midtown-east/th... 2019-04-12   \n",
       "2   1.0    1.0  https://www.cityrealty.com/nyc/midtown-west/th... 2019-04-12   \n",
       "3   1.0    1.5  https://www.cityrealty.com/nyc/murray-hill/mor... 2019-03-06   \n",
       "4   1.0    1.0  https://www.cityrealty.com/nyc/murray-hill/325... 2019-05-28   \n",
       "\n",
       "   days_on_market  neighborhood  monthly_common_charges  \\\n",
       "0             NaN           NaN                     NaN   \n",
       "1             177  Midtown East                   814.0   \n",
       "2             176  Midtown West                   689.0   \n",
       "3             214   Murray Hill                  1683.0   \n",
       "4             132   Murray Hill                   810.0   \n",
       "\n",
       "   monthly_real_estate_taxes  minimum_down_payment     doorman  \\\n",
       "0                        NaN                   NaN         NaN   \n",
       "1                      948.0                   0.1  FT Doorman   \n",
       "2                     1315.0                   NaN  FT Doorman   \n",
       "3                     1148.0                   NaN  FT Doorman   \n",
       "4                     1511.0                   NaN  FT Doorman   \n",
       "\n",
       "  last_price_change sold_season  days_on_market  \n",
       "0               NaN        Fall             NaN  \n",
       "1               NaN        Fall           166.0  \n",
       "2               NaN        Fall           165.0  \n",
       "3               NaN        Fall           201.0  \n",
       "4               NaN        Fall           118.0  "
      ]
     },
     "execution_count": 85,
     "metadata": {},
     "output_type": "execute_result"
    }
   ],
   "source": [
    "df_clean.head()"
   ]
  },
  {
   "cell_type": "code",
   "execution_count": 94,
   "metadata": {
    "hidden": true
   },
   "outputs": [
    {
     "data": {
      "text/plain": [
       "<matplotlib.collections.PathCollection at 0x1a2ce612e8>"
      ]
     },
     "execution_count": 94,
     "metadata": {},
     "output_type": "execute_result"
    },
    {
     "data": {
      "image/png": "[encoded data removed]",
      "text/plain": [
       "<Figure size 432x288 with 1 Axes>"
      ]
     },
     "metadata": {},
     "output_type": "display_data"
    }
   ],
   "source": [
    "plt.scatter(df_clean['sold_date_dt'], df_clean['sold_price'])"
   ]
  },
  {
   "cell_type": "code",
   "execution_count": 36,
   "metadata": {
    "hidden": true
   },
   "outputs": [
    {
     "data": {
      "text/plain": [
       "<matplotlib.axes._subplots.AxesSubplot at 0x1a205c8a20>"
      ]
     },
     "execution_count": 36,
     "metadata": {},
     "output_type": "execute_result"
    },
    {
     "data": {
      "image/png": "[encoded data removed]",
      "text/plain": [
       "<Figure size 432x288 with 1 Axes>"
      ]
     },
     "metadata": {},
     "output_type": "display_data"
    }
   ],
   "source": [
    "sns.distplot(df_clean['sold_price'])"
   ]
  },
  {
   "cell_type": "code",
   "execution_count": 99,
   "metadata": {
    "hidden": true
   },
   "outputs": [
    {
     "data": {
      "text/plain": [
       "14840"
      ]
     },
     "execution_count": 99,
     "metadata": {},
     "output_type": "execute_result"
    }
   ],
   "source": [
    "len(df_clean) - len([df_clean['sold_price'] < 8000000])"
   ]
  },
  {
   "cell_type": "code",
   "execution_count": 102,
   "metadata": {
    "hidden": true
   },
   "outputs": [
    {
     "data": {
      "text/plain": [
       "<matplotlib.axes._subplots.AxesSubplot at 0x1a2d6b5470>"
      ]
     },
     "execution_count": 102,
     "metadata": {},
     "output_type": "execute_result"
    },
    {
     "data": {
      "image/png": "[encoded data removed]",
      "text/plain": [
       "<Figure size 432x288 with 1 Axes>"
      ]
     },
     "metadata": {},
     "output_type": "display_data"
    }
   ],
   "source": [
    "sns.distplot(df_model['sold_price'][df_model['sold_price'] < 10000000])"
   ]
  },
  {
   "cell_type": "code",
   "execution_count": null,
   "metadata": {
    "hidden": true
   },
   "outputs": [],
   "source": []
  }
 ],
 "metadata": {
  "kernelspec": {
   "display_name": "Python 3",
   "language": "python",
   "name": "python3"
  },
  "language_info": {
   "codemirror_mode": {
    "name": "ipython",
    "version": 3
   },
   "file_extension": ".py",
   "mimetype": "text/x-python",
   "name": "python",
   "nbconvert_exporter": "python",
   "pygments_lexer": "ipython3",
   "version": "3.6.8"
  }
 },
 "nbformat": 4,
 "nbformat_minor": 2
}
